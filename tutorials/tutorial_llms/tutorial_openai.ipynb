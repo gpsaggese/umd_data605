{
 "cells": [
  {
   "cell_type": "markdown",
   "id": "75bef35a-cf2b-4c76-b5f3-93b5c69ef8d0",
   "metadata": {},
   "source": [
    "# Import"
   ]
  },
  {
   "cell_type": "code",
   "execution_count": null,
   "id": "21e8f791-9df2-444d-b604-37841d587aa5",
   "metadata": {
    "lines_to_next_cell": 2
   },
   "outputs": [],
   "source": [
    "#!pip install openai"
   ]
  },
  {
   "cell_type": "code",
   "execution_count": 1,
   "id": "244ab9d9-557b-4228-9ba3-9f9c05f540e6",
   "metadata": {},
   "outputs": [],
   "source": [
    "%load_ext autoreload\n",
    "%autoreload 2"
   ]
  },
  {
   "cell_type": "code",
   "execution_count": 2,
   "id": "8ac3cf46-a2ef-4203-beac-c485281cf817",
   "metadata": {},
   "outputs": [
    {
     "name": "stdout",
     "output_type": "stream",
     "text": [
      "\u001b[0mWARNING: Running in Jupyter\n",
      "INFO  > cmd='/usr/local/lib/python3.10/dist-packages/ipykernel_launcher.py -f /root/.local/share/jupyter/runtime/kernel-95fbc893-8d73-4440-ab6b-83026f9f83a7.json'\n",
      "effective level= 20 (INFO)\n"
     ]
    }
   ],
   "source": [
    "import pprint\n",
    "import logging\n",
    "\n",
    "import hopenai\n",
    "import helpers.hdbg as hdbg\n",
    "\n",
    "hdbg.init_logger()\n",
    "\n",
    "hdbg.set_logger_verbosity(logging.INFO)"
   ]
  },
  {
   "cell_type": "code",
   "execution_count": 7,
   "id": "d81300c1-1498-4236-90d7-a5ceff3d2c84",
   "metadata": {},
   "outputs": [],
   "source": [
    "import os; os.environ[\"OPENAI_API_KEY\"] = \"\""
   ]
  },
  {
   "cell_type": "code",
   "execution_count": null,
   "id": "505866b2-d7d6-45e1-9dda-d7f3bbb2e903",
   "metadata": {},
   "outputs": [],
   "source": [
    "if False:\n",
    "    # Force reloading a module.\n",
    "    import hopenai\n",
    "    from importlib import reload\n",
    "    reload(hopenai)"
   ]
  },
  {
   "cell_type": "markdown",
   "id": "82c4191c-3e21-4f2e-b4cc-ab75edba327c",
   "metadata": {},
   "source": [
    "# Chat"
   ]
  },
  {
   "cell_type": "code",
   "execution_count": null,
   "id": "0e3a1a57-05f4-4466-88b6-44883a6a1368",
   "metadata": {},
   "outputs": [],
   "source": [
    "from openai import OpenAI\n",
    "client = OpenAI()\n",
    "\n",
    "completion = client.chat.completions.create(\n",
    "  model=\"gpt-4o-mini\",\n",
    "  messages=[\n",
    "    {\"role\": \"system\", \"content\": \"You are a poetic assistant, skilled in explaining complex programming concepts with creative flair.\"},\n",
    "    {\"role\": \"user\", \"content\": \"Compose a poem that explains the concept of recursion in programming.\"}\n",
    "  ]\n",
    ")"
   ]
  },
  {
   "cell_type": "code",
   "execution_count": null,
   "id": "54f81666-908c-4285-bc2e-7626a90072d1",
   "metadata": {},
   "outputs": [],
   "source": [
    "print(completion)"
   ]
  },
  {
   "cell_type": "code",
   "execution_count": null,
   "id": "1dd5076d-e1ec-46a1-9e80-3a937bb2750c",
   "metadata": {},
   "outputs": [],
   "source": [
    "print(dir(completion))"
   ]
  },
  {
   "cell_type": "code",
   "execution_count": null,
   "id": "87533a96-772c-40a0-9d4c-cb25000437b3",
   "metadata": {},
   "outputs": [],
   "source": [
    "print(completion.choices[0].message.content)"
   ]
  },
  {
   "cell_type": "code",
   "execution_count": null,
   "id": "8b9645d3-4ccc-46a1-a9aa-67fa444a9832",
   "metadata": {},
   "outputs": [],
   "source": [
    "completion.choices[0].message.content"
   ]
  },
  {
   "cell_type": "code",
   "execution_count": null,
   "id": "f0b06b5c-72a9-44ab-b27f-7a983eba33b3",
   "metadata": {},
   "outputs": [],
   "source": [
    "response = client.chat.completions.create(\n",
    "  #model=\"gpt-3.5-turbo\",\n",
    "  model=\"gpt-4o-mini\",\n",
    "  messages=[\n",
    "    {\n",
    "      \"role\": \"system\",\n",
    "      \"content\": \"You will be provided with statements, and your task is to convert them to standard English.\"\n",
    "    },\n",
    "    {\n",
    "      \"role\": \"user\",\n",
    "      \"content\": \"She no went to the market.\"\n",
    "    }\n",
    "  ],\n",
    "  temperature=0.0,\n",
    "  max_tokens=64,\n",
    "  top_p=1\n",
    ")\n",
    "print(response.choices[0].message.content)"
   ]
  },
  {
   "cell_type": "code",
   "execution_count": null,
   "id": "0003f653-91e4-473b-b93d-3bc3f51e6ad5",
   "metadata": {},
   "outputs": [],
   "source": [
    "response = client.chat.completions.create(\n",
    "  model=\"gpt-4o-mini\",\n",
    "  messages=[\n",
    "    {\"role\": \"system\", \"content\": \"You are a helpful assistant.\"},\n",
    "    {\"role\": \"user\", \"content\": \"What is a LLM?\"}\n",
    "  ]\n",
    ")\n",
    "print(response.choices[0].message.content)"
   ]
  },
  {
   "cell_type": "code",
   "execution_count": null,
   "id": "42c0ff9c-4db1-4772-b917-2e1273f70ce8",
   "metadata": {},
   "outputs": [],
   "source": [
    "print(response.usage)"
   ]
  },
  {
   "cell_type": "code",
   "execution_count": null,
   "id": "f289ac40-995d-4e7b-8f1c-359ac3844ac5",
   "metadata": {},
   "outputs": [],
   "source": [
    "response = client.chat.completions.create(\n",
    "  model=\"gpt-4o-mini\",\n",
    "  messages=[\n",
    "    {\"role\": \"system\", \"content\": \"You are a helpful assistant.\"},\n",
    "    {\"role\": \"user\", \"content\": \"Who won the world series in 2020?\"},\n",
    "    {\"role\": \"assistant\", \"content\": \"The Los Angeles Dodgers won the World Series in 2020.\"},\n",
    "    {\"role\": \"user\", \"content\": \"Where was it played?\"}\n",
    "  ]\n",
    ")\n",
    "\n",
    "print(response.choices[0].message.content)"
   ]
  },
  {
   "cell_type": "code",
   "execution_count": null,
   "id": "ac804489-98a9-4114-9ab2-753156e254ec",
   "metadata": {},
   "outputs": [],
   "source": [
    "print(type(response))"
   ]
  },
  {
   "cell_type": "markdown",
   "id": "ac87c33e-7ece-46d4-b034-35d7ce67f6c5",
   "metadata": {},
   "source": [
    "## Chat using helpers"
   ]
  },
  {
   "cell_type": "code",
   "execution_count": 8,
   "id": "38cf6fc8-4366-4f75-8669-c46172584812",
   "metadata": {},
   "outputs": [
    {
     "name": "stdout",
     "output_type": "stream",
     "text": [
      "INFO  HTTP Request: POST https://api.openai.com/v1/chat/completions \"HTTP/1.1 200 OK\"\n"
     ]
    },
    {
     "data": {
      "text/plain": [
       "ChatCompletion(id='chatcmpl-9p31rOvTTzSSk5i5OoCqNs2oiNQEv', choices=[Choice(finish_reason='stop', index=0, logprobs=None, message=ChatCompletionMessage(content='Hello! How can I assist you today?', role='assistant', function_call=None, tool_calls=None))], created=1721953399, model='gpt-4o-mini-2024-07-18', object='chat.completion', service_tier=None, system_fingerprint='fp_0f03d4f0ee', usage=CompletionUsage(completion_tokens=9, prompt_tokens=12, total_tokens=21))"
      ]
     },
     "execution_count": 8,
     "metadata": {},
     "output_type": "execute_result"
    }
   ],
   "source": [
    "hopenai.get_completion(\"hello\")"
   ]
  },
  {
   "cell_type": "code",
   "execution_count": 10,
   "id": "6ac786a6-cb9a-464e-8e46-56f68f17f815",
   "metadata": {},
   "outputs": [],
   "source": [
    "import snippets"
   ]
  },
  {
   "cell_type": "code",
   "execution_count": 36,
   "id": "9b4a8ecf-e61c-41d1-b126-59428b8ff7f6",
   "metadata": {},
   "outputs": [],
   "source": [
    "in_out = snippets.get_in_out_functions()"
   ]
  },
  {
   "cell_type": "code",
   "execution_count": 52,
   "id": "d64efafb-291b-4b72-8296-eefd10c6b4d5",
   "metadata": {},
   "outputs": [
    {
     "name": "stdout",
     "output_type": "stream",
     "text": [
      "def _line(chars: str = \"#\", num_cols: int = 80) -> str:\n",
      "    line_ = chars * num_cols + \"\\n\"\n",
      "    return line_\n"
     ]
    }
   ],
   "source": [
    "idx = 0\n",
    "print(in_out[idx][1])"
   ]
  },
  {
   "cell_type": "code",
   "execution_count": 58,
   "id": "06979132-6321-4a69-b191-0ab29386694c",
   "metadata": {},
   "outputs": [
    {
     "name": "stdout",
     "output_type": "stream",
     "text": [
      "INFO  HTTP Request: POST https://api.openai.com/v1/chat/completions \"HTTP/1.1 200 OK\"\n",
      "def _line(chars: str = \"#\", num_cols: int = 80) -> str:\n",
      "    \"\"\"Generate a line of specified characters and length.\n",
      "\n",
      "    :param chars: Character to repeat in the line (default is '#').\n",
      "    :param num_cols: Number of times to repeat the character (default is 80).\n",
      "    \n",
      "    Returns a string consisting of the specified character repeated \n",
      "    `num_cols` times followed by a newline.\n",
      "    \"\"\"\n",
      "    line_ = chars * num_cols + \"\\n\"\n",
      "    return line_\n"
     ]
    }
   ],
   "source": [
    "ret = snippets.add_docstring_one_shot_learning1(in_out[idx][1])\n",
    "#ret = snippets.add_comments_one_shot_learning1(in_out[idx][1])\n",
    "print(ret)"
   ]
  },
  {
   "cell_type": "markdown",
   "id": "4521057b-e8ed-49bb-9cfc-0546bf9c5c6b",
   "metadata": {},
   "source": [
    "# Assistant"
   ]
  },
  {
   "cell_type": "code",
   "execution_count": null,
   "id": "2f45f96c-d628-4643-bf0e-808a2c13cdb2",
   "metadata": {},
   "outputs": [],
   "source": [
    "system = \"\"\"You are a proficient Python coder and write English very well. \n",
    "Given the Python code passed below, improve or add comments to the code.\n",
    "Each comment should be in imperative form, a full English phrase, and end with a period.\n",
    "Comments must be for every logical chunk of 4 or 5 lines of Python code.\n",
    "Do not comment every single line of code and especially logging statements.\n",
    "\"\"\"\n",
    "\n",
    "# There should be no empty line in the code.\n",
    "\n",
    "user1 = snippets.get_code_snippet2()\n",
    "\n",
    "response = hopenai.get_completion(user, system=system)\n",
    "\n",
    "print(hopenai.response_to_txt(response))"
   ]
  },
  {
   "cell_type": "markdown",
   "id": "c7fe68da-2a5f-4d20-a1c7-dde21da687aa",
   "metadata": {},
   "source": [
    "### Assistant Quickstart"
   ]
  },
  {
   "cell_type": "code",
   "execution_count": null,
   "id": "df094c78-c9ff-4ffe-92f8-4590917fede2",
   "metadata": {},
   "outputs": [],
   "source": [
    "assistant = client.beta.assistants.create(\n",
    "  name=\"Math Tutor\",\n",
    "  instructions=\"You are a personal math tutor. Write and run code to answer math questions.\",\n",
    "  tools=[{\"type\": \"code_interpreter\"}],\n",
    "  model=\"gpt-4o\",\n",
    ")\n",
    "\n",
    "thread = client.beta.threads.create()\n",
    "\n",
    "message = client.beta.threads.messages.create(\n",
    "  thread_id=thread.id,\n",
    "  role=\"user\",\n",
    "  content=\"I need to solve the equation `3x + 11 = 14`. Can you help me?\"\n",
    ")"
   ]
  },
  {
   "cell_type": "code",
   "execution_count": null,
   "id": "e7e9bf61-0ea8-4efb-808c-5621658f74a2",
   "metadata": {},
   "outputs": [],
   "source": [
    "# Without streaming.\n",
    "\n",
    "run = client.beta.threads.runs.create_and_poll(\n",
    "  thread_id=thread.id,\n",
    "  assistant_id=assistant.id,\n",
    "  instructions=\"Please address the user as Jane Doe. The user has a premium account.\"\n",
    ")\n",
    "\n",
    "if run.status == 'completed': \n",
    "  messages = client.beta.threads.messages.list(\n",
    "    thread_id=thread.id\n",
    "  )\n",
    "  print(messages)\n",
    "else:\n",
    "  print(run.status)"
   ]
  },
  {
   "cell_type": "code",
   "execution_count": null,
   "id": "d3bef542-885e-45c3-afe1-200a997cfc96",
   "metadata": {},
   "outputs": [],
   "source": [
    "print(response_to_txt(messages))"
   ]
  },
  {
   "cell_type": "markdown",
   "id": "ea8467b1-958c-4d83-ac9e-7862055188e7",
   "metadata": {},
   "source": [
    "### Assistants Deep dive"
   ]
  },
  {
   "cell_type": "code",
   "execution_count": null,
   "id": "44a3f70e-f8cc-4210-bcc4-e9d9af70cbaf",
   "metadata": {},
   "outputs": [],
   "source": [
    "import csv\n",
    "\n",
    "# Sample data for the revenue forecast\n",
    "data = [\n",
    "    [\"Month\", \"Forecasted Revenue\"],\n",
    "    [\"January\", 10000],\n",
    "    [\"February\", 12000],\n",
    "    [\"March\", 15000],\n",
    "    [\"April\", 13000],\n",
    "    [\"May\", 14000],\n",
    "    [\"June\", 16000],\n",
    "    [\"July\", 17000],\n",
    "    [\"August\", 18000],\n",
    "    [\"September\", 15000],\n",
    "    [\"October\", 16000],\n",
    "    [\"November\", 20000],\n",
    "    [\"December\", 22000]\n",
    "]\n",
    "\n",
    "# File name\n",
    "filename = \"revenue-forecast.csv\"\n",
    "\n",
    "# Writing to csv file\n",
    "with open(filename, mode='w', newline='') as file:\n",
    "    writer = csv.writer(file)\n",
    "    \n",
    "    # Writing the data\n",
    "    writer.writerows(data)\n",
    "\n",
    "print(f\"File '{filename}' created successfully.\")"
   ]
  },
  {
   "cell_type": "code",
   "execution_count": null,
   "id": "4f243a33-5072-495b-a428-8957c36af897",
   "metadata": {},
   "outputs": [],
   "source": [
    "file = client.files.create(\n",
    "  file=open(\"revenue-forecast.csv\", \"rb\"),\n",
    "  purpose='assistants'\n",
    ")"
   ]
  },
  {
   "cell_type": "code",
   "execution_count": null,
   "id": "c2bd0e06-27df-4fd1-b97e-ea7cfaf043dc",
   "metadata": {},
   "outputs": [],
   "source": [
    "assistant = client.beta.assistants.create(\n",
    "  name=\"Data visualizer\",\n",
    "  description=\"You are great at creating beautiful data visualizations. You analyze data present in .csv files, understand trends, and come up with data visualizations relevant to those trends. You also share a brief text summary of the trends observed.\",\n",
    "  model=\"gpt-4o\",\n",
    "  tools=[{\"type\": \"code_interpreter\"}],\n",
    "  tool_resources={\n",
    "    \"code_interpreter\": {\n",
    "      \"file_ids\": [file.id]\n",
    "    }\n",
    "  }\n",
    ")"
   ]
  },
  {
   "cell_type": "code",
   "execution_count": null,
   "id": "0fa172d0-1a11-40d8-8aa8-7ca507946076",
   "metadata": {},
   "outputs": [],
   "source": [
    "thread = client.beta.threads.create(\n",
    "  messages=[\n",
    "    {\n",
    "      \"role\": \"user\",\n",
    "      \"content\": \"Create 3 data visualizations based on the trends in this file.\",\n",
    "      \"attachments\": [\n",
    "        {\n",
    "          \"file_id\": file.id,\n",
    "          \"tools\": [{\"type\": \"code_interpreter\"}]\n",
    "        }\n",
    "      ]\n",
    "    }\n",
    "  ]\n",
    ")"
   ]
  },
  {
   "cell_type": "code",
   "execution_count": null,
   "id": "adac1cb4-a1a5-4c7e-9685-0d8865b4b3a6",
   "metadata": {},
   "outputs": [],
   "source": [
    "run = client.beta.threads.runs.create_and_poll(\n",
    "  thread_id=thread.id,\n",
    "  assistant_id=assistant.id,\n",
    ")\n",
    "\n",
    "if run.status == 'completed': \n",
    "  messages = client.beta.threads.messages.list(\n",
    "    thread_id=thread.id\n",
    "  )\n",
    "  print(messages)\n",
    "else:\n",
    "  print(run.status)"
   ]
  },
  {
   "cell_type": "code",
   "execution_count": null,
   "id": "73ce9c42-0a29-4dd8-afbd-08bdbeaf94fe",
   "metadata": {},
   "outputs": [],
   "source": [
    "#print(messages.data[0].content[1].text.value)\n",
    "print(messages.data[1].content[0])"
   ]
  },
  {
   "cell_type": "code",
   "execution_count": null,
   "id": "14e7250a-8b7a-4a23-9fe9-e04ca74e4229",
   "metadata": {},
   "outputs": [],
   "source": [
    "messages.to_dict()"
   ]
  },
  {
   "cell_type": "code",
   "execution_count": null,
   "id": "6d64f6db-f2c8-4277-af4b-47e7b079e784",
   "metadata": {},
   "outputs": [],
   "source": [
    "#messages = client.beta.threads.messages.list(thread_id)\n",
    "import io\n",
    "from IPython.display import display, Image, Markdown\n",
    "\n",
    "for message in reversed(messages.data):\n",
    "    for message_content in message.content:\n",
    "        #print(message_content)\n",
    "        if hasattr(message_content, \"text\"):\n",
    "            print(message_content.text.value)\n",
    "        if hasattr(message_content, \"image_file\"):\n",
    "            file_id = message_content.image_file.file_id\n",
    "            resp = client.files.with_raw_response.retrieve_content(file_id)\n",
    "            if resp.status_code == 200:\n",
    "                image_data = io.BytesIO(resp.content).getvalue()\n",
    "                #print(image_data.getvalue())\n",
    "                #assert 0\n",
    "                #img = Image(image_data)\n",
    "                display(Image(data=image_data))\n",
    "                #display(img)"
   ]
  },
  {
   "cell_type": "code",
   "execution_count": null,
   "id": "d393d98d-d79e-4ba6-a796-6fe8b7320303",
   "metadata": {},
   "outputs": [],
   "source": [
    "import pprint\n",
    "\n",
    "pprint.pprint(messages)"
   ]
  },
  {
   "cell_type": "code",
   "execution_count": null,
   "id": "e2ed292c-1d4d-4c52-b269-353d81f0a750",
   "metadata": {},
   "outputs": [],
   "source": [
    "file = client.files.create(\n",
    "  file=open(\"myimage.png\", \"rb\"),\n",
    "  purpose=\"vision\"\n",
    ")\n",
    "thread = client.beta.threads.create(\n",
    "  messages=[\n",
    "    {\n",
    "      \"role\": \"user\",\n",
    "      \"content\": [\n",
    "        {\n",
    "          \"type\": \"text\",\n",
    "          \"text\": \"What is the difference between these images?\"\n",
    "        },\n",
    "        {\n",
    "          \"type\": \"image_url\",\n",
    "          \"image_url\": {\"url\": \"https://example.com/image.png\"}\n",
    "        },\n",
    "        {\n",
    "          \"type\": \"image_file\",\n",
    "          \"image_file\": {\"file_id\": file.id}\n",
    "        },\n",
    "      ],\n",
    "    }\n",
    "  ]\n",
    ")"
   ]
  },
  {
   "cell_type": "markdown",
   "id": "a015a94d-dd47-42f0-8808-238ecdd20d5e",
   "metadata": {},
   "source": [
    "### Tools"
   ]
  },
  {
   "cell_type": "code",
   "execution_count": null,
   "id": "c33b68da-26d2-4c7a-bd55-ccca52717bc6",
   "metadata": {},
   "outputs": [],
   "source": [
    "assistant = client.beta.assistants.create(\n",
    "  name=\"Financial Analyst Assistant\",\n",
    "  instructions=\"You are an expert financial analyst. Use you knowledge base to answer questions about audited financial statements.\",\n",
    "  model=\"gpt-4o\",\n",
    "  tools=[{\"type\": \"file_search\"}],\n",
    ")"
   ]
  },
  {
   "cell_type": "code",
   "execution_count": null,
   "id": "53286a8d-d867-464f-837c-572aa2125958",
   "metadata": {},
   "outputs": [],
   "source": [
    "hopenai.get_edgar_example()\n",
    "\n",
    "!ls -l document.pdf"
   ]
  },
  {
   "cell_type": "code",
   "execution_count": null,
   "id": "556082fc-4af1-4d59-acb1-de3705939903",
   "metadata": {},
   "outputs": [],
   "source": [
    "# Create a vector store called \"Financial Statements\".\n",
    "vector_store = client.beta.vector_stores.create(name=\"Financial Statements\")\n",
    " \n",
    "# Ready the files for upload to OpenAI\n",
    "file_paths = [\"document.pdf\"]\n",
    "file_streams = [open(path, \"rb\") for path in file_paths]\n",
    " \n",
    "# Use the upload and poll SDK helper to upload the files, add them to the vector store,\n",
    "# and poll the status of the file batch for completion.\n",
    "file_batch = client.beta.vector_stores.file_batches.upload_and_poll(\n",
    "  vector_store_id=vector_store.id, files=file_streams\n",
    ")\n",
    " \n",
    "# You can print the status and the file counts of the batch to see the result of this operation.\n",
    "print(file_batch.status)\n",
    "print(file_batch.file_counts)"
   ]
  },
  {
   "cell_type": "code",
   "execution_count": null,
   "id": "bbbd4f08-cb4a-4bdc-a112-fb40b00ac1c2",
   "metadata": {},
   "outputs": [],
   "source": [
    "assistant = client.beta.assistants.update(\n",
    "  assistant_id=assistant.id,\n",
    "  tool_resources={\"file_search\": {\"vector_store_ids\": [vector_store.id]}},\n",
    ")"
   ]
  },
  {
   "cell_type": "code",
   "execution_count": null,
   "id": "8a1e0090-e8bc-473d-90a5-ea8e66c8c219",
   "metadata": {},
   "outputs": [],
   "source": [
    "# Create a thread and attach the file to the message\n",
    "thread = client.beta.threads.create(\n",
    "  messages=[\n",
    "    {\n",
    "      \"role\": \"user\",\n",
    "      \"content\": \"How many shares of Google were outstanding at the end of of October 2023?\",\n",
    "      # Attach the new file to the message.\n",
    "      #\"attachments\": [\n",
    "      #  { \"file_id\": message_file.id, \"tools\": [{\"type\": \"file_search\"}] }\n",
    "      #],\n",
    "    }\n",
    "  ]\n",
    ")\n",
    " \n",
    "# The thread now has a vector store with that file in its tool resources.\n",
    "print(thread.tool_resources.file_search)"
   ]
  },
  {
   "cell_type": "code",
   "execution_count": null,
   "id": "c1a862af-3b8f-4717-9783-91928da6db40",
   "metadata": {},
   "outputs": [],
   "source": [
    "# Use the create and poll SDK helper to create a run and poll the status of\n",
    "# the run until it's in a terminal state.\n",
    "\n",
    "run = client.beta.threads.runs.create_and_poll(\n",
    "    thread_id=thread.id, assistant_id=assistant.id\n",
    ")\n",
    "\n",
    "messages = list(client.beta.threads.messages.list(thread_id=thread.id, run_id=run.id))\n",
    "\n",
    "message_content = messages[0].content[0].text\n",
    "annotations = message_content.annotations\n",
    "citations = []\n",
    "for index, annotation in enumerate(annotations):\n",
    "    message_content.value = message_content.value.replace(annotation.text, f\"[{index}]\")\n",
    "    if file_citation := getattr(annotation, \"file_citation\", None):\n",
    "        cited_file = client.files.retrieve(file_citation.file_id)\n",
    "        citations.append(f\"[{index}] {cited_file.filename}\")\n",
    "\n",
    "print(message_content.value)\n",
    "print(\"\\n\".join(citations))"
   ]
  },
  {
   "cell_type": "markdown",
   "id": "e9933329-309b-4df3-ab95-e25506ca8fec",
   "metadata": {},
   "source": [
    "# Query \n",
    "\n",
    "> cp /Users/saggese/src/cmamp1/docs/coding/all.coding_style.how_to_guide.md ."
   ]
  },
  {
   "cell_type": "code",
   "execution_count": null,
   "id": "3477a106-0288-42f9-bc7e-810b7357176a",
   "metadata": {},
   "outputs": [],
   "source": [
    "assistant = client.beta.assistants.create(\n",
    "  name=\"Coding style expert\",\n",
    "  instructions=\"You are an expert Python coder. Use you knowledge base to answer questions about how to write code.\",\n",
    "  model=\"gpt-4o\",\n",
    "  tools=[{\"type\": \"file_search\"}],\n",
    ")\n",
    "\n",
    "# Create a vector store called \"Financial Statements\".\n",
    "vector_store = client.beta.vector_stores.create(name=\"Coding style\")\n",
    " \n",
    "# Ready the files for upload to OpenAI\n",
    "file_paths = [\"all.coding_style.how_to_guide.md\"]\n",
    "file_streams = [open(path, \"rb\") for path in file_paths]\n",
    " \n",
    "# Use the upload and poll SDK helper to upload the files, add them to the vector store,\n",
    "# and poll the status of the file batch for completion.\n",
    "file_batch = client.beta.vector_stores.file_batches.upload_and_poll(\n",
    "  vector_store_id=vector_store.id, files=file_streams\n",
    ")\n",
    " \n",
    "# You can print the status and the file counts of the batch to see the result of this operation.\n",
    "print(file_batch.status)\n",
    "print(file_batch.file_counts)"
   ]
  },
  {
   "cell_type": "code",
   "execution_count": null,
   "id": "204c72de-e482-4a4c-9c71-eec4c2ee25a9",
   "metadata": {},
   "outputs": [],
   "source": [
    "assistant = client.beta.assistants.update(\n",
    "  assistant_id=assistant.id,\n",
    "  tool_resources={\"file_search\": {\"vector_store_ids\": [vector_store.id]}},\n",
    ")"
   ]
  },
  {
   "cell_type": "code",
   "execution_count": null,
   "id": "32919bfe-daee-4ac9-81bb-b73734acca3d",
   "metadata": {},
   "outputs": [],
   "source": [
    "# Create a thread and attach the file to the message\n",
    "thread = client.beta.threads.create(\n",
    "  messages=[\n",
    "    {\n",
    "      \"role\": \"user\",\n",
    "      \"content\": \"What is DRY?\",\n",
    "      # Attach the new file to the message.\n",
    "      #\"attachments\": [\n",
    "      #  { \"file_id\": message_file.id, \"tools\": [{\"type\": \"file_search\"}] }\n",
    "      #],\n",
    "    }\n",
    "  ]\n",
    ")\n",
    " \n",
    "# The thread now has a vector store with that file in its tool resources.\n",
    "print(thread.tool_resources.file_search)"
   ]
  },
  {
   "cell_type": "code",
   "execution_count": null,
   "id": "ae8cffda-e41c-4735-a448-55c99be3754e",
   "metadata": {
    "lines_to_next_cell": 0
   },
   "outputs": [],
   "source": [
    "run = client.beta.threads.runs.create_and_poll(\n",
    "    thread_id=thread.id, assistant_id=assistant.id\n",
    ")\n",
    "\n",
    "messages = list(client.beta.threads.messages.list(thread_id=thread.id, run_id=run.id))\n",
    "print(messages)\n",
    "\n",
    "# message_content = messages[0].content[0].text\n",
    "# annotations = message_content.annotations\n",
    "# citations = []\n",
    "# for index, annotation in enumerate(annotations):\n",
    "#     message_content.value = message_content.value.replace(annotation.text, f\"[{index}]\")\n",
    "#     if file_citation := getattr(annotation, \"file_citation\", None):\n",
    "#         cited_file = client.files.retrieve(file_citation.file_id)\n",
    "#         citations.append(f\"[{index}] {cited_file.filename}\")\n",
    "\n",
    "# print(message_content.value)\n",
    "# print(\"\\n\".join(citations))"
   ]
  }
 ],
 "metadata": {
  "jupytext": {
   "formats": "ipynb,py:light"
  },
  "kernelspec": {
   "display_name": "Python 3 (ipykernel)",
   "language": "python",
   "name": "python3"
  },
  "language_info": {
   "codemirror_mode": {
    "name": "ipython",
    "version": 3
   },
   "file_extension": ".py",
   "mimetype": "text/x-python",
   "name": "python",
   "nbconvert_exporter": "python",
   "pygments_lexer": "ipython3",
   "version": "3.10.12"
  }
 },
 "nbformat": 4,
 "nbformat_minor": 5
}
