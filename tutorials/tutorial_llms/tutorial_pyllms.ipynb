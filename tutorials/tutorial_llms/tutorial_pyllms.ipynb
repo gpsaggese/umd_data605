{
 "cells": [
  {
   "cell_type": "code",
   "execution_count": 1,
   "id": "8b3c9b15-82b9-4431-8fb9-8ed46fc76fb0",
   "metadata": {},
   "outputs": [],
   "source": [
    "import llms"
   ]
  },
  {
   "cell_type": "code",
   "execution_count": 3,
   "id": "59aaca5a-d69d-48a0-9c1e-73acd7f9a1e1",
   "metadata": {},
   "outputs": [
    {
     "name": "stdout",
     "output_type": "stream",
     "text": [
      "10\n"
     ]
    }
   ],
   "source": [
    "model = llms.init('gpt-4')\n",
    "result = model.complete(\"what is 5+5\")\n",
    "\n",
    "print(result.text)"
   ]
  }
 ],
 "metadata": {
  "kernelspec": {
   "display_name": "Python 3 (ipykernel)",
   "language": "python",
   "name": "python3"
  },
  "language_info": {
   "codemirror_mode": {
    "name": "ipython",
    "version": 3
   },
   "file_extension": ".py",
   "mimetype": "text/x-python",
   "name": "python",
   "nbconvert_exporter": "python",
   "pygments_lexer": "ipython3",
   "version": "3.10.12"
  }
 },
 "nbformat": 4,
 "nbformat_minor": 5
}
