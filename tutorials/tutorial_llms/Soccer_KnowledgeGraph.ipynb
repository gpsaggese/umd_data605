{
 "cells": [
  {
   "cell_type": "code",
   "execution_count": 2,
   "id": "b3b8948a-0add-46cd-b790-2221811b20cb",
   "metadata": {
    "scrolled": true
   },
   "outputs": [
    {
     "name": "stdout",
     "output_type": "stream",
     "text": [
      "\u001b[33mWARNING: Running pip as the 'root' user can result in broken permissions and conflicting behaviour with the system package manager, possibly rendering your system unusable.It is recommended to use a virtual environment instead: https://pip.pypa.io/warnings/venv. Use the --root-user-action option if you know what you are doing and want to suppress this warning.\u001b[0m\u001b[33m\n",
      "\u001b[0m"
     ]
    }
   ],
   "source": [
    "!pip install --quiet jupyterlab-vim jupytex\n",
    "!jupyter labextension enable"
   ]
  },
  {
   "cell_type": "code",
   "execution_count": 3,
   "id": "2f815efc-c43f-4acd-a003-0c0141f57918",
   "metadata": {},
   "outputs": [],
   "source": [
    "%load_ext autoreload\n",
    "%autoreload 2"
   ]
  },
  {
   "cell_type": "markdown",
   "id": "c23fac44-c52a-4916-915a-130d41a98423",
   "metadata": {},
   "source": [
    "# Langchain"
   ]
  },
  {
   "cell_type": "code",
   "execution_count": 4,
   "id": "99d42723-38ea-4010-845f-2937ad17e093",
   "metadata": {},
   "outputs": [
    {
     "name": "stdout",
     "output_type": "stream",
     "text": [
      "\u001b[33mWARNING: Running pip as the 'root' user can result in broken permissions and conflicting behaviour with the system package manager, possibly rendering your system unusable.It is recommended to use a virtual environment instead: https://pip.pypa.io/warnings/venv. Use the --root-user-action option if you know what you are doing and want to suppress this warning.\u001b[0m\u001b[33m\n",
      "\u001b[0m"
     ]
    }
   ],
   "source": [
    "!pip install --upgrade --quiet langchain langchain-community langchain-openai langchain-experimental neo4j"
   ]
  },
  {
   "cell_type": "code",
   "execution_count": 5,
   "id": "35cac1b1-c278-4745-80c6-c5fe530af5ad",
   "metadata": {},
   "outputs": [],
   "source": [
    "from neo4j import GraphDatabase, RoutingControl\n",
    "\n",
    "#URI = \"neo4j://localhost:7687\"\n",
    "#URI = \"bolt://localhost:7687\"\n",
    "#URI = \"bolt://127.0.0.1:7687\"\n",
    "URI = \"bolt://neo4j:7687\"\n",
    "AUTH = (\"neo4j\", \"testtest\")"
   ]
  },
  {
   "cell_type": "code",
   "execution_count": 6,
   "id": "9c86f164-40a4-45bd-b854-8accbac12372",
   "metadata": {},
   "outputs": [
    {
     "data": {
      "text/plain": [
       "EagerResult(records=[], summary=<neo4j._work.summary.ResultSummary object at 0xffff73ebe650>, keys=[])"
      ]
     },
     "execution_count": 6,
     "metadata": {},
     "output_type": "execute_result"
    }
   ],
   "source": [
    "# Delete everything.\n",
    "driver = GraphDatabase.driver(URI, auth=AUTH)\n",
    "driver.execute_query(\n",
    "    \"MATCH(n) OPTIONAL MATCH (n)-[r]-() DELETE n, r\"\n",
    ")"
   ]
  },
  {
   "cell_type": "code",
   "execution_count": 7,
   "id": "02bab379-5de0-43e6-835e-0d189bce80f5",
   "metadata": {},
   "outputs": [
    {
     "data": {
      "text/plain": [
       "EagerResult(records=[], summary=<neo4j._work.summary.ResultSummary object at 0xffff73d02380>, keys=[])"
      ]
     },
     "execution_count": 7,
     "metadata": {},
     "output_type": "execute_result"
    }
   ],
   "source": [
    "query = \"\"\"\n",
    "// Create Teams\n",
    "CREATE (ac_milan:Team {name: 'AC Milan'})\n",
    "CREATE (inter_milan:Team {name: 'Inter Milan'})\n",
    "\n",
    "// Create Players for AC Milan\n",
    "CREATE (donnarumma:Player {name: 'Gianluigi Donnarumma', position: 'Goalkeeper'})\n",
    "CREATE (calabria:Player {name: 'Davide Calabria', position: 'Defender'})\n",
    "CREATE (kjaer:Player {name: 'Simon Kjær', position: 'Defender'})\n",
    "CREATE (romagnoli:Player {name: 'Alessio Romagnoli', position: 'Defender'})\n",
    "CREATE (hernandez:Player {name: 'Theo Hernández', position: 'Defender'})\n",
    "CREATE (kessie:Player {name: 'Franck Kessié', position: 'Midfielder'})\n",
    "CREATE (bennacer:Player {name: 'Ismaël Bennacer', position: 'Midfielder'})\n",
    "CREATE (saelemaekers:Player {name: 'Alexis Saelemaekers', position: 'Forward'})\n",
    "CREATE (calhanoglu:Player {name: 'Hakan Çalhanoğlu', position: 'Midfielder'})\n",
    "CREATE (rebic:Player {name: 'Ante Rebić', position: 'Forward'})\n",
    "CREATE (ibrahimovic:Player {name: 'Zlatan Ibrahimović', position: 'Forward'})\n",
    "CREATE (leao:Player {name: 'Rafael Leão', position: 'Forward'})\n",
    "\n",
    "// Assign Players to AC Milan\n",
    "CREATE (donnarumma)-[:PLAYS_FOR]->(ac_milan)\n",
    "CREATE (calabria)-[:PLAYS_FOR]->(ac_milan)\n",
    "CREATE (kjaer)-[:PLAYS_FOR]->(ac_milan)\n",
    "CREATE (romagnoli)-[:PLAYS_FOR]->(ac_milan)\n",
    "CREATE (hernandez)-[:PLAYS_FOR]->(ac_milan)\n",
    "CREATE (kessie)-[:PLAYS_FOR]->(ac_milan)\n",
    "CREATE (bennacer)-[:PLAYS_FOR]->(ac_milan)\n",
    "CREATE (saelemaekers)-[:PLAYS_FOR]->(ac_milan)\n",
    "CREATE (calhanoglu)-[:PLAYS_FOR]->(ac_milan)\n",
    "CREATE (rebic)-[:PLAYS_FOR]->(ac_milan)\n",
    "CREATE (ibrahimovic)-[:PLAYS_FOR]->(ac_milan)\n",
    "CREATE (leao)-[:PLAYS_FOR]->(ac_milan)\n",
    "\n",
    "// Create Coach for AC Milan\n",
    "CREATE (pioli:Coach {name: 'Stefano Pioli'})\n",
    "CREATE (pioli)-[:COACHES]->(ac_milan)\n",
    "\n",
    "// Create Players for Inter Milan\n",
    "CREATE (handanovic:Player {name: 'Samir Handanović', position: 'Goalkeeper'})\n",
    "CREATE (skriniar:Player {name: 'Milan Škriniar', position: 'Defender'})\n",
    "CREATE (de_vrij:Player {name: 'Stefan de Vrij', position: 'Defender'})\n",
    "CREATE (bastoni:Player {name: 'Alessandro Bastoni', position: 'Defender'})\n",
    "CREATE (hakimi:Player {name: 'Achraf Hakimi', position: 'Defender'})\n",
    "CREATE (barella:Player {name: 'Nicolò Barella', position: 'Midfielder'})\n",
    "CREATE (brozovic:Player {name: 'Marcelo Brozović', position: 'Midfielder'})\n",
    "CREATE (eriksen:Player {name: 'Christian Eriksen', position: 'Midfielder'})\n",
    "CREATE (perisic:Player {name: 'Ivan Perišić', position: 'Forward'})\n",
    "CREATE (martinez:Player {name: 'Lautaro Martínez', position: 'Forward'})\n",
    "CREATE (lukaku:Player {name: 'Romelu Lukaku', position: 'Forward'})\n",
    "CREATE (sanchez:Player {name: 'Alexis Sánchez', position: 'Forward'})\n",
    "\n",
    "// Assign Players to Inter Milan\n",
    "CREATE (handanovic)-[:PLAYS_FOR]->(inter_milan)\n",
    "CREATE (skriniar)-[:PLAYS_FOR]->(inter_milan)\n",
    "CREATE (de_vrij)-[:PLAYS_FOR]->(inter_milan)\n",
    "CREATE (bastoni)-[:PLAYS_FOR]->(inter_milan)\n",
    "CREATE (hakimi)-[:PLAYS_FOR]->(inter_milan)\n",
    "CREATE (barella)-[:PLAYS_FOR]->(inter_milan)\n",
    "CREATE (brozovic)-[:PLAYS_FOR]->(inter_milan)\n",
    "CREATE (eriksen)-[:PLAYS_FOR]->(inter_milan)\n",
    "CREATE (perisic)-[:PLAYS_FOR]->(inter_milan)\n",
    "CREATE (martinez)-[:PLAYS_FOR]->(inter_milan)\n",
    "CREATE (lukaku)-[:PLAYS_FOR]->(inter_milan)\n",
    "CREATE (sanchez)-[:PLAYS_FOR]->(inter_milan)\n",
    "\n",
    "// Create Coach for Inter Milan\n",
    "CREATE (conte:Coach {name: 'Antonio Conte'})\n",
    "CREATE (conte)-[:COACHES]->(inter_milan)\n",
    "\n",
    "// Create Stadium\n",
    "CREATE (san_siro:Stadium {name: 'San Siro', location: 'Milan'})\n",
    "\n",
    "// Create Match\n",
    "CREATE (match:Match {date: '2021-02-21', competition: 'Serie A'})\n",
    "\n",
    "// Relate Match to Teams and Stadium\n",
    "CREATE (ac_milan)-[:PARTICIPATES_IN]->(match)\n",
    "CREATE (inter_milan)-[:PARTICIPATES_IN]->(match)\n",
    "CREATE (match)-[:HELD_AT]->(san_siro)\n",
    "\n",
    "// Create Events (Goals)\n",
    "CREATE (goal1:Event {type: 'Goal', minute: 5})\n",
    "CREATE (goal2:Event {type: 'Goal', minute: 57})\n",
    "CREATE (goal3:Event {type: 'Goal', minute: 66})\n",
    "\n",
    "// Relate Goals to Players and Match\n",
    "CREATE (martinez)-[:SCORED]->(goal1)\n",
    "CREATE (goal1)-[:OCCURRED_IN]->(match)\n",
    "CREATE (martinez)-[:SCORED]->(goal2)\n",
    "CREATE (goal2)-[:OCCURRED_IN]->(match)\n",
    "CREATE (lukaku)-[:SCORED]->(goal3)\n",
    "CREATE (goal3)-[:OCCURRED_IN]->(match)\n",
    "\n",
    "// Create Referee\n",
    "CREATE (doveri:Referee {name: 'Daniele Doveri'})\n",
    "\n",
    "// Relate Referee to Match\n",
    "CREATE (doveri)-[:OFFICIATES]->(match)\n",
    "\"\"\"\n",
    "driver.execute_query(query)"
   ]
  },
  {
   "cell_type": "code",
   "execution_count": 9,
   "id": "718d782b-9124-41fc-ab47-3ffa5ffc2803",
   "metadata": {},
   "outputs": [
    {
     "name": "stdout",
     "output_type": "stream",
     "text": [
      "graph.html\n"
     ]
    },
    {
     "data": {
      "text/html": [
       "\n",
       "        <iframe\n",
       "            width=\"100%\"\n",
       "            height=\"500px\"\n",
       "            src=\"graph.html\"\n",
       "            frameborder=\"0\"\n",
       "            allowfullscreen\n",
       "            \n",
       "        ></iframe>\n",
       "        "
      ],
      "text/plain": [
       "<IPython.lib.display.IFrame at 0xffff73ebe9b0>"
      ]
     },
     "execution_count": 9,
     "metadata": {},
     "output_type": "execute_result"
    }
   ],
   "source": [
    "import hneo4j\n",
    "from neo4j import GraphDatabase, RoutingControl\n",
    "\n",
    "driver = GraphDatabase.driver(URI, auth=AUTH)\n",
    "\n",
    "net = hneo4j.plot_graph(driver)\n",
    "\n",
    "net.show(\"graph.html\")"
   ]
  },
  {
   "cell_type": "code",
   "execution_count": null,
   "id": "6f12c1de-3a00-42f9-a4f3-a1e07eecf738",
   "metadata": {},
   "outputs": [],
   "source": []
  }
 ],
 "metadata": {
  "kernelspec": {
   "display_name": "Python 3 (ipykernel)",
   "language": "python",
   "name": "python3"
  },
  "language_info": {
   "codemirror_mode": {
    "name": "ipython",
    "version": 3
   },
   "file_extension": ".py",
   "mimetype": "text/x-python",
   "name": "python",
   "nbconvert_exporter": "python",
   "pygments_lexer": "ipython3",
   "version": "3.10.12"
  }
 },
 "nbformat": 4,
 "nbformat_minor": 5
}
