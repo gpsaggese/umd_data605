{
 "cells": [
  {
   "cell_type": "markdown",
   "id": "75bef35a-cf2b-4c76-b5f3-93b5c69ef8d0",
   "metadata": {},
   "source": [
    "# Import"
   ]
  },
  {
   "cell_type": "code",
   "execution_count": null,
   "id": "21e8f791-9df2-444d-b604-37841d587aa5",
   "metadata": {
    "lines_to_next_cell": 2
   },
   "outputs": [],
   "source": [
    "#!pip install openai"
   ]
  },
  {
   "cell_type": "code",
   "execution_count": 1,
   "id": "244ab9d9-557b-4228-9ba3-9f9c05f540e6",
   "metadata": {},
   "outputs": [],
   "source": [
    "%load_ext autoreload\n",
    "%autoreload 2"
   ]
  },
  {
   "cell_type": "code",
   "execution_count": null,
   "id": "5f910b22-f9ba-44b5-a24b-9b16ecbb08cc",
   "metadata": {},
   "outputs": [],
   "source": [
    "import pprint\n",
    "import logging\n",
    "\n",
    "import hopenai\n",
    "import snippets\n",
    "import helpers.hdbg as hdbg\n",
    "\n",
    "hdbg.init_logger()\n",
    "\n",
    "hdbg.set_logger_verbosity(logging.INFO)"
   ]
  },
  {
   "cell_type": "code",
   "execution_count": 7,
   "id": "d81300c1-1498-4236-90d7-a5ceff3d2c84",
   "metadata": {},
   "outputs": [],
   "source": [
    "import os; os.environ[\"OPENAI_API_KEY\"] = \"\""
   ]
  },
  {
   "cell_type": "code",
   "execution_count": null,
   "id": "505866b2-d7d6-45e1-9dda-d7f3bbb2e903",
   "metadata": {},
   "outputs": [],
   "source": [
    "if False:\n",
    "    # Force reloading a module.\n",
    "    import hopenai\n",
    "    from importlib import reload\n",
    "    reload(hopenai)"
   ]
  },
  {
   "cell_type": "markdown",
   "id": "82c4191c-3e21-4f2e-b4cc-ab75edba327c",
   "metadata": {},
   "source": [
    "# Chat"
   ]
  },
  {
   "cell_type": "code",
   "execution_count": 8,
   "id": "38cf6fc8-4366-4f75-8669-c46172584812",
   "metadata": {},
   "outputs": [
    {
     "name": "stdout",
     "output_type": "stream",
     "text": [
      "INFO  HTTP Request: POST https://api.openai.com/v1/chat/completions \"HTTP/1.1 200 OK\"\n"
     ]
    },
    {
     "data": {
      "text/plain": [
       "ChatCompletion(id='chatcmpl-9p31rOvTTzSSk5i5OoCqNs2oiNQEv', choices=[Choice(finish_reason='stop', index=0, logprobs=None, message=ChatCompletionMessage(content='Hello! How can I assist you today?', role='assistant', function_call=None, tool_calls=None))], created=1721953399, model='gpt-4o-mini-2024-07-18', object='chat.completion', service_tier=None, system_fingerprint='fp_0f03d4f0ee', usage=CompletionUsage(completion_tokens=9, prompt_tokens=12, total_tokens=21))"
      ]
     },
     "execution_count": 8,
     "metadata": {},
     "output_type": "execute_result"
    }
   ],
   "source": [
    "hopenai.get_completion(\"hello\")"
   ]
  },
  {
   "cell_type": "markdown",
   "id": "a5f9272e-f39e-48e8-abcf-7d0eda8a58e1",
   "metadata": {},
   "source": [
    "# Eval prompt"
   ]
  },
  {
   "cell_type": "code",
   "execution_count": 125,
   "id": "917feed6-7a7e-4016-b83b-2eca37611f69",
   "metadata": {
    "scrolled": true
   },
   "outputs": [
    {
     "name": "stdout",
     "output_type": "stream",
     "text": [
      "INFO  Processing 3 examples\n"
     ]
    },
    {
     "name": "stderr",
     "output_type": "stream",
     "text": [
      "  0%|                                                                                                                                                             | 0/3 [00:00<?, ?it/s]"
     ]
    },
    {
     "name": "stdout",
     "output_type": "stream",
     "text": [
      "INFO  HTTP Request: POST https://api.openai.com/v1/chat/completions \"HTTP/1.1 200 OK\"\n"
     ]
    },
    {
     "name": "stderr",
     "output_type": "stream",
     "text": [
      " 33%|█████████████████████████████████████████████████▋                                                                                                   | 1/3 [00:03<00:07,  3.79s/it]"
     ]
    },
    {
     "name": "stdout",
     "output_type": "stream",
     "text": [
      "INFO  HTTP Request: POST https://api.openai.com/v1/chat/completions \"HTTP/1.1 200 OK\"\n"
     ]
    },
    {
     "name": "stderr",
     "output_type": "stream",
     "text": [
      " 67%|███████████████████████████████████████████████████████████████████████████████████████████████████▎                                                 | 2/3 [00:08<00:04,  4.06s/it]"
     ]
    },
    {
     "name": "stdout",
     "output_type": "stream",
     "text": [
      "INFO  HTTP Request: POST https://api.openai.com/v1/chat/completions \"HTTP/1.1 200 OK\"\n"
     ]
    },
    {
     "name": "stderr",
     "output_type": "stream",
     "text": [
      "100%|█████████████████████████████████████████████████████████████████████████████████████████████████████████████████████████████████████████████████████| 3/3 [00:11<00:00,  3.92s/it]"
     ]
    },
    {
     "name": "stdout",
     "output_type": "stream",
     "text": [
      "INFO  Saving results ...\n",
      "\n",
      "\n",
      "### in.txt ###\n",
      "def listdir(\n",
      "    dir_name: str,\n",
      "    pattern: str,\n",
      "    only_files: bool,\n",
      "    use_relative_paths: bool,\n",
      "    *,\n",
      "    exclude_git_dirs: bool = True,\n",
      "    maxdepth: Optional[int] = None,\n",
      ") -> List[str]:\n",
      "    hdbg.dassert_dir_exists(dir_name)\n",
      "    cmd = [f\"find {dir_name}\", f'-name \"{pattern}\"']\n",
      "    if maxdepth is not None:\n",
      "        cmd.append(f'-maxdepth \"{maxdepth}\"')\n",
      "    if only_files:\n",
      "        cmd.append(\"-type f\")\n",
      "    if exclude_git_dirs:\n",
      "        cmd.append(r'-not -path \"*/\\.git/*\"')\n",
      "    cmd = \" \".join(cmd)\n",
      "    _, output = hsystem.system_to_string(cmd)\n",
      "    paths = [path for path in output.split(\"\\n\") if path != \"\"]\n",
      "    _LOG.debug(\"Found %s paths in %s\", len(paths), dir_name)\n",
      "    _LOG.debug(\"\\n\".join(paths))\n",
      "    if use_relative_paths:\n",
      "        paths = [os.path.relpath(path, start=dir_name) for path in paths]\n",
      "    return path\n",
      "\n",
      "def keep_python_files(\n",
      "    file_names: List[str], exclude_paired_jupytext: bool\n",
      ") -> List[str]:\n",
      "    hdbg.dassert_isinstance(file_names, list)\n",
      "    # Check all the files.\n",
      "    py_file_names = []\n",
      "    for file_name in file_names:\n",
      "        if file_name.endswith(\".py\"):\n",
      "            if exclude_paired_jupytext:\n",
      "                # Include only the non-paired Python files.\n",
      "                is_paired = is_paired_jupytext_python_file(file_name)\n",
      "                add = not is_paired\n",
      "            else:\n",
      "                # Include all the Python files.\n",
      "                add = True\n",
      "        else:\n",
      "            add = False\n",
      "        _LOG.debug(\"file_name='%s' -> add='%s'\", file_name, add)\n",
      "        if add:\n",
      "            py_file_names.append(file_name)\n",
      "    _LOG.debug(\"Found %s python files\", len(py_file_names))\n",
      "    return py_file_name\n",
      "\n",
      "def create_dir(\n",
      "    dir_name: str,\n",
      "    incremental: bool,\n",
      "    *,\n",
      "    abort_if_exists: bool = False,\n",
      "    ask_to_delete: bool = False,\n",
      "    backup_dir_if_exists: bool = False,\n",
      ") -> None:\n",
      "    if backup_dir_if_exists:\n",
      "        if not os.path.exists(dir_name):\n",
      "            # Create new dir.\n",
      "            _LOG.debug(\"Creating dir '%s'\", dir_name)\n",
      "            _create_dir(dir_name, incremental=True)\n",
      "        else:\n",
      "            _LOG.debug(\"Dir '%s' already exists\", dir_name)\n",
      "            # Get dir timestamp.\n",
      "            dir_timestamp = os.path.getmtime(dir_name)\n",
      "            dir_datetime = datetime.datetime.fromtimestamp(dir_timestamp)\n",
      "            # Build new dir name with timestamp.\n",
      "            dir_name_new = dir_name + \".\" + dir_datetime.strftime(\"%Y%m%d_%H%M%S\")\n",
      "            # Rename dir.\n",
      "            if not os.path.exists(dir_name_new):\n",
      "                _LOG.warning(\"Renaming dir '%s' -> '%s'\", dir_name, dir_name_new)\n",
      "                os.rename(dir_name, dir_name_new)\n",
      "            else:\n",
      "                _LOG.warning(\"Dir '%s' already exists\", dir_name_new)\n",
      "            # Create new dir.\n",
      "            _LOG.debug(\"Creating dir '%s'\", dir_name)\n",
      "            _create_dir(dir_name, incremental=True)\n",
      "    else:\n",
      "        _create_dir(\n",
      "            dir_name,\n",
      "            incremental,\n",
      "            abort_if_exists=abort_if_exists,\n",
      "            ask_to_delete=ask_to_delete,\n",
      "        )\n",
      "\n",
      "### out.txt ###\n",
      "def listdir(\n",
      "    dir_name: str,\n",
      "    pattern: str,\n",
      "    only_files: bool,\n",
      "    use_relative_paths: bool,\n",
      "    *,\n",
      "    exclude_git_dirs: bool = True,\n",
      "    maxdepth: Optional[int] = None,\n",
      ") -> List[str]:\n",
      "    \"\"\"\n",
      "    Find all files and subdirectories under `directory` that match `pattern`.\n",
      "\n",
      "    :param dir_name: path to the directory where to look for files\n",
      "    :param pattern: pattern to match a filename against (e.g., `*.py`)\n",
      "    :param only_files: look for only files instead of both files and directories\n",
      "    :param use_relative_paths: remove `dir_name` from path\n",
      "    :param exclude_git_dirs: skip `.git` dirs\n",
      "    :param maxdepth: limit the depth of directory traversal\n",
      "    \"\"\"\n",
      "    hdbg.dassert_dir_exists(dir_name)\n",
      "    cmd = [f\"find {dir_name}\", f'-name \"{pattern}\"']\n",
      "    if maxdepth is not None:\n",
      "        cmd.append(f'-maxdepth \"{maxdepth}\"')\n",
      "    if only_files:\n",
      "        cmd.append(\"-type f\")\n",
      "    if exclude_git_dirs:\n",
      "        cmd.append(r'-not -path \"*/\\.git/*\"')\n",
      "    cmd = \" \".join(cmd)\n",
      "    _, output = hsystem.system_to_string(cmd)\n",
      "    paths = [path for path in output.split(\"\\n\") if path != \"\"]\n",
      "    _LOG.debug(\"Found %s paths in %s\", len(paths), dir_name)\n",
      "    _LOG.debug(\"\\n\".join(paths))\n",
      "    if use_relative_paths:\n",
      "        paths = [os.path.relpath(path, start=dir_name) for path in paths]\n",
      "    return path\n",
      "\n",
      "def keep_python_files(\n",
      "    file_names: List[str], exclude_paired_jupytext: bool\n",
      ") -> List[str]:\n",
      "    \"\"\"\n",
      "    Return a list with all Python file names (i.e., with the `py` extension).\n",
      "\n",
      "    :param file_names: list of file names to process\n",
      "    :param exclude_paired_jupytext: exclude Python file that are associated to\n",
      "        notebooks (i.e., that have a corresponding `.ipynb` file)\n",
      "    \"\"\"\n",
      "    hdbg.dassert_isinstance(file_names, list)\n",
      "    # Check all the files.\n",
      "    py_file_names = []\n",
      "    for file_name in file_names:\n",
      "        if file_name.endswith(\".py\"):\n",
      "            if exclude_paired_jupytext:\n",
      "                # Include only the non-paired Python files.\n",
      "                is_paired = is_paired_jupytext_python_file(file_name)\n",
      "                add = not is_paired\n",
      "            else:\n",
      "                # Include all the Python files.\n",
      "                add = True\n",
      "        else:\n",
      "            add = False\n",
      "        _LOG.debug(\"file_name='%s' -> add='%s'\", file_name, add)\n",
      "        if add:\n",
      "            py_file_names.append(file_name)\n",
      "    _LOG.debug(\"Found %s python files\", len(py_file_names))\n",
      "    return py_file_name\n",
      "\n",
      "def create_dir(\n",
      "    dir_name: str,\n",
      "    incremental: bool,\n",
      "    *,\n",
      "    abort_if_exists: bool = False,\n",
      "    ask_to_delete: bool = False,\n",
      "    backup_dir_if_exists: bool = False,\n",
      ") -> None:\n",
      "    \"\"\"\n",
      "    Create a directory.\n",
      "\n",
      "    :param incremental: if False then the directory is deleted and re-\n",
      "        created, otherwise the same directory is reused as it is\n",
      "    :param abort_if_exists: abort if the target directory already exists\n",
      "    :param ask_to_delete: if it is not incremental and the dir exists,\n",
      "        asks before deleting. This option is used when we want to start\n",
      "        with a clean dir (i.e., incremental=False) but, at the same\n",
      "        time, we want to make sure that the user doesn't want to delete\n",
      "        the content of the dir. Another approach is to automatically\n",
      "        rename the old dir with backup_dir_if_exists.\n",
      "    :param backup_dir_if_exists: if the target dir already exists, then\n",
      "        rename it using a timestamp (e.g., dir_20231003_080000) and\n",
      "        create a new target dir\n",
      "    \"\"\"\n",
      "    if backup_dir_if_exists:\n",
      "        if not os.path.exists(dir_name):\n",
      "            # Create new dir.\n",
      "            _LOG.debug(\"Creating dir '%s'\", dir_name)\n",
      "            _create_dir(dir_name, incremental=True)\n",
      "        else:\n",
      "            _LOG.debug(\"Dir '%s' already exists\", dir_name)\n",
      "            # Get dir timestamp.\n",
      "            dir_timestamp = os.path.getmtime(dir_name)\n",
      "            dir_datetime = datetime.datetime.fromtimestamp(dir_timestamp)\n",
      "            # Build new dir name with timestamp.\n",
      "            dir_name_new = dir_name + \".\" + dir_datetime.strftime(\"%Y%m%d_%H%M%S\")\n",
      "            # Rename dir.\n",
      "            if not os.path.exists(dir_name_new):\n",
      "                _LOG.warning(\"Renaming dir '%s' -> '%s'\", dir_name, dir_name_new)\n",
      "                os.rename(dir_name, dir_name_new)\n",
      "            else:\n",
      "                _LOG.warning(\"Dir '%s' already exists\", dir_name_new)\n",
      "            # Create new dir.\n",
      "            _LOG.debug(\"Creating dir '%s'\", dir_name)\n",
      "            _create_dir(dir_name, incremental=True)\n",
      "    else:\n",
      "        _create_dir(\n",
      "            dir_name,\n",
      "            incremental,\n",
      "            abort_if_exists=abort_if_exists,\n",
      "            ask_to_delete=ask_to_delete,\n",
      "        )\n",
      "\n",
      "### act.txt ###\n",
      "def listdir(\n",
      "    dir_name: str,\n",
      "    pattern: str,\n",
      "    only_files: bool,\n",
      "    use_relative_paths: bool,\n",
      "    *,\n",
      "    exclude_git_dirs: bool = True,\n",
      "    maxdepth: Optional[int] = None,\n",
      ") -> List[str]:\n",
      "    \"\"\"Retrieve a list of files matching a pattern within a directory.\n",
      "\n",
      "    :param dir_name: The directory path to search in.\n",
      "    :param pattern: The pattern to match filenames against.\n",
      "    :param only_files: If True, only include files in the results.\n",
      "    :param use_relative_paths: If True, return paths relative to dir_name.\n",
      "    :param exclude_git_dirs: If True, exclude files in .git directories.\n",
      "    :param maxdepth: The maximum depth of subdirectories to search (optional).\n",
      "    \"\"\"\n",
      "    hdbg.dassert_dir_exists(dir_name)\n",
      "    cmd = [f\"find {dir_name}\", f'-name \"{pattern}\"']\n",
      "    if maxdepth is not None:\n",
      "        cmd.append(f'-maxdepth \"{maxdepth}\"')\n",
      "    if only_files:\n",
      "        cmd.append(\"-type f\")\n",
      "    if exclude_git_dirs:\n",
      "        cmd.append(r'-not -path \"*/\\.git/*\"')\n",
      "    cmd = \" \".join(cmd)\n",
      "    _, output = hsystem.system_to_string(cmd)\n",
      "    paths = [path for path in output.split(\"\\n\") if path != \"\"]\n",
      "    _LOG.debug(\"Found %s paths in %s\", len(paths), dir_name)\n",
      "    _LOG.debug(\"\\n\".join(paths))\n",
      "    if use_relative_paths:\n",
      "        paths = [os.path.relpath(path, start=dir_name) for path in paths]\n",
      "    return paths\n",
      "\n",
      "def keep_python_files(\n",
      "    file_names: List[str], exclude_paired_jupytext: bool\n",
      ") -> List[str]:\n",
      "    \"\"\"Filter the list of files to return only Python files.\n",
      "\n",
      "    :param file_names: List of file names to filter.\n",
      "    :param exclude_paired_jupytext: Flag to exclude paired Jupytext files.\n",
      "\n",
      "    :return: List of filtered Python file names.\n",
      "    \"\"\"\n",
      "    hdbg.dassert_isinstance(file_names, list)\n",
      "    # Check all the files.\n",
      "    py_file_names = []\n",
      "    for file_name in file_names:\n",
      "        if file_name.endswith(\".py\"):\n",
      "            if exclude_paired_jupytext:\n",
      "                # Include only the non-paired Python files.\n",
      "                is_paired = is_paired_jupytext_python_file(file_name)\n",
      "                add = not is_paired\n",
      "            else:\n",
      "                # Include all the Python files.\n",
      "                add = True\n",
      "        else:\n",
      "            add = False\n",
      "        _LOG.debug(\"file_name='%s' -> add='%s'\", file_name, add)\n",
      "        if add:\n",
      "            py_file_names.append(file_name)\n",
      "    _LOG.debug(\"Found %s python files\", len(py_file_names))\n",
      "    return py_file_names\n",
      "\n",
      "def create_dir(\n",
      "    dir_name: str,\n",
      "    incremental: bool,\n",
      "    *,\n",
      "    abort_if_exists: bool = False,\n",
      "    ask_to_delete: bool = False,\n",
      "    backup_dir_if_exists: bool = False,\n",
      ") -> None:\n",
      "    \"\"\"Create a directory with optional backup and existence checks.\n",
      "\n",
      "    :param dir_name: the name of the directory to create\n",
      "    :param incremental: whether to create the directory incrementally\n",
      "    :param abort_if_exists: if True, do not create if directory exists\n",
      "    :param ask_to_delete: if True, prompt before deleting an existing directory\n",
      "    :param backup_dir_if_exists: if True, back up existing directory before creating a new one\n",
      "    \"\"\"\n",
      "    if backup_dir_if_exists:\n",
      "        if not os.path.exists(dir_name):\n",
      "            # Create new dir.\n",
      "            _LOG.debug(\"Creating dir '%s'\", dir_name)\n",
      "            _create_dir(dir_name, incremental=True)\n",
      "        else:\n",
      "            _LOG.debug(\"Dir '%s' already exists\", dir_name)\n",
      "            # Get dir timestamp.\n",
      "            dir_timestamp = os.path.getmtime(dir_name)\n",
      "            dir_datetime = datetime.datetime.fromtimestamp(dir_timestamp)\n",
      "            # Build new dir name with timestamp.\n",
      "            dir_name_new = dir_name + \".\" + dir_datetime.strftime(\"%Y%m%d_%H%M%S\")\n",
      "            # Rename dir.\n",
      "            if not os.path.exists(dir_name_new):\n",
      "                _LOG.warning(\"Renaming dir '%s' -> '%s'\", dir_name, dir_name_new)\n",
      "                os.rename(dir_name, dir_name_new)\n",
      "            else:\n",
      "                _LOG.warning(\"Dir '%s' already exists\", dir_name_new)\n",
      "            # Create new dir.\n",
      "            _LOG.debug(\"Creating dir '%s'\", dir_name)\n",
      "            _create_dir(dir_name, incremental=True)\n",
      "    else:\n",
      "        _create_dir(\n",
      "            dir_name,\n",
      "            incremental,\n",
      "            abort_if_exists=abort_if_exists,\n",
      "            ask_to_delete=ask_to_delete,\n",
      "        )\n"
     ]
    },
    {
     "name": "stderr",
     "output_type": "stream",
     "text": [
      "\n"
     ]
    }
   ],
   "source": [
    "function_tag = \"code_snippets2\"\n",
    "transform_tag = \"remove_docstring\"\n",
    "prompt_tag = \"docstring\"\n",
    "in_outs = snippets.eval_prompt(function_tag, transform_tag, prompt_tag) \n",
    "\n",
    "print(snippets.in_outs_to_str(in_outs))"
   ]
  },
  {
   "cell_type": "code",
   "execution_count": 127,
   "id": "cb2d2782-b436-4e75-875c-36b988c78201",
   "metadata": {},
   "outputs": [
    {
     "ename": "AttributeError",
     "evalue": "module 'snippets' has no attribute 'in_out_to_files'",
     "output_type": "error",
     "traceback": [
      "\u001b[0;31m---------------------------------------------------------------------------\u001b[0m",
      "\u001b[0;31mAttributeError\u001b[0m                            Traceback (most recent call last)",
      "Cell \u001b[0;32mIn[127], line 1\u001b[0m\n\u001b[0;32m----> 1\u001b[0m \u001b[43msnippets\u001b[49m\u001b[38;5;241;43m.\u001b[39;49m\u001b[43min_out_to_files\u001b[49m(in_outs)\n",
      "\u001b[0;31mAttributeError\u001b[0m: module 'snippets' has no attribute 'in_out_to_files'"
     ]
    }
   ],
   "source": [
    "snippets.in_out_to_files(in_outs)"
   ]
  },
  {
   "cell_type": "markdown",
   "id": "4521057b-e8ed-49bb-9cfc-0546bf9c5c6b",
   "metadata": {},
   "source": [
    "# Assistant"
   ]
  },
  {
   "cell_type": "code",
   "execution_count": null,
   "id": "2f45f96c-d628-4643-bf0e-808a2c13cdb2",
   "metadata": {},
   "outputs": [],
   "source": [
    "system = \"\"\"You are a proficient Python coder and write English very well. \n",
    "Given the Python code passed below, improve or add comments to the code.\n",
    "Each comment should be in imperative form, a full English phrase, and end with a period.\n",
    "Comments must be for every logical chunk of 4 or 5 lines of Python code.\n",
    "Do not comment every single line of code and especially logging statements.\n",
    "\"\"\"\n",
    "\n",
    "# There should be no empty line in the code.\n",
    "\n",
    "user1 = snippets.get_code_snippet2()\n",
    "\n",
    "response = hopenai.get_completion(user, system=system)\n",
    "\n",
    "print(hopenai.response_to_txt(response))"
   ]
  },
  {
   "cell_type": "markdown",
   "id": "af104953-5764-462f-b52a-2b99111aa7b2",
   "metadata": {},
   "source": [
    "## Query using library"
   ]
  },
  {
   "cell_type": "code",
   "execution_count": null,
   "id": "7100b0e4-3308-4c0e-82b3-ef2fb5041554",
   "metadata": {},
   "outputs": [],
   "source": [
    "assistant_name = \"coder_assistant\"\n",
    "instructions = \"You are an expert Python coder. Use you knowledge base to answer questions about how to write code.\"\n",
    "\n",
    "vector_store_name = \"Coding style\"\n",
    "file_paths = [\"all.coding_style.how_to_guide.md\"]\n",
    "\n",
    "assistant = hopenai.get_coding_style_assistant(\n",
    "    assistant_name,\n",
    "    instructions,\n",
    "    vector_store_name,\n",
    "    file_paths)"
   ]
  },
  {
   "cell_type": "code",
   "execution_count": null,
   "id": "2084337e-bb6e-4bad-80e2-551f67a58e71",
   "metadata": {
    "lines_to_next_cell": 2
   },
   "outputs": [],
   "source": [
    "hopenai.pprint(assistant)"
   ]
  },
  {
   "cell_type": "code",
   "execution_count": null,
   "id": "d2475882-cbad-4ef4-ad32-48879a6c0927",
   "metadata": {},
   "outputs": [],
   "source": [
    "#question = \"What is DRY?\"\n",
    "question = \"Should one pay the technical debt?\"\n",
    "messages = hopenai.get_query_assistant(assistant, question)"
   ]
  }
 ],
 "metadata": {
  "jupytext": {
   "formats": "ipynb,py:light"
  },
  "kernelspec": {
   "display_name": "Python 3 (ipykernel)",
   "language": "python",
   "name": "python3"
  },
  "language_info": {
   "codemirror_mode": {
    "name": "ipython",
    "version": 3
   },
   "file_extension": ".py",
   "mimetype": "text/x-python",
   "name": "python",
   "nbconvert_exporter": "python",
   "pygments_lexer": "ipython3",
   "version": "3.10.12"
  }
 },
 "nbformat": 4,
 "nbformat_minor": 5
}
