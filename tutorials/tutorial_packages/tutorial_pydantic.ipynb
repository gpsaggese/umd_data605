{
 "cells": [
  {
   "cell_type": "code",
   "execution_count": 1,
   "id": "4efc1a45",
   "metadata": {
    "ExecuteTime": {
     "end_time": "2023-07-07T20:47:43.436827Z",
     "start_time": "2023-07-07T20:47:38.613293Z"
    }
   },
   "outputs": [
    {
     "name": "stdout",
     "output_type": "stream",
     "text": [
      "Collecting pydantic\n",
      "  Downloading pydantic-2.0.2-py3-none-any.whl (359 kB)\n",
      "\u001b[2K     \u001b[90m━━━━━━━━━━━━━━━━━━━━━━━━━━━━━━━━━━━━━━━\u001b[0m \u001b[32m359.1/359.1 kB\u001b[0m \u001b[31m1.5 MB/s\u001b[0m eta \u001b[36m0:00:00\u001b[0m00:01\u001b[0m00:01\u001b[0m\n",
      "\u001b[?25hCollecting annotated-types>=0.4.0 (from pydantic)\n",
      "  Downloading annotated_types-0.5.0-py3-none-any.whl (11 kB)\n",
      "Collecting pydantic-core==2.1.2 (from pydantic)\n",
      "  Downloading pydantic_core-2.1.2-cp310-cp310-manylinux_2_17_aarch64.manylinux2014_aarch64.whl (1.4 MB)\n",
      "\u001b[2K     \u001b[90m━━━━━━━━━━━━━━━━━━━━━━━━━━━━━━━━━━━━━━━━\u001b[0m \u001b[32m1.4/1.4 MB\u001b[0m \u001b[31m12.1 MB/s\u001b[0m eta \u001b[36m0:00:00\u001b[0m00:01\u001b[0m\n",
      "\u001b[?25hRequirement already satisfied: typing-extensions>=4.6.1 in /usr/local/lib/python3.10/dist-packages (from pydantic) (4.6.3)\n",
      "Installing collected packages: pydantic-core, annotated-types, pydantic\n",
      "Successfully installed annotated-types-0.5.0 pydantic-2.0.2 pydantic-core-2.1.2\n",
      "\u001b[33mWARNING: Running pip as the 'root' user can result in broken permissions and conflicting behaviour with the system package manager. It is recommended to use a virtual environment instead: https://pip.pypa.io/warnings/venv\u001b[0m\u001b[33m\n",
      "\u001b[0m"
     ]
    }
   ],
   "source": [
    "!pip install pydantic"
   ]
  },
  {
   "cell_type": "code",
   "execution_count": null,
   "id": "3ec3041d",
   "metadata": {},
   "outputs": [],
   "source": [
    "# https://docs.pydantic.dev/latest/"
   ]
  },
  {
   "cell_type": "markdown",
   "id": "225acf6d",
   "metadata": {},
   "source": [
    "# Why use Pydantic?\n",
    "\n",
    "- Schema validation and serialization controlled by type annotations\n",
    "- Can emit JSON schema\n",
    "- Strict mode to try to convert data into the correct type\n",
    "- Support `dataclass` and `TypedDict`\n",
    "- Custom validators and serializers\n",
    "- Widely used in production"
   ]
  },
  {
   "cell_type": "code",
   "execution_count": 20,
   "id": "baad2c38",
   "metadata": {
    "ExecuteTime": {
     "end_time": "2023-07-07T20:59:41.260172Z",
     "start_time": "2023-07-07T20:59:41.232728Z"
    }
   },
   "outputs": [],
   "source": [
    "import pprint"
   ]
  },
  {
   "cell_type": "code",
   "execution_count": 10,
   "id": "1361e6b5",
   "metadata": {
    "ExecuteTime": {
     "end_time": "2023-07-07T20:54:20.802213Z",
     "start_time": "2023-07-07T20:54:20.778642Z"
    }
   },
   "outputs": [
    {
     "name": "stdout",
     "output_type": "stream",
     "text": [
      "123\n",
      "{'id': 123, 'name': 'Joe', 'signup_ts': datetime.datetime(2019, 6, 1, 12, 22), 'tastes': {'wine': 9, 'cheese': 7, 'cabbage': 1}}\n"
     ]
    }
   ],
   "source": [
    "from datetime import datetime\n",
    "\n",
    "from pydantic import BaseModel, PositiveInt, ValidationError\n",
    "\n",
    "class User(BaseModel):\n",
    "    id: int\n",
    "    name: str = 'Joe'\n",
    "    signup_ts: datetime | None\n",
    "    tastes: dict[str, PositiveInt]\n",
    "        \n",
    "        \n",
    "external_data = {\n",
    "    'id': 123,\n",
    "    'signup_ts': '2019-06-01 12:22',\n",
    "    'tastes': {\n",
    "        'wine': 9,\n",
    "        'cheese': 7,\n",
    "        'cabbage': 1\n",
    "    }\n",
    "}\n",
    "\n",
    "user = User(**external_data)\n",
    "\n",
    "print(user.id)\n",
    "\n",
    "print(user.model_dump())"
   ]
  },
  {
   "cell_type": "code",
   "execution_count": 12,
   "id": "fad08d95",
   "metadata": {
    "ExecuteTime": {
     "end_time": "2023-07-07T20:54:35.436691Z",
     "start_time": "2023-07-07T20:54:35.372084Z"
    }
   },
   "outputs": [
    {
     "ename": "TypeError",
     "evalue": "sequence item 0: expected str instance, dict found",
     "output_type": "error",
     "traceback": [
      "\u001b[0;31m---------------------------------------------------------------------------\u001b[0m",
      "\u001b[0;31mValidationError\u001b[0m                           Traceback (most recent call last)",
      "Cell \u001b[0;32mIn[12], line 3\u001b[0m\n\u001b[1;32m      2\u001b[0m \u001b[38;5;28;01mtry\u001b[39;00m:\n\u001b[0;32m----> 3\u001b[0m     user \u001b[38;5;241m=\u001b[39m \u001b[43mUser\u001b[49m\u001b[43m(\u001b[49m\u001b[38;5;241;43m*\u001b[39;49m\u001b[38;5;241;43m*\u001b[39;49m\u001b[43mexternal_data\u001b[49m\u001b[43m)\u001b[49m\n\u001b[1;32m      4\u001b[0m \u001b[38;5;28;01mexcept\u001b[39;00m ValidationError \u001b[38;5;28;01mas\u001b[39;00m e:\n",
      "File \u001b[0;32m/usr/local/lib/python3.10/dist-packages/pydantic/main.py:150\u001b[0m, in \u001b[0;36mBaseModel.__init__\u001b[0;34m(__pydantic_self__, **data)\u001b[0m\n\u001b[1;32m    149\u001b[0m __tracebackhide__ \u001b[38;5;241m=\u001b[39m \u001b[38;5;28;01mTrue\u001b[39;00m\n\u001b[0;32m--> 150\u001b[0m \u001b[43m__pydantic_self__\u001b[49m\u001b[38;5;241;43m.\u001b[39;49m\u001b[43m__pydantic_validator__\u001b[49m\u001b[38;5;241;43m.\u001b[39;49m\u001b[43mvalidate_python\u001b[49m\u001b[43m(\u001b[49m\u001b[43mdata\u001b[49m\u001b[43m,\u001b[49m\u001b[43m \u001b[49m\u001b[43mself_instance\u001b[49m\u001b[38;5;241;43m=\u001b[39;49m\u001b[43m__pydantic_self__\u001b[49m\u001b[43m)\u001b[49m\n",
      "\u001b[0;31mValidationError\u001b[0m: 3 validation errors for User\nid\n  Input should be a valid integer, unable to parse string as an integer [type=int_parsing, input_value='not an int', input_type=str]\n    For further information visit https://errors.pydantic.dev/2.1.2/v/int_parsing\nsignup_ts\n  Field required [type=missing, input_value={'id': 'not an int'}, input_type=dict]\n    For further information visit https://errors.pydantic.dev/2.1.2/v/missing\ntastes\n  Field required [type=missing, input_value={'id': 'not an int'}, input_type=dict]\n    For further information visit https://errors.pydantic.dev/2.1.2/v/missing",
      "\nDuring handling of the above exception, another exception occurred:\n",
      "\u001b[0;31mTypeError\u001b[0m                                 Traceback (most recent call last)",
      "Cell \u001b[0;32mIn[12], line 5\u001b[0m\n\u001b[1;32m      3\u001b[0m     user \u001b[38;5;241m=\u001b[39m User(\u001b[38;5;241m*\u001b[39m\u001b[38;5;241m*\u001b[39mexternal_data)\n\u001b[1;32m      4\u001b[0m \u001b[38;5;28;01mexcept\u001b[39;00m ValidationError \u001b[38;5;28;01mas\u001b[39;00m e:\n\u001b[0;32m----> 5\u001b[0m     \u001b[38;5;28mprint\u001b[39m(\u001b[38;5;124;43m\"\u001b[39;49m\u001b[38;5;130;43;01m\\n\u001b[39;49;00m\u001b[38;5;124;43m\"\u001b[39;49m\u001b[38;5;241;43m.\u001b[39;49m\u001b[43mjoin\u001b[49m\u001b[43m(\u001b[49m\u001b[43me\u001b[49m\u001b[38;5;241;43m.\u001b[39;49m\u001b[43merrors\u001b[49m\u001b[43m(\u001b[49m\u001b[43m)\u001b[49m\u001b[43m)\u001b[49m)\n",
      "\u001b[0;31mTypeError\u001b[0m: sequence item 0: expected str instance, dict found"
     ]
    }
   ],
   "source": [
    "external_data = {'id': 'not an int'}\n",
    "try:\n",
    "    user = User(**external_data)\n",
    "except ValidationError as e:\n",
    "    print(\"\\n\".join(e.errors()))"
   ]
  },
  {
   "cell_type": "markdown",
   "id": "03ceb285",
   "metadata": {},
   "source": [
    "# Models\n",
    "\n",
    "https://docs.pydantic.dev/latest/usage/models/\n",
    "\n",
    "- Models are classes that inherit from `pydantic.BaseModel`\n",
    "- They are C structs\n",
    "- Pydantic guarantees that fields conform to field types"
   ]
  },
  {
   "cell_type": "code",
   "execution_count": 15,
   "id": "60450042",
   "metadata": {
    "ExecuteTime": {
     "end_time": "2023-07-07T20:58:26.282088Z",
     "start_time": "2023-07-07T20:58:26.254959Z"
    }
   },
   "outputs": [
    {
     "name": "stdout",
     "output_type": "stream",
     "text": [
      "id=123 name='Jane'\n",
      "123 <class 'int'>\n"
     ]
    }
   ],
   "source": [
    "class User(BaseModel):\n",
    "    id: int\n",
    "    name: str = \"Jane\"\n",
    "        \n",
    "        \n",
    "# The string is converted to int.\n",
    "user = User(id='123')\n",
    "print(user)\n",
    "print(user.id, type(user.id))"
   ]
  },
  {
   "cell_type": "code",
   "execution_count": 17,
   "id": "ef259550",
   "metadata": {
    "ExecuteTime": {
     "end_time": "2023-07-07T20:59:15.723817Z",
     "start_time": "2023-07-07T20:59:15.702553Z"
    }
   },
   "outputs": [
    {
     "name": "stdout",
     "output_type": "stream",
     "text": [
      "{\"id\":null,\"name\":\"Jane\"}\n"
     ]
    }
   ],
   "source": [
    "print(user.model_dump_json())"
   ]
  },
  {
   "cell_type": "code",
   "execution_count": 21,
   "id": "c1283d3f",
   "metadata": {
    "ExecuteTime": {
     "end_time": "2023-07-07T20:59:43.707693Z",
     "start_time": "2023-07-07T20:59:43.695602Z"
    }
   },
   "outputs": [
    {
     "name": "stdout",
     "output_type": "stream",
     "text": [
      "{'properties': {'id': {'title': 'Id', 'type': 'integer'},\n",
      "                'name': {'default': 'Jane', 'title': 'Name', 'type': 'string'}},\n",
      " 'required': ['id'],\n",
      " 'title': 'User',\n",
      " 'type': 'object'}\n"
     ]
    }
   ],
   "source": [
    "pprint.pprint(user.model_json_schema())"
   ]
  },
  {
   "cell_type": "markdown",
   "id": "60abf43f",
   "metadata": {},
   "source": [
    "## Nested models"
   ]
  },
  {
   "cell_type": "code",
   "execution_count": null,
   "id": "2c6a3bf5",
   "metadata": {},
   "outputs": [],
   "source": []
  }
 ],
 "metadata": {
  "kernelspec": {
   "display_name": "Python 3 (ipykernel)",
   "language": "python",
   "name": "python3"
  },
  "language_info": {
   "codemirror_mode": {
    "name": "ipython",
    "version": 3
   },
   "file_extension": ".py",
   "mimetype": "text/x-python",
   "name": "python",
   "nbconvert_exporter": "python",
   "pygments_lexer": "ipython3",
   "version": "3.10.6"
  },
  "toc": {
   "base_numbering": 1,
   "nav_menu": {},
   "number_sections": true,
   "sideBar": true,
   "skip_h1_title": false,
   "title_cell": "Table of Contents",
   "title_sidebar": "Contents",
   "toc_cell": false,
   "toc_position": {},
   "toc_section_display": true,
   "toc_window_display": false
  }
 },
 "nbformat": 4,
 "nbformat_minor": 5
}
