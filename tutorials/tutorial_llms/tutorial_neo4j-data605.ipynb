{
 "cells": [
  {
   "cell_type": "code",
   "execution_count": 1,
   "id": "b3b8948a-0add-46cd-b790-2221811b20cb",
   "metadata": {},
   "outputs": [
    {
     "name": "stdout",
     "output_type": "stream",
     "text": [
      "\u001b[33mWARNING: Running pip as the 'root' user can result in broken permissions and conflicting behaviour with the system package manager, possibly rendering your system unusable.It is recommended to use a virtual environment instead: https://pip.pypa.io/warnings/venv. Use the --root-user-action option if you know what you are doing and want to suppress this warning.\u001b[0m\u001b[33m\n",
      "\u001b[0m"
     ]
    }
   ],
   "source": [
    "!pip install --quiet jupyterlab-vim jupytex\n",
    "!jupyter labextension enable\n",
    "\n",
    "%load_ext autoreload\n",
    "%autoreload 2"
   ]
  },
  {
   "cell_type": "code",
   "execution_count": 2,
   "id": "ee7e0ee2-645a-47c9-ac0c-5830782b607c",
   "metadata": {},
   "outputs": [
    {
     "name": "stdout",
     "output_type": "stream",
     "text": [
      "\u001b[33mWARNING: Running pip as the 'root' user can result in broken permissions and conflicting behaviour with the system package manager, possibly rendering your system unusable.It is recommended to use a virtual environment instead: https://pip.pypa.io/warnings/venv. Use the --root-user-action option if you know what you are doing and want to suppress this warning.\u001b[0m\u001b[33m\n",
      "\u001b[0m"
     ]
    }
   ],
   "source": [
    "!pip install --quiet neo4j"
   ]
  },
  {
   "cell_type": "code",
   "execution_count": 3,
   "id": "ba4afb3d-548b-4bd7-a85c-570d74b95397",
   "metadata": {},
   "outputs": [
    {
     "name": "stdout",
     "output_type": "stream",
     "text": [
      "5.22.0\n"
     ]
    }
   ],
   "source": [
    "import neo4j\n",
    "print(neo4j.__version__)"
   ]
  },
  {
   "cell_type": "code",
   "execution_count": 4,
   "id": "cbc63134-a4d6-4f17-94c0-06a74fdb0f64",
   "metadata": {},
   "outputs": [],
   "source": [
    "import hneo4j\n",
    "\n",
    "from hneo4j import to_str\n",
    "\n",
    "# Force reload.\n",
    "# import importlib\n",
    "# importlib.reload(hneo4j)"
   ]
  },
  {
   "cell_type": "markdown",
   "id": "32b57359-8d7e-408e-acde-e1ce6d77323e",
   "metadata": {},
   "source": [
    "# Neo4j"
   ]
  },
  {
   "cell_type": "code",
   "execution_count": 6,
   "id": "3f775e01-735b-4ec9-b220-e25fbc207b44",
   "metadata": {},
   "outputs": [],
   "source": [
    "from neo4j import GraphDatabase, RoutingControl\n",
    "\n",
    "URI = \"neo4j://neo4j:7687\"\n",
    "#URI = \"bolt://neo4j:7687\"\n",
    "AUTH = (\"neo4j\", \"testtest\")\n",
    "\n",
    "# def add_friend(driver, name, friend_name):\n",
    "#     driver.execute_query(\n",
    "#         \"MERGE (a:Person {name: $name}) \"\n",
    "#         \"MERGE (friend:Person {name: $friend_name}) \"\n",
    "#         \"MERGE (a)-[:KNOWS]->(friend)\",\n",
    "#         name=name, friend_name=friend_name, database_=\"neo4j\",\n",
    "#     )\n",
    "\n",
    "\n",
    "# def print_friends(driver, name):\n",
    "#     records, _, _ = driver.execute_query(\n",
    "#         \"MATCH (a:Person)-[:KNOWS]->(friend) WHERE a.name = $name \"\n",
    "#         \"RETURN friend.name ORDER BY friend.name\",\n",
    "#         name=name, database_=\"neo4j\", routing_=RoutingControl.READ,\n",
    "#     )\n",
    "#     for record in records:\n",
    "#         print(record[\"friend.name\"])\n",
    "\n",
    "\n",
    "# with GraphDatabase.driver(URI, auth=AUTH) as driver:\n",
    "#     add_friend(driver, \"Arthur\", \"Guinevere\")\n",
    "#     add_friend(driver, \"Arthur\", \"Lancelot\")\n",
    "#     add_friend(driver, \"Arthur\", \"Merlin\")\n",
    "#     print_friends(driver, \"Arthur\")"
   ]
  },
  {
   "cell_type": "code",
   "execution_count": 7,
   "id": "2faeb943-4dd6-4380-b36b-0be6bb19a633",
   "metadata": {},
   "outputs": [],
   "source": [
    "driver = GraphDatabase.driver(URI, auth=AUTH)"
   ]
  },
  {
   "cell_type": "code",
   "execution_count": 8,
   "id": "296aa074-1aa5-4231-ad99-e56f8e1aaf13",
   "metadata": {},
   "outputs": [
    {
     "name": "stdout",
     "output_type": "stream",
     "text": [
      "Name: Neo4j Kernel, Version: ['5.22.0'], Edition: community\n"
     ]
    }
   ],
   "source": [
    "# Get the Neo4j version\n",
    "hneo4j.print_neo4j_version(driver)"
   ]
  },
  {
   "cell_type": "code",
   "execution_count": 9,
   "id": "55fcd425-a97c-4176-a95c-b78e5e856622",
   "metadata": {},
   "outputs": [],
   "source": [
    "session = driver.session(database=\"neo4j\")"
   ]
  },
  {
   "cell_type": "code",
   "execution_count": 10,
   "id": "1841df4b-349d-4150-9699-03c41c75fdf3",
   "metadata": {},
   "outputs": [],
   "source": [
    "# # TODO(gp): It seems that it's not easy to have multiple DBs in neo4j community edition.\n",
    "# with driver.session(database=\"system\") as session:\n",
    "#     # Run the CREATE DATABASE command\n",
    "#     session.run(f\"CREATE DATABASE {database_name}\")\n",
    "#     print(f\"Database '{database_name}' created successfully.\")\n",
    "\n",
    "# # Example usage\n",
    "# database_name = \"wine\""
   ]
  },
  {
   "cell_type": "code",
   "execution_count": 11,
   "id": "dd6b88e6-ff0c-42ba-81a7-4abceb8b998c",
   "metadata": {},
   "outputs": [
    {
     "name": "stdout",
     "output_type": "stream",
     "text": [
      "Number of nodes: 1\n",
      "Number of edges: 0\n"
     ]
    }
   ],
   "source": [
    "hneo4j.print_graph_stats(driver)"
   ]
  },
  {
   "cell_type": "markdown",
   "id": "71ebb133-e3b4-456b-9116-19b56af7e6af",
   "metadata": {},
   "source": [
    "# Example"
   ]
  },
  {
   "cell_type": "markdown",
   "id": "7663a899-e9be-4f46-8728-5e18ffbf3d00",
   "metadata": {},
   "source": [
    "- Every application using Neo4j needs a `driver` object\n",
    "- A `driver` object holds the details to the connection to a Neo4j database (e.g., URIs, credentials, and configuration)."
   ]
  },
  {
   "cell_type": "code",
   "execution_count": 12,
   "id": "866c0394-baef-46bd-aa31-edfe24632da0",
   "metadata": {},
   "outputs": [],
   "source": [
    "# Test the connection to the DB without executing any query.\n",
    "driver.verify_connectivity()"
   ]
  },
  {
   "cell_type": "code",
   "execution_count": 13,
   "id": "8aa43a77-7892-4a70-b6f1-2d055f05ad25",
   "metadata": {},
   "outputs": [
    {
     "data": {
      "text/plain": [
       "<neo4j.api.ServerInfo at 0xffff5f658d90>"
      ]
     },
     "execution_count": 13,
     "metadata": {},
     "output_type": "execute_result"
    }
   ],
   "source": [
    "driver.get_server_info()"
   ]
  },
  {
   "cell_type": "markdown",
   "id": "b9e17645-cb56-473e-b78f-4fb7100e544b",
   "metadata": {},
   "source": [
    "### Populate the graph with one node."
   ]
  },
  {
   "cell_type": "code",
   "execution_count": 14,
   "id": "8382dfa5-410a-4055-b6d3-f2a0c6e5e387",
   "metadata": {},
   "outputs": [
    {
     "name": "stdout",
     "output_type": "stream",
     "text": [
      "Number of nodes: 1\n",
      "Number of edges: 0\n",
      "Deleting ...\n",
      "Number of nodes: 0\n",
      "Number of edges: 0\n"
     ]
    }
   ],
   "source": [
    "hneo4j.print_graph_stats(driver)\n",
    "print(\"Deleting ...\")\n",
    "hneo4j.delete_all(driver)\n",
    "hneo4j.print_graph_stats(driver)"
   ]
  },
  {
   "cell_type": "code",
   "execution_count": 15,
   "id": "fa672150-d1f4-4021-90f4-04fa58feb798",
   "metadata": {},
   "outputs": [
    {
     "name": "stdout",
     "output_type": "stream",
     "text": [
      "Number of nodes: 1\n",
      "Number of edges: 0\n"
     ]
    }
   ],
   "source": [
    "query = 'CREATE (w:Wine {name:\"Prancing Wolf\", style: \"ice wine\", vintage: 2015})'\n",
    "_ = driver.execute_query(query)\n",
    "hneo4j.print_graph_stats(driver)"
   ]
  },
  {
   "cell_type": "markdown",
   "id": "1253af41-6122-4594-b15d-2864cfa433cf",
   "metadata": {},
   "source": [
    "### Performing a query using `driver`"
   ]
  },
  {
   "cell_type": "code",
   "execution_count": 16,
   "id": "3ca3e553-a2a1-4033-b5e0-a790a56f07d1",
   "metadata": {},
   "outputs": [],
   "source": [
    "# `execute_query()` wraps lower level APIs (e.g., Sessions) and it's used for simple cases.\n",
    "query = \"MATCH(n) RETURN COUNT(n) AS node_count\"\n",
    "result = driver.execute_query(query)"
   ]
  },
  {
   "cell_type": "code",
   "execution_count": 20,
   "id": "351769cd-94c7-4e46-93ff-3944c2488113",
   "metadata": {},
   "outputs": [
    {
     "name": "stdout",
     "output_type": "stream",
     "text": [
      "records:\n",
      "    1 [\n",
      "            record=<int> <int> 1\n",
      "    ]\n",
      "keys:\n",
      "    1 [\n",
      "            <str> node_count\n",
      "    ]\n",
      "\n"
     ]
    }
   ],
   "source": [
    "print(to_str(result))"
   ]
  },
  {
   "cell_type": "code",
   "execution_count": null,
   "id": "1462823a-e566-4d9a-87fd-383452d93be3",
   "metadata": {},
   "outputs": [],
   "source": [
    "# The returned object is of type `Result`.\n",
    "print_(result, \"result\")"
   ]
  },
  {
   "cell_type": "markdown",
   "id": "ac66aa68-5f0d-482d-8047-8c1536ae5fec",
   "metadata": {},
   "source": [
    "### "
   ]
  },
  {
   "cell_type": "code",
   "execution_count": null,
   "id": "ce67f994-1736-4cea-bdf7-0c32ec747ec6",
   "metadata": {},
   "outputs": [],
   "source": [
    "result[0][0][\"node_count\"]"
   ]
  },
  {
   "cell_type": "code",
   "execution_count": null,
   "id": "ed0c2d50-2d8f-4629-b4bb-b5b69a3476a9",
   "metadata": {},
   "outputs": [],
   "source": [
    "print(to_str(result[0]))"
   ]
  },
  {
   "cell_type": "code",
   "execution_count": null,
   "id": "e89dcadf-e963-4628-97c7-75f8090648e5",
   "metadata": {},
   "outputs": [],
   "source": [
    "print(to_str(result))"
   ]
  },
  {
   "cell_type": "code",
   "execution_count": null,
   "id": "09d5a556-eaa1-479a-a3b5-00aae672064a",
   "metadata": {},
   "outputs": [],
   "source": [
    "# The result contains information about the query results and summary of the query.\n",
    "records, summary, keys = result\n",
    "\n",
    "# `result.records` is the list of records returned by the query.\n",
    "print_(records, \"records\")\n",
    "print_(summary, \"summary\")\n",
    "# `result.keys` is the list of keys returned by the query.\n",
    "print_(keys, \"keys\")"
   ]
  },
  {
   "cell_type": "code",
   "execution_count": null,
   "id": "7181786a-660f-4be3-aeb9-04b65eb49ed9",
   "metadata": {},
   "outputs": [],
   "source": [
    "# Extract the first `record` returned by the query.\n",
    "print_(records[0])"
   ]
  },
  {
   "cell_type": "code",
   "execution_count": null,
   "id": "9cd551b4-f55e-4f14-8890-9fd7bb394938",
   "metadata": {},
   "outputs": [],
   "source": [
    "# Access the result.\n",
    "records[0][\"node_count\"]"
   ]
  },
  {
   "cell_type": "code",
   "execution_count": null,
   "id": "a40ef7c9-de20-469f-b86e-05e02e5f6bf1",
   "metadata": {},
   "outputs": [],
   "source": [
    "# Return a node.\n",
    "query = \"MATCH(n:Wine) RETURN n\"\n",
    "result = driver.execute_query(query)\n",
    "print_result(result)"
   ]
  },
  {
   "cell_type": "code",
   "execution_count": null,
   "id": "e6a68d36-378c-4bf3-afb7-da37068fe357",
   "metadata": {},
   "outputs": [],
   "source": [
    "records = result[0]\n",
    "print_(records, \"records\")\n",
    "node = records[0][\"n\"]\n",
    "print_(node, \"node\")"
   ]
  },
  {
   "cell_type": "code",
   "execution_count": null,
   "id": "b580d881-9877-4dd5-a64b-fd9349fe8707",
   "metadata": {},
   "outputs": [],
   "source": [
    "#to_str(node)\n",
    "print(to_str(records))\n",
    "#dict(records[0][\"n\"].items())"
   ]
  },
  {
   "cell_type": "code",
   "execution_count": null,
   "id": "ed7762f7-bcaf-4859-8af5-07335364d695",
   "metadata": {},
   "outputs": [],
   "source": [
    "record = result[0][0]"
   ]
  },
  {
   "cell_type": "code",
   "execution_count": null,
   "id": "189731d4-1fb6-4ca1-9915-68323193c423",
   "metadata": {},
   "outputs": [],
   "source": [
    "record.keys()"
   ]
  },
  {
   "cell_type": "code",
   "execution_count": null,
   "id": "82eeec1a-d814-4e06-8318-653a2ecf89cc",
   "metadata": {},
   "outputs": [],
   "source": [
    "# Access the properties of the node.\n",
    "print(node[\"vintage\"])\n",
    "print(node[\"name\"])\n",
    "print(node[\"style\"])"
   ]
  },
  {
   "cell_type": "code",
   "execution_count": null,
   "id": "dfbfb70f-3285-4182-9f5b-00cd9fb4f0dc",
   "metadata": {},
   "outputs": [],
   "source": [
    "# Return records.\n",
    "query = \"MATCH(n:Wine) RETURN n.name AS name, n.style as style\"\n",
    "result = driver.execute_query(query)\n",
    "#\n",
    "records = result[0]\n",
    "print_(records[0], \"records[0]\")\n",
    "#\n",
    "record = records[0]\n",
    "print_(record, \"record\")\n",
    "#print_(record[0])"
   ]
  },
  {
   "cell_type": "markdown",
   "id": "da138982-90ff-4ffd-9d3b-91990b570cc5",
   "metadata": {},
   "source": [
    "## Session"
   ]
  },
  {
   "cell_type": "markdown",
   "id": "6f2cdb7f-9539-4386-90e7-d40fc02e0970",
   "metadata": {},
   "source": [
    "- Database activity is coordinated through `Session`s and `Transaction`s\n",
    "- A `Session` is a container for a number of unit of works\n",
    "    - Provide guarantees of causal consistency\n",
    "    - Are lightweight opeation and not thread safe\n",
    "- A `Transaction` is a unit of work that is either committed in its entirety or rolled back in case of failure"
   ]
  },
  {
   "cell_type": "code",
   "execution_count": null,
   "id": "1f6323de-4967-4092-8d0a-25b5e24f5b2a",
   "metadata": {},
   "outputs": [],
   "source": [
    "# Create `Session`.\n",
    "session = driver.session(database=\"neo4j\")\n",
    "print(\"session.closed()=\", session.closed())\n",
    "\n",
    "# Run a query.\n",
    "query = \"MATCH (n) RETURN n\"\n",
    "_ = session.run(query)\n",
    "\n",
    "# Close `Session`.\n",
    "session.close()\n",
    "print(\"session.closed()=\", session.closed())"
   ]
  },
  {
   "cell_type": "code",
   "execution_count": null,
   "id": "baf5ef86-bd46-4d36-bbc5-6bcab0efefb5",
   "metadata": {},
   "outputs": [],
   "source": [
    "# Session can be created and destroyed using a block context, so that the session is closed\n",
    "# properly in case of exceptions.\n",
    "with driver.session() as session:\n",
    "    result = session.run(\"MATCH (n) RETURN n\")\n",
    "    # ..."
   ]
  },
  {
   "cell_type": "code",
   "execution_count": null,
   "id": "bda29c87-c2cb-432c-828c-f242d50522fc",
   "metadata": {},
   "outputs": [],
   "source": [
    "# Create `Session`.\n",
    "session = driver.session(database=\"neo4j\")\n",
    "print(\"session.closed()=\", session.closed())"
   ]
  },
  {
   "cell_type": "markdown",
   "id": "cd118d0a-2808-4ccd-afde-258904430af0",
   "metadata": {},
   "source": [
    "- `driver.execute_query()` is a higher-level function introduced to simplify query execution,\n",
    "  without needing to manage sessions and transactions explicitly.\n",
    "- `session.run()` is used for executing queries within a specific session and it\n",
    "  provides more control over the session and transaction lifecycle.                                             "
   ]
  },
  {
   "cell_type": "code",
   "execution_count": null,
   "id": "2264d29e-1218-43cc-adc0-7d961f61cad7",
   "metadata": {},
   "outputs": [],
   "source": [
    "# Count the number of nodes.\n",
    "query = \"MATCH(n) RETURN COUNT(n) AS node_count\"\n",
    "\n",
    "result = driver.execute_query(query)\n",
    "print(type(result))\n",
    "print(result)"
   ]
  },
  {
   "cell_type": "markdown",
   "id": "a5b406d6-538d-4e3f-9cd5-d313d2a5d701",
   "metadata": {},
   "source": [
    "- The returned result is typically a `neo4j.Result` object, which encapsulates the records, summary, and keys of the query execution."
   ]
  },
  {
   "cell_type": "code",
   "execution_count": null,
   "id": "c63fc51a-48b3-4dd3-8d9d-8e9bbb3dbfe0",
   "metadata": {},
   "outputs": [],
   "source": [
    "# Parse the result into its components.\n",
    "records, summary, keys = result\n",
    "print(type(records), records)\n",
    "print(type(summary), summary)\n",
    "print(type(keys), keys)"
   ]
  },
  {
   "cell_type": "markdown",
   "id": "c149c3bc-0d6a-4091-ad95-d35dafc6e135",
   "metadata": {},
   "source": [
    "- `neo4j._data.Record` is a class in the Neo4j Python driver that represents a\n",
    "  single row of results returned from a Cypher query\n",
    "- Each `Record` object contains a series of named fields, corresponding to the\n",
    "  columns of the result set"
   ]
  },
  {
   "cell_type": "markdown",
   "id": "244e3c88-7176-4456-b25a-bb160f676044",
   "metadata": {},
   "source": [
    "## Create 2 nodes"
   ]
  },
  {
   "cell_type": "code",
   "execution_count": null,
   "id": "fe644a9a-968d-4b16-aa32-e0bd66817540",
   "metadata": {},
   "outputs": [],
   "source": [
    "hneo4j.print_graph_stats(driver)\n",
    "print(\"Deleting ...\")\n",
    "hneo4j.delete_all(driver)\n",
    "hneo4j.print_graph_stats(driver)"
   ]
  },
  {
   "cell_type": "code",
   "execution_count": null,
   "id": "22c64cee-2fbf-497c-9b0a-e5cc89f52d73",
   "metadata": {},
   "outputs": [],
   "source": [
    "# `w` has `Wine` label and then various properties.\n",
    "query = 'CREATE (w:Wine {name:\"Prancing Wolf\", style: \"ice wine\", vintage: 2015})'\n",
    "_ = driver.execute_query(query)"
   ]
  },
  {
   "cell_type": "code",
   "execution_count": null,
   "id": "eb07e55c-36d5-4143-8320-7b3a6eb98a69",
   "metadata": {},
   "outputs": [],
   "source": [
    "# Create a node representing a publication.\n",
    "query = 'CREATE (p:Publication {name: \"Wine Expert Monthly\"})'\n",
    "_ = driver.execute_query(query)"
   ]
  },
  {
   "cell_type": "code",
   "execution_count": null,
   "id": "ef444624-cfc2-44cb-8b57-f29cb341c294",
   "metadata": {},
   "outputs": [],
   "source": [
    "# Since the publication reports on the wine, we can create an edge.\n",
    "query = '''\n",
    "    MATCH (p:Publication {name: \"Wine Expert Monthly\"}),\n",
    "      (w:Wine {name: \"Prancing Wolf\", vintage: 2015})\n",
    "      CREATE (p)-[r:reported_on]->(w)\n",
    "    '''\n",
    "_ = driver.execute_query(query)"
   ]
  },
  {
   "cell_type": "code",
   "execution_count": null,
   "id": "301c04eb-6ea2-4ef6-9598-bac23b66558e",
   "metadata": {},
   "outputs": [],
   "source": [
    "hneo4j.print_graph_stats(driver)"
   ]
  },
  {
   "cell_type": "code",
   "execution_count": null,
   "id": "7dccc22c-bf5b-43bd-ade1-edcbcadbd424",
   "metadata": {},
   "outputs": [],
   "source": [
    "# Return a node.\n",
    "#query = \"MATCH(n:Wine) RETURN n\"\n",
    "#query = \"MATCH (p:Publication) RETURN p\"\n",
    "query = \"MATCH (p) RETURN p\"\n",
    "result = driver.execute_query(query)\n",
    "#print_result(result)\n",
    "records = result[0]\n",
    "print(len(records), records)"
   ]
  },
  {
   "cell_type": "code",
   "execution_count": null,
   "id": "23b9184c-ce02-47ed-80d1-d3f6f7639b37",
   "metadata": {},
   "outputs": [],
   "source": [
    "def to_str(obj):\n",
    "    if isinstance(obj, Record):\n",
    "        print"
   ]
  },
  {
   "cell_type": "code",
   "execution_count": null,
   "id": "220056a9-b9cc-40d3-860d-08a8dc46445c",
   "metadata": {},
   "outputs": [],
   "source": [
    "# Match a relationship.\n",
    "query = \"\"\"\n",
    "    MATCH ()-[r]-()\n",
    "    RETURN r\n",
    "    \"\"\"\n",
    "result = driver.execute_query(query)\n",
    "#print_result(result)\n",
    "records = result[0]\n",
    "#print(len(records), records)\n",
    "record = records[0]\n",
    "print_(record[0], \"record\")\n",
    "\n",
    "relationship = record[0]\n",
    "assert str(type(relationship)) == \"<class 'abc.reported_on'>\"\n",
    "\n",
    "print(relationship.element_id)\n",
    "# I guess it doesn't want to print/retrieve too much info from the nodes, but only\n",
    "# keeps the internal IDs.\n",
    "print(relationship.start_node)\n",
    "print(relationship.end_node)"
   ]
  },
  {
   "cell_type": "code",
   "execution_count": null,
   "id": "206308b2-ff87-4155-87df-c946cdec22e9",
   "metadata": {},
   "outputs": [],
   "source": [
    "query = \"\"\"\n",
    "    MATCH (a)-[r]->(b)\n",
    "    WHERE a.name = 'Wine Expert Monthly' AND b.name = 'Prancing Wolf'\n",
    "    RETURN r;\n",
    "\"\"\"\n",
    "result = driver.execute_query(query)\n",
    "#print_result(result)\n",
    "records = result[0]\n",
    "print(len(records), records)"
   ]
  },
  {
   "cell_type": "code",
   "execution_count": null,
   "id": "a8e1da07-4dbd-489d-bab3-cb3da688141c",
   "metadata": {},
   "outputs": [],
   "source": [
    "# The edge direction matter, in fact there is no edge \"Prancing Wolf\" -> \"Wine Expert Monthly\",\n",
    "# but only the other direction.\n",
    "query = \"\"\"\n",
    "    MATCH (a)-[r]->(b)\n",
    "    WHERE a.name = 'Prancing Wolf' AND b.name = 'Wine Expert Monthly'\n",
    "    RETURN r;\n",
    "\"\"\"\n",
    "result = driver.execute_query(query)\n",
    "#print_result(result)\n",
    "records = result[0]\n",
    "print(len(records), records)"
   ]
  },
  {
   "cell_type": "code",
   "execution_count": null,
   "id": "5b6c64fd-d669-403b-a307-2a21ed178454",
   "metadata": {},
   "outputs": [],
   "source": [
    "# Search both direction.\n",
    "query = \"\"\"\n",
    "    MATCH (a)-[r]-(b)\n",
    "    WHERE a.name = 'Prancing Wolf' AND b.name = 'Wine Expert Monthly'\n",
    "    RETURN r;\n",
    "\"\"\"\n",
    "result = driver.execute_query(query)\n",
    "#print_result(result)\n",
    "records = result[0]\n",
    "print(len(records), records)"
   ]
  }
 ],
 "metadata": {
  "kernelspec": {
   "display_name": "Python 3 (ipykernel)",
   "language": "python",
   "name": "python3"
  },
  "language_info": {
   "codemirror_mode": {
    "name": "ipython",
    "version": 3
   },
   "file_extension": ".py",
   "mimetype": "text/x-python",
   "name": "python",
   "nbconvert_exporter": "python",
   "pygments_lexer": "ipython3",
   "version": "3.10.12"
  }
 },
 "nbformat": 4,
 "nbformat_minor": 5
}
