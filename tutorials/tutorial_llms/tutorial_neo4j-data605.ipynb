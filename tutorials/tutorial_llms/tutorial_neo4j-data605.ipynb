{
 "cells": [
  {
   "cell_type": "code",
   "execution_count": 1,
   "id": "b3b8948a-0add-46cd-b790-2221811b20cb",
   "metadata": {},
   "outputs": [
    {
     "name": "stdout",
     "output_type": "stream",
     "text": [
      "\u001b[33mWARNING: Running pip as the 'root' user can result in broken permissions and conflicting behaviour with the system package manager, possibly rendering your system unusable.It is recommended to use a virtual environment instead: https://pip.pypa.io/warnings/venv. Use the --root-user-action option if you know what you are doing and want to suppress this warning.\u001b[0m\u001b[33m\n",
      "\u001b[0m"
     ]
    }
   ],
   "source": [
    "!pip install --quiet jupyterlab-vim jupytex\n",
    "!jupyter labextension enable\n",
    "\n",
    "%load_ext autoreload\n",
    "%autoreload 2"
   ]
  },
  {
   "cell_type": "code",
   "execution_count": 2,
   "id": "ee7e0ee2-645a-47c9-ac0c-5830782b607c",
   "metadata": {},
   "outputs": [
    {
     "name": "stdout",
     "output_type": "stream",
     "text": [
      "\u001b[33mWARNING: Running pip as the 'root' user can result in broken permissions and conflicting behaviour with the system package manager, possibly rendering your system unusable.It is recommended to use a virtual environment instead: https://pip.pypa.io/warnings/venv. Use the --root-user-action option if you know what you are doing and want to suppress this warning.\u001b[0m\u001b[33m\n",
      "\u001b[0m"
     ]
    }
   ],
   "source": [
    "!pip install --quiet neo4j"
   ]
  },
  {
   "cell_type": "code",
   "execution_count": 3,
   "id": "ba4afb3d-548b-4bd7-a85c-570d74b95397",
   "metadata": {},
   "outputs": [
    {
     "name": "stdout",
     "output_type": "stream",
     "text": [
      "5.22.0\n"
     ]
    }
   ],
   "source": [
    "import neo4j\n",
    "print(neo4j.__version__)"
   ]
  },
  {
   "cell_type": "code",
   "execution_count": 237,
   "id": "cbc63134-a4d6-4f17-94c0-06a74fdb0f64",
   "metadata": {},
   "outputs": [],
   "source": [
    "import helpers.hdbg as hdbg\n",
    "import helpers.hprint as hprint\n",
    "import hneo4j\n",
    "\n",
    "from hneo4j import to_str, print_\n",
    "\n",
    "# Force reload.\n",
    "# import importlib\n",
    "# importlib.reload(hneo4j)"
   ]
  },
  {
   "cell_type": "markdown",
   "id": "32b57359-8d7e-408e-acde-e1ce6d77323e",
   "metadata": {},
   "source": [
    "# Neo4j"
   ]
  },
  {
   "cell_type": "code",
   "execution_count": 179,
   "id": "3f775e01-735b-4ec9-b220-e25fbc207b44",
   "metadata": {},
   "outputs": [],
   "source": [
    "from neo4j import GraphDatabase, RoutingControl\n",
    "\n",
    "URI = \"neo4j://neo4j:7687\"\n",
    "#URI = \"bolt://neo4j:7687\"\n",
    "AUTH = (\"neo4j\", \"testtest\")\n",
    "\n",
    "# def add_friend(driver, name, friend_name):\n",
    "#     driver.execute_query(\n",
    "#         \"MERGE (a:Person {name: $name}) \"\n",
    "#         \"MERGE (friend:Person {name: $friend_name}) \"\n",
    "#         \"MERGE (a)-[:KNOWS]->(friend)\",\n",
    "#         name=name, friend_name=friend_name, database_=\"neo4j\",\n",
    "#     )\n",
    "\n",
    "\n",
    "# def print_friends(driver, name):\n",
    "#     records, _, _ = driver.execute_query(\n",
    "#         \"MATCH (a:Person)-[:KNOWS]->(friend) WHERE a.name = $name \"\n",
    "#         \"RETURN friend.name ORDER BY friend.name\",\n",
    "#         name=name, database_=\"neo4j\", routing_=RoutingControl.READ,\n",
    "#     )\n",
    "#     for record in records:\n",
    "#         print(record[\"friend.name\"])\n",
    "\n",
    "\n",
    "# with GraphDatabase.driver(URI, auth=AUTH) as driver:\n",
    "#     add_friend(driver, \"Arthur\", \"Guinevere\")\n",
    "#     add_friend(driver, \"Arthur\", \"Lancelot\")\n",
    "#     add_friend(driver, \"Arthur\", \"Merlin\")\n",
    "#     print_friends(driver, \"Arthur\")"
   ]
  },
  {
   "cell_type": "code",
   "execution_count": 180,
   "id": "2faeb943-4dd6-4380-b36b-0be6bb19a633",
   "metadata": {},
   "outputs": [],
   "source": [
    "driver = GraphDatabase.driver(URI, auth=AUTH)"
   ]
  },
  {
   "cell_type": "code",
   "execution_count": 181,
   "id": "296aa074-1aa5-4231-ad99-e56f8e1aaf13",
   "metadata": {},
   "outputs": [
    {
     "name": "stdout",
     "output_type": "stream",
     "text": [
      "Name: Neo4j Kernel, Version: ['5.22.0'], Edition: community\n"
     ]
    }
   ],
   "source": [
    "# Get the Neo4j version\n",
    "hneo4j.print_neo4j_version(driver)"
   ]
  },
  {
   "cell_type": "code",
   "execution_count": 182,
   "id": "55fcd425-a97c-4176-a95c-b78e5e856622",
   "metadata": {},
   "outputs": [],
   "source": [
    "session = driver.session(database=\"neo4j\")"
   ]
  },
  {
   "cell_type": "code",
   "execution_count": 183,
   "id": "1841df4b-349d-4150-9699-03c41c75fdf3",
   "metadata": {},
   "outputs": [],
   "source": [
    "# # TODO(gp): It seems that it's not easy to have multiple DBs in neo4j community edition.\n",
    "# with driver.session(database=\"system\") as session:\n",
    "#     # Run the CREATE DATABASE command\n",
    "#     session.run(f\"CREATE DATABASE {database_name}\")\n",
    "#     print(f\"Database '{database_name}' created successfully.\")\n",
    "\n",
    "# # Example usage\n",
    "# database_name = \"wine\""
   ]
  },
  {
   "cell_type": "code",
   "execution_count": 184,
   "id": "dd6b88e6-ff0c-42ba-81a7-4abceb8b998c",
   "metadata": {},
   "outputs": [
    {
     "name": "stdout",
     "output_type": "stream",
     "text": [
      "Number of nodes: 2\n",
      "Number of edges: 1\n"
     ]
    }
   ],
   "source": [
    "hneo4j.print_graph_stats(driver)"
   ]
  },
  {
   "cell_type": "markdown",
   "id": "71ebb133-e3b4-456b-9116-19b56af7e6af",
   "metadata": {},
   "source": [
    "# Example"
   ]
  },
  {
   "cell_type": "markdown",
   "id": "7663a899-e9be-4f46-8728-5e18ffbf3d00",
   "metadata": {},
   "source": [
    "- Every application using Neo4j needs a `driver` object\n",
    "- A `driver` object holds the details to the connection to a Neo4j database (e.g., URIs, credentials, and configuration)."
   ]
  },
  {
   "cell_type": "code",
   "execution_count": 185,
   "id": "866c0394-baef-46bd-aa31-edfe24632da0",
   "metadata": {},
   "outputs": [],
   "source": [
    "# Test the connection to the DB without executing any query.\n",
    "driver.verify_connectivity()"
   ]
  },
  {
   "cell_type": "code",
   "execution_count": 186,
   "id": "8aa43a77-7892-4a70-b6f1-2d055f05ad25",
   "metadata": {},
   "outputs": [
    {
     "data": {
      "text/plain": [
       "<neo4j.api.ServerInfo at 0xffff5e29b250>"
      ]
     },
     "execution_count": 186,
     "metadata": {},
     "output_type": "execute_result"
    }
   ],
   "source": [
    "driver.get_server_info()"
   ]
  },
  {
   "cell_type": "markdown",
   "id": "b9e17645-cb56-473e-b78f-4fb7100e544b",
   "metadata": {},
   "source": [
    "### Populate the graph with one node."
   ]
  },
  {
   "cell_type": "code",
   "execution_count": 187,
   "id": "8382dfa5-410a-4055-b6d3-f2a0c6e5e387",
   "metadata": {},
   "outputs": [
    {
     "name": "stdout",
     "output_type": "stream",
     "text": [
      "Number of nodes: 2\n",
      "Number of edges: 1\n",
      "Deleting ...\n",
      "Number of nodes: 0\n",
      "Number of edges: 0\n"
     ]
    }
   ],
   "source": [
    "hneo4j.print_graph_stats(driver)\n",
    "print(\"Deleting ...\")\n",
    "hneo4j.delete_all(driver)\n",
    "hneo4j.print_graph_stats(driver)"
   ]
  },
  {
   "cell_type": "code",
   "execution_count": 188,
   "id": "fa672150-d1f4-4021-90f4-04fa58feb798",
   "metadata": {},
   "outputs": [
    {
     "name": "stdout",
     "output_type": "stream",
     "text": [
      "Number of nodes: 1\n",
      "Number of edges: 0\n"
     ]
    }
   ],
   "source": [
    "query = 'CREATE (w:Wine {name:\"Prancing Wolf\", style: \"ice wine\", vintage: 2015})'\n",
    "_ = driver.execute_query(query)\n",
    "hneo4j.print_graph_stats(driver)"
   ]
  },
  {
   "cell_type": "markdown",
   "id": "1253af41-6122-4594-b15d-2864cfa433cf",
   "metadata": {},
   "source": [
    "## Performing a query using `driver`"
   ]
  },
  {
   "cell_type": "markdown",
   "id": "7d2387a9-e6d8-4a3a-b2ef-37a21f10f273",
   "metadata": {},
   "source": [
    "### Query returning the number of nodes"
   ]
  },
  {
   "cell_type": "code",
   "execution_count": 189,
   "id": "3ca3e553-a2a1-4033-b5e0-a790a56f07d1",
   "metadata": {},
   "outputs": [],
   "source": [
    "# `execute_query()` wraps lower level APIs (e.g., Sessions) and it's used for simple cases.\n",
    "query = \"MATCH(n) RETURN COUNT(n) AS node_count\"\n",
    "result = driver.execute_query(query)\n",
    "\n",
    "# The returned object is of type `Result`.\n",
    "hdbg.dassert_isinstance(result, neo4j.EagerResult)"
   ]
  },
  {
   "cell_type": "code",
   "execution_count": 190,
   "id": "351769cd-94c7-4e46-93ff-3944c2488113",
   "metadata": {},
   "outputs": [
    {
     "name": "stdout",
     "output_type": "stream",
     "text": [
      "records:\n",
      "  1 [\n",
      "      1 [\n",
      "      <str> node_count ->\n",
      "            <int> 1\n",
      "      ]\n",
      "\n",
      "  ]\n",
      "keys:\n",
      "  1 [\n",
      "      <str> node_count\n",
      "  ]\n",
      "\n"
     ]
    }
   ],
   "source": [
    "print(to_str(result))"
   ]
  },
  {
   "cell_type": "code",
   "execution_count": 154,
   "id": "ce67f994-1736-4cea-bdf7-0c32ec747ec6",
   "metadata": {},
   "outputs": [
    {
     "data": {
      "text/plain": [
       "1"
      ]
     },
     "execution_count": 154,
     "metadata": {},
     "output_type": "execute_result"
    }
   ],
   "source": [
    "result[0][0][\"node_count\"]"
   ]
  },
  {
   "cell_type": "code",
   "execution_count": 155,
   "id": "09d5a556-eaa1-479a-a3b5-00aae672064a",
   "metadata": {},
   "outputs": [
    {
     "name": "stdout",
     "output_type": "stream",
     "text": [
      "\u001b[1mrecords\u001b[0m= <class 'list'> [\u001b[38;5;241m<\u001b[39mRecord node_count\u001b[38;5;241m=\u001b[39m\u001b[38;5;241m1\u001b[39m\u001b[38;5;241m>\u001b[39m]\n",
      "\u001b[1msummary\u001b[0m= <class 'neo4j._work.summary.ResultSummary'> \u001b[38;5;241m<\u001b[39mneo4j\u001b[38;5;241m.\u001b[39m_work\u001b[38;5;241m.\u001b[39msummary\u001b[38;5;241m.\u001b[39mResultSummary \u001b[38;5;28mobject\u001b[39m at \u001b[38;5;241m0xffff5e2994e0\u001b[39m\u001b[38;5;241m>\u001b[39m\n",
      "\u001b[1mkeys\u001b[0m= <class 'list'> [\u001b[38;5;124m'\u001b[39m\u001b[38;5;124mnode_count\u001b[39m\u001b[38;5;124m'\u001b[39m]\n"
     ]
    }
   ],
   "source": [
    "# The result contains information about the query results and summary of the query.\n",
    "records, summary, keys = result\n",
    "\n",
    "# `result.records` is the list of records returned by the query.\n",
    "print_(records, \"records\")\n",
    "print_(summary, \"summary\")\n",
    "# `result.keys` is the list of keys returned by the query.\n",
    "print_(keys, \"keys\")"
   ]
  },
  {
   "cell_type": "code",
   "execution_count": 156,
   "id": "7181786a-660f-4be3-aeb9-04b65eb49ed9",
   "metadata": {},
   "outputs": [
    {
     "name": "stdout",
     "output_type": "stream",
     "text": [
      "<class 'neo4j._data.Record'> \u001b[38;5;241m<\u001b[39mRecord node_count\u001b[38;5;241m=\u001b[39m\u001b[38;5;241m1\u001b[39m\u001b[38;5;241m>\u001b[39m\n"
     ]
    }
   ],
   "source": [
    "# Extract the first `record` returned by the query.\n",
    "print_(records[0])"
   ]
  },
  {
   "cell_type": "code",
   "execution_count": 157,
   "id": "9cd551b4-f55e-4f14-8890-9fd7bb394938",
   "metadata": {},
   "outputs": [
    {
     "data": {
      "text/plain": [
       "1"
      ]
     },
     "execution_count": 157,
     "metadata": {},
     "output_type": "execute_result"
    }
   ],
   "source": [
    "# Access the result.\n",
    "records[0][\"node_count\"]"
   ]
  },
  {
   "cell_type": "markdown",
   "id": "e021536e-54ea-46cf-b13f-5f0838801902",
   "metadata": {},
   "source": [
    "### Query matching a node"
   ]
  },
  {
   "cell_type": "code",
   "execution_count": 158,
   "id": "a40ef7c9-de20-469f-b86e-05e02e5f6bf1",
   "metadata": {},
   "outputs": [
    {
     "name": "stdout",
     "output_type": "stream",
     "text": [
      "records:\n",
      "  1 [\n",
      "      1 [\n",
      "      <str> n ->\n",
      "              label=['Wine']\n",
      "              properties={'name': 'Prancing Wolf', 'style': 'ice wine', 'vintage': 2015}\n",
      "\n",
      "      ]\n",
      "\n",
      "  ]\n",
      "keys:\n",
      "  1 [\n",
      "      <str> n\n",
      "  ]\n",
      "\n"
     ]
    }
   ],
   "source": [
    "# Return a node.\n",
    "query = \"MATCH(n:Wine) RETURN n\"\n",
    "result = driver.execute_query(query)\n",
    "print(to_str(result))"
   ]
  },
  {
   "cell_type": "code",
   "execution_count": 159,
   "id": "e6a68d36-378c-4bf3-afb7-da37068fe357",
   "metadata": {},
   "outputs": [
    {
     "name": "stdout",
     "output_type": "stream",
     "text": [
      "\u001b[1mrecords\u001b[0m= <class 'list'> [\u001b[38;5;241m<\u001b[39mRecord n\u001b[38;5;241m=\u001b[39m\u001b[38;5;241m<\u001b[39mNode element_id\u001b[38;5;241m=\u001b[39m\u001b[38;5;124m'\u001b[39m\u001b[38;5;124m4:907b90c5-77b7-40ee-bd2b-900a55534cf9:33\u001b[39m\u001b[38;5;124m'\u001b[39m labels\u001b[38;5;241m=\u001b[39m\u001b[38;5;28mfrozenset\u001b[39m({\u001b[38;5;124m'\u001b[39m\u001b[38;5;124mWine\u001b[39m\u001b[38;5;124m'\u001b[39m}) properties\u001b[38;5;241m=\u001b[39m{\u001b[38;5;124m'\u001b[39m\u001b[38;5;124mvintage\u001b[39m\u001b[38;5;124m'\u001b[39m: \u001b[38;5;241m2015\u001b[39m, \u001b[38;5;124m'\u001b[39m\u001b[38;5;124mname\u001b[39m\u001b[38;5;124m'\u001b[39m: \u001b[38;5;124m'\u001b[39m\u001b[38;5;124mPrancing Wolf\u001b[39m\u001b[38;5;124m'\u001b[39m, \u001b[38;5;124m'\u001b[39m\u001b[38;5;124mstyle\u001b[39m\u001b[38;5;124m'\u001b[39m: \u001b[38;5;124m'\u001b[39m\u001b[38;5;124mice wine\u001b[39m\u001b[38;5;124m'\u001b[39m}\u001b[38;5;241m>>\u001b[39m]\n",
      "\u001b[1mnode\u001b[0m= <class 'neo4j.graph.Node'> \u001b[38;5;241m<\u001b[39mNode element_id\u001b[38;5;241m=\u001b[39m\u001b[38;5;124m'\u001b[39m\u001b[38;5;124m4:907b90c5-77b7-40ee-bd2b-900a55534cf9:33\u001b[39m\u001b[38;5;124m'\u001b[39m labels\u001b[38;5;241m=\u001b[39m\u001b[38;5;28mfrozenset\u001b[39m({\u001b[38;5;124m'\u001b[39m\u001b[38;5;124mWine\u001b[39m\u001b[38;5;124m'\u001b[39m}) properties\u001b[38;5;241m=\u001b[39m{\u001b[38;5;124m'\u001b[39m\u001b[38;5;124mvintage\u001b[39m\u001b[38;5;124m'\u001b[39m: \u001b[38;5;241m2015\u001b[39m, \u001b[38;5;124m'\u001b[39m\u001b[38;5;124mname\u001b[39m\u001b[38;5;124m'\u001b[39m: \u001b[38;5;124m'\u001b[39m\u001b[38;5;124mPrancing Wolf\u001b[39m\u001b[38;5;124m'\u001b[39m, \u001b[38;5;124m'\u001b[39m\u001b[38;5;124mstyle\u001b[39m\u001b[38;5;124m'\u001b[39m: \u001b[38;5;124m'\u001b[39m\u001b[38;5;124mice wine\u001b[39m\u001b[38;5;124m'\u001b[39m}\u001b[38;5;241m>\u001b[39m\n"
     ]
    }
   ],
   "source": [
    "records = result[0]\n",
    "print_(records, \"records\")\n",
    "node = records[0][\"n\"]\n",
    "print_(node, \"node\")"
   ]
  },
  {
   "cell_type": "code",
   "execution_count": 160,
   "id": "b580d881-9877-4dd5-a64b-fd9349fe8707",
   "metadata": {},
   "outputs": [
    {
     "name": "stdout",
     "output_type": "stream",
     "text": [
      "1 [\n",
      "  1 [\n",
      "  <str> n ->\n",
      "        label=['Wine']\n",
      "        properties={'name': 'Prancing Wolf', 'style': 'ice wine', 'vintage': 2015}\n",
      "\n",
      "  ]\n",
      "\n",
      "]\n",
      "\n"
     ]
    }
   ],
   "source": [
    "print(to_str(records))"
   ]
  },
  {
   "cell_type": "code",
   "execution_count": 162,
   "id": "82eeec1a-d814-4e06-8318-653a2ecf89cc",
   "metadata": {},
   "outputs": [
    {
     "name": "stdout",
     "output_type": "stream",
     "text": [
      "2015\n",
      "Prancing Wolf\n",
      "ice wine\n"
     ]
    }
   ],
   "source": [
    "# Access the properties of the node.\n",
    "print(node[\"vintage\"])\n",
    "print(node[\"name\"])\n",
    "print(node[\"style\"])"
   ]
  },
  {
   "cell_type": "markdown",
   "id": "176ee435-8417-487b-8cb8-fe65eb6b6edd",
   "metadata": {},
   "source": [
    "### Query returning multiple records"
   ]
  },
  {
   "cell_type": "code",
   "execution_count": 163,
   "id": "dfbfb70f-3285-4182-9f5b-00cd9fb4f0dc",
   "metadata": {},
   "outputs": [
    {
     "name": "stdout",
     "output_type": "stream",
     "text": [
      "records:\n",
      "  1 [\n",
      "      2 [\n",
      "      <str> name ->\n",
      "            <str> Prancing Wolf\n",
      "      <str> style ->\n",
      "            <str> ice wine\n",
      "      ]\n",
      "\n",
      "  ]\n",
      "keys:\n",
      "  2 [\n",
      "      <str> name\n",
      "      <str> style\n",
      "  ]\n",
      "\n"
     ]
    }
   ],
   "source": [
    "# Return records.\n",
    "query = \"MATCH(n:Wine) RETURN n.name AS name, n.style as style\"\n",
    "result = driver.execute_query(query)\n",
    "print(to_str(result))"
   ]
  },
  {
   "cell_type": "markdown",
   "id": "da138982-90ff-4ffd-9d3b-91990b570cc5",
   "metadata": {},
   "source": [
    "## Session"
   ]
  },
  {
   "cell_type": "markdown",
   "id": "6f2cdb7f-9539-4386-90e7-d40fc02e0970",
   "metadata": {},
   "source": [
    "- Database activity is coordinated through `Session`s and `Transaction`s\n",
    "- A `Session` is a container for a number of unit of works\n",
    "    - Provide guarantees of causal consistency\n",
    "    - Are lightweight opeation and not thread safe\n",
    "- A `Transaction` is a unit of work that is either committed in its entirety or rolled back in case of failure"
   ]
  },
  {
   "cell_type": "code",
   "execution_count": null,
   "id": "1f6323de-4967-4092-8d0a-25b5e24f5b2a",
   "metadata": {},
   "outputs": [],
   "source": [
    "# Create `Session`.\n",
    "session = driver.session(database=\"neo4j\")\n",
    "print(\"session.closed()=\", session.closed())\n",
    "\n",
    "# Run a query.\n",
    "query = \"MATCH (n) RETURN n\"\n",
    "_ = session.run(query)\n",
    "\n",
    "# Close `Session`.\n",
    "session.close()\n",
    "print(\"session.closed()=\", session.closed())"
   ]
  },
  {
   "cell_type": "code",
   "execution_count": null,
   "id": "baf5ef86-bd46-4d36-bbc5-6bcab0efefb5",
   "metadata": {},
   "outputs": [],
   "source": [
    "# Session can be created and destroyed using a block context, so that the session is closed\n",
    "# properly in case of exceptions.\n",
    "with driver.session() as session:\n",
    "    result = session.run(\"MATCH (n) RETURN n\")\n",
    "    # ..."
   ]
  },
  {
   "cell_type": "code",
   "execution_count": null,
   "id": "bda29c87-c2cb-432c-828c-f242d50522fc",
   "metadata": {},
   "outputs": [],
   "source": [
    "# Create `Session`.\n",
    "session = driver.session(database=\"neo4j\")\n",
    "print(\"session.closed()=\", session.closed())"
   ]
  },
  {
   "cell_type": "markdown",
   "id": "cd118d0a-2808-4ccd-afde-258904430af0",
   "metadata": {},
   "source": [
    "- `driver.execute_query()` is a higher-level function introduced to simplify query execution,\n",
    "  without needing to manage sessions and transactions explicitly.\n",
    "- `session.run()` is used for executing queries within a specific session and it\n",
    "  provides more control over the session and transaction lifecycle.                                             "
   ]
  },
  {
   "cell_type": "code",
   "execution_count": null,
   "id": "2264d29e-1218-43cc-adc0-7d961f61cad7",
   "metadata": {},
   "outputs": [],
   "source": [
    "# Count the number of nodes.\n",
    "query = \"MATCH(n) RETURN COUNT(n) AS node_count\"\n",
    "\n",
    "result = driver.execute_query(query)\n",
    "print(type(result))\n",
    "print(result)"
   ]
  },
  {
   "cell_type": "markdown",
   "id": "a5b406d6-538d-4e3f-9cd5-d313d2a5d701",
   "metadata": {},
   "source": [
    "- The returned result is typically a `neo4j.Result` object, which encapsulates the records, summary, and keys of the query execution."
   ]
  },
  {
   "cell_type": "code",
   "execution_count": null,
   "id": "c63fc51a-48b3-4dd3-8d9d-8e9bbb3dbfe0",
   "metadata": {},
   "outputs": [],
   "source": [
    "# Parse the result into its components.\n",
    "records, summary, keys = result\n",
    "print(type(records), records)\n",
    "print(type(summary), summary)\n",
    "print(type(keys), keys)"
   ]
  },
  {
   "cell_type": "markdown",
   "id": "c149c3bc-0d6a-4091-ad95-d35dafc6e135",
   "metadata": {},
   "source": [
    "- `neo4j._data.Record` is a class in the Neo4j Python driver that represents a\n",
    "  single row of results returned from a Cypher query\n",
    "- Each `Record` object contains a series of named fields, corresponding to the\n",
    "  columns of the result set"
   ]
  },
  {
   "cell_type": "markdown",
   "id": "244e3c88-7176-4456-b25a-bb160f676044",
   "metadata": {},
   "source": [
    "## Create 2 nodes"
   ]
  },
  {
   "cell_type": "code",
   "execution_count": 191,
   "id": "fe644a9a-968d-4b16-aa32-e0bd66817540",
   "metadata": {},
   "outputs": [
    {
     "name": "stdout",
     "output_type": "stream",
     "text": [
      "Number of nodes: 1\n",
      "Number of edges: 0\n",
      "Deleting ...\n",
      "Number of nodes: 0\n",
      "Number of edges: 0\n"
     ]
    }
   ],
   "source": [
    "hneo4j.print_graph_stats(driver)\n",
    "print(\"Deleting ...\")\n",
    "hneo4j.delete_all(driver)\n",
    "hneo4j.print_graph_stats(driver)"
   ]
  },
  {
   "cell_type": "code",
   "execution_count": 192,
   "id": "22c64cee-2fbf-497c-9b0a-e5cc89f52d73",
   "metadata": {},
   "outputs": [],
   "source": [
    "# `w` has `Wine` label and then various properties.\n",
    "query = 'CREATE (w:Wine {name:\"Prancing Wolf\", style: \"ice wine\", vintage: 2015})'\n",
    "_ = driver.execute_query(query)"
   ]
  },
  {
   "cell_type": "code",
   "execution_count": 193,
   "id": "eb07e55c-36d5-4143-8320-7b3a6eb98a69",
   "metadata": {},
   "outputs": [],
   "source": [
    "# Create a node representing a publication.\n",
    "query = 'CREATE (p:Publication {name: \"Wine Expert Monthly\"})'\n",
    "_ = driver.execute_query(query)"
   ]
  },
  {
   "cell_type": "code",
   "execution_count": 194,
   "id": "ef444624-cfc2-44cb-8b57-f29cb341c294",
   "metadata": {},
   "outputs": [],
   "source": [
    "# Since the publication reports on the wine, we can create an edge.\n",
    "query = '''\n",
    "    MATCH (p:Publication {name: \"Wine Expert Monthly\"}),\n",
    "      (w:Wine {name: \"Prancing Wolf\", vintage: 2015})\n",
    "      CREATE (p)-[r:reported_on]->(w)\n",
    "    '''\n",
    "_ = driver.execute_query(query)"
   ]
  },
  {
   "cell_type": "code",
   "execution_count": 195,
   "id": "301c04eb-6ea2-4ef6-9598-bac23b66558e",
   "metadata": {},
   "outputs": [
    {
     "name": "stdout",
     "output_type": "stream",
     "text": [
      "Number of nodes: 2\n",
      "Number of edges: 1\n"
     ]
    }
   ],
   "source": [
    "hneo4j.print_graph_stats(driver)"
   ]
  },
  {
   "cell_type": "markdown",
   "id": "7a1a53da-b89d-4ef3-bfde-5dc4b0e51fd6",
   "metadata": {},
   "source": [
    "### Query matching 2 nodes"
   ]
  },
  {
   "cell_type": "code",
   "execution_count": 199,
   "id": "7dccc22c-bf5b-43bd-ade1-edcbcadbd424",
   "metadata": {},
   "outputs": [
    {
     "name": "stdout",
     "output_type": "stream",
     "text": [
      "records:\n",
      "  2 [\n",
      "      1 [\n",
      "      <str> p ->\n",
      "              label=['Wine']\n",
      "              properties={'name': 'Prancing Wolf', 'style': 'ice wine', 'vintage': 2015}\n",
      "\n",
      "      ]\n",
      "\n",
      "      1 [\n",
      "      <str> p ->\n",
      "              label=['Publication']\n",
      "              properties={'name': 'Wine Expert Monthly'}\n",
      "\n",
      "      ]\n",
      "\n",
      "  ]\n",
      "keys:\n",
      "  1 [\n",
      "      <str> p\n",
      "  ]\n",
      "\n"
     ]
    }
   ],
   "source": [
    "# Return a node.\n",
    "#query = \"MATCH(n:Wine) RETURN n\"\n",
    "#query = \"MATCH (p:Publication) RETURN p\"\n",
    "query = \"MATCH (p) RETURN p\"\n",
    "result = driver.execute_query(query)\n",
    "print(to_str(result))"
   ]
  },
  {
   "cell_type": "markdown",
   "id": "8b75d6fe-b12d-4b20-b94a-6ea2295c2ead",
   "metadata": {},
   "source": [
    "### Match a relationship"
   ]
  },
  {
   "cell_type": "code",
   "execution_count": 212,
   "id": "220056a9-b9cc-40d3-860d-08a8dc46445c",
   "metadata": {},
   "outputs": [
    {
     "name": "stdout",
     "output_type": "stream",
     "text": [
      "\u001b[1mrecord\u001b[0m= <class 'abc.reported_on'> \u001b[38;5;241m<\u001b[39mRelationship element_id\u001b[38;5;241m=\u001b[39m\u001b[38;5;124m'\u001b[39m\u001b[38;5;124m5:907b90c5-77b7-40ee-bd2b-900a55534cf9:48286\u001b[39m\u001b[38;5;124m'\u001b[39m nodes\u001b[38;5;241m=\u001b[39m(\u001b[38;5;241m<\u001b[39mNode element_id\u001b[38;5;241m=\u001b[39m\u001b[38;5;124m'\u001b[39m\u001b[38;5;124m4:907b90c5-77b7-40ee-bd2b-900a55534cf9:38\u001b[39m\u001b[38;5;124m'\u001b[39m labels\u001b[38;5;241m=\u001b[39m\u001b[38;5;28mfrozenset\u001b[39m() properties\u001b[38;5;241m=\u001b[39m{}\u001b[38;5;241m>\u001b[39m, \u001b[38;5;241m<\u001b[39mNode element_id\u001b[38;5;241m=\u001b[39m\u001b[38;5;124m'\u001b[39m\u001b[38;5;124m4:907b90c5-77b7-40ee-bd2b-900a55534cf9:37\u001b[39m\u001b[38;5;124m'\u001b[39m labels\u001b[38;5;241m=\u001b[39m\u001b[38;5;28mfrozenset\u001b[39m() properties\u001b[38;5;241m=\u001b[39m{}\u001b[38;5;241m>\u001b[39m) \u001b[38;5;28mtype\u001b[39m\u001b[38;5;241m=\u001b[39m\u001b[38;5;124m'\u001b[39m\u001b[38;5;124mreported_on\u001b[39m\u001b[38;5;124m'\u001b[39m properties\u001b[38;5;241m=\u001b[39m{}\u001b[38;5;241m>\u001b[39m\n",
      "5:907b90c5-77b7-40ee-bd2b-900a55534cf9:48286\n",
      "['__abstractmethods__', '__annotations__', '__class__', '__class_getitem__', '__contains__', '__delattr__', '__dict__', '__dir__', '__doc__', '__eq__', '__format__', '__ge__', '__getattribute__', '__getitem__', '__gt__', '__hash__', '__init__', '__init_subclass__', '__iter__', '__le__', '__len__', '__lt__', '__module__', '__ne__', '__new__', '__orig_bases__', '__parameters__', '__reduce__', '__reduce_ex__', '__repr__', '__reversed__', '__setattr__', '__sizeof__', '__slots__', '__str__', '__subclasshook__', '__weakref__', '_abc_impl', '_element_id', '_end_node', '_graph', '_id', '_is_protocol', '_properties', '_start_node', 'element_id', 'end_node', 'get', 'graph', 'id', 'items', 'keys', 'nodes', 'start_node', 'type', 'values']\n",
      "<Node element_id='4:907b90c5-77b7-40ee-bd2b-900a55534cf9:38' labels=frozenset() properties={}>\n",
      "<Node element_id='4:907b90c5-77b7-40ee-bd2b-900a55534cf9:37' labels=frozenset() properties={}>\n"
     ]
    }
   ],
   "source": [
    "# Match a relationship.\n",
    "query = \"\"\"\n",
    "    MATCH ()-[r]-()\n",
    "    RETURN r\n",
    "    \"\"\"\n",
    "result = driver.execute_query(query)\n",
    "#print_result(result)\n",
    "records = result[0]\n",
    "#print(len(records), records)\n",
    "record = records[0]\n",
    "print_(record[0], \"record\")\n",
    "\n",
    "relationship = record[0]\n",
    "assert str(type(relationship)) == \"<class 'abc.reported_on'>\"\n",
    "\n",
    "print(relationship.element_id)\n",
    "# I guess it doesn't want to print/retrieve too much info from the nodes, but only\n",
    "# keeps the internal IDs.\n",
    "print(dir(relationship))\n",
    "print(relationship.start_node)\n",
    "print(relationship.end_node)"
   ]
  },
  {
   "cell_type": "code",
   "execution_count": 220,
   "id": "8c632f21-2b9a-4d6c-818e-dc34a36b29be",
   "metadata": {},
   "outputs": [
    {
     "name": "stdout",
     "output_type": "stream",
     "text": [
      "<bound method Entity.values of <Relationship element_id='5:907b90c5-77b7-40ee-bd2b-900a55534cf9:48286' nodes=(<Node element_id='4:907b90c5-77b7-40ee-bd2b-900a55534cf9:38' labels=frozenset() properties={}>, <Node element_id='4:907b90c5-77b7-40ee-bd2b-900a55534cf9:37' labels=frozenset() properties={}>) type='reported_on' properties={}>>\n"
     ]
    }
   ],
   "source": [
    "print(relationship.values)"
   ]
  },
  {
   "cell_type": "code",
   "execution_count": 210,
   "id": "206308b2-ff87-4155-87df-c946cdec22e9",
   "metadata": {},
   "outputs": [
    {
     "name": "stdout",
     "output_type": "stream",
     "text": [
      "records:\n",
      "  1 [\n",
      "      1 [\n",
      "      <str> r ->\n",
      "              start_node=  label=[]\n",
      "              properties={}\n",
      "              end_node=  label=[]\n",
      "              properties={}\n",
      "              type=<str> reported_on  properties={}\n",
      "\n",
      "      ]\n",
      "\n",
      "  ]\n",
      "keys:\n",
      "  1 [\n",
      "      <str> r\n",
      "  ]\n",
      "\n"
     ]
    }
   ],
   "source": [
    "query = \"\"\"\n",
    "    MATCH (a)-[r]->(b)\n",
    "    WHERE a.name = 'Wine Expert Monthly' AND b.name = 'Prancing Wolf'\n",
    "    RETURN r;\n",
    "\"\"\"\n",
    "result = driver.execute_query(query)\n",
    "print(to_str(result))"
   ]
  },
  {
   "cell_type": "code",
   "execution_count": 205,
   "id": "a8e1da07-4dbd-489d-bab3-cb3da688141c",
   "metadata": {},
   "outputs": [
    {
     "name": "stdout",
     "output_type": "stream",
     "text": [
      "records:\n",
      "  0 [\n",
      "  ]\n",
      "keys:\n",
      "  1 [\n",
      "      <str> r\n",
      "  ]\n",
      "\n"
     ]
    }
   ],
   "source": [
    "# The edge direction matter, in fact there is no edge \"Prancing Wolf\" -> \"Wine Expert Monthly\",\n",
    "# but only the other direction.\n",
    "query = \"\"\"\n",
    "    MATCH (a)-[r]->(b)\n",
    "    WHERE a.name = 'Prancing Wolf' AND b.name = 'Wine Expert Monthly'\n",
    "    RETURN r;\n",
    "\"\"\"\n",
    "result = driver.execute_query(query)\n",
    "print(to_str(result))"
   ]
  },
  {
   "cell_type": "code",
   "execution_count": 243,
   "id": "5b6c64fd-d669-403b-a307-2a21ed178454",
   "metadata": {},
   "outputs": [
    {
     "name": "stdout",
     "output_type": "stream",
     "text": [
      "\u001b[1mrecords\u001b[0m= <class 'list'> [\u001b[38;5;241m<\u001b[39mRecord r\u001b[38;5;241m=\u001b[39m\u001b[38;5;241m<\u001b[39mRelationship element_id\u001b[38;5;241m=\u001b[39m\u001b[38;5;124m'\u001b[39m\u001b[38;5;124m5:907b90c5-77b7-40ee-bd2b-900a55534cf9:48286\u001b[39m\u001b[38;5;124m'\u001b[39m nodes\u001b[38;5;241m=\u001b[39m(\u001b[38;5;241m<\u001b[39mNode element_id\u001b[38;5;241m=\u001b[39m\u001b[38;5;124m'\u001b[39m\u001b[38;5;124m4:907b90c5-77b7-40ee-bd2b-900a55534cf9:38\u001b[39m\u001b[38;5;124m'\u001b[39m labels\u001b[38;5;241m=\u001b[39m\u001b[38;5;28mfrozenset\u001b[39m() properties\u001b[38;5;241m=\u001b[39m{}\u001b[38;5;241m>\u001b[39m, \u001b[38;5;241m<\u001b[39mNode element_id\u001b[38;5;241m=\u001b[39m\u001b[38;5;124m'\u001b[39m\u001b[38;5;124m4:907b90c5-77b7-40ee-bd2b-900a55534cf9:37\u001b[39m\u001b[38;5;124m'\u001b[39m labels\u001b[38;5;241m=\u001b[39m\u001b[38;5;28mfrozenset\u001b[39m() properties\u001b[38;5;241m=\u001b[39m{}\u001b[38;5;241m>\u001b[39m) \u001b[38;5;28mtype\u001b[39m\u001b[38;5;241m=\u001b[39m\u001b[38;5;124m'\u001b[39m\u001b[38;5;124mreported_on\u001b[39m\u001b[38;5;124m'\u001b[39m properties\u001b[38;5;241m=\u001b[39m{}\u001b[38;5;241m>>\u001b[39m]\n",
      "\u001b[1msummary\u001b[0m= <class 'neo4j._work.summary.ResultSummary'> \u001b[38;5;241m<\u001b[39mneo4j\u001b[38;5;241m.\u001b[39m_work\u001b[38;5;241m.\u001b[39msummary\u001b[38;5;241m.\u001b[39mResultSummary \u001b[38;5;28mobject\u001b[39m at \u001b[38;5;241m0xffff5dd1ab30\u001b[39m\u001b[38;5;241m>\u001b[39m\n",
      "\u001b[1mkeys\u001b[0m= <class 'list'> [\u001b[38;5;124m'\u001b[39m\u001b[38;5;124mr\u001b[39m\u001b[38;5;124m'\u001b[39m]\n",
      "relationship_id='5:907b90c5-77b7-40ee-bd2b-900a55534cf9:48286'\n",
      "start_node='4:907b90c5-77b7-40ee-bd2b-900a55534cf9:38'\n",
      "end_node='4:907b90c5-77b7-40ee-bd2b-900a55534cf9:37'\n"
     ]
    }
   ],
   "source": [
    "# Search both direction.\n",
    "query = \"\"\"\n",
    "    MATCH (a)-[r]-(b)\n",
    "    WHERE a.name = 'Prancing Wolf' AND b.name = 'Wine Expert Monthly'\n",
    "    RETURN r;\n",
    "\"\"\"\n",
    "result = driver.execute_query(query)\n",
    "hneo4j.print_result(result)\n",
    "\n",
    "# Store the relationship id for the next query.\n",
    "relationship_id = result[0][0][\"r\"].element_id\n",
    "print(hprint.to_str(\"relationship_id\"))\n",
    "\n",
    "start_node = result[0][0][\"r\"].start_node.element_id\n",
    "print(hprint.to_str(\"start_node\"))\n",
    "\n",
    "end_node = result[0][0][\"r\"].end_node.element_id\n",
    "print(hprint.to_str(\"end_node\"))"
   ]
  },
  {
   "cell_type": "code",
   "execution_count": 244,
   "id": "ca45cde9-dd86-48e7-9526-80d2079d7272",
   "metadata": {},
   "outputs": [
    {
     "name": "stdout",
     "output_type": "stream",
     "text": [
      "EagerResult(records=[<Record start_node=<Node element_id='4:907b90c5-77b7-40ee-bd2b-900a55534cf9:38' labels=frozenset({'Publication'}) properties={'name': 'Wine Expert Monthly'}> end_node=<Node element_id='4:907b90c5-77b7-40ee-bd2b-900a55534cf9:37' labels=frozenset({'Wine'}) properties={'vintage': 2015, 'name': 'Prancing Wolf', 'style': 'ice wine'}>>], summary=<neo4j._work.summary.ResultSummary object at 0xffff5dbe6f80>, keys=['start_node', 'end_node'])\n"
     ]
    }
   ],
   "source": [
    "# Find the relationship by element_id.\n",
    "query = \"\"\"\n",
    "    MATCH ()-[r]->()\n",
    "    WHERE elementId(r) = $relationship_id\n",
    "    RETURN startNode(r) AS start_node, endNode(r) AS end_node\n",
    "    \"\"\"\n",
    "result = driver.execute_query(query, relationship_id=relationship_id)\n",
    "print(result)"
   ]
  },
  {
   "cell_type": "code",
   "execution_count": 245,
   "id": "f33e50fa-3693-4a21-a346-1bcbaa35a870",
   "metadata": {},
   "outputs": [
    {
     "name": "stdout",
     "output_type": "stream",
     "text": [
      "EagerResult(records=[<Record n=<Node element_id='4:907b90c5-77b7-40ee-bd2b-900a55534cf9:38' labels=frozenset({'Publication'}) properties={'name': 'Wine Expert Monthly'}>>], summary=<neo4j._work.summary.ResultSummary object at 0xffff5dbe6590>, keys=['n'])\n"
     ]
    }
   ],
   "source": [
    "# Find a node by element_id.\n",
    "query = \"\"\"\n",
    "    MATCH (n)\n",
    "    WHERE elementId(n) = $node_id\n",
    "    RETURN n\n",
    "    \"\"\"\n",
    "result = driver.execute_query(query, node_id=start_node)\n",
    "print(result)"
   ]
  },
  {
   "cell_type": "code",
   "execution_count": 247,
   "id": "b7ed8431-9485-479e-bba4-302f4497f622",
   "metadata": {},
   "outputs": [],
   "source": [
    "# Find two nodes and add a relationship between them.\n",
    "query = \"\"\"\n",
    "    MATCH (p:Publication {name: \"Wine Expert Monthly\"}), (w:Wine {name: \"Prancing Wolf\"})\n",
    "      CREATE (p)-[r:reported_on {rating: 97}]->(w)\n",
    "      \"\"\"\n",
    "_ = driver.execute_query(query, node_id=start_node)"
   ]
  },
  {
   "cell_type": "code",
   "execution_count": null,
   "id": "acfb0720-5ad9-4d04-8367-55839fa44cdb",
   "metadata": {},
   "outputs": [],
   "source": [
    "#\n",
    "CREATE (g:GrapeType {name: \"Riesling\"})k"
   ]
  }
 ],
 "metadata": {
  "kernelspec": {
   "display_name": "Python 3 (ipykernel)",
   "language": "python",
   "name": "python3"
  },
  "language_info": {
   "codemirror_mode": {
    "name": "ipython",
    "version": 3
   },
   "file_extension": ".py",
   "mimetype": "text/x-python",
   "name": "python",
   "nbconvert_exporter": "python",
   "pygments_lexer": "ipython3",
   "version": "3.10.12"
  }
 },
 "nbformat": 4,
 "nbformat_minor": 5
}
