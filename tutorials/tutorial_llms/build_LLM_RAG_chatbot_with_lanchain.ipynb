{
 "cells": [
  {
   "cell_type": "markdown",
   "id": "2d799043-f664-4de4-888c-8f7df104a031",
   "metadata": {},
   "source": [
    "# "
   ]
  },
  {
   "cell_type": "code",
   "execution_count": 1,
   "id": "feee2a81-6482-4c25-ad02-fb8d9e6c96d4",
   "metadata": {},
   "outputs": [
    {
     "name": "stdout",
     "output_type": "stream",
     "text": [
      "\u001b[33mWARNING: Running pip as the 'root' user can result in broken permissions and conflicting behaviour with the system package manager, possibly rendering your system unusable.It is recommended to use a virtual environment instead: https://pip.pypa.io/warnings/venv. Use the --root-user-action option if you know what you are doing and want to suppress this warning.\u001b[0m\u001b[33m\n",
      "\u001b[0m"
     ]
    }
   ],
   "source": [
    "!pip install --quiet jupyterlab-vim jupytex\n",
    "!jupyter labextension enable\n",
    "\n",
    "%load_ext autoreload\n",
    "%autoreload 2"
   ]
  },
  {
   "cell_type": "code",
   "execution_count": 3,
   "id": "53e3e666-56eb-4a06-944d-eca4f3cf6573",
   "metadata": {},
   "outputs": [
    {
     "name": "stdout",
     "output_type": "stream",
     "text": [
      "\u001b[33mWARNING: Running pip as the 'root' user can result in broken permissions and conflicting behaviour with the system package manager, possibly rendering your system unusable.It is recommended to use a virtual environment instead: https://pip.pypa.io/warnings/venv. Use the --root-user-action option if you know what you are doing and want to suppress this warning.\u001b[0m\u001b[33m\n",
      "\u001b[0m\u001b[33mWARNING: Running pip as the 'root' user can result in broken permissions and conflicting behaviour with the system package manager, possibly rendering your system unusable.It is recommended to use a virtual environment instead: https://pip.pypa.io/warnings/venv. Use the --root-user-action option if you know what you are doing and want to suppress this warning.\u001b[0m\u001b[33m\n",
      "\u001b[0m"
     ]
    }
   ],
   "source": [
    "#!pip install quiet langchain==0.1.0 openai==1.7.2 langchain-openai==0.0.2 langchain-community==0.0.12 langchainhub==0.1.14\n",
    "!pip install --quiet langchain openai langchain-openai langchain-community langchainhub\n",
    "!pip install --quiet python-dotenv"
   ]
  },
  {
   "cell_type": "code",
   "execution_count": 3,
   "id": "7f73aafc-1e3c-4cd9-a3a7-cdd00abb7300",
   "metadata": {},
   "outputs": [],
   "source": [
    "# https://github.com/hfhoffman1144/langchain_neo4j_rag_app/tree/main\n",
    "# git clone git@github.com:hfhoffman1144/langchain_neo4j_rag_app.git\n",
    "# /Users/saggese/src/github/langchain_neo4j_rag_app"
   ]
  },
  {
   "cell_type": "markdown",
   "id": "3e5053c0-9a04-4d4b-af6a-6964d84c1f65",
   "metadata": {},
   "source": [
    "# Step 1, Intro to LangChain"
   ]
  },
  {
   "cell_type": "code",
   "execution_count": 4,
   "id": "f5e73ca7-6473-4abe-b903-8036d2099256",
   "metadata": {},
   "outputs": [],
   "source": [
    "import os; os.environ[\"OPENAI_API_KEY\"] = \"\""
   ]
  },
  {
   "cell_type": "code",
   "execution_count": 9,
   "id": "59dc1486-f47f-462f-a507-219137b443ad",
   "metadata": {},
   "outputs": [],
   "source": [
    "from langchain_openai import ChatOpenAI\n",
    "\n",
    "chat_model = ChatOpenAI(model=\"gpt-3.5-turbo-0125\", temperature=0)"
   ]
  },
  {
   "cell_type": "code",
   "execution_count": 10,
   "id": "55b07bb7-1890-44c1-a52f-47d46a8a0461",
   "metadata": {},
   "outputs": [
    {
     "data": {
      "text/plain": [
       "AIMessage(content='Medicaid managed care is a system in which states contract with managed care organizations (MCOs) to provide healthcare services to Medicaid beneficiaries. These MCOs are responsible for coordinating and delivering healthcare services to enrollees in exchange for a fixed monthly payment per enrollee. Medicaid managed care aims to improve access to care, enhance quality of services, and control costs for the Medicaid program.')"
      ]
     },
     "execution_count": 10,
     "metadata": {},
     "output_type": "execute_result"
    }
   ],
   "source": [
    "from langchain.schema.messages import HumanMessage, SystemMessage\n",
    "#from langchain_intro.chatbot import chat_model\n",
    "\n",
    "messages = [\n",
    "    SystemMessage(\n",
    "        content=\"\"\"You're an assistant knowledgeable about\n",
    "        healthcare. Only answer healthcare-related questions.\"\"\"\n",
    "    ),\n",
    "    HumanMessage(content=\"What is Medicaid managed care?\"),\n",
    "]\n",
    "chat_model.invoke(messages)"
   ]
  },
  {
   "cell_type": "code",
   "execution_count": 11,
   "id": "ccc34d4c-72df-4be5-97a9-f201d334524c",
   "metadata": {},
   "outputs": [
    {
     "data": {
      "text/plain": [
       "AIMessage(content=\"I'm here to help with healthcare-related questions. If you have any health-related inquiries, feel free to ask!\")"
      ]
     },
     "execution_count": 11,
     "metadata": {},
     "output_type": "execute_result"
    }
   ],
   "source": [
    "messages = [\n",
    "    SystemMessage(\n",
    "        content=\"\"\"You're an assistant knowledgeable about\n",
    "        healthcare. Only answer healthcare-related questions.\"\"\"\n",
    "    ),\n",
    "    HumanMessage(content=\"How do I change a tire?\"),\n",
    "]\n",
    "chat_model.invoke(messages)"
   ]
  },
  {
   "cell_type": "code",
   "execution_count": 13,
   "id": "a1916da5-713c-4c19-827f-d700319cb3e6",
   "metadata": {},
   "outputs": [
    {
     "name": "stdout",
     "output_type": "stream",
     "text": [
      "Human: Your job is to use patient\n",
      "reviews to answer questions about their experience at a hospital.\n",
      "Use the following context to answer questions. Be as detailed\n",
      "as possible, but don't make up any information that's not\n",
      "from the context. If you don't know an answer, say you don't know.\n",
      "\n",
      "I had a great stay!\n",
      "\n",
      "Did anyone have a positive experience?\n",
      "\n"
     ]
    }
   ],
   "source": [
    "from langchain.prompts import ChatPromptTemplate\n",
    "\n",
    "review_template_str = \"\"\"Your job is to use patient\n",
    "reviews to answer questions about their experience at a hospital.\n",
    "Use the following context to answer questions. Be as detailed\n",
    "as possible, but don't make up any information that's not\n",
    "from the context. If you don't know an answer, say you don't know.\n",
    "\n",
    "{context}\n",
    "\n",
    "{question}\n",
    "\"\"\"\n",
    "\n",
    "review_template = ChatPromptTemplate.from_template(review_template_str)\n",
    "\n",
    "context = \"I had a great stay!\"\n",
    "question = \"Did anyone have a positive experience?\"\n",
    "\n",
    "print(review_template.format(context=context, question=question))"
   ]
  },
  {
   "cell_type": "code",
   "execution_count": 19,
   "id": "3217aad3-3b15-4d2c-93f3-5194493ef5f4",
   "metadata": {},
   "outputs": [
    {
     "name": "stdout",
     "output_type": "stream",
     "text": [
      "[SystemMessage(content=\"Your job is to use patient\\nreviews to answer questions about their experience at a\\nhospital. Use the following context to answer questions.\\nBe as detailed as possible, but don't make up any information\\nthat's not from the context. If you don't know an answer, say\\nyou don't know.\\n\\nI had a great stay!\\n\"), HumanMessage(content='Did anyone have a positive experience?')]\n"
     ]
    }
   ],
   "source": [
    "from langchain.prompts import (\n",
    "    PromptTemplate,\n",
    "    SystemMessagePromptTemplate,\n",
    "    HumanMessagePromptTemplate,\n",
    "    ChatPromptTemplate,\n",
    ")\n",
    "\n",
    "review_system_template_str = \"\"\"Your job is to use patient\n",
    "reviews to answer questions about their experience at a\n",
    "hospital. Use the following context to answer questions.\n",
    "Be as detailed as possible, but don't make up any information\n",
    "that's not from the context. If you don't know an answer, say\n",
    "you don't know.\n",
    "\n",
    "{context}\n",
    "\"\"\"\n",
    "\n",
    "review_system_prompt = SystemMessagePromptTemplate(\n",
    "    prompt=PromptTemplate(\n",
    "        input_variables=[\"context\"], template=review_system_template_str\n",
    "    )\n",
    ")\n",
    "\n",
    "review_human_prompt = HumanMessagePromptTemplate(\n",
    "    prompt=PromptTemplate(\n",
    "        input_variables=[\"question\"], template=\"{question}\"\n",
    "    )\n",
    ")\n",
    "\n",
    "messages = [review_system_prompt, review_human_prompt]\n",
    "review_prompt_template = ChatPromptTemplate(\n",
    "    input_variables=[\"context\", \"question\"],\n",
    "    messages=messages,\n",
    ")\n",
    "context = \"I had a great stay!\"\n",
    "question = \"Did anyone have a positive experience?\"\n",
    "\n",
    "ret = review_prompt_template.format_messages(context=context, question=question)\n",
    "print(ret)"
   ]
  },
  {
   "cell_type": "markdown",
   "id": "db841519-c997-4d8a-969b-88fc094d03aa",
   "metadata": {},
   "source": [
    "## Chains"
   ]
  },
  {
   "cell_type": "code",
   "execution_count": 23,
   "id": "b2db8f73-e443-400b-996b-8b7865fa7de4",
   "metadata": {},
   "outputs": [],
   "source": [
    "from langchain_openai import ChatOpenAI\n",
    "from langchain.prompts import (\n",
    "    PromptTemplate,\n",
    "    SystemMessagePromptTemplate,\n",
    "    HumanMessagePromptTemplate,\n",
    "    ChatPromptTemplate,\n",
    ")\n",
    "from langchain_core.output_parsers import StrOutputParser\n",
    "\n",
    "review_template_str = \"\"\"Your job is to use patient\n",
    "reviews to answer questions about their experience at\n",
    "a hospital. Use the following context to answer questions.\n",
    "Be as detailed as possible, but don't make up any information\n",
    "that's not from the context. If you don't know an answer, say\n",
    "you don't know.\n",
    "\n",
    "{context}\n",
    "\"\"\"\n",
    "\n",
    "review_system_prompt = SystemMessagePromptTemplate(\n",
    "    prompt=PromptTemplate(\n",
    "        input_variables=[\"context\"],\n",
    "        template=review_template_str,\n",
    "    )\n",
    ")\n",
    "\n",
    "review_human_prompt = HumanMessagePromptTemplate(\n",
    "    prompt=PromptTemplate(\n",
    "        input_variables=[\"question\"],\n",
    "        template=\"{question}\",\n",
    "    )\n",
    ")\n",
    "messages = [review_system_prompt, review_human_prompt]\n",
    "\n",
    "review_prompt_template = ChatPromptTemplate(\n",
    "    input_variables=[\"context\", \"question\"],\n",
    "    messages=messages,\n",
    ")\n",
    "\n",
    "chat_model = ChatOpenAI(model=\"gpt-3.5-turbo-0125\", temperature=0)\n",
    "\n",
    "output_parser = StrOutputParser()\n",
    "\n",
    "review_chain = review_prompt_template | chat_model | output_parser"
   ]
  },
  {
   "cell_type": "code",
   "execution_count": 24,
   "id": "4eca8f64-fd83-41f5-ae96-d2c25f41da5f",
   "metadata": {},
   "outputs": [
    {
     "data": {
      "text/plain": [
       "'Yes, the patient had a great stay at the hospital, indicating a positive experience.'"
      ]
     },
     "execution_count": 24,
     "metadata": {},
     "output_type": "execute_result"
    }
   ],
   "source": [
    "context = \"I had a great stay!\"\n",
    "question = \"Did anyone have a positive experience?\"\n",
    "\n",
    "review_chain.invoke({\"context\": context, \"question\": question})"
   ]
  },
  {
   "cell_type": "markdown",
   "id": "d1a5db6e-b21b-40d8-8416-a4b367d7590f",
   "metadata": {},
   "source": [
    "## Retrieval"
   ]
  },
  {
   "cell_type": "code",
   "execution_count": 26,
   "id": "21d1b143-17c9-4b58-befa-a2f69257e374",
   "metadata": {},
   "outputs": [
    {
     "name": "stdout",
     "output_type": "stream",
     "text": [
      "\u001b[33mWARNING: Running pip as the 'root' user can result in broken permissions and conflicting behaviour with the system package manager, possibly rendering your system unusable.It is recommended to use a virtual environment instead: https://pip.pypa.io/warnings/venv. Use the --root-user-action option if you know what you are doing and want to suppress this warning.\u001b[0m\u001b[33m\n",
      "\u001b[0m"
     ]
    }
   ],
   "source": [
    "!pip install --quiet chromadb"
   ]
  },
  {
   "cell_type": "code",
   "execution_count": 34,
   "id": "8d21cc6e-d9e2-4e80-8b34-c18c20cccb89",
   "metadata": {},
   "outputs": [],
   "source": [
    "from langchain.document_loaders.csv_loader import CSVLoader\n",
    "from langchain_community.vectorstores import Chroma\n",
    "from langchain_openai import OpenAIEmbeddings\n",
    "\n",
    "#!cp /Users/saggese/src/github/langchain_neo4j_rag_app/data/reviews.csv build_LLM_RAG_chatbot_with_langchain/\n",
    "REVIEWS_CSV_PATH = \"build_LLM_RAG_chatbot_with_langchain/reviews.csv\"\n",
    "REVIEWS_CHROMA_PATH = \"chroma_data\"\n",
    "\n",
    "loader = CSVLoader(file_path=REVIEWS_CSV_PATH, source_column=\"review\")\n",
    "reviews = loader.load()\n",
    "#!head $REVIEWS_CSV_PATH\n",
    "\n",
    "reviews_vector_db = Chroma.from_documents(\n",
    "    reviews, OpenAIEmbeddings(), persist_directory=REVIEWS_CHROMA_PATH\n",
    ")"
   ]
  },
  {
   "cell_type": "code",
   "execution_count": 40,
   "id": "45b15f7a-b967-4f99-877e-320f0c18ad5d",
   "metadata": {},
   "outputs": [
    {
     "name": "stdout",
     "output_type": "stream",
     "text": [
      "review_id: 154\n",
      "visit_id: 6491\n",
      "review: The level of care I received from the nurses exceeded my expectations. However, the billing process afterward was confusing, and it took multiple calls to resolve the issues.\n",
      "physician_name: Tamara Potter\n",
      "hospital_name: Malone, Thompson and Mejia\n",
      "patient_name: Mark Morgan\n",
      "review_id: 154\n",
      "visit_id: 6491\n",
      "review: The level of care I received from the nurses exceeded my expectations. However, the billing process afterward was confusing, and it took multiple calls to resolve the issues.\n",
      "physician_name: Tamara Potter\n",
      "hospital_name: Malone, Thompson and Mejia\n",
      "patient_name: Mark Morgan\n"
     ]
    }
   ],
   "source": [
    "reviews_vector_db = Chroma(\n",
    "    persist_directory=REVIEWS_CHROMA_PATH,\n",
    "    embedding_function=OpenAIEmbeddings(),\n",
    ")\n",
    "\n",
    "#question = \"\"\"Has anyone complained about\n",
    "#           communication with the hospital staff?\"\"\"\n",
    "question = \"\"\"physician_name Maria Thompson\"\"\"\n",
    "relevant_docs = reviews_vector_db.similarity_search(question, k=3)\n",
    "\n",
    "print(relevant_docs[0].page_content)\n",
    "print(relevant_docs[1].page_content)"
   ]
  },
  {
   "cell_type": "code",
   "execution_count": 42,
   "id": "eb45e853-8223-4d7f-a1ab-baa43d6a2afa",
   "metadata": {},
   "outputs": [],
   "source": [
    "# Pass the relevant reviews to the prompt as content.\n",
    "\n",
    "from langchain.schema.runnable import RunnablePassthrough\n",
    "\n",
    "# Find 10 reviews closer.\n",
    "reviews_retriever  = reviews_vector_db.as_retriever(k=10)\n",
    "\n",
    "review_chain = (\n",
    "    {\"context\": reviews_retriever, \"question\": RunnablePassthrough()}\n",
    "    | review_prompt_template\n",
    "    | chat_model\n",
    "    | StrOutputParser()\n",
    ")"
   ]
  },
  {
   "cell_type": "code",
   "execution_count": 43,
   "id": "8e96c307-15c3-4371-b249-ddb7f7832c99",
   "metadata": {},
   "outputs": [
    {
     "data": {
      "text/plain": [
       "'Yes, a patient named Terri Smith complained about the communication between the medical staff and herself at the hospital. She mentioned that the communication was unclear, leading to misunderstandings about her treatment plan. Terri Smith suggested that improvement is needed in this area.'"
      ]
     },
     "execution_count": 43,
     "metadata": {},
     "output_type": "execute_result"
    }
   ],
   "source": [
    "question = \"\"\"Has anyone complained about\n",
    "           communication with the hospital staff?\"\"\"\n",
    "review_chain.invoke(question)"
   ]
  },
  {
   "cell_type": "markdown",
   "id": "7840baa5-2479-4380-9811-acda77bcf901",
   "metadata": {},
   "source": [
    "## Agents"
   ]
  },
  {
   "cell_type": "markdown",
   "id": "09554cc0-160c-463d-8230-a376822773cb",
   "metadata": {},
   "source": [
    "- The chain is hardwired\n",
    "- An agent is an LLM that decides the sequence of actions to execute."
   ]
  },
  {
   "cell_type": "code",
   "execution_count": 44,
   "id": "eb98d4ac-8727-45f6-992d-4513d9714d51",
   "metadata": {},
   "outputs": [],
   "source": [
    "import random\n",
    "import time\n",
    "\n",
    "def get_current_wait_time(hospital: str) -> int | str:\n",
    "    \"\"\"Dummy function to generate fake wait times\"\"\"\n",
    "\n",
    "    if hospital not in [\"A\", \"B\", \"C\", \"D\"]:\n",
    "        return f\"Hospital {hospital} does not exist\"\n",
    "\n",
    "    # Simulate API call delay\n",
    "    time.sleep(1)\n",
    "\n",
    "    return random.randint(0, 10000)"
   ]
  },
  {
   "cell_type": "code",
   "execution_count": 45,
   "id": "b812a5c8-03db-4cbd-b7e3-c553933bb27c",
   "metadata": {},
   "outputs": [],
   "source": [
    "from langchain.agents import (\n",
    "    create_openai_functions_agent,\n",
    "    Tool,\n",
    "    AgentExecutor,\n",
    ")\n",
    "from langchain import hub\n",
    "\n",
    "# Tool is an interface that an agent uses to interact with a function.\n",
    "# Each description explains the Agent when to call each tool.\n",
    "tools = [\n",
    "    Tool(\n",
    "        name=\"Reviews\",\n",
    "        func=review_chain.invoke,\n",
    "        description=\"\"\"Useful when you need to answer questions\n",
    "        about patient reviews or experiences at the hospital.\n",
    "        Not useful for answering questions about specific visit\n",
    "        details such as payer, billing, treatment, diagnosis,\n",
    "        chief complaint, hospital, or physician information.\n",
    "        Pass the entire question as input to the tool. For instance,\n",
    "        if the question is \"What do patients think about the triage system?\",\n",
    "        the input should be \"What do patients think about the triage system?\"\n",
    "        \"\"\",\n",
    "    ),\n",
    "    Tool(\n",
    "        name=\"Waits\",\n",
    "        func=get_current_wait_time,\n",
    "        description=\"\"\"Use when asked about current wait times\n",
    "        at a specific hospital. This tool can only get the current\n",
    "        wait time at a hospital and does not have any information about\n",
    "        aggregate or historical wait times. This tool returns wait times in\n",
    "        minutes. Do not pass the word \"hospital\" as input,\n",
    "        only the hospital name itself. For instance, if the question is\n",
    "        \"What is the wait time at hospital A?\", the input should be \"A\".\n",
    "        \"\"\",\n",
    "    ),\n",
    "]\n",
    "\n",
    "hospital_agent_prompt = hub.pull(\"hwchase17/openai-functions-agent\")\n",
    "\n",
    "agent_chat_model = ChatOpenAI(\n",
    "    model=\"gpt-3.5-turbo-1106\",\n",
    "    temperature=0,\n",
    ")\n",
    "\n",
    "hospital_agent = create_openai_functions_agent(\n",
    "    llm=agent_chat_model,\n",
    "    prompt=hospital_agent_prompt,\n",
    "    tools=tools,\n",
    ")\n",
    "\n",
    "# Agent run-time.\n",
    "hospital_agent_executor = AgentExecutor(\n",
    "    agent=hospital_agent,\n",
    "    tools=tools,\n",
    "    return_intermediate_steps=True,\n",
    "    verbose=True,\n",
    ")"
   ]
  },
  {
   "cell_type": "code",
   "execution_count": 46,
   "id": "a20f6d8e-f7f9-4237-97e9-b8dcc25cbe2d",
   "metadata": {},
   "outputs": [
    {
     "name": "stdout",
     "output_type": "stream",
     "text": [
      "\n",
      "\n",
      "\u001b[1m> Entering new AgentExecutor chain...\u001b[0m\n",
      "\u001b[32;1m\u001b[1;3m\n",
      "Invoking: `Waits` with `C`\n",
      "\n",
      "\n",
      "\u001b[0m\u001b[33;1m\u001b[1;3m833\u001b[0m\u001b[32;1m\u001b[1;3mThe current wait time at hospital C is 833 minutes.\u001b[0m\n",
      "\n",
      "\u001b[1m> Finished chain.\u001b[0m\n"
     ]
    },
    {
     "data": {
      "text/plain": [
       "{'input': 'What is the current wait time at hospital C?',\n",
       " 'output': 'The current wait time at hospital C is 833 minutes.',\n",
       " 'intermediate_steps': [(AgentActionMessageLog(tool='Waits', tool_input='C', log='\\nInvoking: `Waits` with `C`\\n\\n\\n', message_log=[AIMessage(content='', additional_kwargs={'function_call': {'arguments': '{\"__arg1\":\"C\"}', 'name': 'Waits'}})]),\n",
       "   833)]}"
      ]
     },
     "execution_count": 46,
     "metadata": {},
     "output_type": "execute_result"
    }
   ],
   "source": [
    "hospital_agent_executor.invoke(\n",
    "    {\"input\": \"What is the current wait time at hospital C?\"}\n",
    ")"
   ]
  },
  {
   "cell_type": "code",
   "execution_count": 47,
   "id": "c53094d4-5868-4085-9ca5-95379954338c",
   "metadata": {},
   "outputs": [
    {
     "name": "stdout",
     "output_type": "stream",
     "text": [
      "\n",
      "\n",
      "\u001b[1m> Entering new AgentExecutor chain...\u001b[0m\n",
      "\u001b[32;1m\u001b[1;3m\n",
      "Invoking: `Reviews` with `What have patients said about their comfort at the hospital?`\n",
      "\n",
      "\n",
      "\u001b[0m\u001b[36;1m\u001b[1;3mPatients have mentioned that the hospital staff is dedicated to patient care, but they have also expressed discomfort due to the uncomfortable beds, making it difficult to get a good night's sleep during their stay.\u001b[0m\u001b[32;1m\u001b[1;3mPatients have mentioned that the hospital staff is dedicated to patient care, but they have also expressed discomfort due to the uncomfortable beds, making it difficult to get a good night's sleep during their stay.\u001b[0m\n",
      "\n",
      "\u001b[1m> Finished chain.\u001b[0m\n"
     ]
    },
    {
     "data": {
      "text/plain": [
       "{'input': 'What have patients said about their comfort at the hospital?',\n",
       " 'output': \"Patients have mentioned that the hospital staff is dedicated to patient care, but they have also expressed discomfort due to the uncomfortable beds, making it difficult to get a good night's sleep during their stay.\",\n",
       " 'intermediate_steps': [(AgentActionMessageLog(tool='Reviews', tool_input='What have patients said about their comfort at the hospital?', log='\\nInvoking: `Reviews` with `What have patients said about their comfort at the hospital?`\\n\\n\\n', message_log=[AIMessage(content='', additional_kwargs={'function_call': {'arguments': '{\"__arg1\":\"What have patients said about their comfort at the hospital?\"}', 'name': 'Reviews'}})]),\n",
       "   \"Patients have mentioned that the hospital staff is dedicated to patient care, but they have also expressed discomfort due to the uncomfortable beds, making it difficult to get a good night's sleep during their stay.\")]}"
      ]
     },
     "execution_count": 47,
     "metadata": {},
     "output_type": "execute_result"
    }
   ],
   "source": [
    "hospital_agent_executor.invoke(\n",
    "    {\"input\": \"What have patients said about their comfort at the hospital?\"}\n",
    ")"
   ]
  },
  {
   "cell_type": "markdown",
   "id": "20df27af-2977-48ba-90fc-1e67c2fa750d",
   "metadata": {},
   "source": [
    "# Step 2, Understand the business requirements and data"
   ]
  },
  {
   "cell_type": "code",
   "execution_count": 51,
   "id": "5e71daea-1456-4982-8fc4-0b51713526c5",
   "metadata": {},
   "outputs": [
    {
     "name": "stdout",
     "output_type": "stream",
     "text": [
      "(30, 3)\n"
     ]
    },
    {
     "data": {
      "text/html": [
       "<div>\n",
       "<style scoped>\n",
       "    .dataframe tbody tr th:only-of-type {\n",
       "        vertical-align: middle;\n",
       "    }\n",
       "\n",
       "    .dataframe tbody tr th {\n",
       "        vertical-align: top;\n",
       "    }\n",
       "\n",
       "    .dataframe thead th {\n",
       "        text-align: right;\n",
       "    }\n",
       "</style>\n",
       "<table border=\"1\" class=\"dataframe\">\n",
       "  <thead>\n",
       "    <tr style=\"text-align: right;\">\n",
       "      <th></th>\n",
       "      <th>hospital_id</th>\n",
       "      <th>hospital_name</th>\n",
       "      <th>hospital_state</th>\n",
       "    </tr>\n",
       "  </thead>\n",
       "  <tbody>\n",
       "    <tr>\n",
       "      <th>0</th>\n",
       "      <td>0</td>\n",
       "      <td>Wallace-Hamilton</td>\n",
       "      <td>CO</td>\n",
       "    </tr>\n",
       "    <tr>\n",
       "      <th>1</th>\n",
       "      <td>1</td>\n",
       "      <td>Burke, Griffin and Cooper</td>\n",
       "      <td>NC</td>\n",
       "    </tr>\n",
       "    <tr>\n",
       "      <th>2</th>\n",
       "      <td>2</td>\n",
       "      <td>Walton LLC</td>\n",
       "      <td>FL</td>\n",
       "    </tr>\n",
       "    <tr>\n",
       "      <th>3</th>\n",
       "      <td>3</td>\n",
       "      <td>Garcia Ltd</td>\n",
       "      <td>NC</td>\n",
       "    </tr>\n",
       "    <tr>\n",
       "      <th>4</th>\n",
       "      <td>4</td>\n",
       "      <td>Jones, Brown and Murray</td>\n",
       "      <td>NC</td>\n",
       "    </tr>\n",
       "  </tbody>\n",
       "</table>\n",
       "</div>"
      ],
      "text/plain": [
       "   hospital_id              hospital_name hospital_state\n",
       "0            0           Wallace-Hamilton             CO\n",
       "1            1  Burke, Griffin and Cooper             NC\n",
       "2            2                 Walton LLC             FL\n",
       "3            3                 Garcia Ltd             NC\n",
       "4            4    Jones, Brown and Murray             NC"
      ]
     },
     "execution_count": 51,
     "metadata": {},
     "output_type": "execute_result"
    }
   ],
   "source": [
    "import pandas as pd\n",
    "\n",
    "data = pd.read_csv(\"build_LLM_RAG_chatbot_with_langchain/hospitals.csv\")\n",
    "print(data.shape)\n",
    "data.head()"
   ]
  },
  {
   "cell_type": "code",
   "execution_count": 52,
   "id": "0f2bd880-a8b4-49d8-8226-d8049f19239e",
   "metadata": {},
   "outputs": [
    {
     "name": "stdout",
     "output_type": "stream",
     "text": [
      "(500, 6)\n"
     ]
    },
    {
     "data": {
      "text/html": [
       "<div>\n",
       "<style scoped>\n",
       "    .dataframe tbody tr th:only-of-type {\n",
       "        vertical-align: middle;\n",
       "    }\n",
       "\n",
       "    .dataframe tbody tr th {\n",
       "        vertical-align: top;\n",
       "    }\n",
       "\n",
       "    .dataframe thead th {\n",
       "        text-align: right;\n",
       "    }\n",
       "</style>\n",
       "<table border=\"1\" class=\"dataframe\">\n",
       "  <thead>\n",
       "    <tr style=\"text-align: right;\">\n",
       "      <th></th>\n",
       "      <th>physician_name</th>\n",
       "      <th>physician_id</th>\n",
       "      <th>physician_dob</th>\n",
       "      <th>physician_grad_year</th>\n",
       "      <th>medical_school</th>\n",
       "      <th>salary</th>\n",
       "    </tr>\n",
       "  </thead>\n",
       "  <tbody>\n",
       "    <tr>\n",
       "      <th>0</th>\n",
       "      <td>Joseph Johnson</td>\n",
       "      <td>0</td>\n",
       "      <td>1970-02-22</td>\n",
       "      <td>2000-02-22</td>\n",
       "      <td>Johns Hopkins University School of Medicine</td>\n",
       "      <td>309534.155076</td>\n",
       "    </tr>\n",
       "    <tr>\n",
       "      <th>1</th>\n",
       "      <td>Jason Williams</td>\n",
       "      <td>1</td>\n",
       "      <td>1982-12-22</td>\n",
       "      <td>2012-12-22</td>\n",
       "      <td>Mayo Clinic Alix School of Medicine</td>\n",
       "      <td>281114.503559</td>\n",
       "    </tr>\n",
       "    <tr>\n",
       "      <th>2</th>\n",
       "      <td>Jesse Gordon</td>\n",
       "      <td>2</td>\n",
       "      <td>1959-06-03</td>\n",
       "      <td>1989-06-03</td>\n",
       "      <td>David Geffen School of Medicine at UCLA</td>\n",
       "      <td>305845.584636</td>\n",
       "    </tr>\n",
       "    <tr>\n",
       "      <th>3</th>\n",
       "      <td>Heather Smith</td>\n",
       "      <td>3</td>\n",
       "      <td>1965-06-15</td>\n",
       "      <td>1995-06-15</td>\n",
       "      <td>NYU Grossman Medical School</td>\n",
       "      <td>295239.766689</td>\n",
       "    </tr>\n",
       "    <tr>\n",
       "      <th>4</th>\n",
       "      <td>Kayla Hunter DDS</td>\n",
       "      <td>4</td>\n",
       "      <td>1978-10-19</td>\n",
       "      <td>2008-10-19</td>\n",
       "      <td>David Geffen School of Medicine at UCLA</td>\n",
       "      <td>298751.355201</td>\n",
       "    </tr>\n",
       "  </tbody>\n",
       "</table>\n",
       "</div>"
      ],
      "text/plain": [
       "     physician_name  physician_id physician_dob physician_grad_year  \\\n",
       "0    Joseph Johnson             0    1970-02-22          2000-02-22   \n",
       "1    Jason Williams             1    1982-12-22          2012-12-22   \n",
       "2      Jesse Gordon             2    1959-06-03          1989-06-03   \n",
       "3     Heather Smith             3    1965-06-15          1995-06-15   \n",
       "4  Kayla Hunter DDS             4    1978-10-19          2008-10-19   \n",
       "\n",
       "                                medical_school         salary  \n",
       "0  Johns Hopkins University School of Medicine  309534.155076  \n",
       "1          Mayo Clinic Alix School of Medicine  281114.503559  \n",
       "2      David Geffen School of Medicine at UCLA  305845.584636  \n",
       "3                  NYU Grossman Medical School  295239.766689  \n",
       "4      David Geffen School of Medicine at UCLA  298751.355201  "
      ]
     },
     "execution_count": 52,
     "metadata": {},
     "output_type": "execute_result"
    }
   ],
   "source": [
    "data = pd.read_csv(\"build_LLM_RAG_chatbot_with_langchain/physicians.csv\")\n",
    "print(data.shape)\n",
    "data.head()"
   ]
  },
  {
   "cell_type": "code",
   "execution_count": 53,
   "id": "eb41d450-1008-41ec-9b6c-31eda5189667",
   "metadata": {},
   "outputs": [
    {
     "name": "stdout",
     "output_type": "stream",
     "text": [
      "(5, 2)\n"
     ]
    },
    {
     "data": {
      "text/html": [
       "<div>\n",
       "<style scoped>\n",
       "    .dataframe tbody tr th:only-of-type {\n",
       "        vertical-align: middle;\n",
       "    }\n",
       "\n",
       "    .dataframe tbody tr th {\n",
       "        vertical-align: top;\n",
       "    }\n",
       "\n",
       "    .dataframe thead th {\n",
       "        text-align: right;\n",
       "    }\n",
       "</style>\n",
       "<table border=\"1\" class=\"dataframe\">\n",
       "  <thead>\n",
       "    <tr style=\"text-align: right;\">\n",
       "      <th></th>\n",
       "      <th>payer_name</th>\n",
       "      <th>payer_id</th>\n",
       "    </tr>\n",
       "  </thead>\n",
       "  <tbody>\n",
       "    <tr>\n",
       "      <th>0</th>\n",
       "      <td>Medicaid</td>\n",
       "      <td>0</td>\n",
       "    </tr>\n",
       "    <tr>\n",
       "      <th>1</th>\n",
       "      <td>UnitedHealthcare</td>\n",
       "      <td>1</td>\n",
       "    </tr>\n",
       "    <tr>\n",
       "      <th>2</th>\n",
       "      <td>Aetna</td>\n",
       "      <td>2</td>\n",
       "    </tr>\n",
       "    <tr>\n",
       "      <th>3</th>\n",
       "      <td>Cigna</td>\n",
       "      <td>3</td>\n",
       "    </tr>\n",
       "    <tr>\n",
       "      <th>4</th>\n",
       "      <td>Blue Cross</td>\n",
       "      <td>4</td>\n",
       "    </tr>\n",
       "  </tbody>\n",
       "</table>\n",
       "</div>"
      ],
      "text/plain": [
       "         payer_name  payer_id\n",
       "0          Medicaid         0\n",
       "1  UnitedHealthcare         1\n",
       "2             Aetna         2\n",
       "3             Cigna         3\n",
       "4        Blue Cross         4"
      ]
     },
     "execution_count": 53,
     "metadata": {},
     "output_type": "execute_result"
    }
   ],
   "source": [
    "data = pd.read_csv(\"build_LLM_RAG_chatbot_with_langchain/payers.csv\")\n",
    "print(data.shape)\n",
    "data.head()"
   ]
  },
  {
   "cell_type": "code",
   "execution_count": 54,
   "id": "28b998bb-fff8-4aab-9b2c-a69b69b0637b",
   "metadata": {},
   "outputs": [
    {
     "name": "stdout",
     "output_type": "stream",
     "text": [
      "(1005, 6)\n"
     ]
    },
    {
     "data": {
      "text/html": [
       "<div>\n",
       "<style scoped>\n",
       "    .dataframe tbody tr th:only-of-type {\n",
       "        vertical-align: middle;\n",
       "    }\n",
       "\n",
       "    .dataframe tbody tr th {\n",
       "        vertical-align: top;\n",
       "    }\n",
       "\n",
       "    .dataframe thead th {\n",
       "        text-align: right;\n",
       "    }\n",
       "</style>\n",
       "<table border=\"1\" class=\"dataframe\">\n",
       "  <thead>\n",
       "    <tr style=\"text-align: right;\">\n",
       "      <th></th>\n",
       "      <th>review_id</th>\n",
       "      <th>visit_id</th>\n",
       "      <th>review</th>\n",
       "      <th>physician_name</th>\n",
       "      <th>hospital_name</th>\n",
       "      <th>patient_name</th>\n",
       "    </tr>\n",
       "  </thead>\n",
       "  <tbody>\n",
       "    <tr>\n",
       "      <th>0</th>\n",
       "      <td>0</td>\n",
       "      <td>6997</td>\n",
       "      <td>The medical staff at the hospital were incredi...</td>\n",
       "      <td>Laura Brown</td>\n",
       "      <td>Wallace-Hamilton</td>\n",
       "      <td>Christy Johnson</td>\n",
       "    </tr>\n",
       "    <tr>\n",
       "      <th>1</th>\n",
       "      <td>9</td>\n",
       "      <td>8138</td>\n",
       "      <td>The hospital's commitment to patient education...</td>\n",
       "      <td>Steven Watson</td>\n",
       "      <td>Wallace-Hamilton</td>\n",
       "      <td>Anna Frazier</td>\n",
       "    </tr>\n",
       "    <tr>\n",
       "      <th>2</th>\n",
       "      <td>11</td>\n",
       "      <td>680</td>\n",
       "      <td>The hospital's commitment to patient safety wa...</td>\n",
       "      <td>Chase Mcpherson Jr.</td>\n",
       "      <td>Wallace-Hamilton</td>\n",
       "      <td>Abigail Mitchell</td>\n",
       "    </tr>\n",
       "    <tr>\n",
       "      <th>3</th>\n",
       "      <td>892</td>\n",
       "      <td>9846</td>\n",
       "      <td>I had a positive experience overall at the hos...</td>\n",
       "      <td>Jason Martinez</td>\n",
       "      <td>Wallace-Hamilton</td>\n",
       "      <td>Kimberly Rivas</td>\n",
       "    </tr>\n",
       "    <tr>\n",
       "      <th>4</th>\n",
       "      <td>822</td>\n",
       "      <td>7397</td>\n",
       "      <td>The medical team at the hospital was exception...</td>\n",
       "      <td>Chelsey Davis</td>\n",
       "      <td>Wallace-Hamilton</td>\n",
       "      <td>Catherine Yang</td>\n",
       "    </tr>\n",
       "  </tbody>\n",
       "</table>\n",
       "</div>"
      ],
      "text/plain": [
       "   review_id  visit_id                                             review  \\\n",
       "0          0      6997  The medical staff at the hospital were incredi...   \n",
       "1          9      8138  The hospital's commitment to patient education...   \n",
       "2         11       680  The hospital's commitment to patient safety wa...   \n",
       "3        892      9846  I had a positive experience overall at the hos...   \n",
       "4        822      7397  The medical team at the hospital was exception...   \n",
       "\n",
       "        physician_name     hospital_name      patient_name  \n",
       "0          Laura Brown  Wallace-Hamilton   Christy Johnson  \n",
       "1        Steven Watson  Wallace-Hamilton      Anna Frazier  \n",
       "2  Chase Mcpherson Jr.  Wallace-Hamilton  Abigail Mitchell  \n",
       "3       Jason Martinez  Wallace-Hamilton    Kimberly Rivas  \n",
       "4        Chelsey Davis  Wallace-Hamilton    Catherine Yang  "
      ]
     },
     "execution_count": 54,
     "metadata": {},
     "output_type": "execute_result"
    }
   ],
   "source": [
    "data = pd.read_csv(\"build_LLM_RAG_chatbot_with_langchain/reviews.csv\")\n",
    "print(data.shape)\n",
    "data.head()"
   ]
  },
  {
   "cell_type": "code",
   "execution_count": null,
   "id": "1b42759a-4ec5-4f00-8702-ae4860198034",
   "metadata": {},
   "outputs": [],
   "source": [
    "data = pd.read_csv(\"visits/reviews.csv\")\n",
    "print(data.shape)\n",
    "data.head()"
   ]
  },
  {
   "cell_type": "code",
   "execution_count": 55,
   "id": "7263fcd3-e4b4-49a6-85d2-66d37caf7a63",
   "metadata": {},
   "outputs": [
    {
     "name": "stdout",
     "output_type": "stream",
     "text": [
      "(9998, 15)\n"
     ]
    },
    {
     "data": {
      "text/html": [
       "<div>\n",
       "<style scoped>\n",
       "    .dataframe tbody tr th:only-of-type {\n",
       "        vertical-align: middle;\n",
       "    }\n",
       "\n",
       "    .dataframe tbody tr th {\n",
       "        vertical-align: top;\n",
       "    }\n",
       "\n",
       "    .dataframe thead th {\n",
       "        text-align: right;\n",
       "    }\n",
       "</style>\n",
       "<table border=\"1\" class=\"dataframe\">\n",
       "  <thead>\n",
       "    <tr style=\"text-align: right;\">\n",
       "      <th></th>\n",
       "      <th>patient_id</th>\n",
       "      <th>date_of_admission</th>\n",
       "      <th>billing_amount</th>\n",
       "      <th>room_number</th>\n",
       "      <th>admission_type</th>\n",
       "      <th>discharge_date</th>\n",
       "      <th>test_results</th>\n",
       "      <th>visit_id</th>\n",
       "      <th>physician_id</th>\n",
       "      <th>payer_id</th>\n",
       "      <th>hospital_id</th>\n",
       "      <th>chief_complaint</th>\n",
       "      <th>treatment_description</th>\n",
       "      <th>primary_diagnosis</th>\n",
       "      <th>visit_status</th>\n",
       "    </tr>\n",
       "  </thead>\n",
       "  <tbody>\n",
       "    <tr>\n",
       "      <th>0</th>\n",
       "      <td>0</td>\n",
       "      <td>2022-11-17</td>\n",
       "      <td>37490.983364</td>\n",
       "      <td>146</td>\n",
       "      <td>Elective</td>\n",
       "      <td>2022-12-01</td>\n",
       "      <td>Inconclusive</td>\n",
       "      <td>0</td>\n",
       "      <td>102</td>\n",
       "      <td>1</td>\n",
       "      <td>0</td>\n",
       "      <td>NaN</td>\n",
       "      <td>NaN</td>\n",
       "      <td>NaN</td>\n",
       "      <td>DISCHARGED</td>\n",
       "    </tr>\n",
       "    <tr>\n",
       "      <th>1</th>\n",
       "      <td>1</td>\n",
       "      <td>2023-06-01</td>\n",
       "      <td>47304.064845</td>\n",
       "      <td>404</td>\n",
       "      <td>Emergency</td>\n",
       "      <td>NaN</td>\n",
       "      <td>Normal</td>\n",
       "      <td>1</td>\n",
       "      <td>435</td>\n",
       "      <td>4</td>\n",
       "      <td>5</td>\n",
       "      <td>NaN</td>\n",
       "      <td>NaN</td>\n",
       "      <td>NaN</td>\n",
       "      <td>OPEN</td>\n",
       "    </tr>\n",
       "    <tr>\n",
       "      <th>2</th>\n",
       "      <td>2</td>\n",
       "      <td>2019-01-09</td>\n",
       "      <td>36874.896997</td>\n",
       "      <td>292</td>\n",
       "      <td>Emergency</td>\n",
       "      <td>2019-02-08</td>\n",
       "      <td>Normal</td>\n",
       "      <td>2</td>\n",
       "      <td>348</td>\n",
       "      <td>2</td>\n",
       "      <td>6</td>\n",
       "      <td>NaN</td>\n",
       "      <td>NaN</td>\n",
       "      <td>NaN</td>\n",
       "      <td>DISCHARGED</td>\n",
       "    </tr>\n",
       "    <tr>\n",
       "      <th>3</th>\n",
       "      <td>3</td>\n",
       "      <td>2020-05-02</td>\n",
       "      <td>23303.322092</td>\n",
       "      <td>480</td>\n",
       "      <td>Urgent</td>\n",
       "      <td>2020-05-03</td>\n",
       "      <td>Abnormal</td>\n",
       "      <td>3</td>\n",
       "      <td>270</td>\n",
       "      <td>4</td>\n",
       "      <td>15</td>\n",
       "      <td>NaN</td>\n",
       "      <td>NaN</td>\n",
       "      <td>NaN</td>\n",
       "      <td>DISCHARGED</td>\n",
       "    </tr>\n",
       "    <tr>\n",
       "      <th>4</th>\n",
       "      <td>4</td>\n",
       "      <td>2021-07-09</td>\n",
       "      <td>18086.344184</td>\n",
       "      <td>477</td>\n",
       "      <td>Urgent</td>\n",
       "      <td>2021-08-02</td>\n",
       "      <td>Normal</td>\n",
       "      <td>4</td>\n",
       "      <td>106</td>\n",
       "      <td>2</td>\n",
       "      <td>29</td>\n",
       "      <td>Persistent cough and shortness of breath</td>\n",
       "      <td>Prescribed a combination of inhaled bronchodil...</td>\n",
       "      <td>J45.909 - Unspecified asthma, uncomplicated</td>\n",
       "      <td>DISCHARGED</td>\n",
       "    </tr>\n",
       "  </tbody>\n",
       "</table>\n",
       "</div>"
      ],
      "text/plain": [
       "   patient_id date_of_admission  billing_amount  room_number admission_type  \\\n",
       "0           0        2022-11-17    37490.983364          146       Elective   \n",
       "1           1        2023-06-01    47304.064845          404      Emergency   \n",
       "2           2        2019-01-09    36874.896997          292      Emergency   \n",
       "3           3        2020-05-02    23303.322092          480         Urgent   \n",
       "4           4        2021-07-09    18086.344184          477         Urgent   \n",
       "\n",
       "  discharge_date  test_results  visit_id  physician_id  payer_id  hospital_id  \\\n",
       "0     2022-12-01  Inconclusive         0           102         1            0   \n",
       "1            NaN        Normal         1           435         4            5   \n",
       "2     2019-02-08        Normal         2           348         2            6   \n",
       "3     2020-05-03      Abnormal         3           270         4           15   \n",
       "4     2021-08-02        Normal         4           106         2           29   \n",
       "\n",
       "                            chief_complaint  \\\n",
       "0                                       NaN   \n",
       "1                                       NaN   \n",
       "2                                       NaN   \n",
       "3                                       NaN   \n",
       "4  Persistent cough and shortness of breath   \n",
       "\n",
       "                               treatment_description  \\\n",
       "0                                                NaN   \n",
       "1                                                NaN   \n",
       "2                                                NaN   \n",
       "3                                                NaN   \n",
       "4  Prescribed a combination of inhaled bronchodil...   \n",
       "\n",
       "                             primary_diagnosis visit_status  \n",
       "0                                          NaN   DISCHARGED  \n",
       "1                                          NaN         OPEN  \n",
       "2                                          NaN   DISCHARGED  \n",
       "3                                          NaN   DISCHARGED  \n",
       "4  J45.909 - Unspecified asthma, uncomplicated   DISCHARGED  "
      ]
     },
     "execution_count": 55,
     "metadata": {},
     "output_type": "execute_result"
    }
   ],
   "source": [
    "data = pd.read_csv(\"build_LLM_RAG_chatbot_with_langchain/visits.csv\")\n",
    "print(data.shape)\n",
    "data.head()"
   ]
  },
  {
   "cell_type": "markdown",
   "id": "f2f8fe1f-08d8-4525-ba54-c3d28d6ce8db",
   "metadata": {},
   "source": [
    "# Step 3. Neo4j"
   ]
  },
  {
   "cell_type": "code",
   "execution_count": null,
   "id": "fa1b6e65-3fcf-4edd-96b9-2cf8f08d07ee",
   "metadata": {},
   "outputs": [],
   "source": [
    "- Nodes (Patient, Visit, Payer)\n",
    "- Relationships (Has, Covered_by)\n",
    "- Properties (associated to Patient, Has, Covered_by, Payer)"
   ]
  },
  {
   "cell_type": "markdown",
   "id": "d17dfbd8-3cd3-4d39-9a2c-9bca95375f06",
   "metadata": {},
   "source": [
    "## ETL"
   ]
  },
  {
   "cell_type": "code",
   "execution_count": 68,
   "id": "e003962b-db64-421f-8b14-15430802c5b2",
   "metadata": {},
   "outputs": [],
   "source": [
    "import os\n",
    "import logging\n",
    "#from retry import retry\n",
    "from neo4j import GraphDatabase\n",
    "\n",
    "root_dir = \"https://raw.githubusercontent.com/hfhoffman1144/langchain_neo4j_rag_app/main/data/\"\n",
    "\n",
    "# Paths to CSV files containing hospital data\n",
    "#HOSPITALS_CSV_PATH = \"file:///build_LLM_RAG_chatbot_with_langchain/hospitals.csv\"\n",
    "HOSPITALS_CSV_PATH = root_dir + \"hospitals.csv\"\n",
    "PAYERS_CSV_PATH = root_dir + \"payers.csv\"\n",
    "PHYSICIANS_CSV_PATH = root_dir + \"physicians.csv\"\n",
    "PATIENTS_CSV_PATH = root_dir + \"patients.csv\"\n",
    "VISITS_CSV_PATH = root_dir + \"visits.csv\"\n",
    "REVIEWS_CSV_PATH = root_dir + \"reviews.csv\"\n",
    "EXAMPLE_CYPHER_CSV_PATH = root_dir + \"example_cypher.csv\"\n",
    "\n",
    "# Neo4j config\n",
    "NEO4J_URI = \"bolt://neo4j:7687\"\n",
    "NEO4J_USERNAME = \"neo4j\"\n",
    "NEO4J_PASSWORD = \"testtest\"\n",
    "\n",
    "NODES = [\"Hospital\", \"Payer\", \"Physician\", \"Patient\", \"Visit\", \"Review\", \"Question\"]\n",
    "\n",
    "driver = GraphDatabase.driver(NEO4J_URI, auth=(NEO4J_USERNAME, NEO4J_PASSWORD))\n",
    "\n",
    "driver.verify_connectivity()"
   ]
  },
  {
   "cell_type": "code",
   "execution_count": 78,
   "id": "f137ee6c-1586-4aef-8ccd-cc03b94f5f07",
   "metadata": {},
   "outputs": [],
   "source": [
    "import hneo4j\n",
    "\n",
    "hneo4j.delete_all(driver)"
   ]
  },
  {
   "cell_type": "code",
   "execution_count": 79,
   "id": "4a1ba740-9014-4c1d-81de-e3ea194223fb",
   "metadata": {},
   "outputs": [],
   "source": [
    "def _set_uniqueness_constraints(tx, node):\n",
    "    query = f\"\"\"CREATE CONSTRAINT IF NOT EXISTS FOR (n:{node})\n",
    "        REQUIRE n.id IS UNIQUE;\"\"\"\n",
    "    _ = tx.run(query, {})\n",
    "\n",
    "\n",
    "with driver.session(database=\"neo4j\") as session:\n",
    "    for node in NODES:\n",
    "        session.execute_write(_set_uniqueness_constraints, node)"
   ]
  },
  {
   "cell_type": "code",
   "execution_count": 80,
   "id": "cd79499b-90a2-4129-9632-c3bca621a103",
   "metadata": {},
   "outputs": [],
   "source": [
    "with driver.session(database=\"neo4j\") as session:\n",
    "    query = f\"\"\"\n",
    "    LOAD CSV WITH HEADERS\n",
    "    FROM '{HOSPITALS_CSV_PATH}' AS hospitals\n",
    "    MERGE (h:Hospital {{id: toInteger(hospitals.hospital_id),\n",
    "                        name: hospitals.hospital_name,\n",
    "                        state_name: hospitals.hospital_state}});\n",
    "    \"\"\"\n",
    "    _ = session.run(query, {})"
   ]
  },
  {
   "cell_type": "code",
   "execution_count": 81,
   "id": "b5c32168-a234-4897-94b2-d60ed056cf00",
   "metadata": {},
   "outputs": [
    {
     "name": "stdout",
     "output_type": "stream",
     "text": [
      "Loading payer nodes\n",
      "Loading physician nodes\n",
      "Loading visit nodes\n",
      "Loading patient nodes\n",
      "Loading review nodes\n",
      "Loading question nodes\n",
      "Loading 'AT' relationships\n",
      "Loading 'WRITES' relationships\n",
      "Loading 'TREATS' relationships\n",
      "Loading 'COVERED_BY' relationships\n",
      "Loading 'HAS' relationships\n",
      "Loading 'EMPLOYS' relationships\n"
     ]
    }
   ],
   "source": [
    "with driver.session(database=\"neo4j\") as session:\n",
    "    query = f\"\"\"\n",
    "    LOAD CSV WITH HEADERS\n",
    "    FROM '{HOSPITALS_CSV_PATH}' AS hospitals\n",
    "    MERGE (h:Hospital {{id: toInteger(hospitals.hospital_id),\n",
    "                        name: hospitals.hospital_name,\n",
    "                        state_name: hospitals.hospital_state}});\n",
    "    \"\"\"\n",
    "    _ = session.run(query, {})\n",
    "\n",
    "print(\"Loading payer nodes\")\n",
    "with driver.session(database=\"neo4j\") as session:\n",
    "    query = f\"\"\"\n",
    "    LOAD CSV WITH HEADERS\n",
    "    FROM '{PAYERS_CSV_PATH}' AS payers\n",
    "    MERGE (p:Payer {{id: toInteger(payers.payer_id),\n",
    "    name: payers.payer_name}});\n",
    "    \"\"\"\n",
    "    _ = session.run(query, {})\n",
    "\n",
    "print(\"Loading physician nodes\")\n",
    "with driver.session(database=\"neo4j\") as session:\n",
    "    query = f\"\"\"\n",
    "    LOAD CSV WITH HEADERS\n",
    "    FROM '{PHYSICIANS_CSV_PATH}' AS physicians\n",
    "    MERGE (p:Physician {{id: toInteger(physicians.physician_id),\n",
    "                        name: physicians.physician_name,\n",
    "                        dob: physicians.physician_dob,\n",
    "                        grad_year: physicians.physician_grad_year,\n",
    "                        school: physicians.medical_school,\n",
    "                        salary: toFloat(physicians.salary)\n",
    "                        }});\n",
    "    \"\"\"\n",
    "    _ = session.run(query, {})\n",
    "\n",
    "print(\"Loading visit nodes\")\n",
    "with driver.session(database=\"neo4j\") as session:\n",
    "    query = f\"\"\"\n",
    "    LOAD CSV WITH HEADERS FROM '{VISITS_CSV_PATH}' AS visits\n",
    "    MERGE (v:Visit {{id: toInteger(visits.visit_id),\n",
    "                        room_number: toInteger(visits.room_number),\n",
    "                        admission_type: visits.admission_type,\n",
    "                        admission_date: visits.date_of_admission,\n",
    "                        test_results: visits.test_results,\n",
    "                        status: visits.visit_status\n",
    "    }})\n",
    "        ON CREATE SET v.chief_complaint = visits.chief_complaint\n",
    "        ON MATCH SET v.chief_complaint = visits.chief_complaint\n",
    "        ON CREATE SET v.treatment_description =\n",
    "        visits.treatment_description\n",
    "        ON MATCH SET v.treatment_description = visits.treatment_description\n",
    "        ON CREATE SET v.diagnosis = visits.primary_diagnosis\n",
    "        ON MATCH SET v.diagnosis = visits.primary_diagnosis\n",
    "        ON CREATE SET v.discharge_date = visits.discharge_date\n",
    "        ON MATCH SET v.discharge_date = visits.discharge_date\n",
    "     \"\"\"\n",
    "    _ = session.run(query, {})\n",
    "\n",
    "print(\"Loading patient nodes\")\n",
    "with driver.session(database=\"neo4j\") as session:\n",
    "    query = f\"\"\"\n",
    "    LOAD CSV WITH HEADERS\n",
    "    FROM '{PATIENTS_CSV_PATH}' AS patients\n",
    "    MERGE (p:Patient {{id: toInteger(patients.patient_id),\n",
    "                    name: patients.patient_name,\n",
    "                    sex: patients.patient_sex,\n",
    "                    dob: patients.patient_dob,\n",
    "                    blood_type: patients.patient_blood_type\n",
    "                    }});\n",
    "    \"\"\"\n",
    "    _ = session.run(query, {})\n",
    "\n",
    "print(\"Loading review nodes\")\n",
    "with driver.session(database=\"neo4j\") as session:\n",
    "    query = f\"\"\"\n",
    "    LOAD CSV WITH HEADERS\n",
    "    FROM '{REVIEWS_CSV_PATH}' AS reviews\n",
    "    MERGE (r:Review {{id: toInteger(reviews.review_id),\n",
    "                     text: reviews.review,\n",
    "                     patient_name: reviews.patient_name,\n",
    "                     physician_name: reviews.physician_name,\n",
    "                     hospital_name: reviews.hospital_name\n",
    "                    }});\n",
    "    \"\"\"\n",
    "    _ = session.run(query, {})\n",
    "\n",
    "print(\"Loading question nodes\")\n",
    "with driver.session(database=\"neo4j\") as session:\n",
    "    query = f\"\"\"\n",
    "    LOAD CSV WITH HEADERS\n",
    "    FROM '{EXAMPLE_CYPHER_CSV_PATH}' AS questions\n",
    "    MERGE (Q:Question {{\n",
    "                     question: questions.question,\n",
    "                     cypher: questions.cypher\n",
    "                    }});\n",
    "    \"\"\"\n",
    "    _ = session.run(query, {})\n",
    "\n",
    "print(\"Loading 'AT' relationships\")\n",
    "with driver.session(database=\"neo4j\") as session:\n",
    "    query = f\"\"\"\n",
    "    LOAD CSV WITH HEADERS FROM '{VISITS_CSV_PATH}' AS row\n",
    "    MATCH (source: `Visit` {{ `id`: toInteger(trim(row.`visit_id`)) }})\n",
    "    MATCH (target: `Hospital` {{ `id`:\n",
    "    toInteger(trim(row.`hospital_id`))}})\n",
    "    MERGE (source)-[r: `AT`]->(target)\n",
    "    \"\"\"\n",
    "    _ = session.run(query, {})\n",
    "\n",
    "print(\"Loading 'WRITES' relationships\")\n",
    "with driver.session(database=\"neo4j\") as session:\n",
    "    query = f\"\"\"\n",
    "    LOAD CSV WITH HEADERS FROM '{REVIEWS_CSV_PATH}' AS reviews\n",
    "        MATCH (v:Visit {{id: toInteger(reviews.visit_id)}})\n",
    "        MATCH (r:Review {{id: toInteger(reviews.review_id)}})\n",
    "        MERGE (v)-[writes:WRITES]->(r)\n",
    "    \"\"\"\n",
    "    _ = session.run(query, {})\n",
    "\n",
    "print(\"Loading 'TREATS' relationships\")\n",
    "with driver.session(database=\"neo4j\") as session:\n",
    "    query = f\"\"\"\n",
    "    LOAD CSV WITH HEADERS FROM '{VISITS_CSV_PATH}' AS visits\n",
    "        MATCH (p:Physician {{id: toInteger(visits.physician_id)}})\n",
    "        MATCH (v:Visit {{id: toInteger(visits.visit_id)}})\n",
    "        MERGE (p)-[treats:TREATS]->(v)\n",
    "    \"\"\"\n",
    "    _ = session.run(query, {})\n",
    "\n",
    "print(\"Loading 'COVERED_BY' relationships\")\n",
    "with driver.session(database=\"neo4j\") as session:\n",
    "    query = f\"\"\"\n",
    "    LOAD CSV WITH HEADERS FROM '{VISITS_CSV_PATH}' AS visits\n",
    "        MATCH (v:Visit {{id: toInteger(visits.visit_id)}})\n",
    "        MATCH (p:Payer {{id: toInteger(visits.payer_id)}})\n",
    "        MERGE (v)-[covered_by:COVERED_BY]->(p)\n",
    "        ON CREATE SET\n",
    "            covered_by.service_date = visits.discharge_date,\n",
    "            covered_by.billing_amount = toFloat(visits.billing_amount)\n",
    "    \"\"\"\n",
    "    _ = session.run(query, {})\n",
    "\n",
    "print(\"Loading 'HAS' relationships\")\n",
    "with driver.session(database=\"neo4j\") as session:\n",
    "    query = f\"\"\"\n",
    "    LOAD CSV WITH HEADERS FROM '{VISITS_CSV_PATH}' AS visits\n",
    "        MATCH (p:Patient {{id: toInteger(visits.patient_id)}})\n",
    "        MATCH (v:Visit {{id: toInteger(visits.visit_id)}})\n",
    "        MERGE (p)-[has:HAS]->(v)\n",
    "    \"\"\"\n",
    "    _ = session.run(query, {})\n",
    "\n",
    "print(\"Loading 'EMPLOYS' relationships\")\n",
    "with driver.session(database=\"neo4j\") as session:\n",
    "    query = f\"\"\"\n",
    "    LOAD CSV WITH HEADERS FROM '{VISITS_CSV_PATH}' AS visits\n",
    "        MATCH (h:Hospital {{id: toInteger(visits.hospital_id)}})\n",
    "        MATCH (p:Physician {{id: toInteger(visits.physician_id)}})\n",
    "        MERGE (h)-[employs:EMPLOYS]->(p)\n",
    "    \"\"\"\n",
    "    _ = session.run(query, {})"
   ]
  },
  {
   "cell_type": "code",
   "execution_count": 87,
   "id": "d751c8a2-b6a1-42cd-a836-5e47f08ef619",
   "metadata": {},
   "outputs": [
    {
     "name": "stdout",
     "output_type": "stream",
     "text": [
      "Node properties are the following:\n",
      "Hospital {id: INTEGER, name: STRING, state_name: STRING},Payer {name: STRING, id: INTEGER},Physician {salary: FLOAT, dob: STRING, grad_year: STRING, name: STRING, id: INTEGER, school: STRING},Patient {id: INTEGER, dob: STRING, blood_type: STRING, sex: STRING, name: STRING},Visit {treatment_description: STRING, diagnosis: STRING, id: INTEGER, status: STRING, discharge_date: STRING, admission_type: STRING, test_results: STRING, admission_date: STRING, room_number: INTEGER, chief_complaint: STRING},Review {hospital_name: STRING, patient_name: STRING, physician_name: STRING, text: STRING, id: INTEGER},Question {cypher: STRING, question: STRING}\n",
      "Relationship properties are the following:\n",
      "COVERED_BY {service_date: STRING, billing_amount: FLOAT}\n",
      "The relationships are the following:\n",
      "(:Hospital)-[:EMPLOYS]->(:Physician),(:Physician)-[:TREATS]->(:Visit),(:Patient)-[:HAS]->(:Visit),(:Visit)-[:AT]->(:Hospital),(:Visit)-[:COVERED_BY]->(:Payer),(:Visit)-[:WRITES]->(:Review)\n"
     ]
    }
   ],
   "source": [
    "from langchain_community.graphs import Neo4jGraph\n",
    "graph = Neo4jGraph(url=NEO4J_URI, username=NEO4J_USERNAME, password=NEO4J_PASSWORD)\n",
    "\n",
    "graph.refresh_schema()\n",
    "\n",
    "print(graph.schema)"
   ]
  },
  {
   "cell_type": "code",
   "execution_count": 92,
   "id": "5618ecfd-f17c-4a69-998e-9700e8fd94cc",
   "metadata": {},
   "outputs": [
    {
     "data": {
      "text/plain": [
       "str"
      ]
     },
     "execution_count": 92,
     "metadata": {},
     "output_type": "execute_result"
    }
   ],
   "source": [
    "type(schema)"
   ]
  },
  {
   "cell_type": "code",
   "execution_count": 90,
   "id": "2e2989de-de88-42dd-b5f6-c52594bc275a",
   "metadata": {},
   "outputs": [
    {
     "ename": "TypeError",
     "evalue": "string indices must be integers",
     "output_type": "error",
     "traceback": [
      "\u001b[0;31m---------------------------------------------------------------------------\u001b[0m",
      "\u001b[0;31mTypeError\u001b[0m                                 Traceback (most recent call last)",
      "Cell \u001b[0;32mIn[90], line 15\u001b[0m\n\u001b[1;32m     11\u001b[0m net \u001b[38;5;241m=\u001b[39m Network(cdn_resources \u001b[38;5;241m=\u001b[39m \u001b[38;5;124m\"\u001b[39m\u001b[38;5;124mremote\u001b[39m\u001b[38;5;124m\"\u001b[39m, directed \u001b[38;5;241m=\u001b[39m \u001b[38;5;28;01mTrue\u001b[39;00m, height \u001b[38;5;241m=\u001b[39m \u001b[38;5;124m'\u001b[39m\u001b[38;5;124m500px\u001b[39m\u001b[38;5;124m'\u001b[39m,width \u001b[38;5;241m=\u001b[39m \u001b[38;5;124m'\u001b[39m\u001b[38;5;124m100\u001b[39m\u001b[38;5;124m%\u001b[39m\u001b[38;5;124m'\u001b[39m,\n\u001b[1;32m     12\u001b[0m           notebook \u001b[38;5;241m=\u001b[39m \u001b[38;5;28;01mTrue\u001b[39;00m)\n\u001b[1;32m     14\u001b[0m \u001b[38;5;66;03m# Add nodes and edges from the schema to the Pyvis graph\u001b[39;00m\n\u001b[0;32m---> 15\u001b[0m \u001b[38;5;28;01mfor\u001b[39;00m label \u001b[38;5;129;01min\u001b[39;00m \u001b[43mschema\u001b[49m\u001b[43m[\u001b[49m\u001b[38;5;124;43m'\u001b[39;49m\u001b[38;5;124;43mlabels\u001b[39;49m\u001b[38;5;124;43m'\u001b[39;49m\u001b[43m]\u001b[49m:\n\u001b[1;32m     16\u001b[0m     net\u001b[38;5;241m.\u001b[39madd_node(label, label\u001b[38;5;241m=\u001b[39mlabel)\n\u001b[1;32m     18\u001b[0m \u001b[38;5;28;01mfor\u001b[39;00m relationship \u001b[38;5;129;01min\u001b[39;00m schema[\u001b[38;5;124m'\u001b[39m\u001b[38;5;124mrelationships\u001b[39m\u001b[38;5;124m'\u001b[39m]:\n",
      "\u001b[0;31mTypeError\u001b[0m: string indices must be integers"
     ]
    }
   ],
   "source": [
    "from pyvis.network import Network\n",
    "\n",
    "# Refresh the schema\n",
    "graph.refresh_schema()\n",
    "\n",
    "# Extract the schema\n",
    "schema = graph.schema\n",
    "\n",
    "# Create a Pyvis network graph\n",
    "#net = Network(notebook=True)\n",
    "net = Network(cdn_resources = \"remote\", directed = True, height = '500px',width = '100%',\n",
    "          notebook = True)\n",
    "\n",
    "# Add nodes and edges from the schema to the Pyvis graph\n",
    "for label in schema['labels']:\n",
    "    net.add_node(label, label=label)\n",
    "\n",
    "for relationship in schema['relationships']:\n",
    "    start_label = relationship['start_node_label']\n",
    "    end_label = relationship['end_node_label']\n",
    "    rel_type = relationship['type']\n",
    "    net.add_edge(start_label, end_label, title=rel_type)\n",
    "\n",
    "# Show the graph\n",
    "net.show(\"neo4j_schema.html\")"
   ]
  },
  {
   "cell_type": "code",
   "execution_count": 82,
   "id": "7655d607-b47e-466b-99a6-b1366e1bea4d",
   "metadata": {},
   "outputs": [
    {
     "name": "stdout",
     "output_type": "stream",
     "text": [
      "graph.html\n"
     ]
    },
    {
     "data": {
      "text/html": [
       "\n",
       "        <iframe\n",
       "            width=\"100%\"\n",
       "            height=\"500px\"\n",
       "            src=\"graph.html\"\n",
       "            frameborder=\"0\"\n",
       "            allowfullscreen\n",
       "            \n",
       "        ></iframe>\n",
       "        "
      ],
      "text/plain": [
       "<IPython.lib.display.IFrame at 0xffff38b1e140>"
      ]
     },
     "execution_count": 82,
     "metadata": {},
     "output_type": "execute_result"
    }
   ],
   "source": [
    "with driver.session(database=\"neo4j\") as session:\n",
    "    net = hneo4j.plot_graph(session)\n",
    "net.show(\"graph.html\")"
   ]
  }
 ],
 "metadata": {
  "kernelspec": {
   "display_name": "Python 3 (ipykernel)",
   "language": "python",
   "name": "python3"
  },
  "language_info": {
   "codemirror_mode": {
    "name": "ipython",
    "version": 3
   },
   "file_extension": ".py",
   "mimetype": "text/x-python",
   "name": "python",
   "nbconvert_exporter": "python",
   "pygments_lexer": "ipython3",
   "version": "3.10.12"
  }
 },
 "nbformat": 4,
 "nbformat_minor": 5
}
