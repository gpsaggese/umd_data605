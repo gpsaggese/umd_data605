{
 "cells": [
  {
   "cell_type": "code",
   "execution_count": 2,
   "id": "8b3c9b15-82b9-4431-8fb9-8ed46fc76fb0",
   "metadata": {},
   "outputs": [],
   "source": [
    "import llms"
   ]
  },
  {
   "cell_type": "code",
   "execution_count": 5,
   "id": "59aaca5a-d69d-48a0-9c1e-73acd7f9a1e1",
   "metadata": {},
   "outputs": [
    {
     "name": "stdout",
     "output_type": "stream",
     "text": [
      "10\n"
     ]
    }
   ],
   "source": [
    "model = llms.init('gpt-4')\n",
    "result = model.complete(\"what is 5+5\")\n",
    "\n",
    "print(result.text)"
   ]
  },
  {
   "cell_type": "code",
   "execution_count": null,
   "id": "675c4668-0cec-4da0-97b6-c2a5710f6e58",
   "metadata": {},
   "outputs": [],
   "source": []
  },
  {
   "cell_type": "code",
   "execution_count": null,
   "id": "ceafe073-a6b4-4309-8f42-9b471eefd70a",
   "metadata": {},
   "outputs": [],
   "source": []
  },
  {
   "cell_type": "code",
   "execution_count": null,
   "id": "21e8f791-9df2-444d-b604-37841d587aa5",
   "metadata": {},
   "outputs": [],
   "source": []
  }
 ],
 "metadata": {
  "jupytext": {
   "formats": "ipynb,auto:light"
  },
  "kernelspec": {
   "display_name": "Python 3 (ipykernel)",
   "language": "python",
   "name": "python3"
  },
  "language_info": {
   "codemirror_mode": {
    "name": "ipython",
    "version": 3
   },
   "file_extension": ".py",
   "mimetype": "text/x-python",
   "name": "python",
   "nbconvert_exporter": "python",
   "pygments_lexer": "ipython3",
   "version": "3.10.12"
  }
 },
 "nbformat": 4,
 "nbformat_minor": 5
}
