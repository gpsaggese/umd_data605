{
 "cells": [
  {
   "cell_type": "code",
   "execution_count": 1,
   "id": "b3b8948a-0add-46cd-b790-2221811b20cb",
   "metadata": {},
   "outputs": [
    {
     "name": "stdout",
     "output_type": "stream",
     "text": [
      "\u001b[33mWARNING: Running pip as the 'root' user can result in broken permissions and conflicting behaviour with the system package manager, possibly rendering your system unusable.It is recommended to use a virtual environment instead: https://pip.pypa.io/warnings/venv. Use the --root-user-action option if you know what you are doing and want to suppress this warning.\u001b[0m\u001b[33m\n",
      "\u001b[0m"
     ]
    }
   ],
   "source": [
    "!pip install --quiet jupyterlab-vim jupytex\n",
    "!jupyter labextension enable\n",
    "\n",
    "%load_ext autoreload\n",
    "%autoreload 2"
   ]
  },
  {
   "cell_type": "code",
   "execution_count": 2,
   "id": "ee7e0ee2-645a-47c9-ac0c-5830782b607c",
   "metadata": {},
   "outputs": [
    {
     "name": "stdout",
     "output_type": "stream",
     "text": [
      "\u001b[33mWARNING: Running pip as the 'root' user can result in broken permissions and conflicting behaviour with the system package manager, possibly rendering your system unusable.It is recommended to use a virtual environment instead: https://pip.pypa.io/warnings/venv. Use the --root-user-action option if you know what you are doing and want to suppress this warning.\u001b[0m\u001b[33m\n",
      "\u001b[0m"
     ]
    }
   ],
   "source": [
    "!pip install --quiet neo4j"
   ]
  },
  {
   "cell_type": "code",
   "execution_count": 3,
   "id": "ba4afb3d-548b-4bd7-a85c-570d74b95397",
   "metadata": {},
   "outputs": [
    {
     "name": "stdout",
     "output_type": "stream",
     "text": [
      "5.22.0\n"
     ]
    }
   ],
   "source": [
    "import neo4j\n",
    "print(neo4j.__version__)"
   ]
  },
  {
   "cell_type": "code",
   "execution_count": 237,
   "id": "cbc63134-a4d6-4f17-94c0-06a74fdb0f64",
   "metadata": {},
   "outputs": [],
   "source": [
    "import helpers.hdbg as hdbg\n",
    "import helpers.hprint as hprint\n",
    "import hneo4j\n",
    "\n",
    "from hneo4j import to_str, print_\n",
    "\n",
    "# Force reload.\n",
    "# import importlib\n",
    "# importlib.reload(hneo4j)"
   ]
  },
  {
   "cell_type": "markdown",
   "id": "32b57359-8d7e-408e-acde-e1ce6d77323e",
   "metadata": {},
   "source": [
    "# Neo4j"
   ]
  },
  {
   "cell_type": "code",
   "execution_count": 179,
   "id": "3f775e01-735b-4ec9-b220-e25fbc207b44",
   "metadata": {},
   "outputs": [],
   "source": [
    "from neo4j import GraphDatabase, RoutingControl\n",
    "\n",
    "URI = \"neo4j://neo4j:7687\"\n",
    "#URI = \"bolt://neo4j:7687\"\n",
    "AUTH = (\"neo4j\", \"testtest\")\n",
    "\n",
    "# def add_friend(driver, name, friend_name):\n",
    "#     driver.execute_query(\n",
    "#         \"MERGE (a:Person {name: $name}) \"\n",
    "#         \"MERGE (friend:Person {name: $friend_name}) \"\n",
    "#         \"MERGE (a)-[:KNOWS]->(friend)\",\n",
    "#         name=name, friend_name=friend_name, database_=\"neo4j\",\n",
    "#     )\n",
    "\n",
    "\n",
    "# def print_friends(driver, name):\n",
    "#     records, _, _ = driver.execute_query(\n",
    "#         \"MATCH (a:Person)-[:KNOWS]->(friend) WHERE a.name = $name \"\n",
    "#         \"RETURN friend.name ORDER BY friend.name\",\n",
    "#         name=name, database_=\"neo4j\", routing_=RoutingControl.READ,\n",
    "#     )\n",
    "#     for record in records:\n",
    "#         print(record[\"friend.name\"])\n",
    "\n",
    "\n",
    "# with GraphDatabase.driver(URI, auth=AUTH) as driver:\n",
    "#     add_friend(driver, \"Arthur\", \"Guinevere\")\n",
    "#     add_friend(driver, \"Arthur\", \"Lancelot\")\n",
    "#     add_friend(driver, \"Arthur\", \"Merlin\")\n",
    "#     print_friends(driver, \"Arthur\")"
   ]
  },
  {
   "cell_type": "code",
   "execution_count": 180,
   "id": "2faeb943-4dd6-4380-b36b-0be6bb19a633",
   "metadata": {},
   "outputs": [],
   "source": [
    "driver = GraphDatabase.driver(URI, auth=AUTH)"
   ]
  },
  {
   "cell_type": "code",
   "execution_count": 181,
   "id": "296aa074-1aa5-4231-ad99-e56f8e1aaf13",
   "metadata": {},
   "outputs": [
    {
     "name": "stdout",
     "output_type": "stream",
     "text": [
      "Name: Neo4j Kernel, Version: ['5.22.0'], Edition: community\n"
     ]
    }
   ],
   "source": [
    "# Get the Neo4j version\n",
    "hneo4j.print_neo4j_version(driver)"
   ]
  },
  {
   "cell_type": "code",
   "execution_count": 182,
   "id": "55fcd425-a97c-4176-a95c-b78e5e856622",
   "metadata": {},
   "outputs": [],
   "source": [
    "session = driver.session(database=\"neo4j\")"
   ]
  },
  {
   "cell_type": "code",
   "execution_count": 183,
   "id": "1841df4b-349d-4150-9699-03c41c75fdf3",
   "metadata": {},
   "outputs": [],
   "source": [
    "# # TODO(gp): It seems that it's not easy to have multiple DBs in neo4j community edition.\n",
    "# with driver.session(database=\"system\") as session:\n",
    "#     # Run the CREATE DATABASE command\n",
    "#     session.run(f\"CREATE DATABASE {database_name}\")\n",
    "#     print(f\"Database '{database_name}' created successfully.\")\n",
    "\n",
    "# # Example usage\n",
    "# database_name = \"wine\""
   ]
  },
  {
   "cell_type": "code",
   "execution_count": 184,
   "id": "dd6b88e6-ff0c-42ba-81a7-4abceb8b998c",
   "metadata": {},
   "outputs": [
    {
     "name": "stdout",
     "output_type": "stream",
     "text": [
      "Number of nodes: 2\n",
      "Number of edges: 1\n"
     ]
    }
   ],
   "source": [
    "hneo4j.print_graph_stats(driver)"
   ]
  },
  {
   "cell_type": "markdown",
   "id": "71ebb133-e3b4-456b-9116-19b56af7e6af",
   "metadata": {},
   "source": [
    "# Example"
   ]
  },
  {
   "cell_type": "markdown",
   "id": "7663a899-e9be-4f46-8728-5e18ffbf3d00",
   "metadata": {},
   "source": [
    "- Every application using Neo4j needs a `driver` object\n",
    "- A `driver` object holds the details to the connection to a Neo4j database (e.g., URIs, credentials, and configuration)."
   ]
  },
  {
   "cell_type": "code",
   "execution_count": 185,
   "id": "866c0394-baef-46bd-aa31-edfe24632da0",
   "metadata": {},
   "outputs": [],
   "source": [
    "# Test the connection to the DB without executing any query.\n",
    "driver.verify_connectivity()"
   ]
  },
  {
   "cell_type": "code",
   "execution_count": 186,
   "id": "8aa43a77-7892-4a70-b6f1-2d055f05ad25",
   "metadata": {},
   "outputs": [
    {
     "data": {
      "text/plain": [
       "<neo4j.api.ServerInfo at 0xffff5e29b250>"
      ]
     },
     "execution_count": 186,
     "metadata": {},
     "output_type": "execute_result"
    }
   ],
   "source": [
    "driver.get_server_info()"
   ]
  },
  {
   "cell_type": "markdown",
   "id": "b9e17645-cb56-473e-b78f-4fb7100e544b",
   "metadata": {},
   "source": [
    "### Populate the graph with one node."
   ]
  },
  {
   "cell_type": "code",
   "execution_count": 337,
   "id": "8382dfa5-410a-4055-b6d3-f2a0c6e5e387",
   "metadata": {},
   "outputs": [
    {
     "name": "stdout",
     "output_type": "stream",
     "text": [
      "Number of nodes: 1\n",
      "Number of edges: 0\n",
      "Deleting ...\n",
      "Number of nodes: 0\n",
      "Number of edges: 0\n"
     ]
    }
   ],
   "source": [
    "hneo4j.print_graph_stats(driver)\n",
    "print(\"Deleting ...\")\n",
    "hneo4j.delete_all(driver)\n",
    "hneo4j.print_graph_stats(driver)"
   ]
  },
  {
   "cell_type": "code",
   "execution_count": 341,
   "id": "31d7237f-cfd6-4d2c-89ce-236af7b1eb26",
   "metadata": {},
   "outputs": [],
   "source": [
    "# Constraints help sanitize data inputs by preventing writes that don't satisfy certain criteria.\n",
    "# E.g., every `Wine` node in the graph should have a unique constraint.\n",
    "query = 'CREATE CONSTRAINT IF NOT EXISTS FOR (w:Wine) REQUIRE w.name IS UNIQUE'\n",
    "hneo4j.execute_query(driver, query)"
   ]
  },
  {
   "cell_type": "code",
   "execution_count": 344,
   "id": "fa672150-d1f4-4021-90f4-04fa58feb798",
   "metadata": {},
   "outputs": [
    {
     "ename": "ConstraintError",
     "evalue": "{code: Neo.ClientError.Schema.ConstraintValidationFailed} {message: Node(52) already exists with label `Wine` and property `name` = 'Prancing Wolf'}",
     "output_type": "error",
     "traceback": [
      "\u001b[0;31m---------------------------------------------------------------------------\u001b[0m",
      "\u001b[0;31mConstraintError\u001b[0m                           Traceback (most recent call last)",
      "Cell \u001b[0;32mIn[344], line 2\u001b[0m\n\u001b[1;32m      1\u001b[0m query \u001b[38;5;241m=\u001b[39m \u001b[38;5;124m'\u001b[39m\u001b[38;5;124mCREATE (w:Wine \u001b[39m\u001b[38;5;124m{\u001b[39m\u001b[38;5;124mname:\u001b[39m\u001b[38;5;124m\"\u001b[39m\u001b[38;5;124mPrancing Wolf\u001b[39m\u001b[38;5;124m\"\u001b[39m\u001b[38;5;124m, style: \u001b[39m\u001b[38;5;124m\"\u001b[39m\u001b[38;5;124mice wine\u001b[39m\u001b[38;5;124m\"\u001b[39m\u001b[38;5;124m, vintage: 2015})\u001b[39m\u001b[38;5;124m'\u001b[39m\n\u001b[0;32m----> 2\u001b[0m _ \u001b[38;5;241m=\u001b[39m \u001b[43mdriver\u001b[49m\u001b[38;5;241;43m.\u001b[39;49m\u001b[43mexecute_query\u001b[49m\u001b[43m(\u001b[49m\u001b[43mquery\u001b[49m\u001b[43m)\u001b[49m\n\u001b[1;32m      3\u001b[0m hneo4j\u001b[38;5;241m.\u001b[39mprint_graph_stats(driver)\n",
      "File \u001b[0;32m/usr/local/lib/python3.10/dist-packages/neo4j/_sync/driver.py:959\u001b[0m, in \u001b[0;36mDriver.execute_query\u001b[0;34m(self, query_, parameters_, routing_, database_, impersonated_user_, bookmark_manager_, auth_, result_transformer_, **kwargs)\u001b[0m\n\u001b[1;32m    956\u001b[0m     \u001b[38;5;28;01mraise\u001b[39;00m \u001b[38;5;167;01mValueError\u001b[39;00m(\u001b[38;5;124m\"\u001b[39m\u001b[38;5;124mInvalid routing control value: \u001b[39m\u001b[38;5;132;01m%r\u001b[39;00m\u001b[38;5;124m\"\u001b[39m\n\u001b[1;32m    957\u001b[0m                      \u001b[38;5;241m%\u001b[39m routing_)\n\u001b[1;32m    958\u001b[0m \u001b[38;5;28;01mwith\u001b[39;00m session\u001b[38;5;241m.\u001b[39m_pipelined_begin:\n\u001b[0;32m--> 959\u001b[0m     \u001b[38;5;28;01mreturn\u001b[39;00m \u001b[43msession\u001b[49m\u001b[38;5;241;43m.\u001b[39;49m\u001b[43m_run_transaction\u001b[49m\u001b[43m(\u001b[49m\n\u001b[1;32m    960\u001b[0m \u001b[43m        \u001b[49m\u001b[43maccess_mode\u001b[49m\u001b[43m,\u001b[49m\u001b[43m \u001b[49m\u001b[43mTelemetryAPI\u001b[49m\u001b[38;5;241;43m.\u001b[39;49m\u001b[43mDRIVER\u001b[49m\u001b[43m,\u001b[49m\n\u001b[1;32m    961\u001b[0m \u001b[43m        \u001b[49m\u001b[43mwork\u001b[49m\u001b[43m,\u001b[49m\u001b[43m \u001b[49m\u001b[43m(\u001b[49m\u001b[43mquery_str\u001b[49m\u001b[43m,\u001b[49m\u001b[43m \u001b[49m\u001b[43mparameters\u001b[49m\u001b[43m,\u001b[49m\u001b[43m \u001b[49m\u001b[43mresult_transformer_\u001b[49m\u001b[43m)\u001b[49m\u001b[43m,\u001b[49m\u001b[43m \u001b[49m\u001b[43m{\u001b[49m\u001b[43m}\u001b[49m\n\u001b[1;32m    962\u001b[0m \u001b[43m    \u001b[49m\u001b[43m)\u001b[49m\n",
      "File \u001b[0;32m/usr/local/lib/python3.10/dist-packages/neo4j/_sync/work/session.py:554\u001b[0m, in \u001b[0;36mSession._run_transaction\u001b[0;34m(self, access_mode, api, transaction_function, args, kwargs)\u001b[0m\n\u001b[1;32m    552\u001b[0m tx \u001b[38;5;241m=\u001b[39m \u001b[38;5;28mself\u001b[39m\u001b[38;5;241m.\u001b[39m_transaction\n\u001b[1;32m    553\u001b[0m \u001b[38;5;28;01mtry\u001b[39;00m:\n\u001b[0;32m--> 554\u001b[0m     result \u001b[38;5;241m=\u001b[39m \u001b[43mtransaction_function\u001b[49m\u001b[43m(\u001b[49m\u001b[43mtx\u001b[49m\u001b[43m,\u001b[49m\u001b[43m \u001b[49m\u001b[38;5;241;43m*\u001b[39;49m\u001b[43margs\u001b[49m\u001b[43m,\u001b[49m\u001b[43m \u001b[49m\u001b[38;5;241;43m*\u001b[39;49m\u001b[38;5;241;43m*\u001b[39;49m\u001b[43mkwargs\u001b[49m\u001b[43m)\u001b[49m\n\u001b[1;32m    555\u001b[0m \u001b[38;5;28;01mexcept\u001b[39;00m asyncio\u001b[38;5;241m.\u001b[39mCancelledError:\n\u001b[1;32m    556\u001b[0m     \u001b[38;5;66;03m# if cancellation callback has not been called yet:\u001b[39;00m\n\u001b[1;32m    557\u001b[0m     \u001b[38;5;28;01mif\u001b[39;00m \u001b[38;5;28mself\u001b[39m\u001b[38;5;241m.\u001b[39m_transaction \u001b[38;5;129;01mis\u001b[39;00m \u001b[38;5;129;01mnot\u001b[39;00m \u001b[38;5;28;01mNone\u001b[39;00m:\n",
      "File \u001b[0;32m/usr/local/lib/python3.10/dist-packages/neo4j/_sync/driver.py:1290\u001b[0m, in \u001b[0;36m_work\u001b[0;34m(tx, query, parameters, transformer)\u001b[0m\n\u001b[1;32m   1284\u001b[0m \u001b[38;5;28;01mdef\u001b[39;00m \u001b[38;5;21m_work\u001b[39m(\n\u001b[1;32m   1285\u001b[0m     tx: ManagedTransaction,\n\u001b[1;32m   1286\u001b[0m     query: te\u001b[38;5;241m.\u001b[39mLiteralString,\n\u001b[1;32m   1287\u001b[0m     parameters: t\u001b[38;5;241m.\u001b[39mDict[\u001b[38;5;28mstr\u001b[39m, t\u001b[38;5;241m.\u001b[39mAny],\n\u001b[1;32m   1288\u001b[0m     transformer: t\u001b[38;5;241m.\u001b[39mCallable[[Result], t\u001b[38;5;241m.\u001b[39mUnion[_T]]\n\u001b[1;32m   1289\u001b[0m ) \u001b[38;5;241m-\u001b[39m\u001b[38;5;241m>\u001b[39m _T:\n\u001b[0;32m-> 1290\u001b[0m     res \u001b[38;5;241m=\u001b[39m \u001b[43mtx\u001b[49m\u001b[38;5;241;43m.\u001b[39;49m\u001b[43mrun\u001b[49m\u001b[43m(\u001b[49m\u001b[43mquery\u001b[49m\u001b[43m,\u001b[49m\u001b[43m \u001b[49m\u001b[43mparameters\u001b[49m\u001b[43m)\u001b[49m\n\u001b[1;32m   1291\u001b[0m     \u001b[38;5;28;01mreturn\u001b[39;00m transformer(res)\n",
      "File \u001b[0;32m/usr/local/lib/python3.10/dist-packages/neo4j/_sync/work/transaction.py:172\u001b[0m, in \u001b[0;36mTransactionBase.run\u001b[0;34m(self, query, parameters, **kwparameters)\u001b[0m\n\u001b[1;32m    169\u001b[0m \u001b[38;5;28mself\u001b[39m\u001b[38;5;241m.\u001b[39m_results\u001b[38;5;241m.\u001b[39mappend(result)\n\u001b[1;32m    171\u001b[0m parameters \u001b[38;5;241m=\u001b[39m \u001b[38;5;28mdict\u001b[39m(parameters \u001b[38;5;129;01mor\u001b[39;00m {}, \u001b[38;5;241m*\u001b[39m\u001b[38;5;241m*\u001b[39mkwparameters)\n\u001b[0;32m--> 172\u001b[0m \u001b[43mresult\u001b[49m\u001b[38;5;241;43m.\u001b[39;49m\u001b[43m_tx_ready_run\u001b[49m\u001b[43m(\u001b[49m\u001b[43mquery\u001b[49m\u001b[43m,\u001b[49m\u001b[43m \u001b[49m\u001b[43mparameters\u001b[49m\u001b[43m)\u001b[49m\n\u001b[1;32m    174\u001b[0m \u001b[38;5;28;01mreturn\u001b[39;00m result\n",
      "File \u001b[0;32m/usr/local/lib/python3.10/dist-packages/neo4j/_sync/work/result.py:171\u001b[0m, in \u001b[0;36mResult._tx_ready_run\u001b[0;34m(self, query, parameters)\u001b[0m\n\u001b[1;32m    167\u001b[0m \u001b[38;5;28;01mdef\u001b[39;00m \u001b[38;5;21m_tx_ready_run\u001b[39m(\u001b[38;5;28mself\u001b[39m, query, parameters):\n\u001b[1;32m    168\u001b[0m     \u001b[38;5;66;03m# BEGIN+RUN does not carry any extra on the RUN message.\u001b[39;00m\n\u001b[1;32m    169\u001b[0m     \u001b[38;5;66;03m# BEGIN {extra}\u001b[39;00m\n\u001b[1;32m    170\u001b[0m     \u001b[38;5;66;03m# RUN \"query\" {parameters} {extra}\u001b[39;00m\n\u001b[0;32m--> 171\u001b[0m     \u001b[38;5;28;43mself\u001b[39;49m\u001b[38;5;241;43m.\u001b[39;49m\u001b[43m_run\u001b[49m\u001b[43m(\u001b[49m\u001b[43mquery\u001b[49m\u001b[43m,\u001b[49m\u001b[43m \u001b[49m\u001b[43mparameters\u001b[49m\u001b[43m,\u001b[49m\u001b[43m \u001b[49m\u001b[38;5;28;43;01mNone\u001b[39;49;00m\u001b[43m,\u001b[49m\u001b[43m \u001b[49m\u001b[38;5;28;43;01mNone\u001b[39;49;00m\u001b[43m,\u001b[49m\u001b[43m \u001b[49m\u001b[38;5;28;43;01mNone\u001b[39;49;00m\u001b[43m,\u001b[49m\u001b[43m \u001b[49m\u001b[38;5;28;43;01mNone\u001b[39;49;00m\u001b[43m,\u001b[49m\u001b[43m \u001b[49m\u001b[38;5;28;43;01mNone\u001b[39;49;00m\u001b[43m,\u001b[49m\u001b[43m \u001b[49m\u001b[38;5;28;43;01mNone\u001b[39;49;00m\u001b[43m)\u001b[49m\n",
      "File \u001b[0;32m/usr/local/lib/python3.10/dist-packages/neo4j/_sync/work/result.py:221\u001b[0m, in \u001b[0;36mResult._run\u001b[0;34m(self, query, parameters, db, imp_user, access_mode, bookmarks, notifications_min_severity, notifications_disabled_classifications)\u001b[0m\n\u001b[1;32m    219\u001b[0m \u001b[38;5;28mself\u001b[39m\u001b[38;5;241m.\u001b[39m_pull()\n\u001b[1;32m    220\u001b[0m \u001b[38;5;28mself\u001b[39m\u001b[38;5;241m.\u001b[39m_connection\u001b[38;5;241m.\u001b[39msend_all()\n\u001b[0;32m--> 221\u001b[0m \u001b[38;5;28;43mself\u001b[39;49m\u001b[38;5;241;43m.\u001b[39;49m\u001b[43m_attach\u001b[49m\u001b[43m(\u001b[49m\u001b[43m)\u001b[49m\n",
      "File \u001b[0;32m/usr/local/lib/python3.10/dist-packages/neo4j/_sync/work/result.py:409\u001b[0m, in \u001b[0;36mResult._attach\u001b[0;34m(self)\u001b[0m\n\u001b[1;32m    407\u001b[0m \u001b[38;5;28;01mif\u001b[39;00m \u001b[38;5;28mself\u001b[39m\u001b[38;5;241m.\u001b[39m_exhausted \u001b[38;5;129;01mis\u001b[39;00m \u001b[38;5;28;01mFalse\u001b[39;00m:\n\u001b[1;32m    408\u001b[0m     \u001b[38;5;28;01mwhile\u001b[39;00m \u001b[38;5;28mself\u001b[39m\u001b[38;5;241m.\u001b[39m_attached \u001b[38;5;129;01mis\u001b[39;00m \u001b[38;5;28;01mFalse\u001b[39;00m:\n\u001b[0;32m--> 409\u001b[0m         \u001b[38;5;28;43mself\u001b[39;49m\u001b[38;5;241;43m.\u001b[39;49m\u001b[43m_connection\u001b[49m\u001b[38;5;241;43m.\u001b[39;49m\u001b[43mfetch_message\u001b[49m\u001b[43m(\u001b[49m\u001b[43m)\u001b[49m\n",
      "File \u001b[0;32m/usr/local/lib/python3.10/dist-packages/neo4j/_sync/io/_common.py:178\u001b[0m, in \u001b[0;36mConnectionErrorHandler.__getattr__.<locals>.outer.<locals>.inner\u001b[0;34m(*args, **kwargs)\u001b[0m\n\u001b[1;32m    176\u001b[0m \u001b[38;5;28;01mdef\u001b[39;00m \u001b[38;5;21minner\u001b[39m(\u001b[38;5;241m*\u001b[39margs, \u001b[38;5;241m*\u001b[39m\u001b[38;5;241m*\u001b[39mkwargs):\n\u001b[1;32m    177\u001b[0m     \u001b[38;5;28;01mtry\u001b[39;00m:\n\u001b[0;32m--> 178\u001b[0m         \u001b[43mfunc\u001b[49m\u001b[43m(\u001b[49m\u001b[38;5;241;43m*\u001b[39;49m\u001b[43margs\u001b[49m\u001b[43m,\u001b[49m\u001b[43m \u001b[49m\u001b[38;5;241;43m*\u001b[39;49m\u001b[38;5;241;43m*\u001b[39;49m\u001b[43mkwargs\u001b[49m\u001b[43m)\u001b[49m\n\u001b[1;32m    179\u001b[0m     \u001b[38;5;28;01mexcept\u001b[39;00m (Neo4jError, ServiceUnavailable, SessionExpired) \u001b[38;5;28;01mas\u001b[39;00m exc:\n\u001b[1;32m    180\u001b[0m         \u001b[38;5;28;01massert\u001b[39;00m \u001b[38;5;129;01mnot\u001b[39;00m asyncio\u001b[38;5;241m.\u001b[39miscoroutinefunction(\u001b[38;5;28mself\u001b[39m\u001b[38;5;241m.\u001b[39m__on_error)\n",
      "File \u001b[0;32m/usr/local/lib/python3.10/dist-packages/neo4j/_sync/io/_bolt.py:855\u001b[0m, in \u001b[0;36mBolt.fetch_message\u001b[0;34m(self)\u001b[0m\n\u001b[1;32m    851\u001b[0m \u001b[38;5;66;03m# Receive exactly one message\u001b[39;00m\n\u001b[1;32m    852\u001b[0m tag, fields \u001b[38;5;241m=\u001b[39m \u001b[38;5;28mself\u001b[39m\u001b[38;5;241m.\u001b[39minbox\u001b[38;5;241m.\u001b[39mpop(\n\u001b[1;32m    853\u001b[0m     hydration_hooks\u001b[38;5;241m=\u001b[39m\u001b[38;5;28mself\u001b[39m\u001b[38;5;241m.\u001b[39mresponses[\u001b[38;5;241m0\u001b[39m]\u001b[38;5;241m.\u001b[39mhydration_hooks\n\u001b[1;32m    854\u001b[0m )\n\u001b[0;32m--> 855\u001b[0m res \u001b[38;5;241m=\u001b[39m \u001b[38;5;28;43mself\u001b[39;49m\u001b[38;5;241;43m.\u001b[39;49m\u001b[43m_process_message\u001b[49m\u001b[43m(\u001b[49m\u001b[43mtag\u001b[49m\u001b[43m,\u001b[49m\u001b[43m \u001b[49m\u001b[43mfields\u001b[49m\u001b[43m)\u001b[49m\n\u001b[1;32m    856\u001b[0m \u001b[38;5;28mself\u001b[39m\u001b[38;5;241m.\u001b[39midle_since \u001b[38;5;241m=\u001b[39m monotonic()\n\u001b[1;32m    857\u001b[0m \u001b[38;5;28;01mreturn\u001b[39;00m res\n",
      "File \u001b[0;32m/usr/local/lib/python3.10/dist-packages/neo4j/_sync/io/_bolt5.py:370\u001b[0m, in \u001b[0;36mBolt5x0._process_message\u001b[0;34m(self, tag, fields)\u001b[0m\n\u001b[1;32m    368\u001b[0m \u001b[38;5;28mself\u001b[39m\u001b[38;5;241m.\u001b[39m_server_state_manager\u001b[38;5;241m.\u001b[39mstate \u001b[38;5;241m=\u001b[39m \u001b[38;5;28mself\u001b[39m\u001b[38;5;241m.\u001b[39mbolt_states\u001b[38;5;241m.\u001b[39mFAILED\n\u001b[1;32m    369\u001b[0m \u001b[38;5;28;01mtry\u001b[39;00m:\n\u001b[0;32m--> 370\u001b[0m     \u001b[43mresponse\u001b[49m\u001b[38;5;241;43m.\u001b[39;49m\u001b[43mon_failure\u001b[49m\u001b[43m(\u001b[49m\u001b[43msummary_metadata\u001b[49m\u001b[43m \u001b[49m\u001b[38;5;129;43;01mor\u001b[39;49;00m\u001b[43m \u001b[49m\u001b[43m{\u001b[49m\u001b[43m}\u001b[49m\u001b[43m)\u001b[49m\n\u001b[1;32m    371\u001b[0m \u001b[38;5;28;01mexcept\u001b[39;00m (ServiceUnavailable, DatabaseUnavailable):\n\u001b[1;32m    372\u001b[0m     \u001b[38;5;28;01mif\u001b[39;00m \u001b[38;5;28mself\u001b[39m\u001b[38;5;241m.\u001b[39mpool:\n",
      "File \u001b[0;32m/usr/local/lib/python3.10/dist-packages/neo4j/_sync/io/_common.py:245\u001b[0m, in \u001b[0;36mResponse.on_failure\u001b[0;34m(self, metadata)\u001b[0m\n\u001b[1;32m    243\u001b[0m handler \u001b[38;5;241m=\u001b[39m \u001b[38;5;28mself\u001b[39m\u001b[38;5;241m.\u001b[39mhandlers\u001b[38;5;241m.\u001b[39mget(\u001b[38;5;124m\"\u001b[39m\u001b[38;5;124mon_summary\u001b[39m\u001b[38;5;124m\"\u001b[39m)\n\u001b[1;32m    244\u001b[0m Util\u001b[38;5;241m.\u001b[39mcallback(handler)\n\u001b[0;32m--> 245\u001b[0m \u001b[38;5;28;01mraise\u001b[39;00m Neo4jError\u001b[38;5;241m.\u001b[39mhydrate(\u001b[38;5;241m*\u001b[39m\u001b[38;5;241m*\u001b[39mmetadata)\n",
      "\u001b[0;31mConstraintError\u001b[0m: {code: Neo.ClientError.Schema.ConstraintValidationFailed} {message: Node(52) already exists with label `Wine` and property `name` = 'Prancing Wolf'}"
     ]
    }
   ],
   "source": [
    "query = 'CREATE (w:Wine {name:\"Prancing Wolf\", style: \"ice wine\", vintage: 2015})'\n",
    "_ = driver.execute_query(query)\n",
    "hneo4j.print_graph_stats(driver)"
   ]
  },
  {
   "cell_type": "markdown",
   "id": "1253af41-6122-4594-b15d-2864cfa433cf",
   "metadata": {},
   "source": [
    "## Performing a query using `driver`"
   ]
  },
  {
   "cell_type": "markdown",
   "id": "7d2387a9-e6d8-4a3a-b2ef-37a21f10f273",
   "metadata": {},
   "source": [
    "### Query returning the number of nodes"
   ]
  },
  {
   "cell_type": "code",
   "execution_count": 326,
   "id": "3ca3e553-a2a1-4033-b5e0-a790a56f07d1",
   "metadata": {},
   "outputs": [],
   "source": [
    "# `execute_query()` wraps lower level APIs (e.g., Sessions) and it's used for simple cases.\n",
    "query = \"MATCH(n) RETURN COUNT(n) AS node_count\"\n",
    "result = driver.execute_query(query)\n",
    "\n",
    "# The returned object is of type `Result`.\n",
    "hdbg.dassert_isinstance(result, neo4j.EagerResult)"
   ]
  },
  {
   "cell_type": "code",
   "execution_count": 327,
   "id": "351769cd-94c7-4e46-93ff-3944c2488113",
   "metadata": {},
   "outputs": [
    {
     "name": "stdout",
     "output_type": "stream",
     "text": [
      "records:\n",
      "  1 [\n",
      "      1 [\n",
      "      <str> node_count ->\n",
      "            <int> 0\n",
      "      ]\n",
      "\n",
      "  ]\n",
      "keys:\n",
      "  1 [\n",
      "      <str> node_count\n",
      "  ]\n",
      "\n"
     ]
    }
   ],
   "source": [
    "print(to_str(result))"
   ]
  },
  {
   "cell_type": "code",
   "execution_count": 328,
   "id": "ce67f994-1736-4cea-bdf7-0c32ec747ec6",
   "metadata": {},
   "outputs": [
    {
     "data": {
      "text/plain": [
       "0"
      ]
     },
     "execution_count": 328,
     "metadata": {},
     "output_type": "execute_result"
    }
   ],
   "source": [
    "result[0][0][\"node_count\"]"
   ]
  },
  {
   "cell_type": "code",
   "execution_count": 329,
   "id": "09d5a556-eaa1-479a-a3b5-00aae672064a",
   "metadata": {},
   "outputs": [
    {
     "name": "stdout",
     "output_type": "stream",
     "text": [
      "\u001b[1mrecords\u001b[0m= <class 'list'> [\u001b[38;5;241m<\u001b[39mRecord node_count\u001b[38;5;241m=\u001b[39m\u001b[38;5;241m0\u001b[39m\u001b[38;5;241m>\u001b[39m]\n",
      "\u001b[1msummary\u001b[0m= <class 'neo4j._work.summary.ResultSummary'> \u001b[38;5;241m<\u001b[39mneo4j\u001b[38;5;241m.\u001b[39m_work\u001b[38;5;241m.\u001b[39msummary\u001b[38;5;241m.\u001b[39mResultSummary \u001b[38;5;28mobject\u001b[39m at \u001b[38;5;241m0xffff5d8566e0\u001b[39m\u001b[38;5;241m>\u001b[39m\n",
      "\u001b[1mkeys\u001b[0m= <class 'list'> [\u001b[38;5;124m'\u001b[39m\u001b[38;5;124mnode_count\u001b[39m\u001b[38;5;124m'\u001b[39m]\n"
     ]
    }
   ],
   "source": [
    "# The result contains information about the query results and summary of the query.\n",
    "records, summary, keys = result\n",
    "\n",
    "# `result.records` is the list of records returned by the query.\n",
    "print_(records, \"records\")\n",
    "print_(summary, \"summary\")\n",
    "# `result.keys` is the list of keys returned by the query.\n",
    "print_(keys, \"keys\")"
   ]
  },
  {
   "cell_type": "code",
   "execution_count": 330,
   "id": "7181786a-660f-4be3-aeb9-04b65eb49ed9",
   "metadata": {},
   "outputs": [
    {
     "name": "stdout",
     "output_type": "stream",
     "text": [
      "<class 'neo4j._data.Record'> \u001b[38;5;241m<\u001b[39mRecord node_count\u001b[38;5;241m=\u001b[39m\u001b[38;5;241m0\u001b[39m\u001b[38;5;241m>\u001b[39m\n"
     ]
    }
   ],
   "source": [
    "# Extract the first `record` returned by the query.\n",
    "print_(records[0])"
   ]
  },
  {
   "cell_type": "code",
   "execution_count": 331,
   "id": "9cd551b4-f55e-4f14-8890-9fd7bb394938",
   "metadata": {},
   "outputs": [
    {
     "data": {
      "text/plain": [
       "0"
      ]
     },
     "execution_count": 331,
     "metadata": {},
     "output_type": "execute_result"
    }
   ],
   "source": [
    "# Access the result.\n",
    "records[0][\"node_count\"]"
   ]
  },
  {
   "cell_type": "markdown",
   "id": "e021536e-54ea-46cf-b13f-5f0838801902",
   "metadata": {},
   "source": [
    "### Query matching a node"
   ]
  },
  {
   "cell_type": "code",
   "execution_count": 332,
   "id": "a40ef7c9-de20-469f-b86e-05e02e5f6bf1",
   "metadata": {},
   "outputs": [
    {
     "name": "stdout",
     "output_type": "stream",
     "text": [
      "records:\n",
      "  0 [\n",
      "  ]\n",
      "keys:\n",
      "  1 [\n",
      "      <str> n\n",
      "  ]\n",
      "\n"
     ]
    }
   ],
   "source": [
    "# Return a node.\n",
    "query = \"MATCH(n:Wine) RETURN n\"\n",
    "result = driver.execute_query(query)\n",
    "print(to_str(result))"
   ]
  },
  {
   "cell_type": "code",
   "execution_count": 333,
   "id": "e6a68d36-378c-4bf3-afb7-da37068fe357",
   "metadata": {},
   "outputs": [
    {
     "name": "stdout",
     "output_type": "stream",
     "text": [
      "\u001b[1mrecords\u001b[0m= <class 'list'> []\n"
     ]
    },
    {
     "ename": "IndexError",
     "evalue": "list index out of range",
     "output_type": "error",
     "traceback": [
      "\u001b[0;31m---------------------------------------------------------------------------\u001b[0m",
      "\u001b[0;31mIndexError\u001b[0m                                Traceback (most recent call last)",
      "Cell \u001b[0;32mIn[333], line 3\u001b[0m\n\u001b[1;32m      1\u001b[0m records \u001b[38;5;241m=\u001b[39m result[\u001b[38;5;241m0\u001b[39m]\n\u001b[1;32m      2\u001b[0m print_(records, \u001b[38;5;124m\"\u001b[39m\u001b[38;5;124mrecords\u001b[39m\u001b[38;5;124m\"\u001b[39m)\n\u001b[0;32m----> 3\u001b[0m node \u001b[38;5;241m=\u001b[39m \u001b[43mrecords\u001b[49m\u001b[43m[\u001b[49m\u001b[38;5;241;43m0\u001b[39;49m\u001b[43m]\u001b[49m[\u001b[38;5;124m\"\u001b[39m\u001b[38;5;124mn\u001b[39m\u001b[38;5;124m\"\u001b[39m]\n\u001b[1;32m      4\u001b[0m print_(node, \u001b[38;5;124m\"\u001b[39m\u001b[38;5;124mnode\u001b[39m\u001b[38;5;124m\"\u001b[39m)\n",
      "\u001b[0;31mIndexError\u001b[0m: list index out of range"
     ]
    }
   ],
   "source": [
    "records = result[0]\n",
    "print_(records, \"records\")\n",
    "node = records[0][\"n\"]\n",
    "print_(node, \"node\")"
   ]
  },
  {
   "cell_type": "code",
   "execution_count": 334,
   "id": "b580d881-9877-4dd5-a64b-fd9349fe8707",
   "metadata": {},
   "outputs": [
    {
     "name": "stdout",
     "output_type": "stream",
     "text": [
      "0 [\n",
      "]\n",
      "\n"
     ]
    }
   ],
   "source": [
    "print(to_str(records))"
   ]
  },
  {
   "cell_type": "code",
   "execution_count": 162,
   "id": "82eeec1a-d814-4e06-8318-653a2ecf89cc",
   "metadata": {},
   "outputs": [
    {
     "name": "stdout",
     "output_type": "stream",
     "text": [
      "2015\n",
      "Prancing Wolf\n",
      "ice wine\n"
     ]
    }
   ],
   "source": [
    "# Access the properties of the node.\n",
    "print(node[\"vintage\"])\n",
    "print(node[\"name\"])\n",
    "print(node[\"style\"])"
   ]
  },
  {
   "cell_type": "markdown",
   "id": "176ee435-8417-487b-8cb8-fe65eb6b6edd",
   "metadata": {},
   "source": [
    "### Query returning multiple records"
   ]
  },
  {
   "cell_type": "code",
   "execution_count": 163,
   "id": "dfbfb70f-3285-4182-9f5b-00cd9fb4f0dc",
   "metadata": {},
   "outputs": [
    {
     "name": "stdout",
     "output_type": "stream",
     "text": [
      "records:\n",
      "  1 [\n",
      "      2 [\n",
      "      <str> name ->\n",
      "            <str> Prancing Wolf\n",
      "      <str> style ->\n",
      "            <str> ice wine\n",
      "      ]\n",
      "\n",
      "  ]\n",
      "keys:\n",
      "  2 [\n",
      "      <str> name\n",
      "      <str> style\n",
      "  ]\n",
      "\n"
     ]
    }
   ],
   "source": [
    "# Return records.\n",
    "query = \"MATCH(n:Wine) RETURN n.name AS name, n.style as style\"\n",
    "result = driver.execute_query(query)\n",
    "print(to_str(result))"
   ]
  },
  {
   "cell_type": "markdown",
   "id": "da138982-90ff-4ffd-9d3b-91990b570cc5",
   "metadata": {},
   "source": [
    "## Session"
   ]
  },
  {
   "cell_type": "markdown",
   "id": "6f2cdb7f-9539-4386-90e7-d40fc02e0970",
   "metadata": {},
   "source": [
    "- Database activity is coordinated through `Session`s and `Transaction`s\n",
    "- A `Session` is a container for a number of unit of works\n",
    "    - Provide guarantees of causal consistency\n",
    "    - Are lightweight opeation and not thread safe\n",
    "- A `Transaction` is a unit of work that is either committed in its entirety or rolled back in case of failure"
   ]
  },
  {
   "cell_type": "code",
   "execution_count": null,
   "id": "1f6323de-4967-4092-8d0a-25b5e24f5b2a",
   "metadata": {},
   "outputs": [],
   "source": [
    "# Create `Session`.\n",
    "session = driver.session(database=\"neo4j\")\n",
    "print(\"session.closed()=\", session.closed())\n",
    "\n",
    "# Run a query.\n",
    "query = \"MATCH (n) RETURN n\"\n",
    "_ = session.run(query)\n",
    "\n",
    "# Close `Session`.\n",
    "session.close()\n",
    "print(\"session.closed()=\", session.closed())"
   ]
  },
  {
   "cell_type": "code",
   "execution_count": null,
   "id": "baf5ef86-bd46-4d36-bbc5-6bcab0efefb5",
   "metadata": {},
   "outputs": [],
   "source": [
    "# Session can be created and destroyed using a block context, so that the session is closed\n",
    "# properly in case of exceptions.\n",
    "with driver.session() as session:\n",
    "    result = session.run(\"MATCH (n) RETURN n\")\n",
    "    # ..."
   ]
  },
  {
   "cell_type": "code",
   "execution_count": null,
   "id": "bda29c87-c2cb-432c-828c-f242d50522fc",
   "metadata": {},
   "outputs": [],
   "source": [
    "# Create `Session`.\n",
    "session = driver.session(database=\"neo4j\")\n",
    "print(\"session.closed()=\", session.closed())"
   ]
  },
  {
   "cell_type": "markdown",
   "id": "cd118d0a-2808-4ccd-afde-258904430af0",
   "metadata": {},
   "source": [
    "- `driver.execute_query()` is a higher-level function introduced to simplify query execution,\n",
    "  without needing to manage sessions and transactions explicitly.\n",
    "- `session.run()` is used for executing queries within a specific session and it\n",
    "  provides more control over the session and transaction lifecycle.                                             "
   ]
  },
  {
   "cell_type": "code",
   "execution_count": null,
   "id": "2264d29e-1218-43cc-adc0-7d961f61cad7",
   "metadata": {},
   "outputs": [],
   "source": [
    "# Count the number of nodes.\n",
    "query = \"MATCH(n) RETURN COUNT(n) AS node_count\"\n",
    "\n",
    "result = driver.execute_query(query)\n",
    "print(type(result))\n",
    "print(result)"
   ]
  },
  {
   "cell_type": "markdown",
   "id": "a5b406d6-538d-4e3f-9cd5-d313d2a5d701",
   "metadata": {},
   "source": [
    "- The returned result is typically a `neo4j.Result` object, which encapsulates the records, summary, and keys of the query execution."
   ]
  },
  {
   "cell_type": "code",
   "execution_count": null,
   "id": "c63fc51a-48b3-4dd3-8d9d-8e9bbb3dbfe0",
   "metadata": {},
   "outputs": [],
   "source": [
    "# Parse the result into its components.\n",
    "records, summary, keys = result\n",
    "print(type(records), records)\n",
    "print(type(summary), summary)\n",
    "print(type(keys), keys)"
   ]
  },
  {
   "cell_type": "markdown",
   "id": "c149c3bc-0d6a-4091-ad95-d35dafc6e135",
   "metadata": {},
   "source": [
    "- `neo4j._data.Record` is a class in the Neo4j Python driver that represents a\n",
    "  single row of results returned from a Cypher query\n",
    "- Each `Record` object contains a series of named fields, corresponding to the\n",
    "  columns of the result set"
   ]
  },
  {
   "cell_type": "markdown",
   "id": "244e3c88-7176-4456-b25a-bb160f676044",
   "metadata": {},
   "source": [
    "## Create 2 nodes"
   ]
  },
  {
   "cell_type": "code",
   "execution_count": 249,
   "id": "fe644a9a-968d-4b16-aa32-e0bd66817540",
   "metadata": {},
   "outputs": [
    {
     "name": "stdout",
     "output_type": "stream",
     "text": [
      "Number of nodes: 2\n",
      "Number of edges: 4\n",
      "Deleting ...\n",
      "Number of nodes: 0\n",
      "Number of edges: 0\n"
     ]
    }
   ],
   "source": [
    "hneo4j.print_graph_stats(driver)\n",
    "print(\"Deleting ...\")\n",
    "hneo4j.delete_all(driver)\n",
    "hneo4j.print_graph_stats(driver)"
   ]
  },
  {
   "cell_type": "code",
   "execution_count": 250,
   "id": "22c64cee-2fbf-497c-9b0a-e5cc89f52d73",
   "metadata": {},
   "outputs": [],
   "source": [
    "# `w` has `Wine` label and then various properties.\n",
    "query = 'CREATE (w:Wine {name:\"Prancing Wolf\", style: \"ice wine\", vintage: 2015})'\n",
    "_ = driver.execute_query(query)"
   ]
  },
  {
   "cell_type": "code",
   "execution_count": 251,
   "id": "eb07e55c-36d5-4143-8320-7b3a6eb98a69",
   "metadata": {},
   "outputs": [],
   "source": [
    "# Create a node representing a publication.\n",
    "query = 'CREATE (p:Publication {name: \"Wine Expert Monthly\"})'\n",
    "_ = driver.execute_query(query)"
   ]
  },
  {
   "cell_type": "code",
   "execution_count": 252,
   "id": "ef444624-cfc2-44cb-8b57-f29cb341c294",
   "metadata": {},
   "outputs": [],
   "source": [
    "# Since the publication reports on the wine, we can create an edge.\n",
    "query = '''\n",
    "    MATCH (p:Publication {name: \"Wine Expert Monthly\"}),\n",
    "      (w:Wine {name: \"Prancing Wolf\", vintage: 2015})\n",
    "      CREATE (p)-[r:reported_on]->(w)\n",
    "    '''\n",
    "_ = driver.execute_query(query)"
   ]
  },
  {
   "cell_type": "code",
   "execution_count": 253,
   "id": "301c04eb-6ea2-4ef6-9598-bac23b66558e",
   "metadata": {},
   "outputs": [
    {
     "name": "stdout",
     "output_type": "stream",
     "text": [
      "Number of nodes: 2\n",
      "Number of edges: 1\n"
     ]
    }
   ],
   "source": [
    "hneo4j.print_graph_stats(driver)"
   ]
  },
  {
   "cell_type": "markdown",
   "id": "7a1a53da-b89d-4ef3-bfde-5dc4b0e51fd6",
   "metadata": {},
   "source": [
    "### Query matching 2 nodes"
   ]
  },
  {
   "cell_type": "code",
   "execution_count": 199,
   "id": "7dccc22c-bf5b-43bd-ade1-edcbcadbd424",
   "metadata": {},
   "outputs": [
    {
     "name": "stdout",
     "output_type": "stream",
     "text": [
      "records:\n",
      "  2 [\n",
      "      1 [\n",
      "      <str> p ->\n",
      "              label=['Wine']\n",
      "              properties={'name': 'Prancing Wolf', 'style': 'ice wine', 'vintage': 2015}\n",
      "\n",
      "      ]\n",
      "\n",
      "      1 [\n",
      "      <str> p ->\n",
      "              label=['Publication']\n",
      "              properties={'name': 'Wine Expert Monthly'}\n",
      "\n",
      "      ]\n",
      "\n",
      "  ]\n",
      "keys:\n",
      "  1 [\n",
      "      <str> p\n",
      "  ]\n",
      "\n"
     ]
    }
   ],
   "source": [
    "# Return a node.\n",
    "#query = \"MATCH(n:Wine) RETURN n\"\n",
    "#query = \"MATCH (p:Publication) RETURN p\"\n",
    "query = \"MATCH (p) RETURN p\"\n",
    "result = driver.execute_query(query)\n",
    "print(to_str(result))"
   ]
  },
  {
   "cell_type": "markdown",
   "id": "8b75d6fe-b12d-4b20-b94a-6ea2295c2ead",
   "metadata": {},
   "source": [
    "### Match a relationship"
   ]
  },
  {
   "cell_type": "code",
   "execution_count": 212,
   "id": "220056a9-b9cc-40d3-860d-08a8dc46445c",
   "metadata": {},
   "outputs": [
    {
     "name": "stdout",
     "output_type": "stream",
     "text": [
      "\u001b[1mrecord\u001b[0m= <class 'abc.reported_on'> \u001b[38;5;241m<\u001b[39mRelationship element_id\u001b[38;5;241m=\u001b[39m\u001b[38;5;124m'\u001b[39m\u001b[38;5;124m5:907b90c5-77b7-40ee-bd2b-900a55534cf9:48286\u001b[39m\u001b[38;5;124m'\u001b[39m nodes\u001b[38;5;241m=\u001b[39m(\u001b[38;5;241m<\u001b[39mNode element_id\u001b[38;5;241m=\u001b[39m\u001b[38;5;124m'\u001b[39m\u001b[38;5;124m4:907b90c5-77b7-40ee-bd2b-900a55534cf9:38\u001b[39m\u001b[38;5;124m'\u001b[39m labels\u001b[38;5;241m=\u001b[39m\u001b[38;5;28mfrozenset\u001b[39m() properties\u001b[38;5;241m=\u001b[39m{}\u001b[38;5;241m>\u001b[39m, \u001b[38;5;241m<\u001b[39mNode element_id\u001b[38;5;241m=\u001b[39m\u001b[38;5;124m'\u001b[39m\u001b[38;5;124m4:907b90c5-77b7-40ee-bd2b-900a55534cf9:37\u001b[39m\u001b[38;5;124m'\u001b[39m labels\u001b[38;5;241m=\u001b[39m\u001b[38;5;28mfrozenset\u001b[39m() properties\u001b[38;5;241m=\u001b[39m{}\u001b[38;5;241m>\u001b[39m) \u001b[38;5;28mtype\u001b[39m\u001b[38;5;241m=\u001b[39m\u001b[38;5;124m'\u001b[39m\u001b[38;5;124mreported_on\u001b[39m\u001b[38;5;124m'\u001b[39m properties\u001b[38;5;241m=\u001b[39m{}\u001b[38;5;241m>\u001b[39m\n",
      "5:907b90c5-77b7-40ee-bd2b-900a55534cf9:48286\n",
      "['__abstractmethods__', '__annotations__', '__class__', '__class_getitem__', '__contains__', '__delattr__', '__dict__', '__dir__', '__doc__', '__eq__', '__format__', '__ge__', '__getattribute__', '__getitem__', '__gt__', '__hash__', '__init__', '__init_subclass__', '__iter__', '__le__', '__len__', '__lt__', '__module__', '__ne__', '__new__', '__orig_bases__', '__parameters__', '__reduce__', '__reduce_ex__', '__repr__', '__reversed__', '__setattr__', '__sizeof__', '__slots__', '__str__', '__subclasshook__', '__weakref__', '_abc_impl', '_element_id', '_end_node', '_graph', '_id', '_is_protocol', '_properties', '_start_node', 'element_id', 'end_node', 'get', 'graph', 'id', 'items', 'keys', 'nodes', 'start_node', 'type', 'values']\n",
      "<Node element_id='4:907b90c5-77b7-40ee-bd2b-900a55534cf9:38' labels=frozenset() properties={}>\n",
      "<Node element_id='4:907b90c5-77b7-40ee-bd2b-900a55534cf9:37' labels=frozenset() properties={}>\n"
     ]
    }
   ],
   "source": [
    "# Match a relationship.\n",
    "query = \"\"\"\n",
    "    MATCH ()-[r]-()\n",
    "    RETURN r\n",
    "    \"\"\"\n",
    "result = driver.execute_query(query)\n",
    "#print_result(result)\n",
    "records = result[0]\n",
    "#print(len(records), records)\n",
    "record = records[0]\n",
    "print_(record[0], \"record\")\n",
    "\n",
    "relationship = record[0]\n",
    "assert str(type(relationship)) == \"<class 'abc.reported_on'>\"\n",
    "\n",
    "print(relationship.element_id)\n",
    "# I guess it doesn't want to print/retrieve too much info from the nodes, but only\n",
    "# keeps the internal IDs.\n",
    "print(dir(relationship))\n",
    "print(relationship.start_node)\n",
    "print(relationship.end_node)"
   ]
  },
  {
   "cell_type": "code",
   "execution_count": 220,
   "id": "8c632f21-2b9a-4d6c-818e-dc34a36b29be",
   "metadata": {},
   "outputs": [
    {
     "name": "stdout",
     "output_type": "stream",
     "text": [
      "<bound method Entity.values of <Relationship element_id='5:907b90c5-77b7-40ee-bd2b-900a55534cf9:48286' nodes=(<Node element_id='4:907b90c5-77b7-40ee-bd2b-900a55534cf9:38' labels=frozenset() properties={}>, <Node element_id='4:907b90c5-77b7-40ee-bd2b-900a55534cf9:37' labels=frozenset() properties={}>) type='reported_on' properties={}>>\n"
     ]
    }
   ],
   "source": [
    "print(relationship.values)"
   ]
  },
  {
   "cell_type": "code",
   "execution_count": 210,
   "id": "206308b2-ff87-4155-87df-c946cdec22e9",
   "metadata": {},
   "outputs": [
    {
     "name": "stdout",
     "output_type": "stream",
     "text": [
      "records:\n",
      "  1 [\n",
      "      1 [\n",
      "      <str> r ->\n",
      "              start_node=  label=[]\n",
      "              properties={}\n",
      "              end_node=  label=[]\n",
      "              properties={}\n",
      "              type=<str> reported_on  properties={}\n",
      "\n",
      "      ]\n",
      "\n",
      "  ]\n",
      "keys:\n",
      "  1 [\n",
      "      <str> r\n",
      "  ]\n",
      "\n"
     ]
    }
   ],
   "source": [
    "query = \"\"\"\n",
    "    MATCH (a)-[r]->(b)\n",
    "    WHERE a.name = 'Wine Expert Monthly' AND b.name = 'Prancing Wolf'\n",
    "    RETURN r;\n",
    "\"\"\"\n",
    "result = driver.execute_query(query)\n",
    "print(to_str(result))"
   ]
  },
  {
   "cell_type": "code",
   "execution_count": 205,
   "id": "a8e1da07-4dbd-489d-bab3-cb3da688141c",
   "metadata": {},
   "outputs": [
    {
     "name": "stdout",
     "output_type": "stream",
     "text": [
      "records:\n",
      "  0 [\n",
      "  ]\n",
      "keys:\n",
      "  1 [\n",
      "      <str> r\n",
      "  ]\n",
      "\n"
     ]
    }
   ],
   "source": [
    "# The edge direction matter, in fact there is no edge \"Prancing Wolf\" -> \"Wine Expert Monthly\",\n",
    "# but only the other direction.\n",
    "query = \"\"\"\n",
    "    MATCH (a)-[r]->(b)\n",
    "    WHERE a.name = 'Prancing Wolf' AND b.name = 'Wine Expert Monthly'\n",
    "    RETURN r;\n",
    "\"\"\"\n",
    "result = driver.execute_query(query)\n",
    "print(to_str(result))"
   ]
  },
  {
   "cell_type": "code",
   "execution_count": 243,
   "id": "5b6c64fd-d669-403b-a307-2a21ed178454",
   "metadata": {},
   "outputs": [
    {
     "name": "stdout",
     "output_type": "stream",
     "text": [
      "\u001b[1mrecords\u001b[0m= <class 'list'> [\u001b[38;5;241m<\u001b[39mRecord r\u001b[38;5;241m=\u001b[39m\u001b[38;5;241m<\u001b[39mRelationship element_id\u001b[38;5;241m=\u001b[39m\u001b[38;5;124m'\u001b[39m\u001b[38;5;124m5:907b90c5-77b7-40ee-bd2b-900a55534cf9:48286\u001b[39m\u001b[38;5;124m'\u001b[39m nodes\u001b[38;5;241m=\u001b[39m(\u001b[38;5;241m<\u001b[39mNode element_id\u001b[38;5;241m=\u001b[39m\u001b[38;5;124m'\u001b[39m\u001b[38;5;124m4:907b90c5-77b7-40ee-bd2b-900a55534cf9:38\u001b[39m\u001b[38;5;124m'\u001b[39m labels\u001b[38;5;241m=\u001b[39m\u001b[38;5;28mfrozenset\u001b[39m() properties\u001b[38;5;241m=\u001b[39m{}\u001b[38;5;241m>\u001b[39m, \u001b[38;5;241m<\u001b[39mNode element_id\u001b[38;5;241m=\u001b[39m\u001b[38;5;124m'\u001b[39m\u001b[38;5;124m4:907b90c5-77b7-40ee-bd2b-900a55534cf9:37\u001b[39m\u001b[38;5;124m'\u001b[39m labels\u001b[38;5;241m=\u001b[39m\u001b[38;5;28mfrozenset\u001b[39m() properties\u001b[38;5;241m=\u001b[39m{}\u001b[38;5;241m>\u001b[39m) \u001b[38;5;28mtype\u001b[39m\u001b[38;5;241m=\u001b[39m\u001b[38;5;124m'\u001b[39m\u001b[38;5;124mreported_on\u001b[39m\u001b[38;5;124m'\u001b[39m properties\u001b[38;5;241m=\u001b[39m{}\u001b[38;5;241m>>\u001b[39m]\n",
      "\u001b[1msummary\u001b[0m= <class 'neo4j._work.summary.ResultSummary'> \u001b[38;5;241m<\u001b[39mneo4j\u001b[38;5;241m.\u001b[39m_work\u001b[38;5;241m.\u001b[39msummary\u001b[38;5;241m.\u001b[39mResultSummary \u001b[38;5;28mobject\u001b[39m at \u001b[38;5;241m0xffff5dd1ab30\u001b[39m\u001b[38;5;241m>\u001b[39m\n",
      "\u001b[1mkeys\u001b[0m= <class 'list'> [\u001b[38;5;124m'\u001b[39m\u001b[38;5;124mr\u001b[39m\u001b[38;5;124m'\u001b[39m]\n",
      "relationship_id='5:907b90c5-77b7-40ee-bd2b-900a55534cf9:48286'\n",
      "start_node='4:907b90c5-77b7-40ee-bd2b-900a55534cf9:38'\n",
      "end_node='4:907b90c5-77b7-40ee-bd2b-900a55534cf9:37'\n"
     ]
    }
   ],
   "source": [
    "# Search both direction.\n",
    "query = \"\"\"\n",
    "    MATCH (a)-[r]-(b)\n",
    "    WHERE a.name = 'Prancing Wolf' AND b.name = 'Wine Expert Monthly'\n",
    "    RETURN r;\n",
    "\"\"\"\n",
    "result = driver.execute_query(query)\n",
    "hneo4j.print_result(result)\n",
    "\n",
    "# Store the relationship id for the next query.\n",
    "relationship_id = result[0][0][\"r\"].element_id\n",
    "print(hprint.to_str(\"relationship_id\"))\n",
    "\n",
    "start_node = result[0][0][\"r\"].start_node.element_id\n",
    "print(hprint.to_str(\"start_node\"))\n",
    "\n",
    "end_node = result[0][0][\"r\"].end_node.element_id\n",
    "print(hprint.to_str(\"end_node\"))"
   ]
  },
  {
   "cell_type": "code",
   "execution_count": 244,
   "id": "ca45cde9-dd86-48e7-9526-80d2079d7272",
   "metadata": {},
   "outputs": [
    {
     "name": "stdout",
     "output_type": "stream",
     "text": [
      "EagerResult(records=[<Record start_node=<Node element_id='4:907b90c5-77b7-40ee-bd2b-900a55534cf9:38' labels=frozenset({'Publication'}) properties={'name': 'Wine Expert Monthly'}> end_node=<Node element_id='4:907b90c5-77b7-40ee-bd2b-900a55534cf9:37' labels=frozenset({'Wine'}) properties={'vintage': 2015, 'name': 'Prancing Wolf', 'style': 'ice wine'}>>], summary=<neo4j._work.summary.ResultSummary object at 0xffff5dbe6f80>, keys=['start_node', 'end_node'])\n"
     ]
    }
   ],
   "source": [
    "# Find the relationship by element_id.\n",
    "query = \"\"\"\n",
    "    MATCH ()-[r]->()\n",
    "    WHERE elementId(r) = $relationship_id\n",
    "    RETURN startNode(r) AS start_node, endNode(r) AS end_node\n",
    "    \"\"\"\n",
    "result = driver.execute_query(query, relationship_id=relationship_id)\n",
    "print(result)"
   ]
  },
  {
   "cell_type": "code",
   "execution_count": 245,
   "id": "f33e50fa-3693-4a21-a346-1bcbaa35a870",
   "metadata": {},
   "outputs": [
    {
     "name": "stdout",
     "output_type": "stream",
     "text": [
      "EagerResult(records=[<Record n=<Node element_id='4:907b90c5-77b7-40ee-bd2b-900a55534cf9:38' labels=frozenset({'Publication'}) properties={'name': 'Wine Expert Monthly'}>>], summary=<neo4j._work.summary.ResultSummary object at 0xffff5dbe6590>, keys=['n'])\n"
     ]
    }
   ],
   "source": [
    "# Find a node by element_id.\n",
    "query = \"\"\"\n",
    "    MATCH (n)\n",
    "    WHERE elementId(n) = $node_id\n",
    "    RETURN n\n",
    "    \"\"\"\n",
    "result = driver.execute_query(query, node_id=start_node)\n",
    "print(result)"
   ]
  },
  {
   "cell_type": "code",
   "execution_count": 254,
   "id": "b7ed8431-9485-479e-bba4-302f4497f622",
   "metadata": {},
   "outputs": [],
   "source": [
    "# Find two nodes and add a relationship between them.\n",
    "query = \"\"\"\n",
    "    MATCH (p:Publication {name: \"Wine Expert Monthly\"}), (w:Wine {name: \"Prancing Wolf\"})\n",
    "        CREATE (p)-[r:reported_on {rating: 97}]->(w)\n",
    "      \"\"\"\n",
    "_ = driver.execute_query(query, node_id=start_node)"
   ]
  },
  {
   "cell_type": "code",
   "execution_count": 258,
   "id": "acfb0720-5ad9-4d04-8367-55839fa44cdb",
   "metadata": {},
   "outputs": [],
   "source": [
    "# We could add \"Riesling\" as a property to the node, or create a new node.\n",
    "query = 'CREATE (g:GrapeType {name: \"Riesling\"})'\n",
    "_ = driver.execute_query(query)\n",
    "\n",
    "query = \"\"\"\n",
    "    MATCH (w:Wine {name: \"Prancing Wolf\"}), (g:GrapeType {name: \"Riesling\"})\n",
    "        CREATE (w)-[r:grape_type]->(g)\n",
    "    \"\"\"\n",
    "_ = driver.execute_query(query)"
   ]
  },
  {
   "cell_type": "code",
   "execution_count": 259,
   "id": "8d387dec-4399-45e0-8f64-199cba775bfc",
   "metadata": {},
   "outputs": [],
   "source": [
    "# Create a new node.\n",
    "query = 'CREATE (e: EphemeralNode {name: \"short lived\"})'\n",
    "_ = driver.execute_query(query)\n",
    "\n",
    "# Establish a relationship between the new node and an existing one.\n",
    "query = \"\"\"\n",
    "    MATCH (w:Wine {name: \"Prancing Wolf\"}), (e:EphemeralNode {name: \"short lived\"})\n",
    "        CREATE (w)-[r:short_lived_relationship]->(e)\n",
    "\"\"\"\n",
    "_ = driver.execute_query(query)"
   ]
  },
  {
   "cell_type": "code",
   "execution_count": 269,
   "id": "76dc962d-68ff-4251-8282-656a6621a347",
   "metadata": {},
   "outputs": [
    {
     "name": "stdout",
     "output_type": "stream",
     "text": [
      "ERROR\n",
      "{code: Neo.ClientError.Schema.ConstraintValidationFailed} {message: Cannot delete node<43>, because it still has relationships. To delete this node, you must first delete its relationships.}\n"
     ]
    }
   ],
   "source": [
    "# You can't delete a node that has still relationships associated with it.\n",
    "query = \"MATCH (e:EphemeralNode) DELETE e\"\n",
    "try:\n",
    "    _ = driver.execute_query(query)\n",
    "except neo4j.exceptions.Neo4jError as e:\n",
    "    print(\"ERROR\\n\" + str(e))"
   ]
  },
  {
   "cell_type": "code",
   "execution_count": 278,
   "id": "0aa42a79-1328-4e9b-824f-c279dc26995c",
   "metadata": {},
   "outputs": [
    {
     "name": "stdout",
     "output_type": "stream",
     "text": [
      "records:\n",
      "  1 [\n",
      "      1 [\n",
      "      <str> e ->\n",
      "              label=['EphemeralNode']\n",
      "              properties={'name': 'short lived'}\n",
      "\n",
      "      ]\n",
      "\n",
      "  ]\n",
      "keys:\n",
      "  1 [\n",
      "      <str> e\n",
      "  ]\n",
      "\n"
     ]
    },
    {
     "data": {
      "text/plain": [
       "<Record e=<Node element_id='4:907b90c5-77b7-40ee-bd2b-900a55534cf9:43' labels=frozenset({'EphemeralNode'}) properties={'name': 'short lived'}>>"
      ]
     },
     "execution_count": 278,
     "metadata": {},
     "output_type": "execute_result"
    }
   ],
   "source": [
    "# query = \"MATCH (e:EphemeralNode) RETURN e\"\n",
    "# result = driver.execute_query(query)\n",
    "# print(to_str(result))\n",
    "# result[0][0]"
   ]
  },
  {
   "cell_type": "code",
   "execution_count": 281,
   "id": "381bfbbe-b338-4531-8304-8ded93d3fde9",
   "metadata": {},
   "outputs": [],
   "source": [
    "# Delete the relationship and then the node.\n",
    "query = \"MATCH ()-[r:short_lived_relationship]-() DELETE r\"\n",
    "_ = driver.execute_query(query)\n",
    "query = \"MATCH (e:EphemeralNode) DELETE e\"\n",
    "_ = driver.execute_query(query)"
   ]
  },
  {
   "cell_type": "code",
   "execution_count": null,
   "id": "6e1e903e-6b8c-48a8-9b38-6ddee40e8542",
   "metadata": {},
   "outputs": [],
   "source": [
    "# Assume that there are multiple wineries and each winery produces more than one wine\n",
    "# In a RDBMS we could use\n",
    "# a separate table for each winery, storing wines they produce as rows\n",
    "# ```\n",
    "# \n",
    "# \n",
    "# - a table storing wines as rows"
   ]
  },
  {
   "cell_type": "code",
   "execution_count": 282,
   "id": "e326bef7-d470-4b7f-b065-c6116a14f11e",
   "metadata": {},
   "outputs": [],
   "source": [
    "query = 'CREATE (wr:Winery {name: \"Prancing Wolf Winery\"})'\n",
    "_ = driver.execute_query(query)\n",
    "\n",
    "query = \"\"\"\n",
    "    MATCH (w:Wine {name: \"Prancing Wolf\"}), (wr:Winery {name: \"Prancing Wolf Winery\"})\n",
    "        CREATE (wr)-[r:prodced]->(w)\n",
    "    \"\"\"\n",
    "_ = driver.execute_query(query)"
   ]
  },
  {
   "cell_type": "code",
   "execution_count": 295,
   "id": "269ab3ad-74b9-4ddf-bd3c-cc5c92fdc3c0",
   "metadata": {},
   "outputs": [],
   "source": [
    "query = \"\"\"\n",
    "$ CREATE (w:Wine {name:\"Prancing Wolf\", style: \"Kabinett\", vintage: 2002})\n",
    "$ CREATE (w:Wine {name: \"Prancing Wolf\", style: \"Spatlese\", vintage: 2010})\n",
    "$ MATCH (wr:Winery {name: \"Prancing Wolf\"}), (w:Wine {name: \"Prancing Wolf\"})\n",
    "      CREATE (wr)-[r:produced]->(w)\n",
    "$ MATCH (w:Wine),(g:GrapeType {name: \"Riesling\"})\n",
    "      CREATE (w)-[r:grape_type]->(g)\n",
    "    \"\"\"\n",
    "queries = hneo4j.extract_chunks(query)\n",
    "hneo4j.execute_query(driver, queries)"
   ]
  },
  {
   "cell_type": "markdown",
   "id": "f5566b45-187c-4529-b99c-1aef5ef2bb48",
   "metadata": {},
   "source": [
    "## Schemaless social"
   ]
  },
  {
   "cell_type": "code",
   "execution_count": 296,
   "id": "4929b7da-4b3b-4bad-b0b8-8073a66de389",
   "metadata": {},
   "outputs": [],
   "source": [
    "# Alice likes ice wine.\n",
    "query = \"\"\"\n",
    "$ CREATE (p:Person {name: \"Alice\"})\n",
    "$ MATCH (p:Person {name: \"Alice\"}), (w:Wine {name: \"Prancing Wolf\", style: \"ice wine\"})\n",
    "    CREATE (p)-[r:likes]->(w)\n",
    "\"\"\"\n",
    "queries = hneo4j.extract_chunks(query)\n",
    "hneo4j.execute_query(driver, queries)"
   ]
  },
  {
   "cell_type": "code",
   "execution_count": 297,
   "id": "2ff704a4-d797-43a2-ac68-5036099a616c",
   "metadata": {},
   "outputs": [],
   "source": [
    "# Tom likes Kabinett and ice wine, and trusts anything written by Wine Expert Monthly.\n",
    "query = \"\"\"\n",
    "$ CREATE (p:Person {name: \"Tom\"})\n",
    "$ MATCH (p:Person {name: \"Tom\"}), (w:Wine {name: \"Prancing Wolf\", style: \"ice wine\"})\n",
    "    CREATE (p)-[r:likes]->(w)\n",
    "$ MATCH (p:Person {name: \"Tom\"}), (pub:Publication {name: \"Wine Expert Monthly\"})\n",
    "    CREATE (p)-[r:trusts]->(pub)\n",
    "\"\"\"\n",
    "queries = hneo4j.extract_chunks(query)\n",
    "hneo4j.execute_query(driver, queries)"
   ]
  },
  {
   "cell_type": "code",
   "execution_count": 318,
   "id": "e2e6e1ed-e937-4ca5-9081-382c8db911a3",
   "metadata": {},
   "outputs": [],
   "source": [
    "# Patty is friends with both Tom and Alice but has no favorite wine.\n",
    "query = \"\"\"\n",
    "$ CREATE (p:Person {name: \"Patty\"})\n",
    "$ MATCH (p1:Person {name: \"Patty\"}), (p2:Person {name: \"Tom\"})\n",
    "    CREATE (p1)-[r:friends]->(p2)\n",
    "$ MATCH (p1:Person {name: \"Patty\"}), (p2:Person {name: \"Alice\"})\n",
    "    CREATE (p1)-[r:friends]->(p2)\n",
    "\"\"\"\n",
    "queries = hneo4j.extract_chunks(query)\n",
    "hneo4j.execute_query(driver, queries)"
   ]
  },
  {
   "cell_type": "code",
   "execution_count": null,
   "id": "f0523cd7-1d07-400d-be52-7b2cbd90d3b9",
   "metadata": {},
   "outputs": [],
   "source": [
    "## CREATE CONSTRAINT unique_person_id IF NOT EXISTS FOR (n:Person) REQUIRE n.id IS UNIQUE\n",
    "# MERGE (n:Person {id: 123})\n",
    "# ON CREATE SET n.name = 'John Doe', n.age = 30"
   ]
  },
  {
   "cell_type": "code",
   "execution_count": 319,
   "id": "be829ffb-bd22-48da-9eab-85585a6b9f03",
   "metadata": {},
   "outputs": [
    {
     "name": "stdout",
     "output_type": "stream",
     "text": [
      "ex.html\n"
     ]
    },
    {
     "data": {
      "text/html": [
       "\n",
       "        <iframe\n",
       "            width=\"100%\"\n",
       "            height=\"500px\"\n",
       "            src=\"ex.html\"\n",
       "            frameborder=\"0\"\n",
       "            allowfullscreen\n",
       "            \n",
       "        ></iframe>\n",
       "        "
      ],
      "text/plain": [
       "<IPython.lib.display.IFrame at 0xffff5dad4e80>"
      ]
     },
     "execution_count": 319,
     "metadata": {},
     "output_type": "execute_result"
    }
   ],
   "source": [
    "net = hneo4j.plot_graph(driver)\n",
    "net.show(\"ex.html\")"
   ]
  },
  {
   "cell_type": "markdown",
   "id": "e31eed13-9b1d-49b0-abf6-7538e53d8d4e",
   "metadata": {},
   "source": [
    "### Stepping stones"
   ]
  },
  {
   "cell_type": "code",
   "execution_count": null,
   "id": "b3f1901e-2e45-4d73-aabd-a2c91d6099d2",
   "metadata": {},
   "outputs": [],
   "source": [
    "query = 'MATCH (p:Person {name: \"Alice\"})-->(n) RETURN n'"
   ]
  },
  {
   "cell_type": "code",
   "execution_count": 347,
   "id": "00fad93f-0dc5-49d4-b527-dd46a7b0ca15",
   "metadata": {},
   "outputs": [],
   "source": [
    "# Constraints help sanitize data inputs by preventing writes that don't satisfy certain criteria.\n",
    "# E.g., every `Wine` node in the graph should have a unique constraint.\n",
    "query = 'CREATE CONSTRAINT IF NOT EXISTS FOR (w:Wine) REQUIRE w.name IS UNIQUE'\n",
    "hneo4j.execute_query(driver, query)"
   ]
  }
 ],
 "metadata": {
  "kernelspec": {
   "display_name": "Python 3 (ipykernel)",
   "language": "python",
   "name": "python3"
  },
  "language_info": {
   "codemirror_mode": {
    "name": "ipython",
    "version": 3
   },
   "file_extension": ".py",
   "mimetype": "text/x-python",
   "name": "python",
   "nbconvert_exporter": "python",
   "pygments_lexer": "ipython3",
   "version": "3.10.12"
  }
 },
 "nbformat": 4,
 "nbformat_minor": 5
}
