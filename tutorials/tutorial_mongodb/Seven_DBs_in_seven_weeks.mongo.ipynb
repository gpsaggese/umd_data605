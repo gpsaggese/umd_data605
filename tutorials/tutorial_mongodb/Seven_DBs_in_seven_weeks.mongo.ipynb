{
 "cells": [
  {
   "cell_type": "markdown",
   "id": "b81e29fa",
   "metadata": {
    "ExecuteTime": {
     "end_time": "2022-12-12T08:39:33.311645Z",
     "start_time": "2022-12-12T08:39:33.307763Z"
    }
   },
   "source": [
    "## Functions"
   ]
  },
  {
   "cell_type": "code",
   "execution_count": 4,
   "id": "b8b36a48",
   "metadata": {
    "ExecuteTime": {
     "end_time": "2024-02-28T21:51:46.628740Z",
     "start_time": "2024-02-28T21:51:46.624003Z"
    }
   },
   "outputs": [],
   "source": [
    "#!pip3 install rich\n",
    "\n",
    "import pprint\n",
    "\n",
    "def print_(cursor, mode=\"pprint\", tag=\"\"):\n",
    "    \"\"\"\n",
    "    Print collection.\n",
    "    \"\"\"\n",
    "    if tag:\n",
    "        print(\"%s=\" % tag)\n",
    "    if isinstance(cursor, pymongo.cursor.Cursor):\n",
    "        # Serialize a cursor into a list.\n",
    "        obj = list(cursor)\n",
    "    else:\n",
    "        obj = cursor\n",
    "    if mode in (\"json\", \"json_color\"):\n",
    "        import json\n",
    "\n",
    "        parsed = json.loads(json.dumps(obj))\n",
    "        if mode == \"json\":\n",
    "            print(json.dumps(parsed, indent=2))\n",
    "        else:\n",
    "            import rich\n",
    "\n",
    "            rich.print_json(json.dumps(parsed, indent=2))\n",
    "    elif mode == \"pprint\":\n",
    "        pprint.pprint(obj)\n",
    "    else:\n",
    "        raise ValueError(f\"Invalid mode='{mode}'\")"
   ]
  },
  {
   "cell_type": "markdown",
   "id": "54cb6dae",
   "metadata": {},
   "source": [
    "# Connect to DB"
   ]
  },
  {
   "cell_type": "code",
   "execution_count": 5,
   "id": "c154b397",
   "metadata": {
    "ExecuteTime": {
     "end_time": "2024-02-28T21:51:46.636043Z",
     "start_time": "2024-02-28T21:51:46.630158Z"
    }
   },
   "outputs": [
    {
     "name": "stdout",
     "output_type": "stream",
     "text": [
      "db= Database(MongoClient(host=['localhost:27017'], document_class=dict, tz_aware=False, connect=True), 'book')\n",
      "type(db)= <class 'pymongo.database.Database'>\n"
     ]
    }
   ],
   "source": [
    "import pymongo\n",
    "from bson.objectid import ObjectId\n",
    "\n",
    "# Connect to MongoDB instance.\n",
    "client = pymongo.MongoClient(\"localhost\", 27017)\n",
    "\n",
    "# Create a Mongo database.\n",
    "db = client[\"book\"]\n",
    "print(\"db=\", db)\n",
    "print(\"type(db)=\", type(db))"
   ]
  },
  {
   "cell_type": "code",
   "execution_count": 6,
   "id": "759ef6d9",
   "metadata": {
    "ExecuteTime": {
     "end_time": "2024-02-28T21:51:46.645635Z",
     "start_time": "2024-02-28T21:51:46.638333Z"
    }
   },
   "outputs": [
    {
     "name": "stdout",
     "output_type": "stream",
     "text": [
      "collections= []\n",
      "collections= []\n"
     ]
    }
   ],
   "source": [
    "# Show all the collections in the DB.\n",
    "print(\"collections=\", db.list_collection_names())\n",
    "\n",
    "# Clean all the collections.\n",
    "for collection_name in db.list_collection_names():\n",
    "    print(\"Dropping collection %s\" % collection_name)\n",
    "    db[collection_name].drop()\n",
    "\n",
    "# Show all the collections in the DB.\n",
    "print(\"collections=\", db.list_collection_names())"
   ]
  },
  {
   "cell_type": "markdown",
   "id": "2a0d7edb",
   "metadata": {},
   "source": [
    "# `Towns` collection"
   ]
  },
  {
   "cell_type": "markdown",
   "id": "e49587c1",
   "metadata": {},
   "source": [
    "## Insert"
   ]
  },
  {
   "cell_type": "code",
   "execution_count": 7,
   "id": "18ec99ff",
   "metadata": {
    "ExecuteTime": {
     "end_time": "2024-02-28T21:51:46.660426Z",
     "start_time": "2024-02-28T21:51:46.647312Z"
    }
   },
   "outputs": [
    {
     "name": "stdout",
     "output_type": "stream",
     "text": [
      "dict_=\n",
      "{'famousFor': ['the MOMA', 'food', 'Derek Jeter'],\n",
      " 'lastCensus': '2022-11-01',\n",
      " 'mayor': {'name': 'Bill de Blasio', 'party': 'D'},\n",
      " 'name': 'New York',\n",
      " 'population': 22200000}\n",
      "val= InsertOneResult(ObjectId('65dfaaf226574ebe70673a8e'), acknowledged=True)\n",
      "obj_id= 65dfaaf226574ebe70673a8e\n",
      "['_InsertOneResult__inserted_id', '_WriteResult__acknowledged', '__class__', '__delattr__', '__dir__', '__doc__', '__eq__', '__format__', '__ge__', '__getattribute__', '__gt__', '__hash__', '__init__', '__init_subclass__', '__le__', '__lt__', '__module__', '__ne__', '__new__', '__reduce__', '__reduce_ex__', '__repr__', '__setattr__', '__sizeof__', '__slots__', '__str__', '__subclasshook__', '_raise_if_unacknowledged', 'acknowledged', 'inserted_id']\n"
     ]
    }
   ],
   "source": [
    "dict_ = {\n",
    "    \"name\": \"New York\",\n",
    "    \"population\": 22200000,\n",
    "    \"lastCensus\": \"2022-11-01\",\n",
    "    \"famousFor\": [\"the MOMA\", \"food\", \"Derek Jeter\"],\n",
    "    \"mayor\": {\"name\": \"Bill de Blasio\", \"party\": \"D\"},\n",
    "}\n",
    "print_(dict_, tag=\"dict_\")\n",
    "\n",
    "# Inserting an object in a DB creates a DB.\n",
    "val = db.towns.insert_one(dict_)\n",
    "print(\"val=\", val)\n",
    "print(\"obj_id=\", val.inserted_id)\n",
    "print(dir(val))"
   ]
  },
  {
   "cell_type": "code",
   "execution_count": 8,
   "id": "62282ab2",
   "metadata": {
    "ExecuteTime": {
     "end_time": "2024-02-28T21:51:46.670118Z",
     "start_time": "2024-02-28T21:51:46.661873Z"
    }
   },
   "outputs": [
    {
     "data": {
      "text/plain": [
       "['towns']"
      ]
     },
     "execution_count": 8,
     "metadata": {},
     "output_type": "execute_result"
    }
   ],
   "source": [
    "# Show all the collections.\n",
    "db.list_collection_names()"
   ]
  },
  {
   "cell_type": "code",
   "execution_count": 9,
   "id": "03484689",
   "metadata": {
    "ExecuteTime": {
     "end_time": "2024-02-28T21:51:46.676409Z",
     "start_time": "2024-02-28T21:51:46.671495Z"
    }
   },
   "outputs": [
    {
     "name": "stdout",
     "output_type": "stream",
     "text": [
      "{'_id': ObjectId('65dfaaf226574ebe70673a8e'),\n",
      " 'famousFor': ['the MOMA', 'food', 'Derek Jeter'],\n",
      " 'lastCensus': '2022-11-01',\n",
      " 'mayor': {'name': 'Bill de Blasio', 'party': 'D'},\n",
      " 'name': 'New York',\n",
      " 'population': 22200000}\n"
     ]
    }
   ],
   "source": [
    "# Scan the collection.\n",
    "for obj in db.towns.find():\n",
    "    # _id is like the primary key.\n",
    "    print_(obj, mode=\"pprint\")"
   ]
  },
  {
   "cell_type": "code",
   "execution_count": 10,
   "id": "78759be9",
   "metadata": {
    "ExecuteTime": {
     "end_time": "2024-02-28T21:51:46.680334Z",
     "start_time": "2024-02-28T21:51:46.677505Z"
    }
   },
   "outputs": [],
   "source": [
    "# Insert more data in the collection.\n",
    "def insert_city(name, population, lastCensus, famousFor, mayor):\n",
    "    db.towns.insert_one(\n",
    "        {\n",
    "            \"name\": name,\n",
    "            \"population\": population,\n",
    "            \"lastCensus\": lastCensus,\n",
    "            \"famousFor\": famousFor,\n",
    "            \"mayor\": mayor,\n",
    "        }\n",
    "    )\n",
    "\n",
    "\n",
    "insert_city(\n",
    "    \"Punxsutawney\",\n",
    "    6200,\n",
    "    \"2016-01-31\",\n",
    "    [\"Punxsutawney Phil\"],\n",
    "    # mayor.\n",
    "    {\"name\": \"Richard Alexander\"},\n",
    ")\n",
    "\n",
    "insert_city(\n",
    "    \"Portland\",\n",
    "    582000,\n",
    "    \"2016-09-20\",\n",
    "    [\"beer\", \"food\", \"Portlandia\"],\n",
    "    # mayor.\n",
    "    {\"name\": \"Ted Wheeler\", \"party\": \"D\"},\n",
    ")\n",
    "\n",
    "# Note that `mayor` field doesn't have a strict schema."
   ]
  },
  {
   "cell_type": "code",
   "execution_count": 11,
   "id": "41922c73",
   "metadata": {
    "ExecuteTime": {
     "end_time": "2024-02-28T21:51:46.686849Z",
     "start_time": "2024-02-28T21:51:46.681175Z"
    }
   },
   "outputs": [
    {
     "name": "stdout",
     "output_type": "stream",
     "text": [
      "{'_id': ObjectId('65dfaaf226574ebe70673a8e'),\n",
      " 'famousFor': ['the MOMA', 'food', 'Derek Jeter'],\n",
      " 'lastCensus': '2022-11-01',\n",
      " 'mayor': {'name': 'Bill de Blasio', 'party': 'D'},\n",
      " 'name': 'New York',\n",
      " 'population': 22200000}\n",
      "{'_id': ObjectId('65dfaaf226574ebe70673a8f'),\n",
      " 'famousFor': ['Punxsutawney Phil'],\n",
      " 'lastCensus': '2016-01-31',\n",
      " 'mayor': {'name': 'Richard Alexander'},\n",
      " 'name': 'Punxsutawney',\n",
      " 'population': 6200}\n",
      "{'_id': ObjectId('65dfaaf226574ebe70673a90'),\n",
      " 'famousFor': ['beer', 'food', 'Portlandia'],\n",
      " 'lastCensus': '2016-09-20',\n",
      " 'mayor': {'name': 'Ted Wheeler', 'party': 'D'},\n",
      " 'name': 'Portland',\n",
      " 'population': 582000}\n"
     ]
    }
   ],
   "source": [
    "# Print all the documents in db[\"towns\"].\n",
    "for obj in db.towns.find():\n",
    "    print_(obj, mode=\"pprint\")"
   ]
  },
  {
   "cell_type": "markdown",
   "id": "09b5d637",
   "metadata": {},
   "source": [
    "## Query"
   ]
  },
  {
   "cell_type": "code",
   "execution_count": 12,
   "id": "002b259e",
   "metadata": {
    "ExecuteTime": {
     "end_time": "2024-02-28T21:51:46.694539Z",
     "start_time": "2024-02-28T21:51:46.690618Z"
    }
   },
   "outputs": [
    {
     "data": {
      "text/plain": [
       "{'_id': ObjectId('65dfaaf226574ebe70673a8e'),\n",
       " 'name': 'New York',\n",
       " 'population': 22200000,\n",
       " 'lastCensus': '2022-11-01',\n",
       " 'famousFor': ['the MOMA', 'food', 'Derek Jeter'],\n",
       " 'mayor': {'name': 'Bill de Blasio', 'party': 'D'}}"
      ]
     },
     "execution_count": 12,
     "metadata": {},
     "output_type": "execute_result"
    }
   ],
   "source": [
    "# Find by ObjectId.\n",
    "# db.towns.find_one({\"_id\": ObjectId(\"6368352a657571ee34691dd9\")})\n",
    "db.towns.find_one({\"_id\": val.inserted_id})"
   ]
  },
  {
   "cell_type": "code",
   "execution_count": 13,
   "id": "5862d112",
   "metadata": {
    "ExecuteTime": {
     "end_time": "2024-02-28T21:51:46.699114Z",
     "start_time": "2024-02-28T21:51:46.696354Z"
    }
   },
   "outputs": [
    {
     "data": {
      "text/plain": [
       "{'_id': ObjectId('65dfaaf226574ebe70673a8e'), 'name': 'New York'}"
      ]
     },
     "execution_count": 13,
     "metadata": {},
     "output_type": "execute_result"
    }
   ],
   "source": [
    "# Retrieve only the field `name` (i.e., projection).\n",
    "object_id = ObjectId(str(val.inserted_id))\n",
    "db.towns.find_one({\"_id\": object_id}, {\"name\": 1})"
   ]
  },
  {
   "cell_type": "code",
   "execution_count": 14,
   "id": "f82faa87",
   "metadata": {
    "ExecuteTime": {
     "end_time": "2024-02-28T21:51:46.702322Z",
     "start_time": "2024-02-28T21:51:46.699920Z"
    }
   },
   "outputs": [
    {
     "data": {
      "text/plain": [
       "{'_id': ObjectId('65dfaaf226574ebe70673a8e'),\n",
       " 'population': 22200000,\n",
       " 'lastCensus': '2022-11-01',\n",
       " 'famousFor': ['the MOMA', 'food', 'Derek Jeter'],\n",
       " 'mayor': {'name': 'Bill de Blasio', 'party': 'D'}}"
      ]
     },
     "execution_count": 14,
     "metadata": {},
     "output_type": "execute_result"
    }
   ],
   "source": [
    "# Retrieve all fields excluding `name`.\n",
    "db.towns.find_one({\"_id\": ObjectId(str(val.inserted_id))}, {\"name\": 0})"
   ]
  },
  {
   "cell_type": "code",
   "execution_count": 15,
   "id": "ee63a1aa",
   "metadata": {
    "ExecuteTime": {
     "end_time": "2024-02-28T21:51:46.706543Z",
     "start_time": "2024-02-28T21:51:46.703201Z"
    }
   },
   "outputs": [
    {
     "name": "stdout",
     "output_type": "stream",
     "text": [
      "[{'_id': ObjectId('65dfaaf226574ebe70673a8f'),\n",
      "  'famousFor': ['Punxsutawney Phil'],\n",
      "  'lastCensus': '2016-01-31',\n",
      "  'mayor': {'name': 'Richard Alexander'},\n",
      "  'name': 'Punxsutawney',\n",
      "  'population': 6200},\n",
      " {'_id': ObjectId('65dfaaf226574ebe70673a90'),\n",
      "  'famousFor': ['beer', 'food', 'Portlandia'],\n",
      "  'lastCensus': '2016-09-20',\n",
      "  'mayor': {'name': 'Ted Wheeler', 'party': 'D'},\n",
      "  'name': 'Portland',\n",
      "  'population': 582000}]\n"
     ]
    }
   ],
   "source": [
    "# Find all towns with name starting with P.\n",
    "# This is going to do a table scan.\n",
    "print_(db.towns.find({\"name\": {\"$regex\": r\"^P\"}}))"
   ]
  },
  {
   "cell_type": "code",
   "execution_count": 16,
   "id": "131f7804",
   "metadata": {
    "ExecuteTime": {
     "end_time": "2024-02-28T21:51:46.709239Z",
     "start_time": "2024-02-28T21:51:46.707262Z"
    }
   },
   "outputs": [
    {
     "name": "stdout",
     "output_type": "stream",
     "text": [
      "[{'name': 'Punxsutawney'}, {'name': 'Portland'}]\n"
     ]
    }
   ],
   "source": [
    "# Find all towns with name starting with P, but print only name.\n",
    "print_(db.towns.find({\"name\": {\"$regex\": r\"^P\"}}, {\"_id\": 0, \"name\": 1}))"
   ]
  },
  {
   "cell_type": "code",
   "execution_count": 17,
   "id": "06820a5c",
   "metadata": {
    "ExecuteTime": {
     "end_time": "2024-02-28T21:51:46.711649Z",
     "start_time": "2024-02-28T21:51:46.709870Z"
    }
   },
   "outputs": [
    {
     "name": "stdout",
     "output_type": "stream",
     "text": [
      "[{'_id': ObjectId('65dfaaf226574ebe70673a8f'),\n",
      "  'famousFor': ['Punxsutawney Phil'],\n",
      "  'lastCensus': '2016-01-31',\n",
      "  'mayor': {'name': 'Richard Alexander'},\n",
      "  'name': 'Punxsutawney',\n",
      "  'population': 6200}]\n"
     ]
    }
   ],
   "source": [
    "# Find all towns with name that begins with P and have population less than 100,000.\n",
    "print_(db.towns.find({\"name\": {\"$regex\": r\"^P\"}, \"population\": {\"$lt\": 100000}}))"
   ]
  },
  {
   "cell_type": "code",
   "execution_count": 18,
   "id": "bc5c3ac4",
   "metadata": {
    "ExecuteTime": {
     "end_time": "2024-02-28T21:51:46.714422Z",
     "start_time": "2024-02-28T21:51:46.712554Z"
    }
   },
   "outputs": [
    {
     "name": "stdout",
     "output_type": "stream",
     "text": [
      "[{'famousFor': ['the MOMA', 'food', 'Derek Jeter'], 'name': 'New York'},\n",
      " {'famousFor': ['beer', 'food', 'Portlandia'], 'name': 'Portland'}]\n"
     ]
    }
   ],
   "source": [
    "# Projection.\n",
    "print_(db.towns.find({\"famousFor\": \"food\"}, {\"_id\": 0, \"name\": 1, \"famousFor\": 1}))\n",
    "\n",
    "# Note that the equality with an array is interpreted as \"in\"."
   ]
  },
  {
   "cell_type": "code",
   "execution_count": 19,
   "id": "fb47ebc8",
   "metadata": {
    "ExecuteTime": {
     "end_time": "2024-02-28T21:51:46.717832Z",
     "start_time": "2024-02-28T21:51:46.715471Z"
    }
   },
   "outputs": [
    {
     "name": "stdout",
     "output_type": "stream",
     "text": [
      "[{'famousFor': ['beer', 'food', 'Portlandia'], 'name': 'Portland'}]\n"
     ]
    }
   ],
   "source": [
    "# Query for matching values.\n",
    "print_(\n",
    "    db.towns.find(\n",
    "        {\"famousFor\": {\"$all\": [\"food\", \"beer\"]}}, {\"_id\": 0, \"name\": 1, \"famousFor\": 1}\n",
    "    )\n",
    ")"
   ]
  },
  {
   "cell_type": "code",
   "execution_count": 20,
   "id": "0e793018",
   "metadata": {
    "ExecuteTime": {
     "end_time": "2024-02-28T21:51:46.720683Z",
     "start_time": "2024-02-28T21:51:46.718632Z"
    }
   },
   "outputs": [
    {
     "name": "stdout",
     "output_type": "stream",
     "text": [
      "[{'famousFor': ['Punxsutawney Phil'], 'name': 'Punxsutawney'}]\n"
     ]
    }
   ],
   "source": [
    "# Query for lack of matching values.\n",
    "print_(\n",
    "    db.towns.find(\n",
    "        {\"famousFor\": {\"$nin\": [\"food\", \"beer\"]}}, {\"_id\": 0, \"name\": 1, \"famousFor\": 1}\n",
    "    )\n",
    ")"
   ]
  },
  {
   "cell_type": "code",
   "execution_count": 21,
   "id": "d468cfee",
   "metadata": {
    "ExecuteTime": {
     "end_time": "2024-02-28T21:51:46.725119Z",
     "start_time": "2024-02-28T21:51:46.722170Z"
    }
   },
   "outputs": [
    {
     "name": "stdout",
     "output_type": "stream",
     "text": [
      "[{'_id': ObjectId('65dfaaf226574ebe70673a8e'),\n",
      "  'famousFor': ['the MOMA', 'food', 'Derek Jeter'],\n",
      "  'lastCensus': '2022-11-01',\n",
      "  'mayor': {'name': 'Bill de Blasio', 'party': 'D'},\n",
      "  'name': 'New York',\n",
      "  'population': 22200000},\n",
      " {'_id': ObjectId('65dfaaf226574ebe70673a90'),\n",
      "  'famousFor': ['beer', 'food', 'Portlandia'],\n",
      "  'lastCensus': '2016-09-20',\n",
      "  'mayor': {'name': 'Ted Wheeler', 'party': 'D'},\n",
      "  'name': 'Portland',\n",
      "  'population': 582000}]\n"
     ]
    }
   ],
   "source": [
    "# Find results with nested search criteria, e.g., mayor.party = \"D\".\n",
    "print_(db.towns.find({\"mayor.party\": \"D\"}))"
   ]
  },
  {
   "cell_type": "markdown",
   "id": "40387231",
   "metadata": {},
   "source": [
    "## Updating"
   ]
  },
  {
   "cell_type": "code",
   "execution_count": 22,
   "id": "b6cfadc4",
   "metadata": {
    "ExecuteTime": {
     "end_time": "2024-02-28T21:51:46.728308Z",
     "start_time": "2024-02-28T21:51:46.725936Z"
    }
   },
   "outputs": [
    {
     "name": "stdout",
     "output_type": "stream",
     "text": [
      "[{'_id': ObjectId('65dfaaf226574ebe70673a8e'),\n",
      "  'famousFor': ['the MOMA', 'food', 'Derek Jeter'],\n",
      "  'lastCensus': '2022-11-01',\n",
      "  'mayor': {'name': 'Bill de Blasio', 'party': 'D'},\n",
      "  'name': 'New York',\n",
      "  'population': 22200000},\n",
      " {'_id': ObjectId('65dfaaf226574ebe70673a8f'),\n",
      "  'famousFor': ['Punxsutawney Phil'],\n",
      "  'lastCensus': '2016-01-31',\n",
      "  'mayor': {'name': 'Richard Alexander'},\n",
      "  'name': 'Punxsutawney',\n",
      "  'population': 6200},\n",
      " {'_id': ObjectId('65dfaaf226574ebe70673a90'),\n",
      "  'famousFor': ['beer', 'food', 'Portlandia'],\n",
      "  'lastCensus': '2016-09-20',\n",
      "  'mayor': {'name': 'Ted Wheeler', 'party': 'D'},\n",
      "  'name': 'Portland',\n",
      "  'population': 582000}]\n"
     ]
    }
   ],
   "source": [
    "print_(db.towns.find())"
   ]
  },
  {
   "cell_type": "code",
   "execution_count": 23,
   "id": "60bdb69b",
   "metadata": {
    "ExecuteTime": {
     "end_time": "2024-02-28T21:51:46.732184Z",
     "start_time": "2024-02-28T21:51:46.729213Z"
    }
   },
   "outputs": [
    {
     "name": "stdout",
     "output_type": "stream",
     "text": [
      "object_id_for_Portland= 65dfaaf226574ebe70673a90\n",
      "{'_id': ObjectId('65dfaaf226574ebe70673a90'),\n",
      " 'famousFor': ['beer', 'food', 'Portlandia'],\n",
      " 'lastCensus': '2016-09-20',\n",
      " 'mayor': {'name': 'Ted Wheeler', 'party': 'D'},\n",
      " 'name': 'Portland',\n",
      " 'population': 582000}\n"
     ]
    }
   ],
   "source": [
    "# Find the ID for a given document.\n",
    "object_id_for_Portland = str(db.towns.find_one({\"name\": \"Portland\"})[\"_id\"])\n",
    "print(\"object_id_for_Portland=\", object_id_for_Portland)\n",
    "\n",
    "# Note that types matter, so searching for an _id as string doesn't work.\n",
    "#print_(db.towns.find_one({\"_id\": object_id_for_Portland}))\n",
    "print_(db.towns.find_one({\"_id\": ObjectId(object_id_for_Portland)}))"
   ]
  },
  {
   "cell_type": "code",
   "execution_count": 24,
   "id": "2ee0970d",
   "metadata": {
    "ExecuteTime": {
     "end_time": "2024-02-28T21:51:46.736192Z",
     "start_time": "2024-02-28T21:51:46.732897Z"
    }
   },
   "outputs": [
    {
     "name": "stdout",
     "output_type": "stream",
     "text": [
      "[{'_id': ObjectId('65dfaaf226574ebe70673a90'),\n",
      "  'famousFor': ['beer', 'food', 'Portlandia'],\n",
      "  'lastCensus': '2016-09-20',\n",
      "  'mayor': {'name': 'Ted Wheeler', 'party': 'D'},\n",
      "  'name': 'Portland',\n",
      "  'population': 582000,\n",
      "  'state': 'OR'}]\n"
     ]
    }
   ],
   "source": [
    "# There are multiple cities called Portland in US (e.g., in Oregon and in Maine).\n",
    "# So add the state.\n",
    "db.towns.update_one(\n",
    "    {\"_id\": ObjectId(object_id_for_Portland)}, {\"$set\": {\"state\": \"OR\"}}\n",
    ")\n",
    "\n",
    "print_(db.towns.find({\"_id\": ObjectId(object_id_for_Portland)}))\n",
    "\n",
    "# Note that we need to specify $set.\n",
    "# Mongo thinks in terms of documents and not attributes. So if you specify:\n",
    "# db.towns.update_one({\"_id\": ObjectId(\"63696c28657571ee34691de3\")},\n",
    "#                     {\"state\": \"OR\"})\n",
    "# the entire document will be replaced with the document `{\"state\": \"OR\"}`"
   ]
  },
  {
   "cell_type": "code",
   "execution_count": 25,
   "id": "aed4f136",
   "metadata": {
    "ExecuteTime": {
     "end_time": "2024-02-28T21:51:46.741399Z",
     "start_time": "2024-02-28T21:51:46.736914Z"
    }
   },
   "outputs": [
    {
     "name": "stdout",
     "output_type": "stream",
     "text": [
      "[{'_id': ObjectId('65dfaaf226574ebe70673a90'),\n",
      "  'famousFor': ['beer', 'food', 'Portlandia'],\n",
      "  'lastCensus': '2016-09-20',\n",
      "  'mayor': {'name': 'Ted Wheeler', 'party': 'D'},\n",
      "  'name': 'Portland',\n",
      "  'population': 583000,\n",
      "  'state': 'OR'}]\n"
     ]
    }
   ],
   "source": [
    "# Increment the population.\n",
    "db.towns.update_one(\n",
    "    {\"_id\": ObjectId(object_id_for_Portland)}, {\"$inc\": {\"population\": 1000}}\n",
    ")\n",
    "print_(db.towns.find({\"_id\": ObjectId(object_id_for_Portland)}))"
   ]
  },
  {
   "cell_type": "markdown",
   "id": "f4c8d02d",
   "metadata": {},
   "source": [
    "# `countries` collection"
   ]
  },
  {
   "cell_type": "markdown",
   "id": "1abff33b",
   "metadata": {},
   "source": [
    "## Insert"
   ]
  },
  {
   "cell_type": "code",
   "execution_count": 26,
   "id": "1d4fc37b",
   "metadata": {
    "ExecuteTime": {
     "end_time": "2024-02-28T21:51:46.760952Z",
     "start_time": "2024-02-28T21:51:46.742366Z"
    }
   },
   "outputs": [],
   "source": [
    "# Delete collection, if it exists.\n",
    "db.countries.drop()\n",
    "\n",
    "# Note that:\n",
    "# 1) we define the _id directly\n",
    "# 2) the schema is not strict\n",
    "db.countries.insert_one({\n",
    "    \"_id\": \"us\",\n",
    "    \"name\": \"United States\",\n",
    "    \"exports\": {\n",
    "        \"foods\": [{\n",
    "            \"name\": \"bacon\",\n",
    "            \"tasty\": True\n",
    "        }, {\n",
    "            \"name\": \"burgers\"\n",
    "        }]\n",
    "    },\n",
    "})\n",
    "\n",
    "db.countries.insert_one({\n",
    "    \"_id\": \"ca\",\n",
    "    \"name\": \"Canada\",\n",
    "    \"exports\": {\n",
    "        \"foods\": [\n",
    "            {\n",
    "                \"name\": \"bacon\",\n",
    "                \"tasty\": False\n",
    "            },\n",
    "            {\n",
    "                \"name\": \"syrup\",\n",
    "                \"tasty\": True\n",
    "            },\n",
    "        ]\n",
    "    },\n",
    "})\n",
    "\n",
    "db.countries.insert_one({\n",
    "    \"_id\": \"mx\",\n",
    "    \"name\": \"Mexico\",\n",
    "    \"exports\": {\n",
    "        \"foods\": [{\n",
    "            \"name\": \"salsa\",\n",
    "            \"tasty\": True,\n",
    "            \"condiment\": True\n",
    "        }]\n",
    "    },\n",
    "})\n",
    "\n",
    "assert db.countries.count_documents({}) == 3"
   ]
  },
  {
   "cell_type": "code",
   "execution_count": 27,
   "id": "4222acc4",
   "metadata": {
    "ExecuteTime": {
     "end_time": "2024-02-28T21:51:46.764671Z",
     "start_time": "2024-02-28T21:51:46.762020Z"
    }
   },
   "outputs": [
    {
     "name": "stdout",
     "output_type": "stream",
     "text": [
      "{'_id': 'us',\n",
      " 'exports': {'foods': [{'name': 'bacon', 'tasty': True}, {'name': 'burgers'}]},\n",
      " 'name': 'United States'}\n",
      "{'_id': 'ca',\n",
      " 'exports': {'foods': [{'name': 'bacon', 'tasty': False},\n",
      "                       {'name': 'syrup', 'tasty': True}]},\n",
      " 'name': 'Canada'}\n",
      "{'_id': 'mx',\n",
      " 'exports': {'foods': [{'condiment': True, 'name': 'salsa', 'tasty': True}]},\n",
      " 'name': 'Mexico'}\n"
     ]
    }
   ],
   "source": [
    "for obj in db[\"countries\"].find():\n",
    "    print_(obj)"
   ]
  },
  {
   "cell_type": "markdown",
   "id": "bb7f5d74",
   "metadata": {
    "ExecuteTime": {
     "end_time": "2022-12-11T20:04:52.749811Z",
     "start_time": "2022-12-11T20:04:52.745417Z"
    }
   },
   "source": [
    "## Query"
   ]
  },
  {
   "cell_type": "code",
   "execution_count": 28,
   "id": "15a09a95",
   "metadata": {
    "ExecuteTime": {
     "end_time": "2024-02-28T21:51:46.771218Z",
     "start_time": "2024-02-28T21:51:46.766176Z"
    }
   },
   "outputs": [
    {
     "name": "stdout",
     "output_type": "stream",
     "text": [
      "[{'name': 'United States'}, {'name': 'Canada'}]\n"
     ]
    }
   ],
   "source": [
    "# Find the country that exports tasty bacon.\n",
    "\n",
    "# This doesn't return what we want, since we want the AND of the condition and not OR.\n",
    "print_(\n",
    "    db.countries.find(\n",
    "        {\n",
    "            \"exports.foods.name\": \"bacon\",\n",
    "            \"exports.foods.tasty\": True,\n",
    "        },\n",
    "        {\"_id\": 0, \"name\": 1},\n",
    "    )\n",
    ")"
   ]
  },
  {
   "cell_type": "code",
   "execution_count": 29,
   "id": "47200eca",
   "metadata": {
    "ExecuteTime": {
     "end_time": "2024-02-28T21:51:46.777375Z",
     "start_time": "2024-02-28T21:51:46.772394Z"
    }
   },
   "outputs": [
    {
     "name": "stdout",
     "output_type": "stream",
     "text": [
      "[{'name': 'United States'}]\n"
     ]
    }
   ],
   "source": [
    "# Using $elemMatch.\n",
    "print_(\n",
    "    db.countries.find(\n",
    "        {\n",
    "            \"exports.foods\": {\n",
    "                \"$elemMatch\": {\n",
    "                    \"name\": \"bacon\",\n",
    "                    \"tasty\": True,\n",
    "                }\n",
    "            }\n",
    "        },\n",
    "        {\"_id\": 0, \"name\": 1},\n",
    "    )\n",
    ")"
   ]
  },
  {
   "cell_type": "code",
   "execution_count": 30,
   "id": "613161e3",
   "metadata": {
    "ExecuteTime": {
     "end_time": "2024-02-28T21:51:46.782973Z",
     "start_time": "2024-02-28T21:51:46.778314Z"
    }
   },
   "outputs": [
    {
     "name": "stdout",
     "output_type": "stream",
     "text": [
      "[]\n",
      "[{'_id': 'us'}, {'_id': 'mx'}]\n"
     ]
    }
   ],
   "source": [
    "# This performs an AND.\n",
    "print_(db.countries.find({\"_id\": \"mx\", \"name\": \"United States\"}))\n",
    "\n",
    "# This performs an OR.\n",
    "print_(\n",
    "    db.countries.find({\"$or\": [{\"_id\": \"mx\"}, {\"name\": \"United States\"}]}, {\"_id\": 1})\n",
    ")"
   ]
  },
  {
   "cell_type": "markdown",
   "id": "ee54d750",
   "metadata": {},
   "source": [
    "## References"
   ]
  },
  {
   "cell_type": "code",
   "execution_count": 31,
   "id": "4d0bd31b",
   "metadata": {
    "ExecuteTime": {
     "end_time": "2024-02-28T21:51:46.791846Z",
     "start_time": "2024-02-28T21:51:46.786130Z"
    }
   },
   "outputs": [
    {
     "name": "stdout",
     "output_type": "stream",
     "text": [
      "object_id_for_Pun= 65dfaaf226574ebe70673a8f\n"
     ]
    }
   ],
   "source": [
    "object_id_for_Pun = ObjectId(str(db.towns.find_one({\"name\": \"Punxsutawney\"})[\"_id\"]))\n",
    "print(\"object_id_for_Pun=\", object_id_for_Pun)"
   ]
  },
  {
   "cell_type": "code",
   "execution_count": 32,
   "id": "aebb47b5",
   "metadata": {
    "ExecuteTime": {
     "end_time": "2024-02-28T21:51:46.798035Z",
     "start_time": "2024-02-28T21:51:46.794632Z"
    }
   },
   "outputs": [
    {
     "name": "stdout",
     "output_type": "stream",
     "text": [
      "{'_id': ObjectId('65dfaaf226574ebe70673a8f'),\n",
      " 'country': DBRef('countries', 'us'),\n",
      " 'famousFor': ['Punxsutawney Phil'],\n",
      " 'lastCensus': '2016-01-31',\n",
      " 'mayor': {'name': 'Richard Alexander'},\n",
      " 'name': 'Punxsutawney',\n",
      " 'population': 6200}\n"
     ]
    }
   ],
   "source": [
    "# Mongo is not built to perform joins.\n",
    "# It is useful to have documents reference each other.\n",
    "db.towns.update_one(\n",
    "    {\"_id\": object_id_for_Pun},\n",
    "    {\"$set\": {\"country\": {\"$ref\": \"countries\", \"$id\": \"us\"}}},\n",
    ")\n",
    "\n",
    "print_(db.towns.find_one({\"_id\": object_id_for_Pun}))"
   ]
  },
  {
   "cell_type": "code",
   "execution_count": 33,
   "id": "a7f8ee5f",
   "metadata": {
    "ExecuteTime": {
     "end_time": "2024-02-28T21:51:46.801425Z",
     "start_time": "2024-02-28T21:51:46.798798Z"
    }
   },
   "outputs": [
    {
     "name": "stdout",
     "output_type": "stream",
     "text": [
      "var= {'_id': ObjectId('65dfaaf226574ebe70673a8f'), 'name': 'Punxsutawney', 'population': 6200, 'lastCensus': '2016-01-31', 'famousFor': ['Punxsutawney Phil'], 'mayor': {'name': 'Richard Alexander'}, 'country': DBRef('countries', 'us')}\n",
      "var[\"country\"]= DBRef('countries', 'us')\n",
      "us\n"
     ]
    }
   ],
   "source": [
    "var = db.towns.find_one({\"_id\": object_id_for_Pun})\n",
    "print(\"var=\", var)\n",
    "print('var[\"country\"]=', var[\"country\"])\n",
    "# Dereference.\n",
    "print(var[\"country\"].id)"
   ]
  },
  {
   "cell_type": "markdown",
   "id": "2ee908fc",
   "metadata": {},
   "source": [
    "## Delete"
   ]
  },
  {
   "cell_type": "code",
   "execution_count": 34,
   "id": "9acfe3c3",
   "metadata": {
    "ExecuteTime": {
     "end_time": "2024-02-28T21:51:46.804335Z",
     "start_time": "2024-02-28T21:51:46.802130Z"
    }
   },
   "outputs": [
    {
     "name": "stdout",
     "output_type": "stream",
     "text": [
      "[{'_id': 'ca',\n",
      "  'exports': {'foods': [{'name': 'bacon', 'tasty': False},\n",
      "                        {'name': 'syrup', 'tasty': True}]},\n",
      "  'name': 'Canada'}]\n"
     ]
    }
   ],
   "source": [
    "# Find all contries where the bacon is not tasty.\n",
    "bad_bacon = {\n",
    "    \"exports.foods\": {\n",
    "        \"$elemMatch\": {\n",
    "            \"name\": \"bacon\",\n",
    "            \"tasty\": False,\n",
    "        }\n",
    "    }\n",
    "}\n",
    "print_(db.countries.find(bad_bacon))"
   ]
  },
  {
   "cell_type": "code",
   "execution_count": 35,
   "id": "bf89d37f",
   "metadata": {
    "ExecuteTime": {
     "end_time": "2024-02-28T21:51:46.807361Z",
     "start_time": "2024-02-28T21:51:46.804969Z"
    }
   },
   "outputs": [
    {
     "name": "stdout",
     "output_type": "stream",
     "text": [
      "[{'_id': 'us',\n",
      "  'exports': {'foods': [{'name': 'bacon', 'tasty': True}, {'name': 'burgers'}]},\n",
      "  'name': 'United States'},\n",
      " {'_id': 'ca',\n",
      "  'exports': {'foods': [{'name': 'bacon', 'tasty': False},\n",
      "                        {'name': 'syrup', 'tasty': True}]},\n",
      "  'name': 'Canada'},\n",
      " {'_id': 'mx',\n",
      "  'exports': {'foods': [{'condiment': True, 'name': 'salsa', 'tasty': True}]},\n",
      "  'name': 'Mexico'}]\n"
     ]
    }
   ],
   "source": [
    "print_(db.countries.find())"
   ]
  },
  {
   "cell_type": "code",
   "execution_count": 36,
   "id": "897db66f",
   "metadata": {
    "ExecuteTime": {
     "end_time": "2024-02-28T21:51:46.812005Z",
     "start_time": "2024-02-28T21:51:46.808310Z"
    }
   },
   "outputs": [
    {
     "name": "stdout",
     "output_type": "stream",
     "text": [
      "count= 3\n",
      "count= 2\n"
     ]
    }
   ],
   "source": [
    "print(\"count=\", db.countries.count_documents({}))\n",
    "db.countries.delete_many(bad_bacon)\n",
    "print(\"count=\", db.countries.count_documents({}))"
   ]
  },
  {
   "cell_type": "markdown",
   "id": "97788f7e",
   "metadata": {},
   "source": [
    "## Query with code"
   ]
  },
  {
   "cell_type": "markdown",
   "id": "33de562e",
   "metadata": {},
   "source": [
    "# Indexing"
   ]
  },
  {
   "cell_type": "code",
   "execution_count": 37,
   "id": "738f256b",
   "metadata": {
    "ExecuteTime": {
     "end_time": "2024-02-28T21:52:01.183302Z",
     "start_time": "2024-02-28T21:51:46.812663Z"
    }
   },
   "outputs": [],
   "source": [
    "import random\n",
    "\n",
    "random.seed(1)\n",
    "\n",
    "\n",
    "def populatePhones(area, start, stop):\n",
    "    for i in range(start, stop):\n",
    "        country = 1 + random.randint(1, 8)\n",
    "        num = int(country * 1e10 + area * 1e7 + i)\n",
    "        # +4 800-5550000\n",
    "        full_number = \"+%s %s-%s\" % (country, area, i)\n",
    "        # print(num, full_number)\n",
    "        # assert 0\n",
    "        db.phones.insert_one(\n",
    "            {\n",
    "                \"_id\": num,\n",
    "                \"components\": {\n",
    "                    \"country\": country,\n",
    "                    \"area\": area,\n",
    "                    \"number\": i,\n",
    "                },\n",
    "                \"display\": full_number,\n",
    "            }\n",
    "        )\n",
    "\n",
    "\n",
    "# Generate 100,000 phone numbers (it may take a while), between 1-800-555-0000 and 1-800-565-0000.\n",
    "db.phones.drop()\n",
    "populatePhones(800, 5550000, 5650000)"
   ]
  },
  {
   "cell_type": "code",
   "execution_count": 38,
   "id": "c8d12e8e",
   "metadata": {
    "ExecuteTime": {
     "end_time": "2024-02-28T21:52:01.212488Z",
     "start_time": "2024-02-28T21:52:01.189917Z"
    }
   },
   "outputs": [
    {
     "name": "stdout",
     "output_type": "stream",
     "text": [
      "100000\n"
     ]
    }
   ],
   "source": [
    "print(db.phones.count_documents({}))"
   ]
  },
  {
   "cell_type": "code",
   "execution_count": 39,
   "id": "dc53da00",
   "metadata": {
    "ExecuteTime": {
     "end_time": "2024-02-28T21:52:01.218314Z",
     "start_time": "2024-02-28T21:52:01.213564Z"
    }
   },
   "outputs": [
    {
     "name": "stdout",
     "output_type": "stream",
     "text": [
      "[{'_id': 48005550000,\n",
      "  'components': {'area': 800, 'country': 4, 'number': 5550000},\n",
      "  'display': '+4 800-5550000'},\n",
      " {'_id': 38005550001,\n",
      "  'components': {'area': 800, 'country': 3, 'number': 5550001},\n",
      "  'display': '+3 800-5550001'}]\n",
      "[{'_id': 48005550000,\n",
      "  'components': {'area': 800, 'country': 4, 'number': 5550000},\n",
      "  'display': '+4 800-5550000'},\n",
      " {'_id': 38005550001,\n",
      "  'components': {'area': 800, 'country': 3, 'number': 5550001},\n",
      "  'display': '+3 800-5550001'}]\n"
     ]
    }
   ],
   "source": [
    "print_(db.phones.find().limit(2))\n",
    "print_(db.phones.find().limit(2))"
   ]
  },
  {
   "cell_type": "code",
   "execution_count": 40,
   "id": "c2b7d452",
   "metadata": {
    "ExecuteTime": {
     "end_time": "2024-02-28T21:52:01.222585Z",
     "start_time": "2024-02-28T21:52:01.219029Z"
    }
   },
   "outputs": [
    {
     "name": "stdout",
     "output_type": "stream",
     "text": [
      "# collection= towns\n",
      "{'_id_': {'key': [('_id', 1)], 'v': 2}}\n",
      "# collection= countries\n",
      "{'_id_': {'key': [('_id', 1)], 'v': 2}}\n",
      "# collection= phones\n",
      "{'_id_': {'key': [('_id', 1)], 'v': 2}}\n"
     ]
    }
   ],
   "source": [
    "# Print information about the indices.\n",
    "for collection in db.list_collection_names():\n",
    "    print(\"# collection=\", collection)\n",
    "    print_(db[collection].index_information())"
   ]
  },
  {
   "cell_type": "code",
   "execution_count": 41,
   "id": "68298689",
   "metadata": {
    "ExecuteTime": {
     "end_time": "2024-02-28T21:52:01.225471Z",
     "start_time": "2024-02-28T21:52:01.223295Z"
    }
   },
   "outputs": [
    {
     "name": "stdout",
     "output_type": "stream",
     "text": [
      "{'_id': 48005550000,\n",
      " 'components': {'area': 800, 'country': 4, 'number': 5550000},\n",
      " 'display': '+4 800-5550000'}\n"
     ]
    }
   ],
   "source": [
    "print_(db.phones.find_one({\"display\": \"+4 800-5550000\"}))"
   ]
  },
  {
   "cell_type": "code",
   "execution_count": 42,
   "id": "8d8f3b0b",
   "metadata": {
    "ExecuteTime": {
     "end_time": "2024-02-28T21:52:01.250125Z",
     "start_time": "2024-02-28T21:52:01.226642Z"
    }
   },
   "outputs": [
    {
     "data": {
      "text/plain": [
       "20"
      ]
     },
     "execution_count": 42,
     "metadata": {},
     "output_type": "execute_result"
    }
   ],
   "source": [
    "# db.phones.find({\"display\": \"+4 800-5550000\"}).explain()\n",
    "db.phones.find({\"display\": \"+4 800-5550000\"}).explain()[\"executionStats\"][\n",
    "    \"executionTimeMillis\"\n",
    "]"
   ]
  },
  {
   "cell_type": "code",
   "execution_count": 43,
   "id": "2455e369",
   "metadata": {
    "ExecuteTime": {
     "end_time": "2024-02-28T21:52:01.348786Z",
     "start_time": "2024-02-28T21:52:01.250874Z"
    }
   },
   "outputs": [
    {
     "name": "stdout",
     "output_type": "stream",
     "text": [
      "{'_id_': {'key': [('_id', 1)], 'v': 2},\n",
      " 'display_1': {'key': [('display', 1)], 'unique': True, 'v': 2}}\n"
     ]
    }
   ],
   "source": [
    "# Create an indesx on `display`.\n",
    "db.phones.create_index([(\"display\", pymongo.ASCENDING)], unique=True, dropDups=True)\n",
    "\n",
    "print_(db[\"phones\"].index_information())"
   ]
  },
  {
   "cell_type": "code",
   "execution_count": 44,
   "id": "c599596a",
   "metadata": {
    "ExecuteTime": {
     "end_time": "2024-02-28T21:52:01.360768Z",
     "start_time": "2024-02-28T21:52:01.349728Z"
    }
   },
   "outputs": [
    {
     "name": "stdout",
     "output_type": "stream",
     "text": [
      "7\n"
     ]
    }
   ],
   "source": [
    "# Show that the query now it's very fast.\n",
    "print_(\n",
    "    db.phones.find({\"display\": \"+4 800-5550000\"}).explain()[\"executionStats\"][\n",
    "        \"executionTimeMillis\"\n",
    "    ]\n",
    ")"
   ]
  },
  {
   "cell_type": "markdown",
   "id": "3c51a860",
   "metadata": {},
   "source": [
    "# Aggregated queries."
   ]
  },
  {
   "cell_type": "code",
   "execution_count": 45,
   "id": "aa31271d",
   "metadata": {
    "ExecuteTime": {
     "end_time": "2024-02-28T21:52:01.386860Z",
     "start_time": "2024-02-28T21:52:01.361890Z"
    }
   },
   "outputs": [
    {
     "data": {
      "text/plain": [
       "50000"
      ]
     },
     "execution_count": 45,
     "metadata": {},
     "output_type": "execute_result"
    }
   ],
   "source": [
    "db.phones.count_documents({\"components.number\": {\"$gt\": 5599999}})"
   ]
  },
  {
   "cell_type": "code",
   "execution_count": 46,
   "id": "40baa781",
   "metadata": {
    "ExecuteTime": {
     "end_time": "2024-02-28T21:52:01.451484Z",
     "start_time": "2024-02-28T21:52:01.387922Z"
    }
   },
   "outputs": [
    {
     "data": {
      "text/plain": [
       "[5600000,\n",
       " 5600001,\n",
       " 5600002,\n",
       " 5600003,\n",
       " 5600004,\n",
       " 5600005,\n",
       " 5600006,\n",
       " 5600007,\n",
       " 5600008,\n",
       " 5600009,\n",
       " 5600010,\n",
       " 5600011,\n",
       " 5600012,\n",
       " 5600013,\n",
       " 5600014,\n",
       " 5600015,\n",
       " 5600016,\n",
       " 5600017,\n",
       " 5600018,\n",
       " 5600019,\n",
       " 5600020,\n",
       " 5600021,\n",
       " 5600022,\n",
       " 5600023,\n",
       " 5600024,\n",
       " 5600025,\n",
       " 5600026,\n",
       " 5600027,\n",
       " 5600028,\n",
       " 5600029,\n",
       " 5600030,\n",
       " 5600031,\n",
       " 5600032,\n",
       " 5600033,\n",
       " 5600034,\n",
       " 5600035,\n",
       " 5600036,\n",
       " 5600037,\n",
       " 5600038,\n",
       " 5600039,\n",
       " 5600040,\n",
       " 5600041,\n",
       " 5600042,\n",
       " 5600043,\n",
       " 5600044,\n",
       " 5600045,\n",
       " 5600046,\n",
       " 5600047,\n",
       " 5600048,\n",
       " 5600049,\n",
       " 5600050,\n",
       " 5600051,\n",
       " 5600052,\n",
       " 5600053,\n",
       " 5600054,\n",
       " 5600055,\n",
       " 5600056,\n",
       " 5600057,\n",
       " 5600058,\n",
       " 5600059,\n",
       " 5600060,\n",
       " 5600061,\n",
       " 5600062,\n",
       " 5600063,\n",
       " 5600064,\n",
       " 5600065,\n",
       " 5600066,\n",
       " 5600067,\n",
       " 5600068,\n",
       " 5600069,\n",
       " 5600070,\n",
       " 5600071,\n",
       " 5600072,\n",
       " 5600073,\n",
       " 5600074,\n",
       " 5600075,\n",
       " 5600076,\n",
       " 5600077,\n",
       " 5600078,\n",
       " 5600079,\n",
       " 5600080,\n",
       " 5600081,\n",
       " 5600082,\n",
       " 5600083,\n",
       " 5600084,\n",
       " 5600085,\n",
       " 5600086,\n",
       " 5600087,\n",
       " 5600088,\n",
       " 5600089,\n",
       " 5600090,\n",
       " 5600091,\n",
       " 5600092,\n",
       " 5600093,\n",
       " 5600094,\n",
       " 5600095,\n",
       " 5600096,\n",
       " 5600097,\n",
       " 5600098,\n",
       " 5600099,\n",
       " 5600100,\n",
       " 5600101,\n",
       " 5600102,\n",
       " 5600103,\n",
       " 5600104,\n",
       " 5600105,\n",
       " 5600106,\n",
       " 5600107,\n",
       " 5600108,\n",
       " 5600109,\n",
       " 5600110,\n",
       " 5600111,\n",
       " 5600112,\n",
       " 5600113,\n",
       " 5600114,\n",
       " 5600115,\n",
       " 5600116,\n",
       " 5600117,\n",
       " 5600118,\n",
       " 5600119,\n",
       " 5600120,\n",
       " 5600121,\n",
       " 5600122,\n",
       " 5600123,\n",
       " 5600124,\n",
       " 5600125,\n",
       " 5600126,\n",
       " 5600127,\n",
       " 5600128,\n",
       " 5600129,\n",
       " 5600130,\n",
       " 5600131,\n",
       " 5600132,\n",
       " 5600133,\n",
       " 5600134,\n",
       " 5600135,\n",
       " 5600136,\n",
       " 5600137,\n",
       " 5600138,\n",
       " 5600139,\n",
       " 5600140,\n",
       " 5600141,\n",
       " 5600142,\n",
       " 5600143,\n",
       " 5600144,\n",
       " 5600145,\n",
       " 5600146,\n",
       " 5600147,\n",
       " 5600148,\n",
       " 5600149,\n",
       " 5600150,\n",
       " 5600151,\n",
       " 5600152,\n",
       " 5600153,\n",
       " 5600154,\n",
       " 5600155,\n",
       " 5600156,\n",
       " 5600157,\n",
       " 5600158,\n",
       " 5600159,\n",
       " 5600160,\n",
       " 5600161,\n",
       " 5600162,\n",
       " 5600163,\n",
       " 5600164,\n",
       " 5600165,\n",
       " 5600166,\n",
       " 5600167,\n",
       " 5600168,\n",
       " 5600169,\n",
       " 5600170,\n",
       " 5600171,\n",
       " 5600172,\n",
       " 5600173,\n",
       " 5600174,\n",
       " 5600175,\n",
       " 5600176,\n",
       " 5600177,\n",
       " 5600178,\n",
       " 5600179,\n",
       " 5600180,\n",
       " 5600181,\n",
       " 5600182,\n",
       " 5600183,\n",
       " 5600184,\n",
       " 5600185,\n",
       " 5600186,\n",
       " 5600187,\n",
       " 5600188,\n",
       " 5600189,\n",
       " 5600190,\n",
       " 5600191,\n",
       " 5600192,\n",
       " 5600193,\n",
       " 5600194,\n",
       " 5600195,\n",
       " 5600196,\n",
       " 5600197,\n",
       " 5600198,\n",
       " 5600199,\n",
       " 5600200,\n",
       " 5600201,\n",
       " 5600202,\n",
       " 5600203,\n",
       " 5600204,\n",
       " 5600205,\n",
       " 5600206,\n",
       " 5600207,\n",
       " 5600208,\n",
       " 5600209,\n",
       " 5600210,\n",
       " 5600211,\n",
       " 5600212,\n",
       " 5600213,\n",
       " 5600214,\n",
       " 5600215,\n",
       " 5600216,\n",
       " 5600217,\n",
       " 5600218,\n",
       " 5600219,\n",
       " 5600220,\n",
       " 5600221,\n",
       " 5600222,\n",
       " 5600223,\n",
       " 5600224,\n",
       " 5600225,\n",
       " 5600226,\n",
       " 5600227,\n",
       " 5600228,\n",
       " 5600229,\n",
       " 5600230,\n",
       " 5600231,\n",
       " 5600232,\n",
       " 5600233,\n",
       " 5600234,\n",
       " 5600235,\n",
       " 5600236,\n",
       " 5600237,\n",
       " 5600238,\n",
       " 5600239,\n",
       " 5600240,\n",
       " 5600241,\n",
       " 5600242,\n",
       " 5600243,\n",
       " 5600244,\n",
       " 5600245,\n",
       " 5600246,\n",
       " 5600247,\n",
       " 5600248,\n",
       " 5600249,\n",
       " 5600250,\n",
       " 5600251,\n",
       " 5600252,\n",
       " 5600253,\n",
       " 5600254,\n",
       " 5600255,\n",
       " 5600256,\n",
       " 5600257,\n",
       " 5600258,\n",
       " 5600259,\n",
       " 5600260,\n",
       " 5600261,\n",
       " 5600262,\n",
       " 5600263,\n",
       " 5600264,\n",
       " 5600265,\n",
       " 5600266,\n",
       " 5600267,\n",
       " 5600268,\n",
       " 5600269,\n",
       " 5600270,\n",
       " 5600271,\n",
       " 5600272,\n",
       " 5600273,\n",
       " 5600274,\n",
       " 5600275,\n",
       " 5600276,\n",
       " 5600277,\n",
       " 5600278,\n",
       " 5600279,\n",
       " 5600280,\n",
       " 5600281,\n",
       " 5600282,\n",
       " 5600283,\n",
       " 5600284,\n",
       " 5600285,\n",
       " 5600286,\n",
       " 5600287,\n",
       " 5600288,\n",
       " 5600289,\n",
       " 5600290,\n",
       " 5600291,\n",
       " 5600292,\n",
       " 5600293,\n",
       " 5600294,\n",
       " 5600295,\n",
       " 5600296,\n",
       " 5600297,\n",
       " 5600298,\n",
       " 5600299,\n",
       " 5600300,\n",
       " 5600301,\n",
       " 5600302,\n",
       " 5600303,\n",
       " 5600304,\n",
       " 5600305,\n",
       " 5600306,\n",
       " 5600307,\n",
       " 5600308,\n",
       " 5600309,\n",
       " 5600310,\n",
       " 5600311,\n",
       " 5600312,\n",
       " 5600313,\n",
       " 5600314,\n",
       " 5600315,\n",
       " 5600316,\n",
       " 5600317,\n",
       " 5600318,\n",
       " 5600319,\n",
       " 5600320,\n",
       " 5600321,\n",
       " 5600322,\n",
       " 5600323,\n",
       " 5600324,\n",
       " 5600325,\n",
       " 5600326,\n",
       " 5600327,\n",
       " 5600328,\n",
       " 5600329,\n",
       " 5600330,\n",
       " 5600331,\n",
       " 5600332,\n",
       " 5600333,\n",
       " 5600334,\n",
       " 5600335,\n",
       " 5600336,\n",
       " 5600337,\n",
       " 5600338,\n",
       " 5600339,\n",
       " 5600340,\n",
       " 5600341,\n",
       " 5600342,\n",
       " 5600343,\n",
       " 5600344,\n",
       " 5600345,\n",
       " 5600346,\n",
       " 5600347,\n",
       " 5600348,\n",
       " 5600349,\n",
       " 5600350,\n",
       " 5600351,\n",
       " 5600352,\n",
       " 5600353,\n",
       " 5600354,\n",
       " 5600355,\n",
       " 5600356,\n",
       " 5600357,\n",
       " 5600358,\n",
       " 5600359,\n",
       " 5600360,\n",
       " 5600361,\n",
       " 5600362,\n",
       " 5600363,\n",
       " 5600364,\n",
       " 5600365,\n",
       " 5600366,\n",
       " 5600367,\n",
       " 5600368,\n",
       " 5600369,\n",
       " 5600370,\n",
       " 5600371,\n",
       " 5600372,\n",
       " 5600373,\n",
       " 5600374,\n",
       " 5600375,\n",
       " 5600376,\n",
       " 5600377,\n",
       " 5600378,\n",
       " 5600379,\n",
       " 5600380,\n",
       " 5600381,\n",
       " 5600382,\n",
       " 5600383,\n",
       " 5600384,\n",
       " 5600385,\n",
       " 5600386,\n",
       " 5600387,\n",
       " 5600388,\n",
       " 5600389,\n",
       " 5600390,\n",
       " 5600391,\n",
       " 5600392,\n",
       " 5600393,\n",
       " 5600394,\n",
       " 5600395,\n",
       " 5600396,\n",
       " 5600397,\n",
       " 5600398,\n",
       " 5600399,\n",
       " 5600400,\n",
       " 5600401,\n",
       " 5600402,\n",
       " 5600403,\n",
       " 5600404,\n",
       " 5600405,\n",
       " 5600406,\n",
       " 5600407,\n",
       " 5600408,\n",
       " 5600409,\n",
       " 5600410,\n",
       " 5600411,\n",
       " 5600412,\n",
       " 5600413,\n",
       " 5600414,\n",
       " 5600415,\n",
       " 5600416,\n",
       " 5600417,\n",
       " 5600418,\n",
       " 5600419,\n",
       " 5600420,\n",
       " 5600421,\n",
       " 5600422,\n",
       " 5600423,\n",
       " 5600424,\n",
       " 5600425,\n",
       " 5600426,\n",
       " 5600427,\n",
       " 5600428,\n",
       " 5600429,\n",
       " 5600430,\n",
       " 5600431,\n",
       " 5600432,\n",
       " 5600433,\n",
       " 5600434,\n",
       " 5600435,\n",
       " 5600436,\n",
       " 5600437,\n",
       " 5600438,\n",
       " 5600439,\n",
       " 5600440,\n",
       " 5600441,\n",
       " 5600442,\n",
       " 5600443,\n",
       " 5600444,\n",
       " 5600445,\n",
       " 5600446,\n",
       " 5600447,\n",
       " 5600448,\n",
       " 5600449,\n",
       " 5600450,\n",
       " 5600451,\n",
       " 5600452,\n",
       " 5600453,\n",
       " 5600454,\n",
       " 5600455,\n",
       " 5600456,\n",
       " 5600457,\n",
       " 5600458,\n",
       " 5600459,\n",
       " 5600460,\n",
       " 5600461,\n",
       " 5600462,\n",
       " 5600463,\n",
       " 5600464,\n",
       " 5600465,\n",
       " 5600466,\n",
       " 5600467,\n",
       " 5600468,\n",
       " 5600469,\n",
       " 5600470,\n",
       " 5600471,\n",
       " 5600472,\n",
       " 5600473,\n",
       " 5600474,\n",
       " 5600475,\n",
       " 5600476,\n",
       " 5600477,\n",
       " 5600478,\n",
       " 5600479,\n",
       " 5600480,\n",
       " 5600481,\n",
       " 5600482,\n",
       " 5600483,\n",
       " 5600484,\n",
       " 5600485,\n",
       " 5600486,\n",
       " 5600487,\n",
       " 5600488,\n",
       " 5600489,\n",
       " 5600490,\n",
       " 5600491,\n",
       " 5600492,\n",
       " 5600493,\n",
       " 5600494,\n",
       " 5600495,\n",
       " 5600496,\n",
       " 5600497,\n",
       " 5600498,\n",
       " 5600499,\n",
       " 5600500,\n",
       " 5600501,\n",
       " 5600502,\n",
       " 5600503,\n",
       " 5600504,\n",
       " 5600505,\n",
       " 5600506,\n",
       " 5600507,\n",
       " 5600508,\n",
       " 5600509,\n",
       " 5600510,\n",
       " 5600511,\n",
       " 5600512,\n",
       " 5600513,\n",
       " 5600514,\n",
       " 5600515,\n",
       " 5600516,\n",
       " 5600517,\n",
       " 5600518,\n",
       " 5600519,\n",
       " 5600520,\n",
       " 5600521,\n",
       " 5600522,\n",
       " 5600523,\n",
       " 5600524,\n",
       " 5600525,\n",
       " 5600526,\n",
       " 5600527,\n",
       " 5600528,\n",
       " 5600529,\n",
       " 5600530,\n",
       " 5600531,\n",
       " 5600532,\n",
       " 5600533,\n",
       " 5600534,\n",
       " 5600535,\n",
       " 5600536,\n",
       " 5600537,\n",
       " 5600538,\n",
       " 5600539,\n",
       " 5600540,\n",
       " 5600541,\n",
       " 5600542,\n",
       " 5600543,\n",
       " 5600544,\n",
       " 5600545,\n",
       " 5600546,\n",
       " 5600547,\n",
       " 5600548,\n",
       " 5600549,\n",
       " 5600550,\n",
       " 5600551,\n",
       " 5600552,\n",
       " 5600553,\n",
       " 5600554,\n",
       " 5600555,\n",
       " 5600556,\n",
       " 5600557,\n",
       " 5600558,\n",
       " 5600559,\n",
       " 5600560,\n",
       " 5600561,\n",
       " 5600562,\n",
       " 5600563,\n",
       " 5600564,\n",
       " 5600565,\n",
       " 5600566,\n",
       " 5600567,\n",
       " 5600568,\n",
       " 5600569,\n",
       " 5600570,\n",
       " 5600571,\n",
       " 5600572,\n",
       " 5600573,\n",
       " 5600574,\n",
       " 5600575,\n",
       " 5600576,\n",
       " 5600577,\n",
       " 5600578,\n",
       " 5600579,\n",
       " 5600580,\n",
       " 5600581,\n",
       " 5600582,\n",
       " 5600583,\n",
       " 5600584,\n",
       " 5600585,\n",
       " 5600586,\n",
       " 5600587,\n",
       " 5600588,\n",
       " 5600589,\n",
       " 5600590,\n",
       " 5600591,\n",
       " 5600592,\n",
       " 5600593,\n",
       " 5600594,\n",
       " 5600595,\n",
       " 5600596,\n",
       " 5600597,\n",
       " 5600598,\n",
       " 5600599,\n",
       " 5600600,\n",
       " 5600601,\n",
       " 5600602,\n",
       " 5600603,\n",
       " 5600604,\n",
       " 5600605,\n",
       " 5600606,\n",
       " 5600607,\n",
       " 5600608,\n",
       " 5600609,\n",
       " 5600610,\n",
       " 5600611,\n",
       " 5600612,\n",
       " 5600613,\n",
       " 5600614,\n",
       " 5600615,\n",
       " 5600616,\n",
       " 5600617,\n",
       " 5600618,\n",
       " 5600619,\n",
       " 5600620,\n",
       " 5600621,\n",
       " 5600622,\n",
       " 5600623,\n",
       " 5600624,\n",
       " 5600625,\n",
       " 5600626,\n",
       " 5600627,\n",
       " 5600628,\n",
       " 5600629,\n",
       " 5600630,\n",
       " 5600631,\n",
       " 5600632,\n",
       " 5600633,\n",
       " 5600634,\n",
       " 5600635,\n",
       " 5600636,\n",
       " 5600637,\n",
       " 5600638,\n",
       " 5600639,\n",
       " 5600640,\n",
       " 5600641,\n",
       " 5600642,\n",
       " 5600643,\n",
       " 5600644,\n",
       " 5600645,\n",
       " 5600646,\n",
       " 5600647,\n",
       " 5600648,\n",
       " 5600649,\n",
       " 5600650,\n",
       " 5600651,\n",
       " 5600652,\n",
       " 5600653,\n",
       " 5600654,\n",
       " 5600655,\n",
       " 5600656,\n",
       " 5600657,\n",
       " 5600658,\n",
       " 5600659,\n",
       " 5600660,\n",
       " 5600661,\n",
       " 5600662,\n",
       " 5600663,\n",
       " 5600664,\n",
       " 5600665,\n",
       " 5600666,\n",
       " 5600667,\n",
       " 5600668,\n",
       " 5600669,\n",
       " 5600670,\n",
       " 5600671,\n",
       " 5600672,\n",
       " 5600673,\n",
       " 5600674,\n",
       " 5600675,\n",
       " 5600676,\n",
       " 5600677,\n",
       " 5600678,\n",
       " 5600679,\n",
       " 5600680,\n",
       " 5600681,\n",
       " 5600682,\n",
       " 5600683,\n",
       " 5600684,\n",
       " 5600685,\n",
       " 5600686,\n",
       " 5600687,\n",
       " 5600688,\n",
       " 5600689,\n",
       " 5600690,\n",
       " 5600691,\n",
       " 5600692,\n",
       " 5600693,\n",
       " 5600694,\n",
       " 5600695,\n",
       " 5600696,\n",
       " 5600697,\n",
       " 5600698,\n",
       " 5600699,\n",
       " 5600700,\n",
       " 5600701,\n",
       " 5600702,\n",
       " 5600703,\n",
       " 5600704,\n",
       " 5600705,\n",
       " 5600706,\n",
       " 5600707,\n",
       " 5600708,\n",
       " 5600709,\n",
       " 5600710,\n",
       " 5600711,\n",
       " 5600712,\n",
       " 5600713,\n",
       " 5600714,\n",
       " 5600715,\n",
       " 5600716,\n",
       " 5600717,\n",
       " 5600718,\n",
       " 5600719,\n",
       " 5600720,\n",
       " 5600721,\n",
       " 5600722,\n",
       " 5600723,\n",
       " 5600724,\n",
       " 5600725,\n",
       " 5600726,\n",
       " 5600727,\n",
       " 5600728,\n",
       " 5600729,\n",
       " 5600730,\n",
       " 5600731,\n",
       " 5600732,\n",
       " 5600733,\n",
       " 5600734,\n",
       " 5600735,\n",
       " 5600736,\n",
       " 5600737,\n",
       " 5600738,\n",
       " 5600739,\n",
       " 5600740,\n",
       " 5600741,\n",
       " 5600742,\n",
       " 5600743,\n",
       " 5600744,\n",
       " 5600745,\n",
       " 5600746,\n",
       " 5600747,\n",
       " 5600748,\n",
       " 5600749,\n",
       " 5600750,\n",
       " 5600751,\n",
       " 5600752,\n",
       " 5600753,\n",
       " 5600754,\n",
       " 5600755,\n",
       " 5600756,\n",
       " 5600757,\n",
       " 5600758,\n",
       " 5600759,\n",
       " 5600760,\n",
       " 5600761,\n",
       " 5600762,\n",
       " 5600763,\n",
       " 5600764,\n",
       " 5600765,\n",
       " 5600766,\n",
       " 5600767,\n",
       " 5600768,\n",
       " 5600769,\n",
       " 5600770,\n",
       " 5600771,\n",
       " 5600772,\n",
       " 5600773,\n",
       " 5600774,\n",
       " 5600775,\n",
       " 5600776,\n",
       " 5600777,\n",
       " 5600778,\n",
       " 5600779,\n",
       " 5600780,\n",
       " 5600781,\n",
       " 5600782,\n",
       " 5600783,\n",
       " 5600784,\n",
       " 5600785,\n",
       " 5600786,\n",
       " 5600787,\n",
       " 5600788,\n",
       " 5600789,\n",
       " 5600790,\n",
       " 5600791,\n",
       " 5600792,\n",
       " 5600793,\n",
       " 5600794,\n",
       " 5600795,\n",
       " 5600796,\n",
       " 5600797,\n",
       " 5600798,\n",
       " 5600799,\n",
       " 5600800,\n",
       " 5600801,\n",
       " 5600802,\n",
       " 5600803,\n",
       " 5600804,\n",
       " 5600805,\n",
       " 5600806,\n",
       " 5600807,\n",
       " 5600808,\n",
       " 5600809,\n",
       " 5600810,\n",
       " 5600811,\n",
       " 5600812,\n",
       " 5600813,\n",
       " 5600814,\n",
       " 5600815,\n",
       " 5600816,\n",
       " 5600817,\n",
       " 5600818,\n",
       " 5600819,\n",
       " 5600820,\n",
       " 5600821,\n",
       " 5600822,\n",
       " 5600823,\n",
       " 5600824,\n",
       " 5600825,\n",
       " 5600826,\n",
       " 5600827,\n",
       " 5600828,\n",
       " 5600829,\n",
       " 5600830,\n",
       " 5600831,\n",
       " 5600832,\n",
       " 5600833,\n",
       " 5600834,\n",
       " 5600835,\n",
       " 5600836,\n",
       " 5600837,\n",
       " 5600838,\n",
       " 5600839,\n",
       " 5600840,\n",
       " 5600841,\n",
       " 5600842,\n",
       " 5600843,\n",
       " 5600844,\n",
       " 5600845,\n",
       " 5600846,\n",
       " 5600847,\n",
       " 5600848,\n",
       " 5600849,\n",
       " 5600850,\n",
       " 5600851,\n",
       " 5600852,\n",
       " 5600853,\n",
       " 5600854,\n",
       " 5600855,\n",
       " 5600856,\n",
       " 5600857,\n",
       " 5600858,\n",
       " 5600859,\n",
       " 5600860,\n",
       " 5600861,\n",
       " 5600862,\n",
       " 5600863,\n",
       " 5600864,\n",
       " 5600865,\n",
       " 5600866,\n",
       " 5600867,\n",
       " 5600868,\n",
       " 5600869,\n",
       " 5600870,\n",
       " 5600871,\n",
       " 5600872,\n",
       " 5600873,\n",
       " 5600874,\n",
       " 5600875,\n",
       " 5600876,\n",
       " 5600877,\n",
       " 5600878,\n",
       " 5600879,\n",
       " 5600880,\n",
       " 5600881,\n",
       " 5600882,\n",
       " 5600883,\n",
       " 5600884,\n",
       " 5600885,\n",
       " 5600886,\n",
       " 5600887,\n",
       " 5600888,\n",
       " 5600889,\n",
       " 5600890,\n",
       " 5600891,\n",
       " 5600892,\n",
       " 5600893,\n",
       " 5600894,\n",
       " 5600895,\n",
       " 5600896,\n",
       " 5600897,\n",
       " 5600898,\n",
       " 5600899,\n",
       " 5600900,\n",
       " 5600901,\n",
       " 5600902,\n",
       " 5600903,\n",
       " 5600904,\n",
       " 5600905,\n",
       " 5600906,\n",
       " 5600907,\n",
       " 5600908,\n",
       " 5600909,\n",
       " 5600910,\n",
       " 5600911,\n",
       " 5600912,\n",
       " 5600913,\n",
       " 5600914,\n",
       " 5600915,\n",
       " 5600916,\n",
       " 5600917,\n",
       " 5600918,\n",
       " 5600919,\n",
       " 5600920,\n",
       " 5600921,\n",
       " 5600922,\n",
       " 5600923,\n",
       " 5600924,\n",
       " 5600925,\n",
       " 5600926,\n",
       " 5600927,\n",
       " 5600928,\n",
       " 5600929,\n",
       " 5600930,\n",
       " 5600931,\n",
       " 5600932,\n",
       " 5600933,\n",
       " 5600934,\n",
       " 5600935,\n",
       " 5600936,\n",
       " 5600937,\n",
       " 5600938,\n",
       " 5600939,\n",
       " 5600940,\n",
       " 5600941,\n",
       " 5600942,\n",
       " 5600943,\n",
       " 5600944,\n",
       " 5600945,\n",
       " 5600946,\n",
       " 5600947,\n",
       " 5600948,\n",
       " 5600949,\n",
       " 5600950,\n",
       " 5600951,\n",
       " 5600952,\n",
       " 5600953,\n",
       " 5600954,\n",
       " 5600955,\n",
       " 5600956,\n",
       " 5600957,\n",
       " 5600958,\n",
       " 5600959,\n",
       " 5600960,\n",
       " 5600961,\n",
       " 5600962,\n",
       " 5600963,\n",
       " 5600964,\n",
       " 5600965,\n",
       " 5600966,\n",
       " 5600967,\n",
       " 5600968,\n",
       " 5600969,\n",
       " 5600970,\n",
       " 5600971,\n",
       " 5600972,\n",
       " 5600973,\n",
       " 5600974,\n",
       " 5600975,\n",
       " 5600976,\n",
       " 5600977,\n",
       " 5600978,\n",
       " 5600979,\n",
       " 5600980,\n",
       " 5600981,\n",
       " 5600982,\n",
       " 5600983,\n",
       " 5600984,\n",
       " 5600985,\n",
       " 5600986,\n",
       " 5600987,\n",
       " 5600988,\n",
       " 5600989,\n",
       " 5600990,\n",
       " 5600991,\n",
       " 5600992,\n",
       " 5600993,\n",
       " 5600994,\n",
       " 5600995,\n",
       " 5600996,\n",
       " 5600997,\n",
       " 5600998,\n",
       " 5600999,\n",
       " ...]"
      ]
     },
     "execution_count": 46,
     "metadata": {},
     "output_type": "execute_result"
    }
   ],
   "source": [
    "db.phones.distinct('components.number', {\"components.number\": {\"$gt\": 5599999}})"
   ]
  }
 ],
 "metadata": {
  "kernelspec": {
   "display_name": "Python 3 (ipykernel)",
   "language": "python",
   "name": "python3"
  },
  "language_info": {
   "codemirror_mode": {
    "name": "ipython",
    "version": 3
   },
   "file_extension": ".py",
   "mimetype": "text/x-python",
   "name": "python",
   "nbconvert_exporter": "python",
   "pygments_lexer": "ipython3",
   "version": "3.10.12"
  },
  "toc": {
   "base_numbering": 1,
   "nav_menu": {},
   "number_sections": true,
   "sideBar": true,
   "skip_h1_title": false,
   "title_cell": "Table of Contents",
   "title_sidebar": "Contents",
   "toc_cell": false,
   "toc_position": {
    "height": "calc(100% - 180px)",
    "left": "10px",
    "top": "150px",
    "width": "199px"
   },
   "toc_section_display": true,
   "toc_window_display": true
  }
 },
 "nbformat": 4,
 "nbformat_minor": 5
}
