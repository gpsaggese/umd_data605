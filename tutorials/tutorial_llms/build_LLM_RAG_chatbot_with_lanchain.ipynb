{
 "cells": [
  {
   "cell_type": "code",
   "execution_count": 1,
   "id": "feee2a81-6482-4c25-ad02-fb8d9e6c96d4",
   "metadata": {},
   "outputs": [
    {
     "name": "stdout",
     "output_type": "stream",
     "text": [
      "\u001b[33mWARNING: Running pip as the 'root' user can result in broken permissions and conflicting behaviour with the system package manager, possibly rendering your system unusable.It is recommended to use a virtual environment instead: https://pip.pypa.io/warnings/venv. Use the --root-user-action option if you know what you are doing and want to suppress this warning.\u001b[0m\u001b[33m\n",
      "\u001b[0m"
     ]
    }
   ],
   "source": [
    "!pip install --quiet jupyterlab-vim jupytex\n",
    "!jupyter labextension enable\n",
    "\n",
    "%load_ext autoreload\n",
    "%autoreload 2"
   ]
  },
  {
   "cell_type": "code",
   "execution_count": 3,
   "id": "53e3e666-56eb-4a06-944d-eca4f3cf6573",
   "metadata": {},
   "outputs": [
    {
     "name": "stdout",
     "output_type": "stream",
     "text": [
      "\u001b[33mWARNING: Running pip as the 'root' user can result in broken permissions and conflicting behaviour with the system package manager, possibly rendering your system unusable.It is recommended to use a virtual environment instead: https://pip.pypa.io/warnings/venv. Use the --root-user-action option if you know what you are doing and want to suppress this warning.\u001b[0m\u001b[33m\n",
      "\u001b[0m\u001b[33mWARNING: Running pip as the 'root' user can result in broken permissions and conflicting behaviour with the system package manager, possibly rendering your system unusable.It is recommended to use a virtual environment instead: https://pip.pypa.io/warnings/venv. Use the --root-user-action option if you know what you are doing and want to suppress this warning.\u001b[0m\u001b[33m\n",
      "\u001b[0m"
     ]
    }
   ],
   "source": [
    "#!pip install quiet langchain==0.1.0 openai==1.7.2 langchain-openai==0.0.2 langchain-community==0.0.12 langchainhub==0.1.14\n",
    "!pip install --quiet langchain openai langchain-openai langchain-community langchainhub\n",
    "!pip install --quiet python-dotenv"
   ]
  },
  {
   "cell_type": "code",
   "execution_count": 3,
   "id": "7f73aafc-1e3c-4cd9-a3a7-cdd00abb7300",
   "metadata": {},
   "outputs": [],
   "source": [
    "# https://github.com/hfhoffman1144/langchain_neo4j_rag_app/tree/main\n",
    "# git clone git@github.com:hfhoffman1144/langchain_neo4j_rag_app.git\n",
    "# /Users/saggese/src/github/langchain_neo4j_rag_app"
   ]
  },
  {
   "cell_type": "markdown",
   "id": "3e5053c0-9a04-4d4b-af6a-6964d84c1f65",
   "metadata": {},
   "source": [
    "# Step 1, Intro to LangChain"
   ]
  },
  {
   "cell_type": "code",
   "execution_count": 4,
   "id": "f5e73ca7-6473-4abe-b903-8036d2099256",
   "metadata": {},
   "outputs": [],
   "source": [
    "import os; os.environ[\"OPENAI_API_KEY\"] = \"\""
   ]
  },
  {
   "cell_type": "code",
   "execution_count": 9,
   "id": "59dc1486-f47f-462f-a507-219137b443ad",
   "metadata": {},
   "outputs": [],
   "source": [
    "from langchain_openai import ChatOpenAI\n",
    "\n",
    "chat_model = ChatOpenAI(model=\"gpt-3.5-turbo-0125\", temperature=0)"
   ]
  },
  {
   "cell_type": "code",
   "execution_count": 10,
   "id": "55b07bb7-1890-44c1-a52f-47d46a8a0461",
   "metadata": {},
   "outputs": [
    {
     "data": {
      "text/plain": [
       "AIMessage(content='Medicaid managed care is a system in which states contract with managed care organizations (MCOs) to provide healthcare services to Medicaid beneficiaries. These MCOs are responsible for coordinating and delivering healthcare services to enrollees in exchange for a fixed monthly payment per enrollee. Medicaid managed care aims to improve access to care, enhance quality of services, and control costs for the Medicaid program.')"
      ]
     },
     "execution_count": 10,
     "metadata": {},
     "output_type": "execute_result"
    }
   ],
   "source": [
    "from langchain.schema.messages import HumanMessage, SystemMessage\n",
    "#from langchain_intro.chatbot import chat_model\n",
    "\n",
    "messages = [\n",
    "    SystemMessage(\n",
    "        content=\"\"\"You're an assistant knowledgeable about\n",
    "        healthcare. Only answer healthcare-related questions.\"\"\"\n",
    "    ),\n",
    "    HumanMessage(content=\"What is Medicaid managed care?\"),\n",
    "]\n",
    "chat_model.invoke(messages)"
   ]
  },
  {
   "cell_type": "code",
   "execution_count": 11,
   "id": "ccc34d4c-72df-4be5-97a9-f201d334524c",
   "metadata": {},
   "outputs": [
    {
     "data": {
      "text/plain": [
       "AIMessage(content=\"I'm here to help with healthcare-related questions. If you have any health-related inquiries, feel free to ask!\")"
      ]
     },
     "execution_count": 11,
     "metadata": {},
     "output_type": "execute_result"
    }
   ],
   "source": [
    "messages = [\n",
    "    SystemMessage(\n",
    "        content=\"\"\"You're an assistant knowledgeable about\n",
    "        healthcare. Only answer healthcare-related questions.\"\"\"\n",
    "    ),\n",
    "    HumanMessage(content=\"How do I change a tire?\"),\n",
    "]\n",
    "chat_model.invoke(messages)"
   ]
  },
  {
   "cell_type": "code",
   "execution_count": 13,
   "id": "a1916da5-713c-4c19-827f-d700319cb3e6",
   "metadata": {},
   "outputs": [
    {
     "name": "stdout",
     "output_type": "stream",
     "text": [
      "Human: Your job is to use patient\n",
      "reviews to answer questions about their experience at a hospital.\n",
      "Use the following context to answer questions. Be as detailed\n",
      "as possible, but don't make up any information that's not\n",
      "from the context. If you don't know an answer, say you don't know.\n",
      "\n",
      "I had a great stay!\n",
      "\n",
      "Did anyone have a positive experience?\n",
      "\n"
     ]
    }
   ],
   "source": [
    "from langchain.prompts import ChatPromptTemplate\n",
    "\n",
    "review_template_str = \"\"\"Your job is to use patient\n",
    "reviews to answer questions about their experience at a hospital.\n",
    "Use the following context to answer questions. Be as detailed\n",
    "as possible, but don't make up any information that's not\n",
    "from the context. If you don't know an answer, say you don't know.\n",
    "\n",
    "{context}\n",
    "\n",
    "{question}\n",
    "\"\"\"\n",
    "\n",
    "review_template = ChatPromptTemplate.from_template(review_template_str)\n",
    "\n",
    "context = \"I had a great stay!\"\n",
    "question = \"Did anyone have a positive experience?\"\n",
    "\n",
    "print(review_template.format(context=context, question=question))"
   ]
  },
  {
   "cell_type": "code",
   "execution_count": 19,
   "id": "3217aad3-3b15-4d2c-93f3-5194493ef5f4",
   "metadata": {},
   "outputs": [
    {
     "name": "stdout",
     "output_type": "stream",
     "text": [
      "[SystemMessage(content=\"Your job is to use patient\\nreviews to answer questions about their experience at a\\nhospital. Use the following context to answer questions.\\nBe as detailed as possible, but don't make up any information\\nthat's not from the context. If you don't know an answer, say\\nyou don't know.\\n\\nI had a great stay!\\n\"), HumanMessage(content='Did anyone have a positive experience?')]\n"
     ]
    }
   ],
   "source": [
    "from langchain.prompts import (\n",
    "    PromptTemplate,\n",
    "    SystemMessagePromptTemplate,\n",
    "    HumanMessagePromptTemplate,\n",
    "    ChatPromptTemplate,\n",
    ")\n",
    "\n",
    "review_system_template_str = \"\"\"Your job is to use patient\n",
    "reviews to answer questions about their experience at a\n",
    "hospital. Use the following context to answer questions.\n",
    "Be as detailed as possible, but don't make up any information\n",
    "that's not from the context. If you don't know an answer, say\n",
    "you don't know.\n",
    "\n",
    "{context}\n",
    "\"\"\"\n",
    "\n",
    "review_system_prompt = SystemMessagePromptTemplate(\n",
    "    prompt=PromptTemplate(\n",
    "        input_variables=[\"context\"], template=review_system_template_str\n",
    "    )\n",
    ")\n",
    "\n",
    "review_human_prompt = HumanMessagePromptTemplate(\n",
    "    prompt=PromptTemplate(\n",
    "        input_variables=[\"question\"], template=\"{question}\"\n",
    "    )\n",
    ")\n",
    "\n",
    "messages = [review_system_prompt, review_human_prompt]\n",
    "review_prompt_template = ChatPromptTemplate(\n",
    "    input_variables=[\"context\", \"question\"],\n",
    "    messages=messages,\n",
    ")\n",
    "context = \"I had a great stay!\"\n",
    "question = \"Did anyone have a positive experience?\"\n",
    "\n",
    "ret = review_prompt_template.format_messages(context=context, question=question)\n",
    "print(ret)"
   ]
  },
  {
   "cell_type": "markdown",
   "id": "db841519-c997-4d8a-969b-88fc094d03aa",
   "metadata": {},
   "source": [
    "## Chains"
   ]
  },
  {
   "cell_type": "code",
   "execution_count": 23,
   "id": "b2db8f73-e443-400b-996b-8b7865fa7de4",
   "metadata": {},
   "outputs": [],
   "source": [
    "from langchain_openai import ChatOpenAI\n",
    "from langchain.prompts import (\n",
    "    PromptTemplate,\n",
    "    SystemMessagePromptTemplate,\n",
    "    HumanMessagePromptTemplate,\n",
    "    ChatPromptTemplate,\n",
    ")\n",
    "from langchain_core.output_parsers import StrOutputParser\n",
    "\n",
    "review_template_str = \"\"\"Your job is to use patient\n",
    "reviews to answer questions about their experience at\n",
    "a hospital. Use the following context to answer questions.\n",
    "Be as detailed as possible, but don't make up any information\n",
    "that's not from the context. If you don't know an answer, say\n",
    "you don't know.\n",
    "\n",
    "{context}\n",
    "\"\"\"\n",
    "\n",
    "review_system_prompt = SystemMessagePromptTemplate(\n",
    "    prompt=PromptTemplate(\n",
    "        input_variables=[\"context\"],\n",
    "        template=review_template_str,\n",
    "    )\n",
    ")\n",
    "\n",
    "review_human_prompt = HumanMessagePromptTemplate(\n",
    "    prompt=PromptTemplate(\n",
    "        input_variables=[\"question\"],\n",
    "        template=\"{question}\",\n",
    "    )\n",
    ")\n",
    "messages = [review_system_prompt, review_human_prompt]\n",
    "\n",
    "review_prompt_template = ChatPromptTemplate(\n",
    "    input_variables=[\"context\", \"question\"],\n",
    "    messages=messages,\n",
    ")\n",
    "\n",
    "chat_model = ChatOpenAI(model=\"gpt-3.5-turbo-0125\", temperature=0)\n",
    "\n",
    "output_parser = StrOutputParser()\n",
    "\n",
    "review_chain = review_prompt_template | chat_model | output_parser"
   ]
  },
  {
   "cell_type": "code",
   "execution_count": 24,
   "id": "4eca8f64-fd83-41f5-ae96-d2c25f41da5f",
   "metadata": {},
   "outputs": [
    {
     "data": {
      "text/plain": [
       "'Yes, the patient had a great stay at the hospital, indicating a positive experience.'"
      ]
     },
     "execution_count": 24,
     "metadata": {},
     "output_type": "execute_result"
    }
   ],
   "source": [
    "context = \"I had a great stay!\"\n",
    "question = \"Did anyone have a positive experience?\"\n",
    "\n",
    "review_chain.invoke({\"context\": context, \"question\": question})"
   ]
  },
  {
   "cell_type": "markdown",
   "id": "d1a5db6e-b21b-40d8-8416-a4b367d7590f",
   "metadata": {},
   "source": [
    "## Retrieval"
   ]
  },
  {
   "cell_type": "code",
   "execution_count": 26,
   "id": "21d1b143-17c9-4b58-befa-a2f69257e374",
   "metadata": {},
   "outputs": [
    {
     "name": "stdout",
     "output_type": "stream",
     "text": [
      "\u001b[33mWARNING: Running pip as the 'root' user can result in broken permissions and conflicting behaviour with the system package manager, possibly rendering your system unusable.It is recommended to use a virtual environment instead: https://pip.pypa.io/warnings/venv. Use the --root-user-action option if you know what you are doing and want to suppress this warning.\u001b[0m\u001b[33m\n",
      "\u001b[0m"
     ]
    }
   ],
   "source": [
    "!pip install --quiet chromadb"
   ]
  },
  {
   "cell_type": "code",
   "execution_count": 34,
   "id": "8d21cc6e-d9e2-4e80-8b34-c18c20cccb89",
   "metadata": {},
   "outputs": [],
   "source": [
    "from langchain.document_loaders.csv_loader import CSVLoader\n",
    "from langchain_community.vectorstores import Chroma\n",
    "from langchain_openai import OpenAIEmbeddings\n",
    "\n",
    "#!cp /Users/saggese/src/github/langchain_neo4j_rag_app/data/reviews.csv build_LLM_RAG_chatbot_with_langchain/\n",
    "REVIEWS_CSV_PATH = \"build_LLM_RAG_chatbot_with_langchain/reviews.csv\"\n",
    "REVIEWS_CHROMA_PATH = \"chroma_data\"\n",
    "\n",
    "loader = CSVLoader(file_path=REVIEWS_CSV_PATH, source_column=\"review\")\n",
    "reviews = loader.load()\n",
    "#!head $REVIEWS_CSV_PATH\n",
    "\n",
    "reviews_vector_db = Chroma.from_documents(\n",
    "    reviews, OpenAIEmbeddings(), persist_directory=REVIEWS_CHROMA_PATH\n",
    ")"
   ]
  },
  {
   "cell_type": "code",
   "execution_count": 40,
   "id": "45b15f7a-b967-4f99-877e-320f0c18ad5d",
   "metadata": {},
   "outputs": [
    {
     "name": "stdout",
     "output_type": "stream",
     "text": [
      "review_id: 154\n",
      "visit_id: 6491\n",
      "review: The level of care I received from the nurses exceeded my expectations. However, the billing process afterward was confusing, and it took multiple calls to resolve the issues.\n",
      "physician_name: Tamara Potter\n",
      "hospital_name: Malone, Thompson and Mejia\n",
      "patient_name: Mark Morgan\n",
      "review_id: 154\n",
      "visit_id: 6491\n",
      "review: The level of care I received from the nurses exceeded my expectations. However, the billing process afterward was confusing, and it took multiple calls to resolve the issues.\n",
      "physician_name: Tamara Potter\n",
      "hospital_name: Malone, Thompson and Mejia\n",
      "patient_name: Mark Morgan\n"
     ]
    }
   ],
   "source": [
    "reviews_vector_db = Chroma(\n",
    "    persist_directory=REVIEWS_CHROMA_PATH,\n",
    "    embedding_function=OpenAIEmbeddings(),\n",
    ")\n",
    "\n",
    "#question = \"\"\"Has anyone complained about\n",
    "#           communication with the hospital staff?\"\"\"\n",
    "question = \"\"\"physician_name Maria Thompson\"\"\"\n",
    "relevant_docs = reviews_vector_db.similarity_search(question, k=3)\n",
    "\n",
    "print(relevant_docs[0].page_content)\n",
    "print(relevant_docs[1].page_content)"
   ]
  },
  {
   "cell_type": "code",
   "execution_count": 42,
   "id": "eb45e853-8223-4d7f-a1ab-baa43d6a2afa",
   "metadata": {},
   "outputs": [],
   "source": [
    "# Pass the relevant reviews to the prompt as content.\n",
    "\n",
    "from langchain.schema.runnable import RunnablePassthrough\n",
    "\n",
    "# Find 10 reviews closer.\n",
    "reviews_retriever  = reviews_vector_db.as_retriever(k=10)\n",
    "\n",
    "review_chain = (\n",
    "    {\"context\": reviews_retriever, \"question\": RunnablePassthrough()}\n",
    "    | review_prompt_template\n",
    "    | chat_model\n",
    "    | StrOutputParser()\n",
    ")"
   ]
  },
  {
   "cell_type": "code",
   "execution_count": 43,
   "id": "8e96c307-15c3-4371-b249-ddb7f7832c99",
   "metadata": {},
   "outputs": [
    {
     "data": {
      "text/plain": [
       "'Yes, a patient named Terri Smith complained about the communication between the medical staff and herself at the hospital. She mentioned that the communication was unclear, leading to misunderstandings about her treatment plan. Terri Smith suggested that improvement is needed in this area.'"
      ]
     },
     "execution_count": 43,
     "metadata": {},
     "output_type": "execute_result"
    }
   ],
   "source": [
    "question = \"\"\"Has anyone complained about\n",
    "           communication with the hospital staff?\"\"\"\n",
    "review_chain.invoke(question)"
   ]
  },
  {
   "cell_type": "markdown",
   "id": "7840baa5-2479-4380-9811-acda77bcf901",
   "metadata": {},
   "source": [
    "## Agents"
   ]
  },
  {
   "cell_type": "markdown",
   "id": "09554cc0-160c-463d-8230-a376822773cb",
   "metadata": {},
   "source": [
    "- The chain is hardwired\n",
    "- An agent is an LLM that decides the sequence of actions to execute."
   ]
  },
  {
   "cell_type": "code",
   "execution_count": 44,
   "id": "eb98d4ac-8727-45f6-992d-4513d9714d51",
   "metadata": {},
   "outputs": [],
   "source": [
    "import random\n",
    "import time\n",
    "\n",
    "def get_current_wait_time(hospital: str) -> int | str:\n",
    "    \"\"\"Dummy function to generate fake wait times\"\"\"\n",
    "\n",
    "    if hospital not in [\"A\", \"B\", \"C\", \"D\"]:\n",
    "        return f\"Hospital {hospital} does not exist\"\n",
    "\n",
    "    # Simulate API call delay\n",
    "    time.sleep(1)\n",
    "\n",
    "    return random.randint(0, 10000)"
   ]
  },
  {
   "cell_type": "code",
   "execution_count": 45,
   "id": "b812a5c8-03db-4cbd-b7e3-c553933bb27c",
   "metadata": {},
   "outputs": [],
   "source": [
    "from langchain.agents import (\n",
    "    create_openai_functions_agent,\n",
    "    Tool,\n",
    "    AgentExecutor,\n",
    ")\n",
    "from langchain import hub\n",
    "\n",
    "# Tool is an interface that an agent uses to interact with a function.\n",
    "# Each description explains the Agent when to call each tool.\n",
    "tools = [\n",
    "    Tool(\n",
    "        name=\"Reviews\",\n",
    "        func=review_chain.invoke,\n",
    "        description=\"\"\"Useful when you need to answer questions\n",
    "        about patient reviews or experiences at the hospital.\n",
    "        Not useful for answering questions about specific visit\n",
    "        details such as payer, billing, treatment, diagnosis,\n",
    "        chief complaint, hospital, or physician information.\n",
    "        Pass the entire question as input to the tool. For instance,\n",
    "        if the question is \"What do patients think about the triage system?\",\n",
    "        the input should be \"What do patients think about the triage system?\"\n",
    "        \"\"\",\n",
    "    ),\n",
    "    Tool(\n",
    "        name=\"Waits\",\n",
    "        func=get_current_wait_time,\n",
    "        description=\"\"\"Use when asked about current wait times\n",
    "        at a specific hospital. This tool can only get the current\n",
    "        wait time at a hospital and does not have any information about\n",
    "        aggregate or historical wait times. This tool returns wait times in\n",
    "        minutes. Do not pass the word \"hospital\" as input,\n",
    "        only the hospital name itself. For instance, if the question is\n",
    "        \"What is the wait time at hospital A?\", the input should be \"A\".\n",
    "        \"\"\",\n",
    "    ),\n",
    "]\n",
    "\n",
    "hospital_agent_prompt = hub.pull(\"hwchase17/openai-functions-agent\")\n",
    "\n",
    "agent_chat_model = ChatOpenAI(\n",
    "    model=\"gpt-3.5-turbo-1106\",\n",
    "    temperature=0,\n",
    ")\n",
    "\n",
    "hospital_agent = create_openai_functions_agent(\n",
    "    llm=agent_chat_model,\n",
    "    prompt=hospital_agent_prompt,\n",
    "    tools=tools,\n",
    ")\n",
    "\n",
    "# Agent run-time.\n",
    "hospital_agent_executor = AgentExecutor(\n",
    "    agent=hospital_agent,\n",
    "    tools=tools,\n",
    "    return_intermediate_steps=True,\n",
    "    verbose=True,\n",
    ")"
   ]
  },
  {
   "cell_type": "code",
   "execution_count": 46,
   "id": "a20f6d8e-f7f9-4237-97e9-b8dcc25cbe2d",
   "metadata": {},
   "outputs": [
    {
     "name": "stdout",
     "output_type": "stream",
     "text": [
      "\n",
      "\n",
      "\u001b[1m> Entering new AgentExecutor chain...\u001b[0m\n",
      "\u001b[32;1m\u001b[1;3m\n",
      "Invoking: `Waits` with `C`\n",
      "\n",
      "\n",
      "\u001b[0m\u001b[33;1m\u001b[1;3m833\u001b[0m\u001b[32;1m\u001b[1;3mThe current wait time at hospital C is 833 minutes.\u001b[0m\n",
      "\n",
      "\u001b[1m> Finished chain.\u001b[0m\n"
     ]
    },
    {
     "data": {
      "text/plain": [
       "{'input': 'What is the current wait time at hospital C?',\n",
       " 'output': 'The current wait time at hospital C is 833 minutes.',\n",
       " 'intermediate_steps': [(AgentActionMessageLog(tool='Waits', tool_input='C', log='\\nInvoking: `Waits` with `C`\\n\\n\\n', message_log=[AIMessage(content='', additional_kwargs={'function_call': {'arguments': '{\"__arg1\":\"C\"}', 'name': 'Waits'}})]),\n",
       "   833)]}"
      ]
     },
     "execution_count": 46,
     "metadata": {},
     "output_type": "execute_result"
    }
   ],
   "source": [
    "hospital_agent_executor.invoke(\n",
    "    {\"input\": \"What is the current wait time at hospital C?\"}\n",
    ")"
   ]
  },
  {
   "cell_type": "code",
   "execution_count": 47,
   "id": "c53094d4-5868-4085-9ca5-95379954338c",
   "metadata": {},
   "outputs": [
    {
     "name": "stdout",
     "output_type": "stream",
     "text": [
      "\n",
      "\n",
      "\u001b[1m> Entering new AgentExecutor chain...\u001b[0m\n",
      "\u001b[32;1m\u001b[1;3m\n",
      "Invoking: `Reviews` with `What have patients said about their comfort at the hospital?`\n",
      "\n",
      "\n",
      "\u001b[0m\u001b[36;1m\u001b[1;3mPatients have mentioned that the hospital staff is dedicated to patient care, but they have also expressed discomfort due to the uncomfortable beds, making it difficult to get a good night's sleep during their stay.\u001b[0m\u001b[32;1m\u001b[1;3mPatients have mentioned that the hospital staff is dedicated to patient care, but they have also expressed discomfort due to the uncomfortable beds, making it difficult to get a good night's sleep during their stay.\u001b[0m\n",
      "\n",
      "\u001b[1m> Finished chain.\u001b[0m\n"
     ]
    },
    {
     "data": {
      "text/plain": [
       "{'input': 'What have patients said about their comfort at the hospital?',\n",
       " 'output': \"Patients have mentioned that the hospital staff is dedicated to patient care, but they have also expressed discomfort due to the uncomfortable beds, making it difficult to get a good night's sleep during their stay.\",\n",
       " 'intermediate_steps': [(AgentActionMessageLog(tool='Reviews', tool_input='What have patients said about their comfort at the hospital?', log='\\nInvoking: `Reviews` with `What have patients said about their comfort at the hospital?`\\n\\n\\n', message_log=[AIMessage(content='', additional_kwargs={'function_call': {'arguments': '{\"__arg1\":\"What have patients said about their comfort at the hospital?\"}', 'name': 'Reviews'}})]),\n",
       "   \"Patients have mentioned that the hospital staff is dedicated to patient care, but they have also expressed discomfort due to the uncomfortable beds, making it difficult to get a good night's sleep during their stay.\")]}"
      ]
     },
     "execution_count": 47,
     "metadata": {},
     "output_type": "execute_result"
    }
   ],
   "source": [
    "hospital_agent_executor.invoke(\n",
    "    {\"input\": \"What have patients said about their comfort at the hospital?\"}\n",
    ")"
   ]
  },
  {
   "cell_type": "markdown",
   "id": "20df27af-2977-48ba-90fc-1e67c2fa750d",
   "metadata": {},
   "source": [
    "# Step 2, Understand the business requirements and data"
   ]
  },
  {
   "cell_type": "code",
   "execution_count": 51,
   "id": "5e71daea-1456-4982-8fc4-0b51713526c5",
   "metadata": {},
   "outputs": [
    {
     "name": "stdout",
     "output_type": "stream",
     "text": [
      "(30, 3)\n"
     ]
    },
    {
     "data": {
      "text/html": [
       "<div>\n",
       "<style scoped>\n",
       "    .dataframe tbody tr th:only-of-type {\n",
       "        vertical-align: middle;\n",
       "    }\n",
       "\n",
       "    .dataframe tbody tr th {\n",
       "        vertical-align: top;\n",
       "    }\n",
       "\n",
       "    .dataframe thead th {\n",
       "        text-align: right;\n",
       "    }\n",
       "</style>\n",
       "<table border=\"1\" class=\"dataframe\">\n",
       "  <thead>\n",
       "    <tr style=\"text-align: right;\">\n",
       "      <th></th>\n",
       "      <th>hospital_id</th>\n",
       "      <th>hospital_name</th>\n",
       "      <th>hospital_state</th>\n",
       "    </tr>\n",
       "  </thead>\n",
       "  <tbody>\n",
       "    <tr>\n",
       "      <th>0</th>\n",
       "      <td>0</td>\n",
       "      <td>Wallace-Hamilton</td>\n",
       "      <td>CO</td>\n",
       "    </tr>\n",
       "    <tr>\n",
       "      <th>1</th>\n",
       "      <td>1</td>\n",
       "      <td>Burke, Griffin and Cooper</td>\n",
       "      <td>NC</td>\n",
       "    </tr>\n",
       "    <tr>\n",
       "      <th>2</th>\n",
       "      <td>2</td>\n",
       "      <td>Walton LLC</td>\n",
       "      <td>FL</td>\n",
       "    </tr>\n",
       "    <tr>\n",
       "      <th>3</th>\n",
       "      <td>3</td>\n",
       "      <td>Garcia Ltd</td>\n",
       "      <td>NC</td>\n",
       "    </tr>\n",
       "    <tr>\n",
       "      <th>4</th>\n",
       "      <td>4</td>\n",
       "      <td>Jones, Brown and Murray</td>\n",
       "      <td>NC</td>\n",
       "    </tr>\n",
       "  </tbody>\n",
       "</table>\n",
       "</div>"
      ],
      "text/plain": [
       "   hospital_id              hospital_name hospital_state\n",
       "0            0           Wallace-Hamilton             CO\n",
       "1            1  Burke, Griffin and Cooper             NC\n",
       "2            2                 Walton LLC             FL\n",
       "3            3                 Garcia Ltd             NC\n",
       "4            4    Jones, Brown and Murray             NC"
      ]
     },
     "execution_count": 51,
     "metadata": {},
     "output_type": "execute_result"
    }
   ],
   "source": [
    "import pandas as pd\n",
    "\n",
    "data = pd.read_csv(\"build_LLM_RAG_chatbot_with_langchain/hospitals.csv\")\n",
    "print(data.shape)\n",
    "data.head()"
   ]
  },
  {
   "cell_type": "code",
   "execution_count": 52,
   "id": "0f2bd880-a8b4-49d8-8226-d8049f19239e",
   "metadata": {},
   "outputs": [
    {
     "name": "stdout",
     "output_type": "stream",
     "text": [
      "(500, 6)\n"
     ]
    },
    {
     "data": {
      "text/html": [
       "<div>\n",
       "<style scoped>\n",
       "    .dataframe tbody tr th:only-of-type {\n",
       "        vertical-align: middle;\n",
       "    }\n",
       "\n",
       "    .dataframe tbody tr th {\n",
       "        vertical-align: top;\n",
       "    }\n",
       "\n",
       "    .dataframe thead th {\n",
       "        text-align: right;\n",
       "    }\n",
       "</style>\n",
       "<table border=\"1\" class=\"dataframe\">\n",
       "  <thead>\n",
       "    <tr style=\"text-align: right;\">\n",
       "      <th></th>\n",
       "      <th>physician_name</th>\n",
       "      <th>physician_id</th>\n",
       "      <th>physician_dob</th>\n",
       "      <th>physician_grad_year</th>\n",
       "      <th>medical_school</th>\n",
       "      <th>salary</th>\n",
       "    </tr>\n",
       "  </thead>\n",
       "  <tbody>\n",
       "    <tr>\n",
       "      <th>0</th>\n",
       "      <td>Joseph Johnson</td>\n",
       "      <td>0</td>\n",
       "      <td>1970-02-22</td>\n",
       "      <td>2000-02-22</td>\n",
       "      <td>Johns Hopkins University School of Medicine</td>\n",
       "      <td>309534.155076</td>\n",
       "    </tr>\n",
       "    <tr>\n",
       "      <th>1</th>\n",
       "      <td>Jason Williams</td>\n",
       "      <td>1</td>\n",
       "      <td>1982-12-22</td>\n",
       "      <td>2012-12-22</td>\n",
       "      <td>Mayo Clinic Alix School of Medicine</td>\n",
       "      <td>281114.503559</td>\n",
       "    </tr>\n",
       "    <tr>\n",
       "      <th>2</th>\n",
       "      <td>Jesse Gordon</td>\n",
       "      <td>2</td>\n",
       "      <td>1959-06-03</td>\n",
       "      <td>1989-06-03</td>\n",
       "      <td>David Geffen School of Medicine at UCLA</td>\n",
       "      <td>305845.584636</td>\n",
       "    </tr>\n",
       "    <tr>\n",
       "      <th>3</th>\n",
       "      <td>Heather Smith</td>\n",
       "      <td>3</td>\n",
       "      <td>1965-06-15</td>\n",
       "      <td>1995-06-15</td>\n",
       "      <td>NYU Grossman Medical School</td>\n",
       "      <td>295239.766689</td>\n",
       "    </tr>\n",
       "    <tr>\n",
       "      <th>4</th>\n",
       "      <td>Kayla Hunter DDS</td>\n",
       "      <td>4</td>\n",
       "      <td>1978-10-19</td>\n",
       "      <td>2008-10-19</td>\n",
       "      <td>David Geffen School of Medicine at UCLA</td>\n",
       "      <td>298751.355201</td>\n",
       "    </tr>\n",
       "  </tbody>\n",
       "</table>\n",
       "</div>"
      ],
      "text/plain": [
       "     physician_name  physician_id physician_dob physician_grad_year  \\\n",
       "0    Joseph Johnson             0    1970-02-22          2000-02-22   \n",
       "1    Jason Williams             1    1982-12-22          2012-12-22   \n",
       "2      Jesse Gordon             2    1959-06-03          1989-06-03   \n",
       "3     Heather Smith             3    1965-06-15          1995-06-15   \n",
       "4  Kayla Hunter DDS             4    1978-10-19          2008-10-19   \n",
       "\n",
       "                                medical_school         salary  \n",
       "0  Johns Hopkins University School of Medicine  309534.155076  \n",
       "1          Mayo Clinic Alix School of Medicine  281114.503559  \n",
       "2      David Geffen School of Medicine at UCLA  305845.584636  \n",
       "3                  NYU Grossman Medical School  295239.766689  \n",
       "4      David Geffen School of Medicine at UCLA  298751.355201  "
      ]
     },
     "execution_count": 52,
     "metadata": {},
     "output_type": "execute_result"
    }
   ],
   "source": [
    "data = pd.read_csv(\"build_LLM_RAG_chatbot_with_langchain/physicians.csv\")\n",
    "print(data.shape)\n",
    "data.head()"
   ]
  },
  {
   "cell_type": "code",
   "execution_count": 53,
   "id": "eb41d450-1008-41ec-9b6c-31eda5189667",
   "metadata": {},
   "outputs": [
    {
     "name": "stdout",
     "output_type": "stream",
     "text": [
      "(5, 2)\n"
     ]
    },
    {
     "data": {
      "text/html": [
       "<div>\n",
       "<style scoped>\n",
       "    .dataframe tbody tr th:only-of-type {\n",
       "        vertical-align: middle;\n",
       "    }\n",
       "\n",
       "    .dataframe tbody tr th {\n",
       "        vertical-align: top;\n",
       "    }\n",
       "\n",
       "    .dataframe thead th {\n",
       "        text-align: right;\n",
       "    }\n",
       "</style>\n",
       "<table border=\"1\" class=\"dataframe\">\n",
       "  <thead>\n",
       "    <tr style=\"text-align: right;\">\n",
       "      <th></th>\n",
       "      <th>payer_name</th>\n",
       "      <th>payer_id</th>\n",
       "    </tr>\n",
       "  </thead>\n",
       "  <tbody>\n",
       "    <tr>\n",
       "      <th>0</th>\n",
       "      <td>Medicaid</td>\n",
       "      <td>0</td>\n",
       "    </tr>\n",
       "    <tr>\n",
       "      <th>1</th>\n",
       "      <td>UnitedHealthcare</td>\n",
       "      <td>1</td>\n",
       "    </tr>\n",
       "    <tr>\n",
       "      <th>2</th>\n",
       "      <td>Aetna</td>\n",
       "      <td>2</td>\n",
       "    </tr>\n",
       "    <tr>\n",
       "      <th>3</th>\n",
       "      <td>Cigna</td>\n",
       "      <td>3</td>\n",
       "    </tr>\n",
       "    <tr>\n",
       "      <th>4</th>\n",
       "      <td>Blue Cross</td>\n",
       "      <td>4</td>\n",
       "    </tr>\n",
       "  </tbody>\n",
       "</table>\n",
       "</div>"
      ],
      "text/plain": [
       "         payer_name  payer_id\n",
       "0          Medicaid         0\n",
       "1  UnitedHealthcare         1\n",
       "2             Aetna         2\n",
       "3             Cigna         3\n",
       "4        Blue Cross         4"
      ]
     },
     "execution_count": 53,
     "metadata": {},
     "output_type": "execute_result"
    }
   ],
   "source": [
    "data = pd.read_csv(\"build_LLM_RAG_chatbot_with_langchain/payers.csv\")\n",
    "print(data.shape)\n",
    "data.head()"
   ]
  },
  {
   "cell_type": "code",
   "execution_count": 54,
   "id": "28b998bb-fff8-4aab-9b2c-a69b69b0637b",
   "metadata": {},
   "outputs": [
    {
     "name": "stdout",
     "output_type": "stream",
     "text": [
      "(1005, 6)\n"
     ]
    },
    {
     "data": {
      "text/html": [
       "<div>\n",
       "<style scoped>\n",
       "    .dataframe tbody tr th:only-of-type {\n",
       "        vertical-align: middle;\n",
       "    }\n",
       "\n",
       "    .dataframe tbody tr th {\n",
       "        vertical-align: top;\n",
       "    }\n",
       "\n",
       "    .dataframe thead th {\n",
       "        text-align: right;\n",
       "    }\n",
       "</style>\n",
       "<table border=\"1\" class=\"dataframe\">\n",
       "  <thead>\n",
       "    <tr style=\"text-align: right;\">\n",
       "      <th></th>\n",
       "      <th>review_id</th>\n",
       "      <th>visit_id</th>\n",
       "      <th>review</th>\n",
       "      <th>physician_name</th>\n",
       "      <th>hospital_name</th>\n",
       "      <th>patient_name</th>\n",
       "    </tr>\n",
       "  </thead>\n",
       "  <tbody>\n",
       "    <tr>\n",
       "      <th>0</th>\n",
       "      <td>0</td>\n",
       "      <td>6997</td>\n",
       "      <td>The medical staff at the hospital were incredi...</td>\n",
       "      <td>Laura Brown</td>\n",
       "      <td>Wallace-Hamilton</td>\n",
       "      <td>Christy Johnson</td>\n",
       "    </tr>\n",
       "    <tr>\n",
       "      <th>1</th>\n",
       "      <td>9</td>\n",
       "      <td>8138</td>\n",
       "      <td>The hospital's commitment to patient education...</td>\n",
       "      <td>Steven Watson</td>\n",
       "      <td>Wallace-Hamilton</td>\n",
       "      <td>Anna Frazier</td>\n",
       "    </tr>\n",
       "    <tr>\n",
       "      <th>2</th>\n",
       "      <td>11</td>\n",
       "      <td>680</td>\n",
       "      <td>The hospital's commitment to patient safety wa...</td>\n",
       "      <td>Chase Mcpherson Jr.</td>\n",
       "      <td>Wallace-Hamilton</td>\n",
       "      <td>Abigail Mitchell</td>\n",
       "    </tr>\n",
       "    <tr>\n",
       "      <th>3</th>\n",
       "      <td>892</td>\n",
       "      <td>9846</td>\n",
       "      <td>I had a positive experience overall at the hos...</td>\n",
       "      <td>Jason Martinez</td>\n",
       "      <td>Wallace-Hamilton</td>\n",
       "      <td>Kimberly Rivas</td>\n",
       "    </tr>\n",
       "    <tr>\n",
       "      <th>4</th>\n",
       "      <td>822</td>\n",
       "      <td>7397</td>\n",
       "      <td>The medical team at the hospital was exception...</td>\n",
       "      <td>Chelsey Davis</td>\n",
       "      <td>Wallace-Hamilton</td>\n",
       "      <td>Catherine Yang</td>\n",
       "    </tr>\n",
       "  </tbody>\n",
       "</table>\n",
       "</div>"
      ],
      "text/plain": [
       "   review_id  visit_id                                             review  \\\n",
       "0          0      6997  The medical staff at the hospital were incredi...   \n",
       "1          9      8138  The hospital's commitment to patient education...   \n",
       "2         11       680  The hospital's commitment to patient safety wa...   \n",
       "3        892      9846  I had a positive experience overall at the hos...   \n",
       "4        822      7397  The medical team at the hospital was exception...   \n",
       "\n",
       "        physician_name     hospital_name      patient_name  \n",
       "0          Laura Brown  Wallace-Hamilton   Christy Johnson  \n",
       "1        Steven Watson  Wallace-Hamilton      Anna Frazier  \n",
       "2  Chase Mcpherson Jr.  Wallace-Hamilton  Abigail Mitchell  \n",
       "3       Jason Martinez  Wallace-Hamilton    Kimberly Rivas  \n",
       "4        Chelsey Davis  Wallace-Hamilton    Catherine Yang  "
      ]
     },
     "execution_count": 54,
     "metadata": {},
     "output_type": "execute_result"
    }
   ],
   "source": [
    "data = pd.read_csv(\"build_LLM_RAG_chatbot_with_langchain/reviews.csv\")\n",
    "print(data.shape)\n",
    "data.head()"
   ]
  },
  {
   "cell_type": "code",
   "execution_count": null,
   "id": "1b42759a-4ec5-4f00-8702-ae4860198034",
   "metadata": {},
   "outputs": [],
   "source": [
    "data = pd.read_csv(\"visits/reviews.csv\")\n",
    "print(data.shape)\n",
    "data.head()"
   ]
  },
  {
   "cell_type": "code",
   "execution_count": 55,
   "id": "7263fcd3-e4b4-49a6-85d2-66d37caf7a63",
   "metadata": {},
   "outputs": [
    {
     "name": "stdout",
     "output_type": "stream",
     "text": [
      "(9998, 15)\n"
     ]
    },
    {
     "data": {
      "text/html": [
       "<div>\n",
       "<style scoped>\n",
       "    .dataframe tbody tr th:only-of-type {\n",
       "        vertical-align: middle;\n",
       "    }\n",
       "\n",
       "    .dataframe tbody tr th {\n",
       "        vertical-align: top;\n",
       "    }\n",
       "\n",
       "    .dataframe thead th {\n",
       "        text-align: right;\n",
       "    }\n",
       "</style>\n",
       "<table border=\"1\" class=\"dataframe\">\n",
       "  <thead>\n",
       "    <tr style=\"text-align: right;\">\n",
       "      <th></th>\n",
       "      <th>patient_id</th>\n",
       "      <th>date_of_admission</th>\n",
       "      <th>billing_amount</th>\n",
       "      <th>room_number</th>\n",
       "      <th>admission_type</th>\n",
       "      <th>discharge_date</th>\n",
       "      <th>test_results</th>\n",
       "      <th>visit_id</th>\n",
       "      <th>physician_id</th>\n",
       "      <th>payer_id</th>\n",
       "      <th>hospital_id</th>\n",
       "      <th>chief_complaint</th>\n",
       "      <th>treatment_description</th>\n",
       "      <th>primary_diagnosis</th>\n",
       "      <th>visit_status</th>\n",
       "    </tr>\n",
       "  </thead>\n",
       "  <tbody>\n",
       "    <tr>\n",
       "      <th>0</th>\n",
       "      <td>0</td>\n",
       "      <td>2022-11-17</td>\n",
       "      <td>37490.983364</td>\n",
       "      <td>146</td>\n",
       "      <td>Elective</td>\n",
       "      <td>2022-12-01</td>\n",
       "      <td>Inconclusive</td>\n",
       "      <td>0</td>\n",
       "      <td>102</td>\n",
       "      <td>1</td>\n",
       "      <td>0</td>\n",
       "      <td>NaN</td>\n",
       "      <td>NaN</td>\n",
       "      <td>NaN</td>\n",
       "      <td>DISCHARGED</td>\n",
       "    </tr>\n",
       "    <tr>\n",
       "      <th>1</th>\n",
       "      <td>1</td>\n",
       "      <td>2023-06-01</td>\n",
       "      <td>47304.064845</td>\n",
       "      <td>404</td>\n",
       "      <td>Emergency</td>\n",
       "      <td>NaN</td>\n",
       "      <td>Normal</td>\n",
       "      <td>1</td>\n",
       "      <td>435</td>\n",
       "      <td>4</td>\n",
       "      <td>5</td>\n",
       "      <td>NaN</td>\n",
       "      <td>NaN</td>\n",
       "      <td>NaN</td>\n",
       "      <td>OPEN</td>\n",
       "    </tr>\n",
       "    <tr>\n",
       "      <th>2</th>\n",
       "      <td>2</td>\n",
       "      <td>2019-01-09</td>\n",
       "      <td>36874.896997</td>\n",
       "      <td>292</td>\n",
       "      <td>Emergency</td>\n",
       "      <td>2019-02-08</td>\n",
       "      <td>Normal</td>\n",
       "      <td>2</td>\n",
       "      <td>348</td>\n",
       "      <td>2</td>\n",
       "      <td>6</td>\n",
       "      <td>NaN</td>\n",
       "      <td>NaN</td>\n",
       "      <td>NaN</td>\n",
       "      <td>DISCHARGED</td>\n",
       "    </tr>\n",
       "    <tr>\n",
       "      <th>3</th>\n",
       "      <td>3</td>\n",
       "      <td>2020-05-02</td>\n",
       "      <td>23303.322092</td>\n",
       "      <td>480</td>\n",
       "      <td>Urgent</td>\n",
       "      <td>2020-05-03</td>\n",
       "      <td>Abnormal</td>\n",
       "      <td>3</td>\n",
       "      <td>270</td>\n",
       "      <td>4</td>\n",
       "      <td>15</td>\n",
       "      <td>NaN</td>\n",
       "      <td>NaN</td>\n",
       "      <td>NaN</td>\n",
       "      <td>DISCHARGED</td>\n",
       "    </tr>\n",
       "    <tr>\n",
       "      <th>4</th>\n",
       "      <td>4</td>\n",
       "      <td>2021-07-09</td>\n",
       "      <td>18086.344184</td>\n",
       "      <td>477</td>\n",
       "      <td>Urgent</td>\n",
       "      <td>2021-08-02</td>\n",
       "      <td>Normal</td>\n",
       "      <td>4</td>\n",
       "      <td>106</td>\n",
       "      <td>2</td>\n",
       "      <td>29</td>\n",
       "      <td>Persistent cough and shortness of breath</td>\n",
       "      <td>Prescribed a combination of inhaled bronchodil...</td>\n",
       "      <td>J45.909 - Unspecified asthma, uncomplicated</td>\n",
       "      <td>DISCHARGED</td>\n",
       "    </tr>\n",
       "  </tbody>\n",
       "</table>\n",
       "</div>"
      ],
      "text/plain": [
       "   patient_id date_of_admission  billing_amount  room_number admission_type  \\\n",
       "0           0        2022-11-17    37490.983364          146       Elective   \n",
       "1           1        2023-06-01    47304.064845          404      Emergency   \n",
       "2           2        2019-01-09    36874.896997          292      Emergency   \n",
       "3           3        2020-05-02    23303.322092          480         Urgent   \n",
       "4           4        2021-07-09    18086.344184          477         Urgent   \n",
       "\n",
       "  discharge_date  test_results  visit_id  physician_id  payer_id  hospital_id  \\\n",
       "0     2022-12-01  Inconclusive         0           102         1            0   \n",
       "1            NaN        Normal         1           435         4            5   \n",
       "2     2019-02-08        Normal         2           348         2            6   \n",
       "3     2020-05-03      Abnormal         3           270         4           15   \n",
       "4     2021-08-02        Normal         4           106         2           29   \n",
       "\n",
       "                            chief_complaint  \\\n",
       "0                                       NaN   \n",
       "1                                       NaN   \n",
       "2                                       NaN   \n",
       "3                                       NaN   \n",
       "4  Persistent cough and shortness of breath   \n",
       "\n",
       "                               treatment_description  \\\n",
       "0                                                NaN   \n",
       "1                                                NaN   \n",
       "2                                                NaN   \n",
       "3                                                NaN   \n",
       "4  Prescribed a combination of inhaled bronchodil...   \n",
       "\n",
       "                             primary_diagnosis visit_status  \n",
       "0                                          NaN   DISCHARGED  \n",
       "1                                          NaN         OPEN  \n",
       "2                                          NaN   DISCHARGED  \n",
       "3                                          NaN   DISCHARGED  \n",
       "4  J45.909 - Unspecified asthma, uncomplicated   DISCHARGED  "
      ]
     },
     "execution_count": 55,
     "metadata": {},
     "output_type": "execute_result"
    }
   ],
   "source": [
    "data = pd.read_csv(\"build_LLM_RAG_chatbot_with_langchain/visits.csv\")\n",
    "print(data.shape)\n",
    "data.head()"
   ]
  },
  {
   "cell_type": "markdown",
   "id": "f2f8fe1f-08d8-4525-ba54-c3d28d6ce8db",
   "metadata": {},
   "source": [
    "# Step 3. Neo4j"
   ]
  },
  {
   "cell_type": "code",
   "execution_count": null,
   "id": "fa1b6e65-3fcf-4edd-96b9-2cf8f08d07ee",
   "metadata": {},
   "outputs": [],
   "source": [
    "- Nodes (Patient, Visit, Payer)\n",
    "- Relationships (Has, Covered_by)\n",
    "- Properties (associated to Patient, Has, Covered_by, Payer)"
   ]
  },
  {
   "cell_type": "markdown",
   "id": "d17dfbd8-3cd3-4d39-9a2c-9bca95375f06",
   "metadata": {},
   "source": [
    "## ETL"
   ]
  },
  {
   "cell_type": "code",
   "execution_count": 68,
   "id": "e003962b-db64-421f-8b14-15430802c5b2",
   "metadata": {},
   "outputs": [],
   "source": [
    "import os\n",
    "import logging\n",
    "#from retry import retry\n",
    "from neo4j import GraphDatabase\n",
    "\n",
    "root_dir = \"https://raw.githubusercontent.com/hfhoffman1144/langchain_neo4j_rag_app/main/data/\"\n",
    "\n",
    "# Paths to CSV files containing hospital data\n",
    "#HOSPITALS_CSV_PATH = \"file:///build_LLM_RAG_chatbot_with_langchain/hospitals.csv\"\n",
    "HOSPITALS_CSV_PATH = root_dir + \"hospitals.csv\"\n",
    "PAYERS_CSV_PATH = root_dir + \"payers.csv\"\n",
    "PHYSICIANS_CSV_PATH = root_dir + \"physicians.csv\"\n",
    "PATIENTS_CSV_PATH = root_dir + \"patients.csv\"\n",
    "VISITS_CSV_PATH = root_dir + \"visits.csv\"\n",
    "REVIEWS_CSV_PATH = root_dir + \"reviews.csv\"\n",
    "EXAMPLE_CYPHER_CSV_PATH = root_dir + \"example_cypher.csv\"\n",
    "\n",
    "# Neo4j config\n",
    "NEO4J_URI = \"bolt://neo4j:7687\"\n",
    "NEO4J_USERNAME = \"neo4j\"\n",
    "NEO4J_PASSWORD = \"testtest\"\n",
    "\n",
    "driver = GraphDatabase.driver(NEO4J_URI, auth=(NEO4J_USERNAME, NEO4J_PASSWORD))\n",
    "\n",
    "driver.verify_connectivity()"
   ]
  },
  {
   "cell_type": "code",
   "execution_count": 78,
   "id": "f137ee6c-1586-4aef-8ccd-cc03b94f5f07",
   "metadata": {},
   "outputs": [],
   "source": [
    "import hneo4j\n",
    "\n",
    "hneo4j.delete_all(driver)"
   ]
  },
  {
   "cell_type": "code",
   "execution_count": 79,
   "id": "4a1ba740-9014-4c1d-81de-e3ea194223fb",
   "metadata": {},
   "outputs": [],
   "source": [
    "def _set_uniqueness_constraints(tx, node):\n",
    "    query = f\"\"\"CREATE CONSTRAINT IF NOT EXISTS FOR (n:{node})\n",
    "        REQUIRE n.id IS UNIQUE;\"\"\"\n",
    "    _ = tx.run(query, {})\n",
    "\n",
    "\n",
    "NODES = [\"Hospital\", \"Payer\", \"Physician\", \"Patient\", \"Visit\", \"Review\", \"Question\"]\n",
    "with driver.session(database=\"neo4j\") as session:\n",
    "    for node in NODES:\n",
    "        session.execute_write(_set_uniqueness_constraints, node)"
   ]
  },
  {
   "cell_type": "code",
   "execution_count": 80,
   "id": "cd79499b-90a2-4129-9632-c3bca621a103",
   "metadata": {},
   "outputs": [],
   "source": [
    "with driver.session(database=\"neo4j\") as session:\n",
    "    query = f\"\"\"\n",
    "    LOAD CSV WITH HEADERS\n",
    "    FROM '{HOSPITALS_CSV_PATH}' AS hospitals\n",
    "    MERGE (h:Hospital {{id: toInteger(hospitals.hospital_id),\n",
    "                        name: hospitals.hospital_name,\n",
    "                        state_name: hospitals.hospital_state}});\n",
    "    \"\"\"\n",
    "    _ = session.run(query, {})"
   ]
  },
  {
   "cell_type": "code",
   "execution_count": 81,
   "id": "b5c32168-a234-4897-94b2-d60ed056cf00",
   "metadata": {},
   "outputs": [
    {
     "name": "stdout",
     "output_type": "stream",
     "text": [
      "Loading payer nodes\n",
      "Loading physician nodes\n",
      "Loading visit nodes\n",
      "Loading patient nodes\n",
      "Loading review nodes\n",
      "Loading question nodes\n",
      "Loading 'AT' relationships\n",
      "Loading 'WRITES' relationships\n",
      "Loading 'TREATS' relationships\n",
      "Loading 'COVERED_BY' relationships\n",
      "Loading 'HAS' relationships\n",
      "Loading 'EMPLOYS' relationships\n"
     ]
    }
   ],
   "source": [
    "with driver.session(database=\"neo4j\") as session:\n",
    "    query = f\"\"\"\n",
    "    LOAD CSV WITH HEADERS\n",
    "    FROM '{HOSPITALS_CSV_PATH}' AS hospitals\n",
    "    MERGE (h:Hospital {{id: toInteger(hospitals.hospital_id),\n",
    "                        name: hospitals.hospital_name,\n",
    "                        state_name: hospitals.hospital_state}});\n",
    "    \"\"\"\n",
    "    _ = session.run(query, {})\n",
    "\n",
    "print(\"Loading payer nodes\")\n",
    "with driver.session(database=\"neo4j\") as session:\n",
    "    query = f\"\"\"\n",
    "    LOAD CSV WITH HEADERS\n",
    "    FROM '{PAYERS_CSV_PATH}' AS payers\n",
    "    MERGE (p:Payer {{id: toInteger(payers.payer_id),\n",
    "    name: payers.payer_name}});\n",
    "    \"\"\"\n",
    "    _ = session.run(query, {})\n",
    "\n",
    "print(\"Loading physician nodes\")\n",
    "with driver.session(database=\"neo4j\") as session:\n",
    "    query = f\"\"\"\n",
    "    LOAD CSV WITH HEADERS\n",
    "    FROM '{PHYSICIANS_CSV_PATH}' AS physicians\n",
    "    MERGE (p:Physician {{id: toInteger(physicians.physician_id),\n",
    "                        name: physicians.physician_name,\n",
    "                        dob: physicians.physician_dob,\n",
    "                        grad_year: physicians.physician_grad_year,\n",
    "                        school: physicians.medical_school,\n",
    "                        salary: toFloat(physicians.salary)\n",
    "                        }});\n",
    "    \"\"\"\n",
    "    _ = session.run(query, {})\n",
    "\n",
    "print(\"Loading visit nodes\")\n",
    "with driver.session(database=\"neo4j\") as session:\n",
    "    query = f\"\"\"\n",
    "    LOAD CSV WITH HEADERS FROM '{VISITS_CSV_PATH}' AS visits\n",
    "    MERGE (v:Visit {{id: toInteger(visits.visit_id),\n",
    "                        room_number: toInteger(visits.room_number),\n",
    "                        admission_type: visits.admission_type,\n",
    "                        admission_date: visits.date_of_admission,\n",
    "                        test_results: visits.test_results,\n",
    "                        status: visits.visit_status\n",
    "    }})\n",
    "        ON CREATE SET v.chief_complaint = visits.chief_complaint\n",
    "        ON MATCH SET v.chief_complaint = visits.chief_complaint\n",
    "        ON CREATE SET v.treatment_description =\n",
    "        visits.treatment_description\n",
    "        ON MATCH SET v.treatment_description = visits.treatment_description\n",
    "        ON CREATE SET v.diagnosis = visits.primary_diagnosis\n",
    "        ON MATCH SET v.diagnosis = visits.primary_diagnosis\n",
    "        ON CREATE SET v.discharge_date = visits.discharge_date\n",
    "        ON MATCH SET v.discharge_date = visits.discharge_date\n",
    "     \"\"\"\n",
    "    _ = session.run(query, {})\n",
    "\n",
    "print(\"Loading patient nodes\")\n",
    "with driver.session(database=\"neo4j\") as session:\n",
    "    query = f\"\"\"\n",
    "    LOAD CSV WITH HEADERS\n",
    "    FROM '{PATIENTS_CSV_PATH}' AS patients\n",
    "    MERGE (p:Patient {{id: toInteger(patients.patient_id),\n",
    "                    name: patients.patient_name,\n",
    "                    sex: patients.patient_sex,\n",
    "                    dob: patients.patient_dob,\n",
    "                    blood_type: patients.patient_blood_type\n",
    "                    }});\n",
    "    \"\"\"\n",
    "    _ = session.run(query, {})\n",
    "\n",
    "print(\"Loading review nodes\")\n",
    "with driver.session(database=\"neo4j\") as session:\n",
    "    query = f\"\"\"\n",
    "    LOAD CSV WITH HEADERS\n",
    "    FROM '{REVIEWS_CSV_PATH}' AS reviews\n",
    "    MERGE (r:Review {{id: toInteger(reviews.review_id),\n",
    "                     text: reviews.review,\n",
    "                     patient_name: reviews.patient_name,\n",
    "                     physician_name: reviews.physician_name,\n",
    "                     hospital_name: reviews.hospital_name\n",
    "                    }});\n",
    "    \"\"\"\n",
    "    _ = session.run(query, {})\n",
    "\n",
    "print(\"Loading question nodes\")\n",
    "with driver.session(database=\"neo4j\") as session:\n",
    "    query = f\"\"\"\n",
    "    LOAD CSV WITH HEADERS\n",
    "    FROM '{EXAMPLE_CYPHER_CSV_PATH}' AS questions\n",
    "    MERGE (Q:Question {{\n",
    "                     question: questions.question,\n",
    "                     cypher: questions.cypher\n",
    "                    }});\n",
    "    \"\"\"\n",
    "    _ = session.run(query, {})\n",
    "\n",
    "print(\"Loading 'AT' relationships\")\n",
    "with driver.session(database=\"neo4j\") as session:\n",
    "    query = f\"\"\"\n",
    "    LOAD CSV WITH HEADERS FROM '{VISITS_CSV_PATH}' AS row\n",
    "    MATCH (source: `Visit` {{ `id`: toInteger(trim(row.`visit_id`)) }})\n",
    "    MATCH (target: `Hospital` {{ `id`:\n",
    "    toInteger(trim(row.`hospital_id`))}})\n",
    "    MERGE (source)-[r: `AT`]->(target)\n",
    "    \"\"\"\n",
    "    _ = session.run(query, {})\n",
    "\n",
    "print(\"Loading 'WRITES' relationships\")\n",
    "with driver.session(database=\"neo4j\") as session:\n",
    "    query = f\"\"\"\n",
    "    LOAD CSV WITH HEADERS FROM '{REVIEWS_CSV_PATH}' AS reviews\n",
    "        MATCH (v:Visit {{id: toInteger(reviews.visit_id)}})\n",
    "        MATCH (r:Review {{id: toInteger(reviews.review_id)}})\n",
    "        MERGE (v)-[writes:WRITES]->(r)\n",
    "    \"\"\"\n",
    "    _ = session.run(query, {})\n",
    "\n",
    "print(\"Loading 'TREATS' relationships\")\n",
    "with driver.session(database=\"neo4j\") as session:\n",
    "    query = f\"\"\"\n",
    "    LOAD CSV WITH HEADERS FROM '{VISITS_CSV_PATH}' AS visits\n",
    "        MATCH (p:Physician {{id: toInteger(visits.physician_id)}})\n",
    "        MATCH (v:Visit {{id: toInteger(visits.visit_id)}})\n",
    "        MERGE (p)-[treats:TREATS]->(v)\n",
    "    \"\"\"\n",
    "    _ = session.run(query, {})\n",
    "\n",
    "print(\"Loading 'COVERED_BY' relationships\")\n",
    "with driver.session(database=\"neo4j\") as session:\n",
    "    query = f\"\"\"\n",
    "    LOAD CSV WITH HEADERS FROM '{VISITS_CSV_PATH}' AS visits\n",
    "        MATCH (v:Visit {{id: toInteger(visits.visit_id)}})\n",
    "        MATCH (p:Payer {{id: toInteger(visits.payer_id)}})\n",
    "        MERGE (v)-[covered_by:COVERED_BY]->(p)\n",
    "        ON CREATE SET\n",
    "            covered_by.service_date = visits.discharge_date,\n",
    "            covered_by.billing_amount = toFloat(visits.billing_amount)\n",
    "    \"\"\"\n",
    "    _ = session.run(query, {})\n",
    "\n",
    "print(\"Loading 'HAS' relationships\")\n",
    "with driver.session(database=\"neo4j\") as session:\n",
    "    query = f\"\"\"\n",
    "    LOAD CSV WITH HEADERS FROM '{VISITS_CSV_PATH}' AS visits\n",
    "        MATCH (p:Patient {{id: toInteger(visits.patient_id)}})\n",
    "        MATCH (v:Visit {{id: toInteger(visits.visit_id)}})\n",
    "        MERGE (p)-[has:HAS]->(v)\n",
    "    \"\"\"\n",
    "    _ = session.run(query, {})\n",
    "\n",
    "print(\"Loading 'EMPLOYS' relationships\")\n",
    "with driver.session(database=\"neo4j\") as session:\n",
    "    query = f\"\"\"\n",
    "    LOAD CSV WITH HEADERS FROM '{VISITS_CSV_PATH}' AS visits\n",
    "        MATCH (h:Hospital {{id: toInteger(visits.hospital_id)}})\n",
    "        MATCH (p:Physician {{id: toInteger(visits.physician_id)}})\n",
    "        MERGE (h)-[employs:EMPLOYS]->(p)\n",
    "    \"\"\"\n",
    "    _ = session.run(query, {})"
   ]
  },
  {
   "cell_type": "code",
   "execution_count": 87,
   "id": "d751c8a2-b6a1-42cd-a836-5e47f08ef619",
   "metadata": {},
   "outputs": [
    {
     "name": "stdout",
     "output_type": "stream",
     "text": [
      "Node properties are the following:\n",
      "Hospital {id: INTEGER, name: STRING, state_name: STRING},Payer {name: STRING, id: INTEGER},Physician {salary: FLOAT, dob: STRING, grad_year: STRING, name: STRING, id: INTEGER, school: STRING},Patient {id: INTEGER, dob: STRING, blood_type: STRING, sex: STRING, name: STRING},Visit {treatment_description: STRING, diagnosis: STRING, id: INTEGER, status: STRING, discharge_date: STRING, admission_type: STRING, test_results: STRING, admission_date: STRING, room_number: INTEGER, chief_complaint: STRING},Review {hospital_name: STRING, patient_name: STRING, physician_name: STRING, text: STRING, id: INTEGER},Question {cypher: STRING, question: STRING}\n",
      "Relationship properties are the following:\n",
      "COVERED_BY {service_date: STRING, billing_amount: FLOAT}\n",
      "The relationships are the following:\n",
      "(:Hospital)-[:EMPLOYS]->(:Physician),(:Physician)-[:TREATS]->(:Visit),(:Patient)-[:HAS]->(:Visit),(:Visit)-[:AT]->(:Hospital),(:Visit)-[:COVERED_BY]->(:Payer),(:Visit)-[:WRITES]->(:Review)\n"
     ]
    }
   ],
   "source": [
    "from langchain_community.graphs import Neo4jGraph\n",
    "graph = Neo4jGraph(url=NEO4J_URI, username=NEO4J_USERNAME, password=NEO4J_PASSWORD)\n",
    "\n",
    "graph.refresh_schema()\n",
    "\n",
    "print(graph.schema)"
   ]
  },
  {
   "cell_type": "code",
   "execution_count": 92,
   "id": "5618ecfd-f17c-4a69-998e-9700e8fd94cc",
   "metadata": {},
   "outputs": [
    {
     "data": {
      "text/plain": [
       "str"
      ]
     },
     "execution_count": 92,
     "metadata": {},
     "output_type": "execute_result"
    }
   ],
   "source": [
    "type(schema)"
   ]
  },
  {
   "cell_type": "code",
   "execution_count": 82,
   "id": "7655d607-b47e-466b-99a6-b1366e1bea4d",
   "metadata": {},
   "outputs": [
    {
     "name": "stdout",
     "output_type": "stream",
     "text": [
      "graph.html\n"
     ]
    },
    {
     "data": {
      "text/html": [
       "\n",
       "        <iframe\n",
       "            width=\"100%\"\n",
       "            height=\"500px\"\n",
       "            src=\"graph.html\"\n",
       "            frameborder=\"0\"\n",
       "            allowfullscreen\n",
       "            \n",
       "        ></iframe>\n",
       "        "
      ],
      "text/plain": [
       "<IPython.lib.display.IFrame at 0xffff38b1e140>"
      ]
     },
     "execution_count": 82,
     "metadata": {},
     "output_type": "execute_result"
    }
   ],
   "source": [
    "with driver.session(database=\"neo4j\") as session:\n",
    "    net = hneo4j.plot_graph(session)\n",
    "net.show(\"graph.html\")"
   ]
  },
  {
   "cell_type": "markdown",
   "id": "7b69d296-86b2-4d7d-9236-474a544e6500",
   "metadata": {},
   "source": [
    "## Query the hospital system graph"
   ]
  },
  {
   "cell_type": "code",
   "execution_count": 105,
   "id": "caf5bdfe-cc0a-442c-98f7-cbe13f95313b",
   "metadata": {},
   "outputs": [
    {
     "name": "stdout",
     "output_type": "stream",
     "text": [
      "<Node element_id='4:907b90c5-77b7-40ee-bd2b-900a55534cf9:10533' labels=frozenset({'Patient'}) properties={'dob': '1994-10-06', 'blood_type': 'O+', 'sex': 'Female', 'name': 'Tiffany Ramirez', 'id': 0}>\n",
      "1994-10-06\n",
      "<Node element_id='4:907b90c5-77b7-40ee-bd2b-900a55534cf9:10534' labels=frozenset({'Patient'}) properties={'dob': '1973-03-31', 'blood_type': 'A-', 'sex': 'Male', 'name': 'Ruben Burns', 'id': 1}>\n",
      "1973-03-31\n",
      "<Node element_id='4:907b90c5-77b7-40ee-bd2b-900a55534cf9:10535' labels=frozenset({'Patient'}) properties={'dob': '1932-05-10', 'blood_type': 'O-', 'sex': 'Male', 'name': 'Chad Byrd', 'id': 2}>\n",
      "1932-05-10\n",
      "<Node element_id='4:907b90c5-77b7-40ee-bd2b-900a55534cf9:10536' labels=frozenset({'Patient'}) properties={'dob': '1944-10-04', 'blood_type': 'AB+', 'sex': 'Male', 'name': 'Antonio Frederick', 'id': 3}>\n",
      "1944-10-04\n",
      "<Node element_id='4:907b90c5-77b7-40ee-bd2b-900a55534cf9:10537' labels=frozenset({'Patient'}) properties={'dob': '1989-01-26', 'blood_type': 'AB+', 'sex': 'Male', 'name': 'Mrs. Brandy Flowers', 'id': 4}>\n",
      "1989-01-26\n"
     ]
    }
   ],
   "source": [
    "records, _, _ = driver.execute_query(\n",
    "    \"MATCH (p:Patient) RETURN p LIMIT 5;\",\n",
    "    database_=\"neo4j\"\n",
    ")\n",
    "for record in records:\n",
    "    print(record[\"p\"])\n",
    "    print(record[\"p\"][\"dob\"])"
   ]
  },
  {
   "cell_type": "code",
   "execution_count": 107,
   "id": "e008b3e6-f097-4f00-8dfc-029dd7c9cbeb",
   "metadata": {},
   "outputs": [
    {
     "name": "stdout",
     "output_type": "stream",
     "text": [
      "Tiffany Ramirez\n",
      "Ruben Burns\n",
      "Chad Byrd\n",
      "Antonio Frederick\n",
      "Mrs. Brandy Flowers\n"
     ]
    }
   ],
   "source": [
    "records, _, _ = driver.execute_query(\n",
    "    \"MATCH (p:Patient) RETURN p.name LIMIT 5;\",\n",
    "    database_=\"neo4j\"\n",
    ")\n",
    "for record in records:\n",
    "    print(record[\"p.name\"])"
   ]
  },
  {
   "cell_type": "code",
   "execution_count": 110,
   "id": "0d7c412c-16a7-4ee7-bd73-947874e58237",
   "metadata": {},
   "outputs": [
    {
     "name": "stdout",
     "output_type": "stream",
     "text": [
      "<Record v=<Node element_id='4:907b90c5-77b7-40ee-bd2b-900a55534cf9:600' labels=frozenset({'Visit'}) properties={'discharge_date': '2022-01-09', 'admission_date': '2021-12-28', 'admission_type': 'Emergency', 'room_number': 439, 'id': 56, 'test_results': 'Abnormal', 'status': 'DISCHARGED'}>>\n"
     ]
    }
   ],
   "source": [
    "query = \"MATCH (v:Visit) WHERE v.id = 56 RETURN v;\"\n",
    "\n",
    "records, _, _ = driver.execute_query(query, database_=\"neo4j\")\n",
    "#print(records)\n",
    "for record in records:\n",
    "    print(record)"
   ]
  },
  {
   "cell_type": "code",
   "execution_count": 149,
   "id": "9bce6fcc-3fa0-42fb-acf1-a166c602d8ae",
   "metadata": {},
   "outputs": [
    {
     "name": "stdout",
     "output_type": "stream",
     "text": [
      "<Node element_id='4:907b90c5-77b7-40ee-bd2b-900a55534cf9:600' labels=frozenset({'Visit'}) properties={'discharge_date': '2022-01-09', 'admission_date': '2021-12-28', 'admission_type': 'Emergency', 'room_number': 439, 'id': 56, 'test_results': 'Abnormal', 'status': 'DISCHARGED'}>\n",
      "<Relationship element_id='5:907b90c5-77b7-40ee-bd2b-900a55534cf9:31064' nodes=(<Node element_id='4:907b90c5-77b7-40ee-bd2b-900a55534cf9:10589' labels=frozenset({'Patient'}) properties={'dob': '1995-06-06', 'blood_type': 'A-', 'sex': 'Male', 'name': 'Cynthia Stanton', 'id': 56}>, <Node element_id='4:907b90c5-77b7-40ee-bd2b-900a55534cf9:600' labels=frozenset({'Visit'}) properties={'discharge_date': '2022-01-09', 'admission_date': '2021-12-28', 'admission_type': 'Emergency', 'room_number': 439, 'id': 56, 'test_results': 'Abnormal', 'status': 'DISCHARGED'}>) type='HAS' properties={}>\n",
      "<Node element_id='4:907b90c5-77b7-40ee-bd2b-900a55534cf9:10589' labels=frozenset({'Patient'}) properties={'dob': '1995-06-06', 'blood_type': 'A-', 'sex': 'Male', 'name': 'Cynthia Stanton', 'id': 56}>\n"
     ]
    }
   ],
   "source": [
    "query = \"\"\"\n",
    "MATCH (p:Patient)-[h:HAS]->(v:Visit)\n",
    "WHERE v.id = 56\n",
    "RETURN v,h,p;\n",
    "\"\"\"\n",
    "records, _, _ = driver.execute_query(query, database_=\"neo4j\")\n",
    "#print(records)\n",
    "for record in records:\n",
    "    print(record[\"v\"])\n",
    "    print(record[\"h\"])\n",
    "    print(record[\"p\"])"
   ]
  },
  {
   "cell_type": "code",
   "execution_count": 151,
   "id": "003ead87-ab22-4e3c-993e-ee46477c2fdb",
   "metadata": {},
   "outputs": [
    {
     "name": "stdout",
     "output_type": "stream",
     "text": [
      "5056439.6148389345\n"
     ]
    }
   ],
   "source": [
    "query = \"\"\"\n",
    "MATCH (p:Payer)<-[c:COVERED_BY]-(v:Visit)-[:AT]->(h:Hospital)\n",
    "    WHERE p.name = \"Aetna\"\n",
    "    AND h.state_name = \"TX\"\n",
    "    RETURN COUNT(*) as num_visits,\n",
    "    SUM(c.billing_amount) as total_billing_amount;\n",
    "\"\"\"\n",
    "\n",
    "records, _, _ = driver.execute_query(query, database_=\"neo4j\")\n",
    "#print(records)\n",
    "for record in records:\n",
    "    print(record[\"total_billing_amount\"])"
   ]
  },
  {
   "cell_type": "markdown",
   "id": "c56d285a-4b94-45df-9ba6-a926ffb1fba2",
   "metadata": {},
   "source": [
    "# Step 4, Graph RAG chatbot"
   ]
  },
  {
   "cell_type": "markdown",
   "id": "6227c611-9eed-4a9b-8568-d96679cd22d5",
   "metadata": {},
   "source": [
    "## Create a Neo4j Vector Chain"
   ]
  },
  {
   "cell_type": "code",
   "execution_count": 157,
   "id": "2b0aa076-b9ce-4236-b040-918e3880d776",
   "metadata": {},
   "outputs": [
    {
     "name": "stdout",
     "output_type": "stream",
     "text": [
      "input_variables=['context', 'question'] messages=[SystemMessagePromptTemplate(prompt=PromptTemplate(input_variables=['context'], template=\"\\nYour job is to use patient reviews to answer questions about their experience at a hospital.\\nUse the following context to answer questions.\\nBe as detailed as possible, but don't make up any information that's not from the context.\\nIf you don't know an answer, say you don't know.\\n{context}\\n\")), HumanMessagePromptTemplate(prompt=PromptTemplate(input_variables=['question'], template='{question}'))]\n"
     ]
    }
   ],
   "source": [
    "import os\n",
    "from langchain.vectorstores.neo4j_vector import Neo4jVector\n",
    "from langchain_openai import OpenAIEmbeddings\n",
    "from langchain.chains import RetrievalQA\n",
    "from langchain_openai import ChatOpenAI\n",
    "from langchain.prompts import (\n",
    "    PromptTemplate,\n",
    "    SystemMessagePromptTemplate,\n",
    "    HumanMessagePromptTemplate,\n",
    "    ChatPromptTemplate,\n",
    ")\n",
    "\n",
    "# Build the prompt.\n",
    "review_template = \"\"\"\n",
    "Your job is to use patient reviews to answer questions about their experience at a hospital.\n",
    "Use the following context to answer questions.\n",
    "Be as detailed as possible, but don't make up any information that's not from the context.\n",
    "If you don't know an answer, say you don't know.\n",
    "{context}\n",
    "\"\"\"\n",
    "review_system_prompt = SystemMessagePromptTemplate(\n",
    "    prompt=PromptTemplate(input_variables=[\"context\"], template=review_template)\n",
    ")\n",
    "review_human_prompt = HumanMessagePromptTemplate(\n",
    "    prompt=PromptTemplate(input_variables=[\"question\"], template=\"{question}\")\n",
    ")\n",
    "messages = [review_system_prompt, review_human_prompt]\n",
    "review_prompt = ChatPromptTemplate(\n",
    "    input_variables=[\"context\", \"question\"], messages=messages\n",
    ")\n",
    "print(review_prompt)"
   ]
  },
  {
   "cell_type": "code",
   "execution_count": 158,
   "id": "4221990e-0ab3-4fa7-b12c-49f2dd4a1dac",
   "metadata": {},
   "outputs": [
    {
     "name": "stderr",
     "output_type": "stream",
     "text": [
      "Received notification from DBMS server: {severity: WARNING} {code: Neo.ClientNotification.Statement.FeatureDeprecationWarning} {category: DEPRECATION} {title: This feature is deprecated and will be removed in future versions.} {description: The query used a deprecated procedure. ('db.create.setVectorProperty' has been replaced by 'db.create.setNodeVectorProperty')} {position: line: 1, column: 68, offset: 67} for query: \"UNWIND $data AS row MATCH (n:`Review`) WHERE elementId(n) = row.id CALL db.create.setVectorProperty(n, 'embedding', row.embedding) YIELD node RETURN count(*)\"\n"
     ]
    }
   ],
   "source": [
    "HOSPITAL_MODEL = \"gpt-3.5-turbo-1106\"\n",
    "\n",
    "neo4j_vector_index = Neo4jVector.from_existing_graph(\n",
    "    embedding=OpenAIEmbeddings(),\n",
    "    url=NEO4J_URI,\n",
    "    username=NEO4J_USERNAME,\n",
    "    password=NEO4J_PASSWORD,\n",
    "    # Name given to the vector index.\n",
    "    index_name=\"reviews\",\n",
    "    # Node to create embeddings for.\n",
    "    node_label=\"Review\",\n",
    "    # Node properties to include in the embedding.\n",
    "    text_node_properties=[\n",
    "        \"physician_name\",\n",
    "        \"patient_name\",\n",
    "        \"text\",\n",
    "        \"hospital_name\",\n",
    "    ],\n",
    "    # Name of the embedding node property.\n",
    "    embedding_node_property=\"embedding\",\n",
    ")\n",
    "\n",
    "# Create review chain.\n",
    "reviews_vector_chain = RetrievalQA.from_chain_type(\n",
    "    llm=ChatOpenAI(model=HOSPITAL_QA_MODEL, temperature=0),\n",
    "    chain_type=\"stuff\",\n",
    "    retriever=neo4j_vector_index.as_retriever(k=12),\n",
    ")\n",
    "reviews_vector_chain.combine_documents_chain.llm_chain.prompt = review_prompt"
   ]
  },
  {
   "cell_type": "code",
   "execution_count": 160,
   "id": "3d737775-5cbe-4510-9e6d-33767b7dcc20",
   "metadata": {},
   "outputs": [
    {
     "name": "stdout",
     "output_type": "stream",
     "text": [
      "{'query': 'What have patients said about hospital efficiency?\\nMention details from specific reviews.', 'result': \"Patients have mentioned both positive and negative aspects of hospital efficiency in their reviews.\\n\\nOne patient, Danielle Lee, mentioned that the hospital where Deborah Sampson works had an efficient and caring nursing staff. However, she also noted a lack of communication about expected wait times for tests, which was frustrating.\\n\\nAnother patient, Darren Roberts, praised the medical team at Schultz-Powers for being thorough and efficient. However, he also mentioned that the administrative processes were confusing and time-consuming, indicating a potential inefficiency in the hospital's administrative operations.\\n\\nOverall, patients have highlighted both positive and negative aspects of hospital efficiency in their reviews, emphasizing the importance of effective communication and streamlined administrative processes.\"}\n"
     ]
    }
   ],
   "source": [
    "query = \"\"\"What have patients said about hospital efficiency?\n",
    "Mention details from specific reviews.\"\"\"\n",
    "\n",
    "response = reviews_vector_chain.invoke(query)\n",
    "print(response)"
   ]
  },
  {
   "cell_type": "markdown",
   "id": "9edd9d6d-0010-4d04-b49c-79b6accc0767",
   "metadata": {},
   "source": [
    "## Create a Neo4j Cypher Chain"
   ]
  },
  {
   "cell_type": "code",
   "execution_count": 163,
   "id": "70509345-d246-485a-a2e8-58f38494a4d2",
   "metadata": {},
   "outputs": [],
   "source": [
    "graph.refresh_schema()"
   ]
  },
  {
   "cell_type": "code",
   "execution_count": 164,
   "id": "5ab06487-372c-4130-ae68-c711129d05a3",
   "metadata": {},
   "outputs": [],
   "source": [
    "# Few shot prompting.\n",
    "cypher_generation_template = \"\"\"\n",
    "Task:\n",
    "Generate Cypher query for a Neo4j graph database.\n",
    "\n",
    "Instructions:\n",
    "Use only the provided relationship types and properties in the schema.\n",
    "Do not use any other relationship types or properties that are not provided.\n",
    "\n",
    "Schema:\n",
    "{schema}\n",
    "\n",
    "Note:\n",
    "- Do not include any explanations or apologies in your responses.\n",
    "- Do not respond to any questions that might ask anything other than\n",
    "for you to construct a Cypher statement.\n",
    "- Do not include any text except the generated Cypher statement.\n",
    "- Make sure the direction of the relationship is\n",
    "correct in your queries.\n",
    "- Make sure you alias both entities and relationships\n",
    "properly.\n",
    "- Do not run any queries that would add to or delete from\n",
    "the database.\n",
    "- Make sure to alias all statements that follow as with\n",
    "statement (e.g. WITH v as visit, c.billing_amount as billing_amount)\n",
    "- If you need to divide numbers, make sure to filter the denominator to be non zero.\n",
    "\n",
    "Examples:\n",
    "# Who is the oldest patient and how old are they?\n",
    "MATCH (p:Patient)\n",
    "RETURN p.name AS oldest_patient,\n",
    "       duration.between(date(p.dob), date()).years AS age\n",
    "ORDER BY age DESC\n",
    "LIMIT 1\n",
    "\n",
    "# Which physician has billed the least to Cigna\n",
    "MATCH (p:Payer)<-[c:COVERED_BY]-(v:Visit)-[t:TREATS]-(phy:Physician)\n",
    "WHERE p.name = 'Cigna'\n",
    "RETURN phy.name AS physician_name, SUM(c.billing_amount) AS total_billed\n",
    "ORDER BY total_billed\n",
    "LIMIT 1\n",
    "\n",
    "# Which state had the largest percent increase in Cigna visits\n",
    "# from 2022 to 2023?\n",
    "MATCH (h:Hospital)<-[:AT]-(v:Visit)-[:COVERED_BY]->(p:Payer)\n",
    "WHERE p.name = 'Cigna' AND v.admission_date >= '2022-01-01' AND\n",
    "v.admission_date < '2024-01-01'\n",
    "WITH h.state_name AS state, COUNT(v) AS visit_count,\n",
    "     SUM(CASE WHEN v.admission_date >= '2022-01-01' AND\n",
    "     v.admission_date < '2023-01-01' THEN 1 ELSE 0 END) AS count_2022,\n",
    "     SUM(CASE WHEN v.admission_date >= '2023-01-01' AND\n",
    "     v.admission_date < '2024-01-01' THEN 1 ELSE 0 END) AS count_2023\n",
    "WITH state, visit_count, count_2022, count_2023,\n",
    "     (toFloat(count_2023) - toFloat(count_2022)) / toFloat(count_2022) * 100\n",
    "     AS percent_increase\n",
    "RETURN state, percent_increase\n",
    "ORDER BY percent_increase DESC\n",
    "LIMIT 1\n",
    "\n",
    "# How many non-emergency patients in North Carolina have written reviews?\n",
    "MATCH (r:Review)<-[:WRITES]-(v:Visit)-[:AT]->(h:Hospital)\n",
    "WHERE h.state_name = 'NC' and v.admission_type <> 'Emergency'\n",
    "RETURN count(*)\n",
    "\n",
    "String category values:\n",
    "Test results are one of: 'Inconclusive', 'Normal', 'Abnormal'\n",
    "Visit statuses are one of: 'OPEN', 'DISCHARGED'\n",
    "Admission Types are one of: 'Elective', 'Emergency', 'Urgent'\n",
    "Payer names are one of: 'Cigna', 'Blue Cross', 'UnitedHealthcare', 'Medicare',\n",
    "'Aetna'\n",
    "\n",
    "A visit is considered open if its status is 'OPEN' and the discharge date is\n",
    "missing.\n",
    "Use abbreviations when filtering on hospital states (e.g. \"Texas\" is \"TX\",\n",
    "\"Colorado\" is \"CO\", \"North Carolina\" is \"NC\",\n",
    "\"Florida\" is \"FL\", \"Georgia\" is \"GA\", etc.)\n",
    "\n",
    "Make sure to use IS NULL or IS NOT NULL when analyzing missing properties.\n",
    "Never return embedding properties in your queries. You must never include the\n",
    "statement \"GROUP BY\" in your query.\n",
    "Make sure to alias all statements that follow as with statement (e.g. WITH v\n",
    "as visit, c.billing_amount as billing_amount)\n",
    "If you need to divide numbers, make sure to filter the denominator to be non\n",
    "zero.\n",
    "\n",
    "The question is:\n",
    "{question}\n",
    "\"\"\"\n",
    "\n",
    "cypher_generation_prompt = PromptTemplate(\n",
    "    input_variables=[\"schema\", \"question\"], template=cypher_generation_template\n",
    ")"
   ]
  },
  {
   "cell_type": "code",
   "execution_count": 165,
   "id": "083bd6a8-3c13-4811-90ec-5bd6c655ac15",
   "metadata": {},
   "outputs": [],
   "source": [
    "qa_generation_template = \"\"\"You are an assistant that takes the results\n",
    "from a Neo4j Cypher query and forms a human-readable response. The\n",
    "query results section contains the results of a Cypher query that was\n",
    "generated based on a user's natural language question. The provided\n",
    "information is authoritative, you must never doubt it or try to use\n",
    "your internal knowledge to correct it. Make the answer sound like a\n",
    "response to the question.\n",
    "\n",
    "Query Results:\n",
    "{context}\n",
    "\n",
    "Question:\n",
    "{question}\n",
    "\n",
    "If the provided information is empty, say you don't know the answer.\n",
    "Empty information looks like this: []\n",
    "\n",
    "If the information is not empty, you must provide an answer using the\n",
    "results. If the question involves a time duration, assume the query\n",
    "results are in units of days unless otherwise specified.\n",
    "\n",
    "When names are provided in the query results, such as hospital names,\n",
    "beware  of any names that have commas or other punctuation in them.\n",
    "For instance, 'Jones, Brown and Murray' is a single hospital name,\n",
    "not multiple hospitals. Make sure you return any list of names in\n",
    "a way that isn't ambiguous and allows someone to tell what the full\n",
    "names are.\n",
    "\n",
    "Never say you don't have the right information if there is data in\n",
    "the query results. Always use the data in the query results.\n",
    "\n",
    "Helpful Answer:\n",
    "\"\"\"\n",
    "\n",
    "qa_generation_prompt = PromptTemplate(\n",
    "    input_variables=[\"context\", \"question\"], template=qa_generation_template\n",
    ")"
   ]
  },
  {
   "cell_type": "code",
   "execution_count": 168,
   "id": "b6ddfdbc-2fbf-40c4-99b5-01af3992e081",
   "metadata": {},
   "outputs": [],
   "source": [
    "from langchain.chains import GraphCypherQAChain\n",
    "\n",
    "hospital_cypher_chain = GraphCypherQAChain.from_llm(\n",
    "    cypher_llm=ChatOpenAI(model=HOSPITAL_MODEL, temperature=0),\n",
    "    qa_llm=ChatOpenAI(model=HOSPITAL_MODEL, temperature=0),\n",
    "    graph=graph,\n",
    "    verbose=True,\n",
    "    qa_prompt=qa_generation_prompt,\n",
    "    cypher_prompt=cypher_generation_prompt,\n",
    "    validate_cypher=True,\n",
    "    top_k=100,\n",
    ")"
   ]
  },
  {
   "cell_type": "code",
   "execution_count": 170,
   "id": "03fc2b58-30ac-40c7-b605-9891f022761e",
   "metadata": {},
   "outputs": [
    {
     "name": "stdout",
     "output_type": "stream",
     "text": [
      "\n",
      "\n",
      "\u001b[1m> Entering new GraphCypherQAChain chain...\u001b[0m\n",
      "Generated Cypher:\n",
      "\u001b[32;1m\u001b[1;3mMATCH (v:Visit)-[:AT]->(h:Hospital)\n",
      "WHERE h.state_name = 'NC' AND v.admission_type = 'Emergency' AND v.status = 'DISCHARGED'\n",
      "WITH v, duration.between(date(v.admission_date), date(v.discharge_date)).days AS visit_duration\n",
      "RETURN AVG(visit_duration) AS average_visit_duration\u001b[0m\n",
      "Full Context:\n",
      "\u001b[32;1m\u001b[1;3m[{'average_visit_duration': 15.072972972972977}]\u001b[0m\n",
      "\n",
      "\u001b[1m> Finished chain.\u001b[0m\n",
      "The average visit duration for emergency visits in North Carolina is 15.07 days.\n"
     ]
    }
   ],
   "source": [
    "question = \"\"\"What is the average visit duration for\n",
    "emergency visits in North Carolina?\"\"\"\n",
    "response = hospital_cypher_chain.invoke(question)\n",
    "\n",
    "print(response.get(\"result\"))"
   ]
  },
  {
   "cell_type": "code",
   "execution_count": 171,
   "id": "a94796a3-9b43-4105-9558-6dbafc4db710",
   "metadata": {},
   "outputs": [
    {
     "name": "stdout",
     "output_type": "stream",
     "text": [
      "\n",
      "\n",
      "\u001b[1m> Entering new GraphCypherQAChain chain...\u001b[0m\n",
      "Generated Cypher:\n",
      "\u001b[32;1m\u001b[1;3mMATCH (h:Hospital)<-[:AT]-(v:Visit)-[:COVERED_BY]->(p:Payer)\n",
      "WHERE p.name = 'Medicaid' AND v.admission_date >= '2022-01-01' AND\n",
      "v.admission_date < '2024-01-01'\n",
      "WITH h.state_name AS state, COUNT(v) AS visit_count,\n",
      "     SUM(CASE WHEN v.admission_date >= '2022-01-01' AND\n",
      "     v.admission_date < '2023-01-01' THEN 1 ELSE 0 END) AS count_2022,\n",
      "     SUM(CASE WHEN v.admission_date >= '2023-01-01' AND\n",
      "     v.admission_date < '2024-01-01' THEN 1 ELSE 0 END) AS count_2023\n",
      "WITH state, visit_count, count_2022, count_2023,\n",
      "     (toFloat(count_2023) - toFloat(count_2022)) / toFloat(count_2022) * 100\n",
      "     AS percent_increase\n",
      "RETURN state, percent_increase\n",
      "ORDER BY percent_increase DESC\n",
      "LIMIT 1\u001b[0m\n",
      "Full Context:\n",
      "\u001b[32;1m\u001b[1;3m[{'state': 'TX', 'percent_increase': 8.823529411764707}]\u001b[0m\n",
      "\n",
      "\u001b[1m> Finished chain.\u001b[0m\n",
      "The state with the largest percent increase in Medicaid visits from 2022 to 2023 is Texas (TX), with a percent increase of 8.82%.\n"
     ]
    }
   ],
   "source": [
    "question = \"\"\"Which state had the largest percent increase\n",
    "in Medicaid visits from 2022 to 2023?\"\"\"\n",
    "response = hospital_cypher_chain.invoke(question)\n",
    "\n",
    "print(response.get(\"result\"))"
   ]
  },
  {
   "cell_type": "markdown",
   "id": "8e592ee1-837f-47eb-b80e-fc44e2502b82",
   "metadata": {},
   "source": [
    "## Create wait time functions"
   ]
  },
  {
   "cell_type": "code",
   "execution_count": 174,
   "id": "bc03d264-617f-4ee1-879f-00b5d77e47af",
   "metadata": {},
   "outputs": [],
   "source": [
    "# From chatbot_api/src/tools/wait_times.py\n",
    "import os\n",
    "from typing import Any\n",
    "import numpy as np\n",
    "from langchain_community.graphs import Neo4jGraph\n",
    "\n",
    "def _get_current_hospitals() -> list[str]:\n",
    "    \"\"\"Fetch a list of current hospital names from a Neo4j database.\"\"\"\n",
    "    graph = Neo4jGraph(\n",
    "        url=NEO4J_URI,\n",
    "        username=NEO4J_USERNAME,\n",
    "        password=NEO4J_PASSWORD,\n",
    "    )\n",
    "    current_hospitals = graph.query(\n",
    "        \"\"\"\n",
    "        MATCH (h:Hospital)\n",
    "        RETURN h.name AS hospital_name\n",
    "        \"\"\"\n",
    "    )\n",
    "    return [d[\"hospital_name\"].lower() for d in current_hospitals]\n",
    "\n",
    "def _get_current_wait_time_minutes(hospital: str) -> int:\n",
    "    \"\"\"Get the current wait time at a hospital in minutes.\"\"\"\n",
    "    current_hospitals = _get_current_hospitals()\n",
    "\n",
    "    if hospital.lower() not in current_hospitals:\n",
    "        return -1\n",
    "\n",
    "    return np.random.randint(low=0, high=600)\n",
    "\n",
    "\n",
    "def get_current_wait_times(hospital: str) -> str:\n",
    "    \"\"\"Get the current wait time at a hospital formatted as a string.\"\"\"\n",
    "    wait_time_in_minutes = _get_current_wait_time_minutes(hospital)\n",
    "\n",
    "    if wait_time_in_minutes == -1:\n",
    "        return f\"Hospital '{hospital}' does not exist.\"\n",
    "\n",
    "    hours, minutes = divmod(wait_time_in_minutes, 60)\n",
    "\n",
    "    if hours > 0:\n",
    "        return f\"{hours} hours {minutes} minutes\"\n",
    "    else:\n",
    "        return f\"{minutes} minutes\"\n",
    "\n",
    "\n",
    "def get_most_available_hospital(_: Any) -> dict[str, float]:\n",
    "    \"\"\"Find the hospital with the shortest wait time.\"\"\"\n",
    "    current_hospitals = _get_current_hospitals()\n",
    "\n",
    "    current_wait_times = [\n",
    "        _get_current_wait_time_minutes(h) for h in current_hospitals\n",
    "    ]\n",
    "\n",
    "    best_time_idx = np.argmin(current_wait_times)\n",
    "    best_hospital = current_hospitals[best_time_idx]\n",
    "    best_wait_time = current_wait_times[best_time_idx]\n",
    "\n",
    "    return {best_hospital: best_wait_time}"
   ]
  },
  {
   "cell_type": "code",
   "execution_count": 175,
   "id": "d5e0343f-2dbe-4773-bcb0-e1499dd5cc35",
   "metadata": {},
   "outputs": [
    {
     "name": "stdout",
     "output_type": "stream",
     "text": [
      "9 hours 39 minutes\n",
      "Hospital 'fake hospital' does not exist.\n",
      "{'walton llc': 26}\n"
     ]
    }
   ],
   "source": [
    "print(get_current_wait_times(\"Wallace-Hamilton\"))\n",
    "print(get_current_wait_times(\"fake hospital\"))\n",
    "print(get_most_available_hospital(None))"
   ]
  },
  {
   "cell_type": "markdown",
   "id": "4695ab0b-f1e2-4718-9671-fef6204869aa",
   "metadata": {},
   "source": [
    "## Create the Chatbot agent"
   ]
  },
  {
   "cell_type": "code",
   "execution_count": 176,
   "id": "3fe96426-1afb-438b-8b94-3588fb14adcb",
   "metadata": {},
   "outputs": [],
   "source": [
    "tools = [\n",
    "    Tool(\n",
    "        name=\"Experiences\",\n",
    "        func=reviews_vector_chain.invoke,\n",
    "        description=\"\"\"Useful when you need to answer questions\n",
    "        about patient experiences, feelings, or any other qualitative\n",
    "        question that could be answered about a patient using semantic\n",
    "        search. Not useful for answering objective questions that involve\n",
    "        counting, percentages, aggregations, or listing facts. Use the\n",
    "        entire prompt as input to the tool. For instance, if the prompt is\n",
    "        \"Are patients satisfied with their care?\", the input should be\n",
    "        \"Are patients satisfied with their care?\".\n",
    "        \"\"\",\n",
    "    ),\n",
    "    Tool(\n",
    "        name=\"Graph\",\n",
    "        func=hospital_cypher_chain.invoke,\n",
    "        description=\"\"\"Useful for answering questions about patients,\n",
    "        physicians, hospitals, insurance payers, patient review\n",
    "        statistics, and hospital visit details. Use the entire prompt as\n",
    "        input to the tool. For instance, if the prompt is \"How many visits\n",
    "        have there been?\", the input should be \"How many visits have\n",
    "        there been?\".\n",
    "        \"\"\",\n",
    "    ),\n",
    "    Tool(\n",
    "        name=\"Waits\",\n",
    "        func=get_current_wait_times,\n",
    "        description=\"\"\"Use when asked about current wait times\n",
    "        at a specific hospital. This tool can only get the current\n",
    "        wait time at a hospital and does not have any information about\n",
    "        aggregate or historical wait times. Do not pass the word \"hospital\"\n",
    "        as input, only the hospital name itself. For example, if the prompt\n",
    "        is \"What is the current wait time at Jordan Inc Hospital?\", the\n",
    "        input should be \"Jordan Inc\".\n",
    "        \"\"\",\n",
    "    ),\n",
    "    Tool(\n",
    "        name=\"Availability\",\n",
    "        func=get_most_available_hospital,\n",
    "        description=\"\"\"\n",
    "        Use when you need to find out which hospital has the shortest\n",
    "        wait time. This tool does not have any information about aggregate\n",
    "        or historical wait times. This tool returns a dictionary with the\n",
    "        hospital name as the key and the wait time in minutes as the value.\n",
    "        \"\"\",\n",
    "    ),\n",
    "]"
   ]
  },
  {
   "cell_type": "code",
   "execution_count": 178,
   "id": "e688188f-f554-4599-a2ff-2102a5ccdb43",
   "metadata": {},
   "outputs": [],
   "source": [
    "chat_model = ChatOpenAI(\n",
    "    model=HOSPITAL_MODEL,\n",
    "    temperature=0,\n",
    ")\n",
    "\n",
    "hospital_rag_agent = create_openai_functions_agent(\n",
    "    llm=chat_model,\n",
    "    prompt=hospital_agent_prompt,\n",
    "    tools=tools,\n",
    ")\n",
    "\n",
    "hospital_rag_agent_executor = AgentExecutor(\n",
    "    agent=hospital_rag_agent,\n",
    "    tools=tools,\n",
    "    return_intermediate_steps=True,\n",
    "    verbose=True,\n",
    ")"
   ]
  },
  {
   "cell_type": "code",
   "execution_count": 181,
   "id": "6387faca-d212-4fdd-be81-7a977bf47ce2",
   "metadata": {},
   "outputs": [
    {
     "name": "stdout",
     "output_type": "stream",
     "text": [
      "\n",
      "\n",
      "\u001b[1m> Entering new AgentExecutor chain...\u001b[0m\n",
      "\u001b[32;1m\u001b[1;3m\n",
      "Invoking: `Waits` with `Wallace-Hamilton`\n",
      "\n",
      "\n",
      "\u001b[0m\u001b[38;5;200m\u001b[1;3m7 hours 2 minutes\u001b[0m\u001b[32;1m\u001b[1;3mThe current wait time at Wallace-Hamilton is 7 hours and 2 minutes.\u001b[0m\n",
      "\n",
      "\u001b[1m> Finished chain.\u001b[0m\n"
     ]
    },
    {
     "data": {
      "text/plain": [
       "'The current wait time at Wallace-Hamilton is 7 hours and 2 minutes.'"
      ]
     },
     "execution_count": 181,
     "metadata": {},
     "output_type": "execute_result"
    }
   ],
   "source": [
    "response = hospital_rag_agent_executor.invoke(\n",
    "    {\"input\": \"What is the wait time at Wallace-Hamilton?\"}\n",
    ")\n",
    "response.get(\"output\")"
   ]
  },
  {
   "cell_type": "code",
   "execution_count": 182,
   "id": "19f7c8a8-f6a1-4eb3-bd16-6c2332795971",
   "metadata": {},
   "outputs": [
    {
     "name": "stdout",
     "output_type": "stream",
     "text": [
      "\n",
      "\n",
      "\u001b[1m> Entering new AgentExecutor chain...\u001b[0m\n",
      "\u001b[32;1m\u001b[1;3m\n",
      "Invoking: `Availability` with `shortest wait time`\n",
      "\n",
      "\n",
      "\u001b[0m\u001b[36;1m\u001b[1;3m{'pearson llc': 17}\u001b[0m\u001b[32;1m\u001b[1;3mThe hospital with the shortest wait time is Pearson LLC, with a wait time of 17 minutes.\u001b[0m\n",
      "\n",
      "\u001b[1m> Finished chain.\u001b[0m\n"
     ]
    },
    {
     "data": {
      "text/plain": [
       "'The hospital with the shortest wait time is Pearson LLC, with a wait time of 17 minutes.'"
      ]
     },
     "execution_count": 182,
     "metadata": {},
     "output_type": "execute_result"
    }
   ],
   "source": [
    "response = hospital_rag_agent_executor.invoke(\n",
    "    {\"input\": \"Which hospital has the shortest wait time?\"}\n",
    ")\n",
    "response.get(\"output\")"
   ]
  },
  {
   "cell_type": "code",
   "execution_count": 183,
   "id": "5e274516-6b77-4700-8a7c-767361f4df49",
   "metadata": {},
   "outputs": [
    {
     "name": "stdout",
     "output_type": "stream",
     "text": [
      "\n",
      "\n",
      "\u001b[1m> Entering new AgentExecutor chain...\u001b[0m\n",
      "\u001b[32;1m\u001b[1;3m\n",
      "Invoking: `Experiences` with `What have patients said about their quality of rest during their stay?`\n",
      "\n",
      "\n",
      "\u001b[0m\u001b[36;1m\u001b[1;3m{'query': 'What have patients said about their quality of rest during their stay?', 'result': \"Sarah Love mentioned that the noise levels in the hallway outside her room were disruptive and affected her rest. David Kim also noted that the noise levels in the hallway were disruptive and affected his ability to rest. Tyler Sanders DVM had a difficult time at the hospital due to the noise level in the shared rooms, which impacted his ability to rest and recover. Jaime Santiago also mentioned that the noise levels in the patient rooms were high, impacting the overall experience. It's clear that these patients had concerns about the noise levels affecting their quality of rest during their stay.\"}\u001b[0m\u001b[32;1m\u001b[1;3mPatients have expressed concerns about the noise levels affecting their quality of rest during their stay. Sarah Love, David Kim, Tyler Sanders DVM, and Jaime Santiago all mentioned that the noise levels in the hospital, particularly in the hallway and patient rooms, were disruptive and impacted their ability to rest and recover.\u001b[0m\n",
      "\n",
      "\u001b[1m> Finished chain.\u001b[0m\n"
     ]
    },
    {
     "data": {
      "text/plain": [
       "'Patients have expressed concerns about the noise levels affecting their quality of rest during their stay. Sarah Love, David Kim, Tyler Sanders DVM, and Jaime Santiago all mentioned that the noise levels in the hospital, particularly in the hallway and patient rooms, were disruptive and impacted their ability to rest and recover.'"
      ]
     },
     "execution_count": 183,
     "metadata": {},
     "output_type": "execute_result"
    }
   ],
   "source": [
    "response = hospital_rag_agent_executor.invoke(\n",
    "    {\n",
    "        \"input\": (\n",
    "            \"What have patients said about their \"\n",
    "            \"quality of rest during their stay?\"\n",
    "        )\n",
    "    }\n",
    ")\n",
    "response.get(\"output\")"
   ]
  },
  {
   "cell_type": "code",
   "execution_count": 184,
   "id": "16b873f8-4edf-459e-b31a-2bc3ffed8188",
   "metadata": {},
   "outputs": [
    {
     "name": "stdout",
     "output_type": "stream",
     "text": [
      "\n",
      "\n",
      "\u001b[1m> Entering new AgentExecutor chain...\u001b[0m\n",
      "\u001b[32;1m\u001b[1;3m\n",
      "Invoking: `Graph` with `Which physician has treated the most patients covered by Cigna?`\n",
      "\n",
      "\n",
      "\u001b[0m\n",
      "\n",
      "\u001b[1m> Entering new GraphCypherQAChain chain...\u001b[0m\n",
      "Generated Cypher:\n",
      "\u001b[32;1m\u001b[1;3mMATCH (phy:Physician)-[:TREATS]->(v:Visit)-[:COVERED_BY]->(p:Payer)\n",
      "WHERE p.name = 'Cigna'\n",
      "WITH phy, COUNT(DISTINCT v) AS patient_count\n",
      "RETURN phy.name AS physician_name, patient_count\n",
      "ORDER BY patient_count DESC\n",
      "LIMIT 1\u001b[0m\n",
      "Full Context:\n",
      "\u001b[32;1m\u001b[1;3m[{'physician_name': 'Kayla Lawson', 'patient_count': 10}]\u001b[0m\n",
      "\n",
      "\u001b[1m> Finished chain.\u001b[0m\n",
      "\u001b[33;1m\u001b[1;3m{'query': 'Which physician has treated the most patients covered by Cigna?', 'result': 'The physician who has treated the most patients covered by Cigna is Kayla Lawson, with a patient count of 10.'}\u001b[0m\u001b[32;1m\u001b[1;3mThe physician who has treated the most patients covered by Cigna is Kayla Lawson, with a patient count of 10.\u001b[0m\n",
      "\n",
      "\u001b[1m> Finished chain.\u001b[0m\n"
     ]
    },
    {
     "data": {
      "text/plain": [
       "'The physician who has treated the most patients covered by Cigna is Kayla Lawson, with a patient count of 10.'"
      ]
     },
     "execution_count": 184,
     "metadata": {},
     "output_type": "execute_result"
    }
   ],
   "source": [
    "response = hospital_rag_agent_executor.invoke(\n",
    "    {\n",
    "        \"input\": (\n",
    "            \"Which physician has treated the \"\n",
    "            \"most patients covered by Cigna?\"\n",
    "        )\n",
    "    }\n",
    ")\n",
    "response.get(\"output\")"
   ]
  }
 ],
 "metadata": {
  "kernelspec": {
   "display_name": "Python 3 (ipykernel)",
   "language": "python",
   "name": "python3"
  },
  "language_info": {
   "codemirror_mode": {
    "name": "ipython",
    "version": 3
   },
   "file_extension": ".py",
   "mimetype": "text/x-python",
   "name": "python",
   "nbconvert_exporter": "python",
   "pygments_lexer": "ipython3",
   "version": "3.10.12"
  }
 },
 "nbformat": 4,
 "nbformat_minor": 5
}
