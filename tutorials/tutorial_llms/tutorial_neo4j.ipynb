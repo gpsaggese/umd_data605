{
 "cells": [
  {
   "cell_type": "code",
   "execution_count": 1,
   "id": "b3b8948a-0add-46cd-b790-2221811b20cb",
   "metadata": {
    "scrolled": true
   },
   "outputs": [
    {
     "name": "stdout",
     "output_type": "stream",
     "text": [
      "Collecting jupyterlab-vim\n",
      "  Downloading jupyterlab_vim-4.1.3-py3-none-any.whl.metadata (8.6 kB)\n",
      "Requirement already satisfied: jupyterlab<5,>=4.1.0 in /usr/local/lib/python3.10/dist-packages (from jupyterlab-vim) (4.2.4)\n",
      "Requirement already satisfied: async-lru>=1.0.0 in /usr/local/lib/python3.10/dist-packages (from jupyterlab<5,>=4.1.0->jupyterlab-vim) (2.0.4)\n",
      "Requirement already satisfied: httpx>=0.25.0 in /usr/local/lib/python3.10/dist-packages (from jupyterlab<5,>=4.1.0->jupyterlab-vim) (0.27.0)\n",
      "Requirement already satisfied: ipykernel>=6.5.0 in /usr/local/lib/python3.10/dist-packages (from jupyterlab<5,>=4.1.0->jupyterlab-vim) (6.29.5)\n",
      "Requirement already satisfied: jinja2>=3.0.3 in /usr/local/lib/python3.10/dist-packages (from jupyterlab<5,>=4.1.0->jupyterlab-vim) (3.1.4)\n",
      "Requirement already satisfied: jupyter-core in /usr/local/lib/python3.10/dist-packages (from jupyterlab<5,>=4.1.0->jupyterlab-vim) (5.7.2)\n",
      "Requirement already satisfied: jupyter-lsp>=2.0.0 in /usr/local/lib/python3.10/dist-packages (from jupyterlab<5,>=4.1.0->jupyterlab-vim) (2.2.5)\n",
      "Requirement already satisfied: jupyter-server<3,>=2.4.0 in /usr/local/lib/python3.10/dist-packages (from jupyterlab<5,>=4.1.0->jupyterlab-vim) (2.14.2)\n",
      "Requirement already satisfied: jupyterlab-server<3,>=2.27.1 in /usr/local/lib/python3.10/dist-packages (from jupyterlab<5,>=4.1.0->jupyterlab-vim) (2.27.3)\n",
      "Requirement already satisfied: notebook-shim>=0.2 in /usr/local/lib/python3.10/dist-packages (from jupyterlab<5,>=4.1.0->jupyterlab-vim) (0.2.4)\n",
      "Requirement already satisfied: packaging in /usr/local/lib/python3.10/dist-packages (from jupyterlab<5,>=4.1.0->jupyterlab-vim) (24.1)\n",
      "Requirement already satisfied: setuptools>=40.1.0 in /usr/lib/python3/dist-packages (from jupyterlab<5,>=4.1.0->jupyterlab-vim) (59.6.0)\n",
      "Requirement already satisfied: tomli>=1.2.2 in /usr/local/lib/python3.10/dist-packages (from jupyterlab<5,>=4.1.0->jupyterlab-vim) (2.0.1)\n",
      "Requirement already satisfied: tornado>=6.2.0 in /usr/local/lib/python3.10/dist-packages (from jupyterlab<5,>=4.1.0->jupyterlab-vim) (6.4.1)\n",
      "Requirement already satisfied: traitlets in /usr/local/lib/python3.10/dist-packages (from jupyterlab<5,>=4.1.0->jupyterlab-vim) (5.14.3)\n",
      "Requirement already satisfied: typing-extensions>=4.0.0 in /usr/local/lib/python3.10/dist-packages (from async-lru>=1.0.0->jupyterlab<5,>=4.1.0->jupyterlab-vim) (4.12.2)\n",
      "Requirement already satisfied: anyio in /usr/local/lib/python3.10/dist-packages (from httpx>=0.25.0->jupyterlab<5,>=4.1.0->jupyterlab-vim) (4.4.0)\n",
      "Requirement already satisfied: certifi in /usr/local/lib/python3.10/dist-packages (from httpx>=0.25.0->jupyterlab<5,>=4.1.0->jupyterlab-vim) (2024.7.4)\n",
      "Requirement already satisfied: httpcore==1.* in /usr/local/lib/python3.10/dist-packages (from httpx>=0.25.0->jupyterlab<5,>=4.1.0->jupyterlab-vim) (1.0.5)\n",
      "Requirement already satisfied: idna in /usr/local/lib/python3.10/dist-packages (from httpx>=0.25.0->jupyterlab<5,>=4.1.0->jupyterlab-vim) (3.7)\n",
      "Requirement already satisfied: sniffio in /usr/local/lib/python3.10/dist-packages (from httpx>=0.25.0->jupyterlab<5,>=4.1.0->jupyterlab-vim) (1.3.1)\n",
      "Requirement already satisfied: h11<0.15,>=0.13 in /usr/local/lib/python3.10/dist-packages (from httpcore==1.*->httpx>=0.25.0->jupyterlab<5,>=4.1.0->jupyterlab-vim) (0.14.0)\n",
      "Requirement already satisfied: comm>=0.1.1 in /usr/local/lib/python3.10/dist-packages (from ipykernel>=6.5.0->jupyterlab<5,>=4.1.0->jupyterlab-vim) (0.2.2)\n",
      "Requirement already satisfied: debugpy>=1.6.5 in /usr/local/lib/python3.10/dist-packages (from ipykernel>=6.5.0->jupyterlab<5,>=4.1.0->jupyterlab-vim) (1.8.2)\n",
      "Requirement already satisfied: ipython>=7.23.1 in /usr/local/lib/python3.10/dist-packages (from ipykernel>=6.5.0->jupyterlab<5,>=4.1.0->jupyterlab-vim) (8.26.0)\n",
      "Requirement already satisfied: jupyter-client>=6.1.12 in /usr/local/lib/python3.10/dist-packages (from ipykernel>=6.5.0->jupyterlab<5,>=4.1.0->jupyterlab-vim) (8.6.2)\n",
      "Requirement already satisfied: matplotlib-inline>=0.1 in /usr/local/lib/python3.10/dist-packages (from ipykernel>=6.5.0->jupyterlab<5,>=4.1.0->jupyterlab-vim) (0.1.7)\n",
      "Requirement already satisfied: nest-asyncio in /usr/local/lib/python3.10/dist-packages (from ipykernel>=6.5.0->jupyterlab<5,>=4.1.0->jupyterlab-vim) (1.6.0)\n",
      "Requirement already satisfied: psutil in /usr/local/lib/python3.10/dist-packages (from ipykernel>=6.5.0->jupyterlab<5,>=4.1.0->jupyterlab-vim) (6.0.0)\n",
      "Requirement already satisfied: pyzmq>=24 in /usr/local/lib/python3.10/dist-packages (from ipykernel>=6.5.0->jupyterlab<5,>=4.1.0->jupyterlab-vim) (26.0.3)\n",
      "Requirement already satisfied: MarkupSafe>=2.0 in /usr/local/lib/python3.10/dist-packages (from jinja2>=3.0.3->jupyterlab<5,>=4.1.0->jupyterlab-vim) (2.1.5)\n",
      "Requirement already satisfied: platformdirs>=2.5 in /usr/local/lib/python3.10/dist-packages (from jupyter-core->jupyterlab<5,>=4.1.0->jupyterlab-vim) (4.2.2)\n",
      "Requirement already satisfied: argon2-cffi>=21.1 in /usr/local/lib/python3.10/dist-packages (from jupyter-server<3,>=2.4.0->jupyterlab<5,>=4.1.0->jupyterlab-vim) (23.1.0)\n",
      "Requirement already satisfied: jupyter-events>=0.9.0 in /usr/local/lib/python3.10/dist-packages (from jupyter-server<3,>=2.4.0->jupyterlab<5,>=4.1.0->jupyterlab-vim) (0.10.0)\n",
      "Requirement already satisfied: jupyter-server-terminals>=0.4.4 in /usr/local/lib/python3.10/dist-packages (from jupyter-server<3,>=2.4.0->jupyterlab<5,>=4.1.0->jupyterlab-vim) (0.5.3)\n",
      "Requirement already satisfied: nbconvert>=6.4.4 in /usr/local/lib/python3.10/dist-packages (from jupyter-server<3,>=2.4.0->jupyterlab<5,>=4.1.0->jupyterlab-vim) (7.16.4)\n",
      "Requirement already satisfied: nbformat>=5.3.0 in /usr/local/lib/python3.10/dist-packages (from jupyter-server<3,>=2.4.0->jupyterlab<5,>=4.1.0->jupyterlab-vim) (5.10.4)\n",
      "Requirement already satisfied: overrides>=5.0 in /usr/local/lib/python3.10/dist-packages (from jupyter-server<3,>=2.4.0->jupyterlab<5,>=4.1.0->jupyterlab-vim) (7.7.0)\n",
      "Requirement already satisfied: prometheus-client>=0.9 in /usr/local/lib/python3.10/dist-packages (from jupyter-server<3,>=2.4.0->jupyterlab<5,>=4.1.0->jupyterlab-vim) (0.20.0)\n",
      "Requirement already satisfied: send2trash>=1.8.2 in /usr/local/lib/python3.10/dist-packages (from jupyter-server<3,>=2.4.0->jupyterlab<5,>=4.1.0->jupyterlab-vim) (1.8.3)\n",
      "Requirement already satisfied: terminado>=0.8.3 in /usr/local/lib/python3.10/dist-packages (from jupyter-server<3,>=2.4.0->jupyterlab<5,>=4.1.0->jupyterlab-vim) (0.18.1)\n",
      "Requirement already satisfied: websocket-client>=1.7 in /usr/local/lib/python3.10/dist-packages (from jupyter-server<3,>=2.4.0->jupyterlab<5,>=4.1.0->jupyterlab-vim) (1.8.0)\n",
      "Requirement already satisfied: babel>=2.10 in /usr/local/lib/python3.10/dist-packages (from jupyterlab-server<3,>=2.27.1->jupyterlab<5,>=4.1.0->jupyterlab-vim) (2.15.0)\n",
      "Requirement already satisfied: json5>=0.9.0 in /usr/local/lib/python3.10/dist-packages (from jupyterlab-server<3,>=2.27.1->jupyterlab<5,>=4.1.0->jupyterlab-vim) (0.9.25)\n",
      "Requirement already satisfied: jsonschema>=4.18.0 in /usr/local/lib/python3.10/dist-packages (from jupyterlab-server<3,>=2.27.1->jupyterlab<5,>=4.1.0->jupyterlab-vim) (4.23.0)\n",
      "Requirement already satisfied: requests>=2.31 in /usr/local/lib/python3.10/dist-packages (from jupyterlab-server<3,>=2.27.1->jupyterlab<5,>=4.1.0->jupyterlab-vim) (2.32.3)\n",
      "Requirement already satisfied: exceptiongroup>=1.0.2 in /usr/local/lib/python3.10/dist-packages (from anyio->httpx>=0.25.0->jupyterlab<5,>=4.1.0->jupyterlab-vim) (1.2.2)\n",
      "Requirement already satisfied: argon2-cffi-bindings in /usr/local/lib/python3.10/dist-packages (from argon2-cffi>=21.1->jupyter-server<3,>=2.4.0->jupyterlab<5,>=4.1.0->jupyterlab-vim) (21.2.0)\n",
      "Requirement already satisfied: decorator in /usr/local/lib/python3.10/dist-packages (from ipython>=7.23.1->ipykernel>=6.5.0->jupyterlab<5,>=4.1.0->jupyterlab-vim) (5.1.1)\n",
      "Requirement already satisfied: jedi>=0.16 in /usr/local/lib/python3.10/dist-packages (from ipython>=7.23.1->ipykernel>=6.5.0->jupyterlab<5,>=4.1.0->jupyterlab-vim) (0.19.1)\n",
      "Requirement already satisfied: prompt-toolkit<3.1.0,>=3.0.41 in /usr/local/lib/python3.10/dist-packages (from ipython>=7.23.1->ipykernel>=6.5.0->jupyterlab<5,>=4.1.0->jupyterlab-vim) (3.0.47)\n",
      "Requirement already satisfied: pygments>=2.4.0 in /usr/local/lib/python3.10/dist-packages (from ipython>=7.23.1->ipykernel>=6.5.0->jupyterlab<5,>=4.1.0->jupyterlab-vim) (2.18.0)\n",
      "Requirement already satisfied: stack-data in /usr/local/lib/python3.10/dist-packages (from ipython>=7.23.1->ipykernel>=6.5.0->jupyterlab<5,>=4.1.0->jupyterlab-vim) (0.6.3)\n",
      "Requirement already satisfied: pexpect>4.3 in /usr/local/lib/python3.10/dist-packages (from ipython>=7.23.1->ipykernel>=6.5.0->jupyterlab<5,>=4.1.0->jupyterlab-vim) (4.9.0)\n",
      "Requirement already satisfied: attrs>=22.2.0 in /usr/local/lib/python3.10/dist-packages (from jsonschema>=4.18.0->jupyterlab-server<3,>=2.27.1->jupyterlab<5,>=4.1.0->jupyterlab-vim) (23.2.0)\n",
      "Requirement already satisfied: jsonschema-specifications>=2023.03.6 in /usr/local/lib/python3.10/dist-packages (from jsonschema>=4.18.0->jupyterlab-server<3,>=2.27.1->jupyterlab<5,>=4.1.0->jupyterlab-vim) (2023.12.1)\n",
      "Requirement already satisfied: referencing>=0.28.4 in /usr/local/lib/python3.10/dist-packages (from jsonschema>=4.18.0->jupyterlab-server<3,>=2.27.1->jupyterlab<5,>=4.1.0->jupyterlab-vim) (0.35.1)\n",
      "Requirement already satisfied: rpds-py>=0.7.1 in /usr/local/lib/python3.10/dist-packages (from jsonschema>=4.18.0->jupyterlab-server<3,>=2.27.1->jupyterlab<5,>=4.1.0->jupyterlab-vim) (0.19.0)\n",
      "Requirement already satisfied: python-dateutil>=2.8.2 in /usr/local/lib/python3.10/dist-packages (from jupyter-client>=6.1.12->ipykernel>=6.5.0->jupyterlab<5,>=4.1.0->jupyterlab-vim) (2.9.0.post0)\n",
      "Requirement already satisfied: python-json-logger>=2.0.4 in /usr/local/lib/python3.10/dist-packages (from jupyter-events>=0.9.0->jupyter-server<3,>=2.4.0->jupyterlab<5,>=4.1.0->jupyterlab-vim) (2.0.7)\n",
      "Requirement already satisfied: pyyaml>=5.3 in /usr/local/lib/python3.10/dist-packages (from jupyter-events>=0.9.0->jupyter-server<3,>=2.4.0->jupyterlab<5,>=4.1.0->jupyterlab-vim) (6.0.1)\n",
      "Requirement already satisfied: rfc3339-validator in /usr/local/lib/python3.10/dist-packages (from jupyter-events>=0.9.0->jupyter-server<3,>=2.4.0->jupyterlab<5,>=4.1.0->jupyterlab-vim) (0.1.4)\n",
      "Requirement already satisfied: rfc3986-validator>=0.1.1 in /usr/local/lib/python3.10/dist-packages (from jupyter-events>=0.9.0->jupyter-server<3,>=2.4.0->jupyterlab<5,>=4.1.0->jupyterlab-vim) (0.1.1)\n",
      "Requirement already satisfied: beautifulsoup4 in /usr/local/lib/python3.10/dist-packages (from nbconvert>=6.4.4->jupyter-server<3,>=2.4.0->jupyterlab<5,>=4.1.0->jupyterlab-vim) (4.12.3)\n",
      "Requirement already satisfied: bleach!=5.0.0 in /usr/local/lib/python3.10/dist-packages (from nbconvert>=6.4.4->jupyter-server<3,>=2.4.0->jupyterlab<5,>=4.1.0->jupyterlab-vim) (6.1.0)\n",
      "Requirement already satisfied: defusedxml in /usr/local/lib/python3.10/dist-packages (from nbconvert>=6.4.4->jupyter-server<3,>=2.4.0->jupyterlab<5,>=4.1.0->jupyterlab-vim) (0.7.1)\n",
      "Requirement already satisfied: jupyterlab-pygments in /usr/local/lib/python3.10/dist-packages (from nbconvert>=6.4.4->jupyter-server<3,>=2.4.0->jupyterlab<5,>=4.1.0->jupyterlab-vim) (0.3.0)\n",
      "Requirement already satisfied: mistune<4,>=2.0.3 in /usr/local/lib/python3.10/dist-packages (from nbconvert>=6.4.4->jupyter-server<3,>=2.4.0->jupyterlab<5,>=4.1.0->jupyterlab-vim) (3.0.2)\n",
      "Requirement already satisfied: nbclient>=0.5.0 in /usr/local/lib/python3.10/dist-packages (from nbconvert>=6.4.4->jupyter-server<3,>=2.4.0->jupyterlab<5,>=4.1.0->jupyterlab-vim) (0.10.0)\n",
      "Requirement already satisfied: pandocfilters>=1.4.1 in /usr/local/lib/python3.10/dist-packages (from nbconvert>=6.4.4->jupyter-server<3,>=2.4.0->jupyterlab<5,>=4.1.0->jupyterlab-vim) (1.5.1)\n",
      "Requirement already satisfied: tinycss2 in /usr/local/lib/python3.10/dist-packages (from nbconvert>=6.4.4->jupyter-server<3,>=2.4.0->jupyterlab<5,>=4.1.0->jupyterlab-vim) (1.3.0)\n",
      "Requirement already satisfied: fastjsonschema>=2.15 in /usr/local/lib/python3.10/dist-packages (from nbformat>=5.3.0->jupyter-server<3,>=2.4.0->jupyterlab<5,>=4.1.0->jupyterlab-vim) (2.20.0)\n",
      "Requirement already satisfied: charset-normalizer<4,>=2 in /usr/local/lib/python3.10/dist-packages (from requests>=2.31->jupyterlab-server<3,>=2.27.1->jupyterlab<5,>=4.1.0->jupyterlab-vim) (3.3.2)\n",
      "Requirement already satisfied: urllib3<3,>=1.21.1 in /usr/local/lib/python3.10/dist-packages (from requests>=2.31->jupyterlab-server<3,>=2.27.1->jupyterlab<5,>=4.1.0->jupyterlab-vim) (2.2.2)\n",
      "Requirement already satisfied: ptyprocess in /usr/local/lib/python3.10/dist-packages (from terminado>=0.8.3->jupyter-server<3,>=2.4.0->jupyterlab<5,>=4.1.0->jupyterlab-vim) (0.7.0)\n",
      "Requirement already satisfied: six>=1.9.0 in /usr/local/lib/python3.10/dist-packages (from bleach!=5.0.0->nbconvert>=6.4.4->jupyter-server<3,>=2.4.0->jupyterlab<5,>=4.1.0->jupyterlab-vim) (1.16.0)\n",
      "Requirement already satisfied: webencodings in /usr/local/lib/python3.10/dist-packages (from bleach!=5.0.0->nbconvert>=6.4.4->jupyter-server<3,>=2.4.0->jupyterlab<5,>=4.1.0->jupyterlab-vim) (0.5.1)\n",
      "Requirement already satisfied: parso<0.9.0,>=0.8.3 in /usr/local/lib/python3.10/dist-packages (from jedi>=0.16->ipython>=7.23.1->ipykernel>=6.5.0->jupyterlab<5,>=4.1.0->jupyterlab-vim) (0.8.4)\n",
      "Requirement already satisfied: fqdn in /usr/local/lib/python3.10/dist-packages (from jsonschema[format-nongpl]>=4.18.0->jupyter-events>=0.9.0->jupyter-server<3,>=2.4.0->jupyterlab<5,>=4.1.0->jupyterlab-vim) (1.5.1)\n",
      "Requirement already satisfied: isoduration in /usr/local/lib/python3.10/dist-packages (from jsonschema[format-nongpl]>=4.18.0->jupyter-events>=0.9.0->jupyter-server<3,>=2.4.0->jupyterlab<5,>=4.1.0->jupyterlab-vim) (20.11.0)\n",
      "Requirement already satisfied: jsonpointer>1.13 in /usr/local/lib/python3.10/dist-packages (from jsonschema[format-nongpl]>=4.18.0->jupyter-events>=0.9.0->jupyter-server<3,>=2.4.0->jupyterlab<5,>=4.1.0->jupyterlab-vim) (3.0.0)\n",
      "Requirement already satisfied: uri-template in /usr/local/lib/python3.10/dist-packages (from jsonschema[format-nongpl]>=4.18.0->jupyter-events>=0.9.0->jupyter-server<3,>=2.4.0->jupyterlab<5,>=4.1.0->jupyterlab-vim) (1.3.0)\n",
      "Requirement already satisfied: webcolors>=24.6.0 in /usr/local/lib/python3.10/dist-packages (from jsonschema[format-nongpl]>=4.18.0->jupyter-events>=0.9.0->jupyter-server<3,>=2.4.0->jupyterlab<5,>=4.1.0->jupyterlab-vim) (24.6.0)\n",
      "Requirement already satisfied: wcwidth in /usr/local/lib/python3.10/dist-packages (from prompt-toolkit<3.1.0,>=3.0.41->ipython>=7.23.1->ipykernel>=6.5.0->jupyterlab<5,>=4.1.0->jupyterlab-vim) (0.2.13)\n",
      "Requirement already satisfied: cffi>=1.0.1 in /usr/local/lib/python3.10/dist-packages (from argon2-cffi-bindings->argon2-cffi>=21.1->jupyter-server<3,>=2.4.0->jupyterlab<5,>=4.1.0->jupyterlab-vim) (1.16.0)\n",
      "Requirement already satisfied: soupsieve>1.2 in /usr/local/lib/python3.10/dist-packages (from beautifulsoup4->nbconvert>=6.4.4->jupyter-server<3,>=2.4.0->jupyterlab<5,>=4.1.0->jupyterlab-vim) (2.5)\n",
      "Requirement already satisfied: executing>=1.2.0 in /usr/local/lib/python3.10/dist-packages (from stack-data->ipython>=7.23.1->ipykernel>=6.5.0->jupyterlab<5,>=4.1.0->jupyterlab-vim) (2.0.1)\n",
      "Requirement already satisfied: asttokens>=2.1.0 in /usr/local/lib/python3.10/dist-packages (from stack-data->ipython>=7.23.1->ipykernel>=6.5.0->jupyterlab<5,>=4.1.0->jupyterlab-vim) (2.4.1)\n",
      "Requirement already satisfied: pure-eval in /usr/local/lib/python3.10/dist-packages (from stack-data->ipython>=7.23.1->ipykernel>=6.5.0->jupyterlab<5,>=4.1.0->jupyterlab-vim) (0.2.3)\n",
      "Requirement already satisfied: pycparser in /usr/local/lib/python3.10/dist-packages (from cffi>=1.0.1->argon2-cffi-bindings->argon2-cffi>=21.1->jupyter-server<3,>=2.4.0->jupyterlab<5,>=4.1.0->jupyterlab-vim) (2.22)\n",
      "Requirement already satisfied: arrow>=0.15.0 in /usr/local/lib/python3.10/dist-packages (from isoduration->jsonschema[format-nongpl]>=4.18.0->jupyter-events>=0.9.0->jupyter-server<3,>=2.4.0->jupyterlab<5,>=4.1.0->jupyterlab-vim) (1.3.0)\n",
      "Requirement already satisfied: types-python-dateutil>=2.8.10 in /usr/local/lib/python3.10/dist-packages (from arrow>=0.15.0->isoduration->jsonschema[format-nongpl]>=4.18.0->jupyter-events>=0.9.0->jupyter-server<3,>=2.4.0->jupyterlab<5,>=4.1.0->jupyterlab-vim) (2.9.0.20240316)\n",
      "Downloading jupyterlab_vim-4.1.3-py3-none-any.whl (65 kB)\n",
      "\u001b[2K   \u001b[90m━━━━━━━━━━━━━━━━━━━━━━━━━━━━━━━━━━━━━━━━\u001b[0m \u001b[32m65.7/65.7 kB\u001b[0m \u001b[31m3.8 MB/s\u001b[0m eta \u001b[36m0:00:00\u001b[0m\n",
      "\u001b[?25hInstalling collected packages: jupyterlab-vim\n",
      "Successfully installed jupyterlab-vim-4.1.3\n",
      "\u001b[33mWARNING: Running pip as the 'root' user can result in broken permissions and conflicting behaviour with the system package manager, possibly rendering your system unusable.It is recommended to use a virtual environment instead: https://pip.pypa.io/warnings/venv. Use the --root-user-action option if you know what you are doing and want to suppress this warning.\u001b[0m\u001b[33m\n",
      "\u001b[0m/usr/bin/sh: 1: jupytexjupyter: not found\n"
     ]
    }
   ],
   "source": [
    "!pip install --quiet jupyterlab-vim jupytex\n",
    "!jupyter labextension enable"
   ]
  },
  {
   "cell_type": "markdown",
   "id": "32b57359-8d7e-408e-acde-e1ce6d77323e",
   "metadata": {},
   "source": [
    "# Neo4j"
   ]
  },
  {
   "cell_type": "code",
   "execution_count": 106,
   "id": "ee7e0ee2-645a-47c9-ac0c-5830782b607c",
   "metadata": {},
   "outputs": [
    {
     "name": "stdout",
     "output_type": "stream",
     "text": [
      "\u001b[33mWARNING: Running pip as the 'root' user can result in broken permissions and conflicting behaviour with the system package manager, possibly rendering your system unusable.It is recommended to use a virtual environment instead: https://pip.pypa.io/warnings/venv. Use the --root-user-action option if you know what you are doing and want to suppress this warning.\u001b[0m\u001b[33m\n",
      "\u001b[0m"
     ]
    }
   ],
   "source": [
    "!pip install --quiet neo4j"
   ]
  },
  {
   "cell_type": "code",
   "execution_count": 13,
   "id": "520fb540-5d85-4eb4-908c-d5ab425213ee",
   "metadata": {},
   "outputs": [],
   "source": [
    "#!curl http://neo4j:7474\n",
    "#!curl http://neo4j:7687"
   ]
  },
  {
   "cell_type": "code",
   "execution_count": 125,
   "id": "3f775e01-735b-4ec9-b220-e25fbc207b44",
   "metadata": {},
   "outputs": [
    {
     "name": "stdout",
     "output_type": "stream",
     "text": [
      "Guinevere\n",
      "Lancelot\n",
      "Merlin\n"
     ]
    }
   ],
   "source": [
    "from neo4j import GraphDatabase, RoutingControl\n",
    "\n",
    "#URI = \"neo4j://localhost:7687\"\n",
    "#URI = \"bolt://localhost:7687\"\n",
    "#URI = \"bolt://127.0.0.1:7687\"\n",
    "URI = \"bolt://neo4j:7687\"\n",
    "AUTH = (\"neo4j\", \"testtest\")\n",
    "\n",
    "def add_friend(driver, name, friend_name):\n",
    "    driver.execute_query(\n",
    "        \"MERGE (a:Person {name: $name}) \"\n",
    "        \"MERGE (friend:Person {name: $friend_name}) \"\n",
    "        \"MERGE (a)-[:KNOWS]->(friend)\",\n",
    "        name=name, friend_name=friend_name, database_=\"neo4j\",\n",
    "    )\n",
    "\n",
    "\n",
    "def print_friends(driver, name):\n",
    "    records, _, _ = driver.execute_query(\n",
    "        \"MATCH (a:Person)-[:KNOWS]->(friend) WHERE a.name = $name \"\n",
    "        \"RETURN friend.name ORDER BY friend.name\",\n",
    "        name=name, database_=\"neo4j\", routing_=RoutingControl.READ,\n",
    "    )\n",
    "    for record in records:\n",
    "        print(record[\"friend.name\"])\n",
    "\n",
    "\n",
    "with GraphDatabase.driver(URI, auth=AUTH) as driver:\n",
    "    add_friend(driver, \"Arthur\", \"Guinevere\")\n",
    "    add_friend(driver, \"Arthur\", \"Lancelot\")\n",
    "    add_friend(driver, \"Arthur\", \"Merlin\")\n",
    "    print_friends(driver, \"Arthur\")"
   ]
  },
  {
   "cell_type": "markdown",
   "id": "6d53298c-8f0a-4ae1-8a03-a908e63067a5",
   "metadata": {},
   "source": [
    "# Example"
   ]
  },
  {
   "cell_type": "code",
   "execution_count": 112,
   "id": "2faeb943-4dd6-4380-b36b-0be6bb19a633",
   "metadata": {},
   "outputs": [],
   "source": [
    "driver = GraphDatabase.driver(URI, auth=AUTH)"
   ]
  },
  {
   "cell_type": "markdown",
   "id": "7663a899-e9be-4f46-8728-5e18ffbf3d00",
   "metadata": {},
   "source": [
    "- Every application using Neo4j needs a `driver` object\n",
    "- A `driver` object holds the details to the connection to a Neo4j database (e.g., URIs, credentials, and configuration)."
   ]
  },
  {
   "cell_type": "code",
   "execution_count": 113,
   "id": "866c0394-baef-46bd-aa31-edfe24632da0",
   "metadata": {},
   "outputs": [],
   "source": [
    "# Test the connection to the DB without executing any query.\n",
    "driver.verify_connectivity()"
   ]
  },
  {
   "cell_type": "code",
   "execution_count": 114,
   "id": "8aa43a77-7892-4a70-b6f1-2d055f05ad25",
   "metadata": {},
   "outputs": [
    {
     "data": {
      "text/plain": [
       "<neo4j.api.ServerInfo at 0xffff3f6496f0>"
      ]
     },
     "execution_count": 114,
     "metadata": {},
     "output_type": "execute_result"
    }
   ],
   "source": [
    "driver.get_server_info()"
   ]
  },
  {
   "cell_type": "code",
   "execution_count": 115,
   "id": "3ca3e553-a2a1-4033-b5e0-a790a56f07d1",
   "metadata": {},
   "outputs": [],
   "source": [
    "# `execute_query()` wraps lower level APIs (e.g., Sessions) and it's used for simple cases.\n",
    "query = \"MATCH(n) RETURN COUNT(n) AS node_count\"\n",
    "query_result = driver.execute_query(query)"
   ]
  },
  {
   "cell_type": "code",
   "execution_count": 116,
   "id": "1462823a-e566-4d9a-87fd-383452d93be3",
   "metadata": {},
   "outputs": [
    {
     "name": "stdout",
     "output_type": "stream",
     "text": [
      "type= <class 'neo4j._work.eager_result.EagerResult'>\n",
      "EagerResult(records=[<Record node_count=1>], summary=<neo4j._work.summary.ResultSummary object at 0xffff3f657250>, keys=['node_count'])\n"
     ]
    }
   ],
   "source": [
    "print(\"type=\", type(query_result))\n",
    "print(query_result)"
   ]
  },
  {
   "cell_type": "code",
   "execution_count": 117,
   "id": "09d5a556-eaa1-479a-a3b5-00aae672064a",
   "metadata": {},
   "outputs": [
    {
     "name": "stdout",
     "output_type": "stream",
     "text": [
      "[<Record n=<Node element_id='4:907b90c5-77b7-40ee-bd2b-900a55534cf9:5' labels=frozenset({'Wine'}) properties={'vintage': 2015, 'name': 'Prancing Wolf', 'style': 'ice wine'}>>]\n",
      "<neo4j._work.summary.ResultSummary object at 0xffff3f657250>\n",
      "['node_count']\n"
     ]
    }
   ],
   "source": [
    "results, summary, keys = query_result\n",
    "print(records)\n",
    "print(summary)\n",
    "print(keys)"
   ]
  },
  {
   "cell_type": "markdown",
   "id": "da138982-90ff-4ffd-9d3b-91990b570cc5",
   "metadata": {},
   "source": [
    "## Session"
   ]
  },
  {
   "cell_type": "markdown",
   "id": "6f2cdb7f-9539-4386-90e7-d40fc02e0970",
   "metadata": {},
   "source": [
    "- Database activity is coordinated through `Session`s and `Transaction`s\n",
    "- A `Session` is a container for a number of unit of works\n",
    "    - Provide guarantees of causal consistency\n",
    "    - Are lightweight opeation and not thread safe\n",
    "- A `Transaction` is a unit of work that is either committed in its entirety or rolled back in case of failure"
   ]
  },
  {
   "cell_type": "code",
   "execution_count": 105,
   "id": "1f6323de-4967-4092-8d0a-25b5e24f5b2a",
   "metadata": {},
   "outputs": [
    {
     "name": "stdout",
     "output_type": "stream",
     "text": [
      "session.closed()= False\n",
      "session.closed()= True\n"
     ]
    }
   ],
   "source": [
    "# Create `Session`.\n",
    "session = driver.session(database=\"neo4j\")\n",
    "print(\"session.closed()=\", session.closed())\n",
    "\n",
    "# Run a query.\n",
    "query = \"MATCH (n) RETURN n\"\n",
    "_ = session.run(query)\n",
    "\n",
    "# Close `Session`.\n",
    "session.close()\n",
    "print(\"session.closed()=\", session.closed())"
   ]
  },
  {
   "cell_type": "code",
   "execution_count": 99,
   "id": "baf5ef86-bd46-4d36-bbc5-6bcab0efefb5",
   "metadata": {},
   "outputs": [],
   "source": [
    "# Session can be created and destroyed using a block context, so that the session is closed\n",
    "# properly in case of exceptions.\n",
    "with driver.session() as session:\n",
    "    result = session.run(\"MATCH (n) RETURN n\")\n",
    "    # ..."
   ]
  },
  {
   "cell_type": "code",
   "execution_count": 118,
   "id": "bda29c87-c2cb-432c-828c-f242d50522fc",
   "metadata": {},
   "outputs": [
    {
     "name": "stdout",
     "output_type": "stream",
     "text": [
      "session.closed()= False\n"
     ]
    }
   ],
   "source": [
    "# Create `Session`.\n",
    "session = driver.session(database=\"neo4j\")\n",
    "print(\"session.closed()=\", session.closed())"
   ]
  },
  {
   "cell_type": "code",
   "execution_count": 62,
   "id": "70ba0f6c-0d78-44aa-9994-eebf6b5a3c92",
   "metadata": {},
   "outputs": [
    {
     "name": "stdout",
     "output_type": "stream",
     "text": [
      "1\n"
     ]
    }
   ],
   "source": [
    "# Count the number of nodes.\n",
    "query = \"MATCH(n) RETURN COUNT(n) AS node_count\"\n",
    "node_count_result = session.run(query)\n",
    "node_count = node_count_result.single()[\"node_count\"]\n",
    "print(node_count)"
   ]
  },
  {
   "cell_type": "code",
   "execution_count": 61,
   "id": "e9aa6c2d-0100-4e89-a811-f0ca3951dc8d",
   "metadata": {},
   "outputs": [
    {
     "name": "stdout",
     "output_type": "stream",
     "text": [
      "0\n"
     ]
    }
   ],
   "source": [
    "# Count the number of relations.\n",
    "query = \"MATCH ()-[r]->() RETURN COUNT(r) AS relationship_count;\"\n",
    "result = session.run(query)\n",
    "rel_count = result.single()[\"relationship_count\"]\n",
    "print(rel_count)"
   ]
  },
  {
   "cell_type": "code",
   "execution_count": 70,
   "id": "4b632815-9d85-4fa4-8e15-1071fb90e391",
   "metadata": {},
   "outputs": [
    {
     "name": "stdout",
     "output_type": "stream",
     "text": [
      "[<Record n=<Node element_id='4:907b90c5-77b7-40ee-bd2b-900a55534cf9:5' labels=frozenset({'Wine'}) properties={'vintage': 2015, 'name': 'Prancing Wolf', 'style': 'ice wine'}>>]\n",
      "<neo4j._work.summary.ResultSummary object at 0xffff3f5ea050>\n",
      "['n']\n"
     ]
    }
   ],
   "source": [
    "query = \"MATCH (n) RETURN n\"\n",
    "records, summary, keys = driver.execute_query(query)\n",
    "print(records)\n",
    "print(summary)\n",
    "print(keys)"
   ]
  },
  {
   "cell_type": "code",
   "execution_count": 71,
   "id": "4e96e384-88d4-44eb-90b3-129dd8846ffe",
   "metadata": {},
   "outputs": [
    {
     "name": "stdout",
     "output_type": "stream",
     "text": [
      "{'n': {'vintage': 2015, 'name': 'Prancing Wolf', 'style': 'ice wine'}}\n"
     ]
    }
   ],
   "source": [
    "for record in records:\n",
    "    print(record.data())"
   ]
  },
  {
   "cell_type": "code",
   "execution_count": 75,
   "id": "89282415-953e-415f-895a-b1f77e087571",
   "metadata": {},
   "outputs": [
    {
     "name": "stdout",
     "output_type": "stream",
     "text": [
      "<neo4j._work.summary.ResultSummary object at 0xffff3f5ea050>\n"
     ]
    }
   ],
   "source": [
    "print(summary)"
   ]
  },
  {
   "cell_type": "code",
   "execution_count": 73,
   "id": "0e8ed622-3864-42f9-8fce-0058c5cc1b63",
   "metadata": {},
   "outputs": [
    {
     "name": "stdout",
     "output_type": "stream",
     "text": [
      "The query `MATCH (n) RETURN n` returned 1 records in 27 ms.\n"
     ]
    }
   ],
   "source": [
    "# Summary information\n",
    "print(\"The query `{query}` returned {records_count} records in {time} ms.\".format(\n",
    "    query=summary.query, records_count=len(records),\n",
    "    time=summary.result_available_after\n",
    "))"
   ]
  },
  {
   "cell_type": "code",
   "execution_count": 76,
   "id": "4a7a2994-21e2-43c2-a94f-fc1e0fd8db1d",
   "metadata": {},
   "outputs": [
    {
     "name": "stdout",
     "output_type": "stream",
     "text": [
      "<Record n=<Node element_id='4:907b90c5-77b7-40ee-bd2b-900a55534cf9:5' labels=frozenset({'Wine'}) properties={'vintage': 2015, 'name': 'Prancing Wolf', 'style': 'ice wine'}>>\n"
     ]
    }
   ],
   "source": [
    "print(records[0])"
   ]
  },
  {
   "cell_type": "code",
   "execution_count": 77,
   "id": "b296fbbc-3706-46c2-92df-5663933f50ed",
   "metadata": {},
   "outputs": [
    {
     "name": "stdout",
     "output_type": "stream",
     "text": [
      "{'n': {'vintage': 2015, 'name': 'Prancing Wolf', 'style': 'ice wine'}}\n"
     ]
    }
   ],
   "source": [
    "print(records[0].data())"
   ]
  },
  {
   "cell_type": "code",
   "execution_count": 52,
   "id": "21f0ff1b-8ac1-46ad-b15a-643a8f862f58",
   "metadata": {},
   "outputs": [
    {
     "ename": "TypeError",
     "evalue": "tuple indices must be integers or slices, not str",
     "output_type": "error",
     "traceback": [
      "\u001b[0;31m---------------------------------------------------------------------------\u001b[0m",
      "\u001b[0;31mTypeError\u001b[0m                                 Traceback (most recent call last)",
      "Cell \u001b[0;32mIn[52], line 3\u001b[0m\n\u001b[1;32m      1\u001b[0m node_count_result \u001b[38;5;241m=\u001b[39m driver\u001b[38;5;241m.\u001b[39mexecute_query(\n\u001b[1;32m      2\u001b[0m     \u001b[38;5;124m\"\u001b[39m\u001b[38;5;124mMATCH(n) RETURN COUNT(n) AS node_count\u001b[39m\u001b[38;5;124m\"\u001b[39m)\n\u001b[0;32m----> 3\u001b[0m node_count \u001b[38;5;241m=\u001b[39m \u001b[43mnode_count_result\u001b[49m\u001b[43m[\u001b[49m\u001b[38;5;124;43m\"\u001b[39;49m\u001b[38;5;124;43mnode_count\u001b[39;49m\u001b[38;5;124;43m\"\u001b[39;49m\u001b[43m]\u001b[49m\n",
      "\u001b[0;31mTypeError\u001b[0m: tuple indices must be integers or slices, not str"
     ]
    }
   ],
   "source": [
    "# node_count_result = driver.execute_query(\n",
    "#     \"MATCH(n) RETURN COUNT(n) AS node_count\")\n",
    "# node_count = node_count_result[\"node_count\"]"
   ]
  },
  {
   "cell_type": "code",
   "execution_count": 56,
   "id": "7fab0241-aede-4fa0-a49d-8c30934adfd3",
   "metadata": {},
   "outputs": [
    {
     "data": {
      "text/plain": [
       "EagerResult(records=[], summary=<neo4j._work.summary.ResultSummary object at 0xffff3f604100>, keys=[])"
      ]
     },
     "execution_count": 56,
     "metadata": {},
     "output_type": "execute_result"
    }
   ],
   "source": [
    "# Delete everything.\n",
    "driver.execute_query(\n",
    "    \"MATCH(n) OPTIONAL MATCH (n)-[r]-() DELETE n, r\"\n",
    ")"
   ]
  },
  {
   "cell_type": "code",
   "execution_count": 58,
   "id": "ebb958b5-6918-4c7b-8ce2-648f1e801219",
   "metadata": {},
   "outputs": [
    {
     "data": {
      "text/plain": [
       "EagerResult(records=[], summary=<neo4j._work.summary.ResultSummary object at 0xffff3f48e950>, keys=[])"
      ]
     },
     "execution_count": 58,
     "metadata": {},
     "output_type": "execute_result"
    }
   ],
   "source": [
    "query = 'CREATE (w:Wine {name:\"Prancing Wolf\", style: \"ice wine\", vintage: 2015})'\n",
    "driver.execute_query(query)"
   ]
  },
  {
   "cell_type": "code",
   "execution_count": null,
   "id": "912acb1b-eddc-42c7-9981-e572cb2c0ca9",
   "metadata": {},
   "outputs": [],
   "source": [
    "driver.execute_query(\n",
    "    \"MERGE (a:Person {name: $name}) \"\n",
    "    \"MERGE (friend:Person {name: $friend_name}) \"\n",
    "    \"MERGE (a)-[:KNOWS]->(friend)\",\n",
    "    name=name, friend_name=friend_name, database_=\"neo4j\",\n",
    ")"
   ]
  },
  {
   "cell_type": "code",
   "execution_count": null,
   "id": "d987d57e-dc8a-4e97-9380-522a1e06b647",
   "metadata": {},
   "outputs": [],
   "source": [
    "session.close()\n",
    "driver.close()"
   ]
  },
  {
   "cell_type": "markdown",
   "id": "d78b56ce-0bf6-4d38-9e88-cbda88340f58",
   "metadata": {},
   "source": [
    "## Plot"
   ]
  },
  {
   "cell_type": "code",
   "execution_count": 120,
   "id": "37e6c56c-6d23-45f3-a38a-cf6f87cf386d",
   "metadata": {},
   "outputs": [
    {
     "name": "stdout",
     "output_type": "stream",
     "text": [
      "\u001b[33mWARNING: Running pip as the 'root' user can result in broken permissions and conflicting behaviour with the system package manager, possibly rendering your system unusable.It is recommended to use a virtual environment instead: https://pip.pypa.io/warnings/venv. Use the --root-user-action option if you know what you are doing and want to suppress this warning.\u001b[0m\u001b[33m\n",
      "\u001b[0m"
     ]
    }
   ],
   "source": [
    "!pip install --quiet networkx matplotlib pyvis"
   ]
  },
  {
   "cell_type": "code",
   "execution_count": 131,
   "id": "34cc1a43-59ad-4bee-a936-d953829a4cca",
   "metadata": {},
   "outputs": [
    {
     "name": "stdout",
     "output_type": "stream",
     "text": [
      "Warning: When  cdn_resources is 'local' jupyter notebook has issues displaying graphics on chrome/safari. Use cdn_resources='in_line' or cdn_resources='remote' if you have issues viewing graphics in a notebook.\n",
      "graph.html\n"
     ]
    },
    {
     "name": "stderr",
     "output_type": "stream",
     "text": [
      "/tmp/ipykernel_35/2491692500.py:18: DeprecationWarning: `id` is deprecated, use `element_id` instead\n",
      "  nodes.append((n.id, dict(n)))\n",
      "/tmp/ipykernel_35/2491692500.py:19: DeprecationWarning: `id` is deprecated, use `element_id` instead\n",
      "  nodes.append((m.id, dict(m)))\n",
      "/tmp/ipykernel_35/2491692500.py:20: DeprecationWarning: `id` is deprecated, use `element_id` instead\n",
      "  relationships.append((n.id, m.id, r.type))\n"
     ]
    },
    {
     "data": {
      "text/html": [
       "\n",
       "        <iframe\n",
       "            width=\"100%\"\n",
       "            height=\"600px\"\n",
       "            src=\"graph.html\"\n",
       "            frameborder=\"0\"\n",
       "            allowfullscreen\n",
       "            \n",
       "        ></iframe>\n",
       "        "
      ],
      "text/plain": [
       "<IPython.lib.display.IFrame at 0xffff3f654b20>"
      ]
     },
     "execution_count": 131,
     "metadata": {},
     "output_type": "execute_result"
    }
   ],
   "source": [
    "from neo4j import GraphDatabase\n",
    "from pyvis.network import Network\n",
    "\n",
    "# Define a function to fetch nodes and relationships from Neo4j\n",
    "def fetch_graph_data(uri, user, password, query):\n",
    "    driver = GraphDatabase.driver(URI, auth=AUTH)\n",
    "    nodes = []\n",
    "    relationships = []\n",
    "    \n",
    "    with driver.session() as session:\n",
    "        results = session.run(query)\n",
    "        \n",
    "        for record in results:\n",
    "            n = record['n']\n",
    "            m = record['m']\n",
    "            r = record['r']\n",
    "            \n",
    "            nodes.append((n.id, dict(n)))\n",
    "            nodes.append((m.id, dict(m)))\n",
    "            relationships.append((n.id, m.id, r.type))\n",
    "    \n",
    "    driver.close()\n",
    "    return nodes, relationships\n",
    "\n",
    "# Define the query to fetch nodes and relationships\n",
    "query = \"\"\"\n",
    "MATCH (n)-[r]->(m)\n",
    "RETURN n, r, m\n",
    "LIMIT 100\n",
    "\"\"\"\n",
    "\n",
    "# Fetch the graph data\n",
    "nodes, relationships = fetch_graph_data(uri, user, password, query)\n",
    "\n",
    "# Create a Pyvis Network graph\n",
    "net = Network(notebook=True)\n",
    "\n",
    "# Add nodes to the Pyvis graph\n",
    "for node_id, node_data in nodes:\n",
    "    net.add_node(node_id, label=node_data.get('name', str(node_id)))\n",
    "\n",
    "# Add edges to the Pyvis graph\n",
    "for source, target, label in relationships:\n",
    "    net.add_edge(source, target, label=label)\n",
    "\n",
    "# Show the graph\n",
    "net.show(\"graph.html\")"
   ]
  },
  {
   "cell_type": "markdown",
   "id": "91e7ebea-d753-44aa-bcbb-0eae7e560093",
   "metadata": {},
   "source": [
    "# pyvis"
   ]
  },
  {
   "cell_type": "code",
   "execution_count": 23,
   "id": "d46fb61c-865a-45db-9d78-f2087978a505",
   "metadata": {},
   "outputs": [
    {
     "name": "stdout",
     "output_type": "stream",
     "text": [
      "\u001b[33mWARNING: Running pip as the 'root' user can result in broken permissions and conflicting behaviour with the system package manager, possibly rendering your system unusable.It is recommended to use a virtual environment instead: https://pip.pypa.io/warnings/venv. Use the --root-user-action option if you know what you are doing and want to suppress this warning.\u001b[0m\u001b[33m\n",
      "\u001b[0m"
     ]
    }
   ],
   "source": [
    "!pip install --quiet pyvis"
   ]
  },
  {
   "cell_type": "code",
   "execution_count": 36,
   "id": "bf97ea43-4e28-49c3-92b8-f9fcb13bb014",
   "metadata": {
    "collapsed": true,
    "jupyter": {
     "outputs_hidden": true
    }
   },
   "outputs": [
    {
     "name": "stdout",
     "output_type": "stream",
     "text": [
      "ex.html\n"
     ]
    },
    {
     "name": "stderr",
     "output_type": "stream",
     "text": [
      "/tmp/ipykernel_35/186928212.py:11: DeprecationWarning: Using a driver after it has been closed is deprecated. Future versions of the driver will raise an error.\n",
      "  with driver.session() as session:\n"
     ]
    },
    {
     "data": {
      "text/html": [
       "\n",
       "        <iframe\n",
       "            width=\"100%\"\n",
       "            height=\"500px\"\n",
       "            src=\"ex.html\"\n",
       "            frameborder=\"0\"\n",
       "            allowfullscreen\n",
       "            \n",
       "        ></iframe>\n",
       "        "
      ],
      "text/plain": [
       "<IPython.lib.display.IFrame at 0xffff80368b80>"
      ]
     },
     "execution_count": 36,
     "metadata": {},
     "output_type": "execute_result"
    }
   ],
   "source": [
    "from pyvis.network import Network\n",
    "\n",
    "# Sample Cypher query to retrieve nodes and relationships\n",
    "cypher_query = \"\"\"\n",
    "MATCH (n)-[r]->(m)\n",
    "RETURN n, r, m\n",
    "LIMIT 10\n",
    "\"\"\"\n",
    "# Execute the query and fetch the results\n",
    "\n",
    "with driver.session() as session:\n",
    "  result = session.run(cypher_query)\n",
    "\n",
    "  net = Network(cdn_resources = \"remote\", directed = True, height = '500px',width = '100%',\n",
    "                  notebook = True)\n",
    "\n",
    "  for record in result:\n",
    "    #print(result)\n",
    "    node_a = record[\"n\"]\n",
    "    node_b = record[\"m\"]\n",
    "    relationship = record[\"r\"]\n",
    "\n",
    "    #add nodes\n",
    "    net.add_node(node_a.element_id)\n",
    "    net.add_node(node_b.element_id)\n",
    "    net.add_edge(node_a.element_id, node_b.element_id)\n",
    "\n",
    "#save html format\n",
    "#net.show(file_name,notebook=False)\n",
    "\n",
    "net.show(\"ex.html\")"
   ]
  }
 ],
 "metadata": {
  "kernelspec": {
   "display_name": "Python 3 (ipykernel)",
   "language": "python",
   "name": "python3"
  },
  "language_info": {
   "codemirror_mode": {
    "name": "ipython",
    "version": 3
   },
   "file_extension": ".py",
   "mimetype": "text/x-python",
   "name": "python",
   "nbconvert_exporter": "python",
   "pygments_lexer": "ipython3",
   "version": "3.10.12"
  }
 },
 "nbformat": 4,
 "nbformat_minor": 5
}
