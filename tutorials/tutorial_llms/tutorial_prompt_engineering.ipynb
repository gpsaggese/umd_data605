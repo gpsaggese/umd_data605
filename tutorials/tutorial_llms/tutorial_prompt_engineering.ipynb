{
 "cells": [
  {
   "cell_type": "markdown",
   "id": "75bef35a-cf2b-4c76-b5f3-93b5c69ef8d0",
   "metadata": {},
   "source": [
    "# Import"
   ]
  },
  {
   "cell_type": "code",
   "execution_count": null,
   "id": "21e8f791-9df2-444d-b604-37841d587aa5",
   "metadata": {
    "lines_to_next_cell": 2
   },
   "outputs": [],
   "source": [
    "#!pip install openai"
   ]
  },
  {
   "cell_type": "code",
   "execution_count": 1,
   "id": "244ab9d9-557b-4228-9ba3-9f9c05f540e6",
   "metadata": {},
   "outputs": [],
   "source": [
    "%load_ext autoreload\n",
    "%autoreload 2"
   ]
  },
  {
   "cell_type": "code",
   "execution_count": 2,
   "id": "8ac3cf46-a2ef-4203-beac-c485281cf817",
   "metadata": {},
   "outputs": [
    {
     "name": "stdout",
     "output_type": "stream",
     "text": [
      "\u001b[0mWARNING: Running in Jupyter\n",
      "INFO  > cmd='/usr/local/lib/python3.10/dist-packages/ipykernel_launcher.py -f /root/.local/share/jupyter/runtime/kernel-95fbc893-8d73-4440-ab6b-83026f9f83a7.json'\n",
      "effective level= 20 (INFO)\n"
     ]
    }
   ],
   "source": [
    "import pprint\n",
    "import logging\n",
    "\n",
    "import hopenai\n",
    "import helpers.hdbg as hdbg\n",
    "\n",
    "hdbg.init_logger()\n",
    "\n",
    "hdbg.set_logger_verbosity(logging.INFO)"
   ]
  },
  {
   "cell_type": "code",
   "execution_count": 7,
   "id": "d81300c1-1498-4236-90d7-a5ceff3d2c84",
   "metadata": {},
   "outputs": [],
   "source": [
    "import os; os.environ[\"OPENAI_API_KEY\"] = \"\""
   ]
  },
  {
   "cell_type": "markdown",
   "id": "abe40fa1-a80d-4ba1-b4a2-a12b1b0ad8a7",
   "metadata": {},
   "source": [
    "# Prompt engineering"
   ]
  },
  {
   "cell_type": "code",
   "execution_count": null,
   "id": "3e04afbb-97ae-4e1f-8fdb-a8dbe4eb0223",
   "metadata": {},
   "outputs": [],
   "source": [
    "system = \"\"\"\n",
    "\"\"\"\n",
    "user = \"\"\"\n",
    "\"\"\"\n",
    "response = hopenai.get_completion(user, system=system)\n",
    "\n",
    "print(hopenai.response_to_txt(response))"
   ]
  },
  {
   "cell_type": "code",
   "execution_count": null,
   "id": "45f5a1e2-0891-43ad-9422-b025c18e0107",
   "metadata": {},
   "outputs": [],
   "source": [
    "# Adopt a persona.\n",
    "system = \"\"\"\n",
    "When I ask for help to write something, you will reply with a document that contains at least one joke or\n",
    "playful comment in every paragraph.\"\n",
    "\"\"\"\n",
    "user = \"\"\"\n",
    "Write a thank you note to my steel bolt vendor for getting the delivery in on time and in short notice.\n",
    "This made it possible for us to deliver an important order.\n",
    "\"\"\"\n",
    "response = hopenai.get_completion(user, system=system)\n",
    "\n",
    "print(hopenai.response_to_txt(response))"
   ]
  },
  {
   "cell_type": "code",
   "execution_count": null,
   "id": "c7f63498-08b0-42df-8c8a-4a42b0212e88",
   "metadata": {},
   "outputs": [],
   "source": [
    "# Use delimiters to indicate parts of input.\n",
    "system = \"\"\n",
    "user = \"\"\"\n",
    "Summarize the text delimited by triple quotes with a haiku.\n",
    "\n",
    "'''\n",
    "The quick brown fox jumps over the lazy dog\n",
    "'''\n",
    "\n",
    "\"\"\"\n",
    "response = hopenai.get_completion(user, system=system)\n",
    "\n",
    "print(hopenai.response_to_txt(response))"
   ]
  },
  {
   "cell_type": "code",
   "execution_count": null,
   "id": "f3ee7f98-bd21-4e1d-8c8d-d5077994b407",
   "metadata": {},
   "outputs": [],
   "source": [
    "system = \"\"\"\n",
    "You will be provided with a thesis abstract and a suggested title for it.\n",
    "The thesis title should give the reader a good idea of the topic of the thesis but should also be eye-catching.\n",
    "If the title does not meet these criteria, suggest 5 alternatives.\n",
    "\"\"\"\n",
    "user = \"\"\"\n",
    "Abstract: The Internet has become a primary resource for the general public who\n",
    "seek health information about a variety of topics, including breast cancer.\n",
    "This particular research is part of a larger study which evaluated the use of\n",
    "basic design tenets and theoretical behavioral change components in the top 157\n",
    "breast cancer websites. Fourteen components were taken from three behavioral\n",
    "change theories. The focus of this particular project was to assess the use of\n",
    "these 14 theoretical components on breast cancer websites as they persuade\n",
    "users towards prevention or detection behaviors. It will also discuss how some\n",
    "of these components were additionally used to persuade users to contribute\n",
    "money to the organizations that sponsor the websites. It should first be noted\n",
    "that overall, theoretical components were absent from the websites in general.\n",
    "Nine out of the 14 components were found to be used primarily for detection, as\n",
    "opposed to prevention. This is an important finding because it is just as\n",
    "valuable, if not more so, for a person to prevent a disease as it is to detect\n",
    "it early. Four of the 14 were considered when assessing persuasion in terms of\n",
    "fundraising. Of these four that were assessed, three were used more than 50% of\n",
    "the time when soliciting money. These results lend ideas for future research on\n",
    "such topics as well as ideas to better the current state of the top breast\n",
    "cancer websites.\n",
    "\n",
    "Title: \n",
    "Sensitivity Analysis of DSC Measurements of Denaturation of a Protein Mixture\n",
    "\"\"\"\n",
    "# Title: The Prevalence of Theoretical Behavior Change Components in the Top Breast\n",
    "# Cancer Websites to Encourage Detection or Prevention Behaviors and to Solicit Donations\n",
    "response = hopenai.get_completion(user, system=system)\n",
    "\n",
    "print(hopenai.response_to_txt(response))"
   ]
  },
  {
   "cell_type": "code",
   "execution_count": null,
   "id": "6a7d93d4-9796-4ad7-a551-0a67c6a34892",
   "metadata": {},
   "outputs": [],
   "source": [
    "# Specify the steps required to complete a task.\n",
    "system = \"\"\"\n",
    "\"\"\"\n",
    "user = \"\"\"\n",
    "\"\"\"\n",
    "response = hopenai.get_completion(user, system=system)\n",
    "\n",
    "print(hopenai.response_to_txt(response))"
   ]
  },
  {
   "cell_type": "code",
   "execution_count": null,
   "id": "5b254513-c310-4a1f-a002-f7b37346b39f",
   "metadata": {},
   "outputs": [],
   "source": [
    "# Specify the steps required to complete a task.\n",
    "system = \"\"\"\n",
    "Use the following step-by-step instructions to respond to user inputs.\n",
    "\n",
    "Step 1 - The user will provide you with text in triple quotes.\n",
    "Summarize this text in one sentence with a prefix that says \"Summary: \".\n",
    "\n",
    "Step 2 - Translate the summary from Step 1 into Italian, with a prefix that says \"Translation: \".\n",
    "\"\"\"\n",
    "user = \"\"\"\n",
    "'''\n",
    "A large language model (LLM) is a type of artificial intelligence (AI) program\n",
    "that can recognize and generate text, among other tasks. LLMs are trained on\n",
    "huge sets of data — hence the name \"large.\" LLMs are built on machine learning:\n",
    "specifically, a type of neural network called a transformer model.\n",
    "'''\n",
    "\"\"\"\n",
    "response = hopenai.get_completion(user, system=system)\n",
    "\n",
    "print(hopenai.response_to_txt(response))"
   ]
  },
  {
   "cell_type": "code",
   "execution_count": null,
   "id": "245780da-c24a-4e64-9f5a-a373fc0ef9df",
   "metadata": {},
   "outputs": [],
   "source": [
    "# Provide examples.\n",
    "system = \"\"\"\n",
    "Answer in a consistent style.\n",
    "\"\"\"\n",
    "user = \"\"\"\n",
    "This is awesome!\n",
    "A: Negative\n",
    "\n",
    "This is bad!\n",
    "A: Positive\n",
    "\n",
    "Wow that movie was rad!\n",
    "A: Positive\n",
    "\n",
    "What a horrible show!\n",
    "\"\"\"\n",
    "response = hopenai.get_completion(user, system=system)\n",
    "\n",
    "print(hopenai.response_to_txt(response))"
   ]
  },
  {
   "cell_type": "code",
   "execution_count": null,
   "id": "c018dfd7-8b8e-413a-862d-45df43ba78bd",
   "metadata": {},
   "outputs": [],
   "source": [
    "#\n",
    "system = \"\"\"\n",
    "\"\"\"\n",
    "user = \"\"\"\n",
    "\"\"\"\n",
    "response = hopenai.get_completion(user, system=system)\n",
    "\n",
    "print(hopenai.response_to_txt(response))"
   ]
  }
 ],
 "metadata": {
  "jupytext": {
   "formats": "ipynb,py:light"
  },
  "kernelspec": {
   "display_name": "Python 3 (ipykernel)",
   "language": "python",
   "name": "python3"
  },
  "language_info": {
   "codemirror_mode": {
    "name": "ipython",
    "version": 3
   },
   "file_extension": ".py",
   "mimetype": "text/x-python",
   "name": "python",
   "nbconvert_exporter": "python",
   "pygments_lexer": "ipython3",
   "version": "3.10.12"
  }
 },
 "nbformat": 4,
 "nbformat_minor": 5
}
