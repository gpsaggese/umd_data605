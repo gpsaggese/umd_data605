{
 "cells": [
  {
   "cell_type": "markdown",
   "id": "f66e8c11-6c7d-48d5-b68f-047a0791f75c",
   "metadata": {},
   "source": [
    "# pyllms"
   ]
  },
  {
   "cell_type": "code",
   "execution_count": 1,
   "id": "8b3c9b15-82b9-4431-8fb9-8ed46fc76fb0",
   "metadata": {},
   "outputs": [],
   "source": [
    "import llms"
   ]
  },
  {
   "cell_type": "code",
   "execution_count": 4,
   "id": "59aaca5a-d69d-48a0-9c1e-73acd7f9a1e1",
   "metadata": {
    "lines_to_next_cell": 0
   },
   "outputs": [
    {
     "name": "stdout",
     "output_type": "stream",
     "text": [
      "10\n"
     ]
    }
   ],
   "source": [
    "model = llms.init('gpt-4')\n",
    "result = model.complete(\"what is 5+5\")\n",
    "\n",
    "print(result.text)"
   ]
  },
  {
   "cell_type": "code",
   "execution_count": 5,
   "id": "675c4668-0cec-4da0-97b6-c2a5710f6e58",
   "metadata": {},
   "outputs": [
    {
     "name": "stdout",
     "output_type": "stream",
     "text": [
      "{'model': 'gpt-4', 'tokens': 14, 'tokens_prompt': 13, 'tokens_completion': 1, 'cost': 0.00045, 'latency': 0.81}\n"
     ]
    }
   ],
   "source": [
    "print(result.meta)"
   ]
  },
  {
   "cell_type": "code",
   "execution_count": 36,
   "id": "f18f6ae3-6cbc-4c58-807c-fc11469842a9",
   "metadata": {},
   "outputs": [],
   "source": [
    "result = model.complete(\n",
    "    \"what is the capital of country where mozzart was born\",\n",
    "    temperature=0.1,\n",
    "    #temperature=1.1,\n",
    "    max_tokens=200\n",
    ")"
   ]
  },
  {
   "cell_type": "code",
   "execution_count": 38,
   "id": "d060018e-3ed2-4d8a-80e9-29ade8cf3745",
   "metadata": {},
   "outputs": [
    {
     "name": "stdout",
     "output_type": "stream",
     "text": [
      "The capital of the country where Mozart was born is Vienna. Mozart was born in Salzburg, Austria, but the capital of Austria is Vienna.\n",
      "{'model': 'gpt-4', 'tokens': 48, 'tokens_prompt': 19, 'tokens_completion': 29, 'cost': 0.00231, 'latency': 1.88}\n"
     ]
    }
   ],
   "source": [
    "print(result.text)\n",
    "print(result.meta)"
   ]
  },
  {
   "cell_type": "code",
   "execution_count": 22,
   "id": "1d4e7587-cbed-465c-a5b4-28000cedcb98",
   "metadata": {},
   "outputs": [],
   "source": [
    "#dir(result)"
   ]
  },
  {
   "cell_type": "code",
   "execution_count": 21,
   "id": "0f5739e5-5c16-4d4a-8ff7-90901fa6db1f",
   "metadata": {},
   "outputs": [
    {
     "name": "stdout",
     "output_type": "stream",
     "text": [
      "# _meta\n",
      "  {'tokens_prompt': 19, 'tokens_completion': 29, 'latency': 1.87, 'cost': 0.00231}\n",
      "# cost\n",
      "  0.00231\n",
      "# function_call\n",
      "  {}\n",
      "# meta\n",
      "  {'model': 'gpt-4', 'tokens': 48, 'tokens_prompt': 19, 'tokens_completion': 29, 'cost': 0.00231, 'latency': 1.87}\n",
      "# model_inputs\n",
      "  {'messages': [{'role': 'user', 'content': 'what is the capital of country where mozzart was born'}], 'temperature': 0.1, 'max_tokens': 200, 'stream': False}\n",
      "# provider\n",
      "  OpenAIProvider('gpt-4')\n",
      "# text\n",
      "  The capital of the country where Mozart was born is Vienna. Mozart was born in Salzburg, Austria, but Vienna is the capital of Austria.\n",
      "# tokens\n",
      "  48\n",
      "# tokens_completion\n",
      "  29\n",
      "# tokens_prompt\n",
      "  19\n"
     ]
    }
   ],
   "source": [
    "var_names = [\n",
    "     '_meta',\n",
    "     'cost',\n",
    "     'function_call',\n",
    "     'meta',\n",
    "     'model_inputs',\n",
    "     'provider',\n",
    "     'text',\n",
    "     #'to_json',\n",
    "     'tokens',\n",
    "     'tokens_completion',\n",
    "     'tokens_prompt']\n",
    "for var_name in var_names:\n",
    "    print(\"# %s\\n  %s\" % (var_name, getattr(result, var_name)))"
   ]
  }
 ],
 "metadata": {
  "jupytext": {
   "formats": "ipynb,py:light"
  },
  "kernelspec": {
   "display_name": "Python 3 (ipykernel)",
   "language": "python",
   "name": "python3"
  },
  "language_info": {
   "codemirror_mode": {
    "name": "ipython",
    "version": 3
   },
   "file_extension": ".py",
   "mimetype": "text/x-python",
   "name": "python",
   "nbconvert_exporter": "python",
   "pygments_lexer": "ipython3",
   "version": "3.10.12"
  }
 },
 "nbformat": 4,
 "nbformat_minor": 5
}
